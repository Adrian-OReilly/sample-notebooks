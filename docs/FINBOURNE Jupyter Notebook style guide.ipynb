{
 "cells": [
  {
   "cell_type": "markdown",
   "metadata": {},
   "source": [
    "The first cell in your notebook is the doc string. This is used by the <b>docgen</b> package to create the README.md file in the main project repository. See example below."
   ]
  },
  {
   "cell_type": "code",
   "execution_count": 1,
   "metadata": {},
   "outputs": [
    {
     "data": {
      "text/plain": [
       "'Corporate Actions in LUSID\\n\\nAttributes\\n----------\\ncorporate actions\\ntransactions\\nderived portfolios\\nholdings\\n'"
      ]
     },
     "execution_count": 1,
     "metadata": {},
     "output_type": "execute_result"
    }
   ],
   "source": [
    "\"\"\"Corporate Actions in LUSID\n",
    "\n",
    "Attributes\n",
    "----------\n",
    "corporate actions\n",
    "transactions\n",
    "derived portfolios\n",
    "holdings\n",
    "\"\"\""
   ]
  },
  {
   "cell_type": "markdown",
   "metadata": {},
   "source": [
    "# FINBOURNE Jupyter Notebook style guide\n",
    "\n",
    "The title should be in markdown H1 followed by a short paragraph summarising the notebook contents. \n",
    "\n",
    "Example:\n",
    "\n",
    "This notebook outlines the Jupyter style guide for FINBOURNE. \n",
    "\n",
    "The summary can also include a table of contents:\n",
    "\n",
    "\n",
    "###  Table of contents\n",
    "\n",
    "* [Setup](#setup)\n",
    "* [Code style guide](#code-style)\n",
    "    * Run black on all Python code to ensure consistent code formatting\n",
    "    * camelCase should be used for all variable values\n",
    "    * However snake_case is used for variable names\n",
    "    * Consider Creating rather than Setting new Transaction Type configurations\n",
    "    * All notebooks should be idempotent\n",
    "    * Dates should be declared using ISO 8601 format\n",
    "* [Markdown and writing style guide](#writing-style)\n",
    "    * References to core LUSID data entities in the markdown should be highlighted\n",
    "    * Readers should be linked back to the Knowledge Base for core concepts\n",
    "    * We use the Google Tech Writing rules as a guide"
   ]
  },
  {
   "cell_type": "markdown",
   "metadata": {},
   "source": [
    "## Setup\n",
    "\n",
    "The first code cell in the setup is used to import packages and connect to LUSID."
   ]
  },
  {
   "cell_type": "code",
   "execution_count": 2,
   "metadata": {},
   "outputs": [],
   "source": [
    "# Use first block to import generic non-LUSID packages\n",
    "import os\n",
    "\n",
    "# Use absolute imports to import the core LUSID functions\n",
    "import lusid\n",
    "from lusid.utilities import ApiClientFactory\n",
    "from lusidjam import RefreshingToken\n",
    "from lusidtools.cocoon.cocoon import load_from_data_frame\n",
    "from lusidtools.pandas_utils.lusid_pandas import lusid_response_to_data_frame\n",
    "\n",
    "\n",
    "# Models used in the notebook should also be imported using absolute imports using the format below\n",
    "from lusid.models import (\n",
    "    CreateTransactionPortfolioRequest,\n",
    "    UpsertQuoteRequest\n",
    ")\n",
    "\n",
    "# Authenticate our user and create our API client\n",
    "# The secrets.json file is stored in an environment variable called FBN_SECRETS_PATH \n",
    "secrets_path = os.getenv(\"FBN_SECRETS_PATH\")\n",
    "\n",
    "api_factory = ApiClientFactory(\n",
    "    token=RefreshingToken(),\n",
    "    api_secrets_filename=secrets_path,\n",
    "    app_name=\"LusidJupyterNotebook\",\n",
    ")"
   ]
  },
  {
   "cell_type": "markdown",
   "metadata": {},
   "source": [
    "The second code cell in the setup is used to declare the api we'll use throughout the notebook."
   ]
  },
  {
   "cell_type": "code",
   "execution_count": 3,
   "metadata": {},
   "outputs": [],
   "source": [
    "transaction_portfolios_api = api_factory.build(lusid.api.TransactionPortfoliosApi)"
   ]
  },
  {
   "cell_type": "markdown",
   "metadata": {},
   "source": [
    "The third code cell in the setup is used to define variables which are re-used throughout the notebook:"
   ]
  },
  {
   "cell_type": "code",
   "execution_count": 4,
   "metadata": {},
   "outputs": [],
   "source": [
    "portfolio_code = \"equityTech\"\n",
    "scope = \"emeaIBOR\"\n",
    "created_date = \"2020-01-01\""
   ]
  },
  {
   "cell_type": "markdown",
   "metadata": {},
   "source": [
    "## Notebook code style guide <a name = \"code-style\"></a>\n",
    "\n",
    "This section outlines code style and structure recommendations."
   ]
  },
  {
   "cell_type": "markdown",
   "metadata": {},
   "source": [
    "### 1) Run <i>black</i> on all Python code to ensure consistent code formatting\n",
    "\n",
    "Use the [black](https://github.com/psf/black) package to ensure clean and consistent code"
   ]
  },
  {
   "cell_type": "code",
   "execution_count": 5,
   "metadata": {},
   "outputs": [
    {
     "data": {
      "application/javascript": [
       "\n",
       "            setTimeout(function() {\n",
       "                var nbb_cell_id = 5;\n",
       "                var nbb_unformatted_code = \"%load_ext nb_black\";\n",
       "                var nbb_formatted_code = \"%load_ext nb_black\";\n",
       "                var nbb_cells = Jupyter.notebook.get_cells();\n",
       "                for (var i = 0; i < nbb_cells.length; ++i) {\n",
       "                    if (nbb_cells[i].input_prompt_number == nbb_cell_id) {\n",
       "                        if (nbb_cells[i].get_text() == nbb_unformatted_code) {\n",
       "                             nbb_cells[i].set_text(nbb_formatted_code);\n",
       "                        }\n",
       "                        break;\n",
       "                    }\n",
       "                }\n",
       "            }, 500);\n",
       "            "
      ],
      "text/plain": [
       "<IPython.core.display.Javascript object>"
      ]
     },
     "metadata": {},
     "output_type": "display_data"
    }
   ],
   "source": [
    "%load_ext nb_black"
   ]
  },
  {
   "cell_type": "markdown",
   "metadata": {},
   "source": [
    "### 2) camelCase should be used for all variable values\n",
    "\n",
    "We use camelCase for variable values. \n",
    "\n",
    "This keeps our code consistent with the case of the underlying API parameters.\n",
    "\n",
    "Example: <b>lusidInstrumentId</b>\n",
    "\n",
    "See the [docs](https://www.lusid.com/docs/api/) for more details."
   ]
  },
  {
   "cell_type": "code",
   "execution_count": 6,
   "metadata": {},
   "outputs": [
    {
     "data": {
      "application/javascript": [
       "\n",
       "            setTimeout(function() {\n",
       "                var nbb_cell_id = 6;\n",
       "                var nbb_unformatted_code = \"portfolio_code = \\\"equityTech\\\"\";\n",
       "                var nbb_formatted_code = \"portfolio_code = \\\"equityTech\\\"\";\n",
       "                var nbb_cells = Jupyter.notebook.get_cells();\n",
       "                for (var i = 0; i < nbb_cells.length; ++i) {\n",
       "                    if (nbb_cells[i].input_prompt_number == nbb_cell_id) {\n",
       "                        if (nbb_cells[i].get_text() == nbb_unformatted_code) {\n",
       "                             nbb_cells[i].set_text(nbb_formatted_code);\n",
       "                        }\n",
       "                        break;\n",
       "                    }\n",
       "                }\n",
       "            }, 500);\n",
       "            "
      ],
      "text/plain": [
       "<IPython.core.display.Javascript object>"
      ]
     },
     "metadata": {},
     "output_type": "display_data"
    }
   ],
   "source": [
    "portfolio_code = \"equityTech\""
   ]
  },
  {
   "cell_type": "markdown",
   "metadata": {},
   "source": [
    "### 3) However snake_case is used for variable names\n",
    "\n",
    "This keeps the format consistent with Python's [PEP 8](https://www.python.org/dev/peps/pep-0008/#function-and-variable-names)"
   ]
  },
  {
   "cell_type": "code",
   "execution_count": 7,
   "metadata": {},
   "outputs": [
    {
     "data": {
      "application/javascript": [
       "\n",
       "            setTimeout(function() {\n",
       "                var nbb_cell_id = 7;\n",
       "                var nbb_unformatted_code = \"portfolio_location = \\\"emeaRegion\\\"\";\n",
       "                var nbb_formatted_code = \"portfolio_location = \\\"emeaRegion\\\"\";\n",
       "                var nbb_cells = Jupyter.notebook.get_cells();\n",
       "                for (var i = 0; i < nbb_cells.length; ++i) {\n",
       "                    if (nbb_cells[i].input_prompt_number == nbb_cell_id) {\n",
       "                        if (nbb_cells[i].get_text() == nbb_unformatted_code) {\n",
       "                             nbb_cells[i].set_text(nbb_formatted_code);\n",
       "                        }\n",
       "                        break;\n",
       "                    }\n",
       "                }\n",
       "            }, 500);\n",
       "            "
      ],
      "text/plain": [
       "<IPython.core.display.Javascript object>"
      ]
     },
     "metadata": {},
     "output_type": "display_data"
    }
   ],
   "source": [
    "portfolio_location = \"emeaRegion\""
   ]
  },
  {
   "cell_type": "markdown",
   "metadata": {},
   "source": [
    "### 4) Consider Creating rather than Setting new Transaction Type configurations\n",
    "\n",
    "Consider using [CreateConfigurationTransactionType](https://www.lusid.com/docs/api/#operation/CreateConfigurationTransactionType) rather than [SetConfigurationTransactionTypes](https://www.lusid.com/docs/api/#operation/SetConfigurationTransactionTypes) when creating new `Transaction Types` within a notebook. \n",
    "\n",
    "Why?\n",
    "The Create method appends your new transaction type configuration to the current set whereas the Set method overrides the current set. `Transaction Types` are system wide settings which drive much of LUSID's movement engine functionality and modifying them can have unintended consequences.\n"
   ]
  },
  {
   "cell_type": "markdown",
   "metadata": {},
   "source": [
    "### 5) All notebooks should be idempotent\n",
    "\n",
    "Your notebook should be able to run (a) across any LUSID environment; and (b) without depancies on data setup which happens outside the notebook. \n",
    "\n",
    "For example, consider a notebook function which needs prices for an instrument. Those prices should be set within the same notebook so that a new user with a new environment can run the notebook successfully."
   ]
  },
  {
   "cell_type": "markdown",
   "metadata": {},
   "source": [
    "### 6) Dates should be declared using ISO 8601 format\n",
    "\n",
    "Dates and times should be declared using the [ISO](https://en.wikipedia.org/wiki/ISO_8601) format. \n",
    "\n",
    "This is the format required by LUSID."
   ]
  },
  {
   "cell_type": "code",
   "execution_count": 8,
   "metadata": {},
   "outputs": [
    {
     "data": {
      "application/javascript": [
       "\n",
       "            setTimeout(function() {\n",
       "                var nbb_cell_id = 8;\n",
       "                var nbb_unformatted_code = \"start_date = \\\"2020-06-28\\\"\\nstart_datetime = \\\"2020-06-28T16:00:32Z\\\"\";\n",
       "                var nbb_formatted_code = \"start_date = \\\"2020-06-28\\\"\\nstart_datetime = \\\"2020-06-28T16:00:32Z\\\"\";\n",
       "                var nbb_cells = Jupyter.notebook.get_cells();\n",
       "                for (var i = 0; i < nbb_cells.length; ++i) {\n",
       "                    if (nbb_cells[i].input_prompt_number == nbb_cell_id) {\n",
       "                        if (nbb_cells[i].get_text() == nbb_unformatted_code) {\n",
       "                             nbb_cells[i].set_text(nbb_formatted_code);\n",
       "                        }\n",
       "                        break;\n",
       "                    }\n",
       "                }\n",
       "            }, 500);\n",
       "            "
      ],
      "text/plain": [
       "<IPython.core.display.Javascript object>"
      ]
     },
     "metadata": {},
     "output_type": "display_data"
    }
   ],
   "source": [
    "start_date = \"2020-06-28\"\n",
    "start_datetime = \"2020-06-28T16:00:32Z\""
   ]
  },
  {
   "cell_type": "markdown",
   "metadata": {},
   "source": [
    "## Markdown and writing style guide\n",
    "\n",
    "This section outlines markdown and writing style recommendations."
   ]
  },
  {
   "cell_type": "markdown",
   "metadata": {},
   "source": [
    "### 1) References to core LUSID data entities in the markdown should be highlighted \n",
    "\n",
    "For example, `Transactions`, `Instruments` and `Derived Portfolios` are all first class LUSID data entities. These should be highlighted so that the reader knows we are referring to a specific LUSID object rather than a more general concept."
   ]
  },
  {
   "cell_type": "markdown",
   "metadata": {},
   "source": [
    "### 2) Readers should be linked back to the Knowledge Base for core concepts\n",
    "\n",
    "For example, in the sentence below we link the reader to the knowlege base to learn more about scopes.\n",
    "\n",
    "Example:\n",
    "\n",
    "\"Add your portfolio into the [scope](https://support.finbourne.com/what-is-a-scope-in-lusid-and-how-is-it-used) called uKScope\""
   ]
  },
  {
   "cell_type": "markdown",
   "metadata": {},
   "source": [
    "### 3) We use the Google Tech Writing rules as a guide\n",
    "\n",
    "You can see the full documentation here:\n",
    "\n",
    "[Tech writing](https://developers.google.com/tech-writing)\n",
    "\n",
    "Some key points to highlight:\n",
    "\n",
    "* Use terms consistently (example: don't jump between describing \"positions\" and \"holdings\")\n",
    "* Avoid ambiguous pronouns\n",
    "* Prefer active voice to passive voice\n",
    "* Convert some long sentences to lists\n",
    "* Eliminate unneeded words\n",
    "* Use a numbered list when ordering is important and a bulleted list when ordering is irrelevant\n",
    "* Focus each paragraph on a single topic.\n",
    "\n",
    "Exceptions to this guide:\n",
    "\n",
    "* We use British English rather than American English (Example: Colour and not Color)"
   ]
  }
 ],
 "metadata": {
  "kernelspec": {
   "display_name": "Python 3",
   "language": "python",
   "name": "python3"
  },
  "language_info": {
   "codemirror_mode": {
    "name": "ipython",
    "version": 3
   },
   "file_extension": ".py",
   "mimetype": "text/x-python",
   "name": "python",
   "nbconvert_exporter": "python",
   "pygments_lexer": "ipython3",
   "version": "3.8.3"
  }
 },
 "nbformat": 4,
 "nbformat_minor": 4
}
