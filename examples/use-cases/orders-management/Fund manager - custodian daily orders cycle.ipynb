{
 "cells": [
  {
   "cell_type": "markdown",
   "metadata": {},
   "source": [
    "## The Challenge"
   ]
  },
  {
   "cell_type": "markdown",
   "metadata": {},
   "source": [
    "Fund manager interacts with the market through a number of custodians. Custodians hold client assets, but purchase/sale of those assets are under the direction of the fund manager. Fund manager makes orders to align client portfolios with particular strategies or intents, and places orders with relevant custodians.\n",
    "\n",
    "On a daily basis the FM has a backlog of orders generated either directly from clients or from some internal strategy. The FM goes through a placement process that results in placement of day orders with a number of custodians. (TODO: are we going to model alignment of fund holdings, or individual orders? stategy == holding each security in a fixed fraction of whole portfolio?).\n",
    "\n",
    "(In the next layer down the custodians each go to the market to fulfill those orders).\n",
    "\n",
    "At the end of day, the FM receives allocation feed files showing to which extent the day orders were filled and allocated to clients. Allocations get converted to transactions (and therefore to holdings) for each client. \n",
    "\n",
    "The shortfall between allocation and outstanding order then forms the basis for the next day's order backlog."
   ]
  },
  {
   "cell_type": "markdown",
   "metadata": {},
   "source": [
    "## The Solution"
   ]
  },
  {
   "cell_type": "markdown",
   "metadata": {},
   "source": [
    "Reconciliation between custodian allocations and outstanding orders depends on the allocations returned by custodians as being tagged with identifiers defined by the FM. Ideally the allocations are tagged with an FM order id, but could be tagged with something coarser, like client account name, or something finer, like day order id. In these cases the FM will need to update its orders with the necessary tags to enable rec (the full LUSID orders domain model will make placements available to record this information if needed).\n",
    "\n",
    "In this tutorial you will walk through how to set this up from a completely blank LUSID environment by:\n",
    "\n",
    "1) Setting up a Scope to hold your portfolios\n",
    "\n",
    "2) Creating your Instrument Universe \n",
    "\n",
    "3) Creating client portfolios\n",
    "\n",
    "4) Setting your initial client holdings\n",
    "\n",
    "5) Recording your initial outstanding order backlog\n",
    "\n",
    "The daily cycle then is:\n",
    "\n",
    "6) Recording the placement of orders with a number of custodians\n",
    "\n",
    "7) Receive allocations from custodians at end of day\n",
    "\n",
    "8) Convert allocations to transactions against client portfolios\n",
    "\n",
    "9) Reconcile allocations against order backlog\n",
    "\n",
    "*First things first run the cell below to import the libraries and authenticate your LUSID client*"
   ]
  },
  {
   "cell_type": "code",
   "execution_count": null,
   "metadata": {},
   "outputs": [],
   "source": [
    "# Import LUSID\n",
    "import lusid\n",
    "import lusid.models as models\n",
    "import lusid_sample_data as import_data\n",
    "#from lusidjam import RefreshingToken\n",
    "\n",
    "# Import Libraries\n",
    "import pprint\n",
    "from datetime import datetime, timedelta, time\n",
    "from dateutil.parser import parse\n",
    "from collections import defaultdict\n",
    "import pytz\n",
    "import printer as prettyprint\n",
    "import pandas as pd\n",
    "import uuid\n",
    "import math\n",
    "import json\n",
    "import os\n",
    "\n",
    "# Authenticate our user and create our API client\n",
    "secrets_path = \"/tmp/working/examples/secrets.json\"\n",
    "                \n",
    "api_factory = lusid.utilities.ApiClientFactory(api_secrets_filename = secrets_path)\n",
    "\n",
    "print ('LUSID Environment Initialised')\n",
    "print ('API Version: ', api_factory.build(lusid.api.ApplicationMetadataApi).get_lusid_versions().build_version)"
   ]
  },
  {
   "cell_type": "markdown",
   "metadata": {},
   "source": [
    "## 1) Setting up a Scope to hold your portfolios"
   ]
  },
  {
   "cell_type": "markdown",
   "metadata": {},
   "source": [
    "You will need to create a name for the scope that you will use for the fund. Read more about scopes in the [LUSID Knowledge Base: Scopes](https://support.lusid.com/what-is-a-scope-in-lusid-and-how-is-it-used).\n",
    "\n",
    "*Run the cell below to create a name for your scope*"
   ]
  },
  {
   "cell_type": "code",
   "execution_count": null,
   "metadata": {},
   "outputs": [],
   "source": [
    "# Give the scope a unique identifier\n",
    "scope_id = import_data.create_scope_id()\n",
    "# Give the scope a descriptive name\n",
    "scope_name = 'UK_Equities_Fund'\n",
    "# Join the two together to get the full scope name\n",
    "scope = '{}_{}'.format(scope_name, scope_id)\n",
    "prettyprint.heading('Scope', scope)"
   ]
  },
  {
   "cell_type": "markdown",
   "metadata": {},
   "source": [
    "## 2) Creating your Instrument Universe "
   ]
  },
  {
   "cell_type": "markdown",
   "metadata": {},
   "source": [
    "Before you can take on any holdings or make any trades you need to ensure that your instrument universe has been populated. In this case you will import your instrument universe from a CSV file. Read more about instruments in LUSID in the [LUSID Knowledge Base: Instruments](https://support.lusid.com/instruments).\n",
    "\n",
    "*Run the cell below to import your instrument universe*"
   ]
  },
  {
   "cell_type": "code",
   "execution_count": null,
   "metadata": {},
   "outputs": [],
   "source": [
    "# Import your instrument universe from a CSV file\n",
    "instrument_universe = pd.read_csv('data/multiplecurrencies-instruments.csv')\n",
    "# Look at the first 10 instruments\n",
    "instrument_universe.head(n=10)"
   ]
  },
  {
   "cell_type": "markdown",
   "metadata": {},
   "source": [
    "Now that you have the details for your instruments you can go ahead and create an instrument definition for each instrument. These can then be upserted into LUSID. Read about instrument definitions here [LUSID Knowledge Base: What is an Instrument?](https://support.lusid.com/what-is-an-instrument)\n",
    "\n",
    "As part of this definition you will attach identifiers to your instruments. Read more about identifiers here [LUSID Knowledge Base: Which Instrument Identifier Schemes Should I Use With LUSID?](https://support.lusid.com/which-instrument-identifier-schemes-should-i-use-with-lusid)\n",
    "\n",
    "You use an upsert method to add instrument definitions to the instrument universe in LUSID. Read more about the behaviour of the upsert method here [LUSID Knowledge Base: Upsert](https://support.lusid.com/upsert-command).\n",
    "\n",
    "For further usage of the upsert instruments API call refer to the [LUSID API Docs: Upsert Instruments](https://docs.lusid.com/#operation/UpsertInstruments).\n",
    "\n",
    "*Run the cell below to upsert your instruments into LUSID*"
   ]
  },
  {
   "cell_type": "code",
   "execution_count": null,
   "metadata": {},
   "outputs": [],
   "source": [
    "# Initialise a dictionary to hold your instrument definitions\n",
    "instrument_definitions = {}\n",
    "\n",
    "# Set the mapping between your identifier columns in the CSV and the available LUSID identifiers\n",
    "identifier_columns = {\n",
    "    'isin': 'Isin',\n",
    "    'figi': 'Figi',\n",
    "    'ticker': 'Ticker',\n",
    "    'client_internal': 'ClientInternal'\n",
    "}\n",
    "\n",
    "# Iterate over your instrument universe\n",
    "for index, instrument in instrument_universe.iterrows():\n",
    "\n",
    "    # Initialise your set of identifiers for this instrument\n",
    "    identifiers = {}\n",
    "    \n",
    "    # Populate your set of identifiers\n",
    "    for identifier_column, identifier_lusid in identifier_columns.items():\n",
    "        identifiers[identifier_lusid] = models.InstrumentIdValue(\n",
    "            value=instrument[identifier_column])\n",
    "        \n",
    "    # Create the definition for your instrument\n",
    "    instrument_definitions[instrument['instrument_name']] = models.InstrumentDefinition(\n",
    "        name=instrument['instrument_name'],\n",
    "        identifiers=identifiers\n",
    "    )\n",
    "\n",
    "# Call LUSID to upsert your instrument defintions as a batch\n",
    "response = api_factory.build(lusid.api.InstrumentsApi).upsert_instruments(\n",
    "    instruments=instrument_definitions)\n",
    "\n",
    "# Pretty print the response from LUSID\n",
    "prettyprint.instrument_response(response, identifier='Figi')"
   ]
  },
  {
   "cell_type": "markdown",
   "metadata": {},
   "source": [
    "## 3) Creating client portfolios"
   ]
  },
  {
   "cell_type": "markdown",
   "metadata": {},
   "source": [
    "To create a portfolio you need to give it a name and code - we'll create one for each client.\n",
    "\n",
    "*Run the cell below to give your client portfolios a name and code*"
   ]
  },
  {
   "cell_type": "code",
   "execution_count": null,
   "metadata": {},
   "outputs": [],
   "source": [
    "# Define portfolio ids\n",
    "portfolios = {'Alice': 'Alice-portfolio-' + str(uuid.uuid4()), 'Bob': 'Bob-portfolio-' + str(uuid.uuid4())}\n",
    "\n",
    "for client in portfolios:\n",
    "    print(client + \" \" + portfolios[client])"
   ]
  },
  {
   "cell_type": "markdown",
   "metadata": {},
   "source": [
    "Now that you have decided on the name and unique code for your portfolio you can create them. Read more about portfolios in the [LUSID Knowledge Base: Portfolios](https://support.lusid.com/portfolios).\n",
    "\n",
    "For further usage of the create portfolio API call refer to the [LUSID API Docs: Create Portfolio](https://docs.lusid.com/#operation/CreatePortfolio).\n",
    "\n",
    "Note that when you create the portolio in the cell below you are creating it with a 'created' date of 365 days ago. This number is rather arbitary, in practice it should be the date the portfolio came into existence regardless of the system you first created it in, read more about the importance of the created date on a portfolio in the [LUSID Knowledge Base: Importance of Portfolio Creation Date](https://support.lusid.com/importance-of-portfolio-creation-date).\n",
    "\n",
    "*Run the cell below to create your portfolio*"
   ]
  },
  {
   "cell_type": "code",
   "execution_count": null,
   "metadata": {
    "scrolled": false
   },
   "outputs": [],
   "source": [
    "# Arbitrary portfolio creation date for illustration\n",
    "portfolio_creation_date = (datetime.now(pytz.UTC) - timedelta(days=365))\n",
    "\n",
    "for client in portfolios:\n",
    "    # Create the request to add your portfolio to LUSID\n",
    "    transaction_portfolio_request = models.CreateTransactionPortfolioRequest(\n",
    "        display_name=client,\n",
    "        code=portfolios[client],\n",
    "        base_currency='USD',\n",
    "        description='The portfolio for client ' + client,\n",
    "        created=portfolio_creation_date)\n",
    "\n",
    "    # Call LUSID to create your portfolio\n",
    "    response = api_factory.build(lusid.api.TransactionPortfoliosApi).create_portfolio(\n",
    "        scope=scope,\n",
    "        transaction_portfolio=transaction_portfolio_request)\n",
    "\n",
    "    # Pretty print the response from LUSID\n",
    "    prettyprint.portfolio_response(response)"
   ]
  },
  {
   "cell_type": "markdown",
   "metadata": {},
   "source": [
    "## 4) Setting initial client holdings"
   ]
  },
  {
   "cell_type": "markdown",
   "metadata": {},
   "source": [
    "Now that you have your instrument universe populated and client portfolios you can load your initial holdings into each. In this case you will import your holdings from a CSV file.\n",
    "\n",
    "*Run the cell below to import your take on balances*"
   ]
  },
  {
   "cell_type": "code",
   "execution_count": null,
   "metadata": {
    "scrolled": true
   },
   "outputs": [],
   "source": [
    "#Import your holdings\n",
    "holdings = pd.read_csv('data/fundmanager-initialholdings.csv')\n",
    "holdings.head(10)"
   ]
  },
  {
   "cell_type": "markdown",
   "metadata": {},
   "source": [
    "You can add these holdings to LUSID by setting the holdings on your portfolios. Read more about how making an adjustment or setting the holdings on a portfolio affects it here [LUSID Knowledge Base: The Effect of Holding Adjustments](https://support.lusid.com/how-do-holding-adjustments-affect-a-portfolio). These holdings will be effective as of 4 days ago. This gives you some room to add recent transactions and conduct valuations.\n",
    "\n",
    "For further usage of the set holdings API call refer to the [LUSID API Docs: Set Holdings](https://docs.lusid.com/#operation/SetHoldings).\n",
    "\n",
    "*Run the cell below to set the holdings on your client portfolios*"
   ]
  },
  {
   "cell_type": "code",
   "execution_count": null,
   "metadata": {},
   "outputs": [],
   "source": [
    "# Set the effective date of these holdings to be 4 days ago\n",
    "holdings_effective_date = datetime.now(pytz.UTC) - timedelta(days=4)\n",
    "\n",
    "holding_adjustments = defaultdict(list)\n",
    "\n",
    "# Iterate over your holdings\n",
    "for index, holding in holdings.iterrows():\n",
    "    \n",
    "    client = holding['client']\n",
    "\n",
    "    # Create a holding adjustment for this holding\n",
    "    holding_adjustments[client].append(\n",
    "        models.AdjustHoldingRequest(\n",
    "            instrument_identifiers={\n",
    "                'Instrument/default/Figi': holding['figi']},\n",
    "            tax_lots=[\n",
    "                models.TargetTaxLotRequest(\n",
    "                    units=holding['quantity'],\n",
    "                    cost=models.CurrencyAndAmount(\n",
    "                        amount=holding['total_cost'],\n",
    "                        currency=holding['currency']),\n",
    "                    portfolio_cost=holding['total_cost'],\n",
    "                    price=holding['unit_cost'])\n",
    "            ]\n",
    "        )\n",
    "    )\n",
    "    \n",
    "for holdings_client in holding_adjustments:\n",
    "    \n",
    "    # Call LUSID to set your holdings \n",
    "    response = api_factory.build(lusid.api.TransactionPortfoliosApi).adjust_holdings(\n",
    "        scope=scope,\n",
    "        code=portfolios[holdings_client],\n",
    "        effective_at=holdings_effective_date,\n",
    "        holding_adjustments=holding_adjustments[holdings_client])\n",
    "\n",
    "    # Pretty print the response \n",
    "    prettyprint.set_holdings_response(response, scope, portfolios[holdings_client])"
   ]
  },
  {
   "cell_type": "markdown",
   "metadata": {},
   "source": [
    "## 5) Recording the order backlog"
   ]
  },
  {
   "cell_type": "code",
   "execution_count": null,
   "metadata": {},
   "outputs": [],
   "source": [
    "#Define outstanding orders\n",
    "orders = pd.read_csv('data/fundmanager-orders.csv')\n",
    "orders.head(10)"
   ]
  },
  {
   "cell_type": "code",
   "execution_count": null,
   "metadata": {},
   "outputs": [],
   "source": [
    "order_requests = defaultdict(list)\n",
    "order_sets = defaultdict(list)\n",
    "\n",
    "#Upsert orders\n",
    "for index, order in orders.iterrows():\n",
    "    \n",
    "    client = order['client']\n",
    "\n",
    "    order_requests[client].append(\n",
    "        models.OrderRequest(\n",
    "            code=order['order_id'],\n",
    "            quantity=order['quantity'],\n",
    "            side=order['side'],\n",
    "            instrument_identifiers={\n",
    "                'Instrument/default/Figi': order['figi']},\n",
    "            properties={},\n",
    "            order_book=models.ResourceId(\n",
    "                scope=scope,\n",
    "                code='orderbook',\n",
    "                ),\n",
    "            portfolio=models.ResourceId(\n",
    "                scope=scope,\n",
    "                code=portfolios[client]\n",
    "                )\n",
    "            )\n",
    "        )\n",
    "\n",
    "for order_client in order_requests:\n",
    "    order_sets[order_client] = models.OrderSetRequest(\n",
    "        order_requests=order_requests[order_client]\n",
    "        )\n",
    "\n",
    "for order_client in order_sets:\n",
    "    #Call LUSID to record your orders\n",
    "    response = api_factory.build(lusid.api.OrdersApi).upsert_orders(\n",
    "        scope=scope,\n",
    "        request=order_sets[order_client]\n",
    "        )\n",
    "    \n",
    "    prettyprint.upsert_orders_response(response, scope)"
   ]
  },
  {
   "cell_type": "markdown",
   "metadata": {},
   "source": [
    "## 6) Recording placement of orders with custodians"
   ]
  },
  {
   "cell_type": "markdown",
   "metadata": {},
   "source": [
    "Once the backlog of orders has been established, the FM goes through a placement process in which orders are blocked together and placed with specific custodians.\n",
    "\n",
    "Alice has funds with GS, while Bob has funds with MS.\n",
    "\n",
    "Placements in this case would see ORD[001 - 004] placed with GS, and ORD[005 - 008] placed with MS. We can tag our orders to reflect the placement."
   ]
  },
  {
   "cell_type": "code",
   "execution_count": null,
   "metadata": {},
   "outputs": [],
   "source": [
    "create_request = lusid.models.CreateDataTypeRequest(\n",
    "    scope=scope,\n",
    "    code=\"CustodianCodes\",\n",
    "    type_value_range=\"Closed\",\n",
    "    display_name=\"Available Custodian Tags\",\n",
    "    description=\"This data type contains the available Custodians which can be used\",\n",
    "    value_type=\"String\",\n",
    "    acceptable_values=[\n",
    "        \"GS\",\n",
    "        \"MS\"\n",
    "    ])\n",
    "\n",
    "response = api_factory.build(lusid.api.DataTypesApi).create_data_type(\n",
    "    request=create_request)\n",
    "\n",
    "print(\"Data Type Created\")\n",
    "prettyprint.heading(\"Scope\", response.id.scope)\n",
    "prettyprint.heading(\"Code\", response.id.code)"
   ]
  },
  {
   "cell_type": "code",
   "execution_count": null,
   "metadata": {},
   "outputs": [],
   "source": [
    "property_request = models.CreatePropertyDefinitionRequest(\n",
    "    domain='Order',\n",
    "    scope=scope,\n",
    "    code='Custodian',\n",
    "    value_required=False,\n",
    "    display_name='Custodian',\n",
    "    data_type_id=models.ResourceId(scope=scope, code='CustodianCodes'))\n",
    "\n",
    "# Call LUSID to create our new property\n",
    "property_response = api_factory.build(lusid.api.PropertyDefinitionsApi).create_property_definition(\n",
    "    definition=property_request)\n",
    "\n",
    "# Grab the key off the response to use when referencing this property in other LUSID calls\n",
    "custodian_property_key = property_response.key\n",
    "\n",
    "# Pretty print our key\n",
    "prettyprint.heading('Custodian Property Key', custodian_property_key)"
   ]
  },
  {
   "cell_type": "code",
   "execution_count": null,
   "metadata": {},
   "outputs": [],
   "source": []
  },
  {
   "cell_type": "code",
   "execution_count": null,
   "metadata": {},
   "outputs": [],
   "source": [
    "custodians = { 'Alice': 'GS', 'Bob': 'MS' }\n",
    "\n",
    "for index, order in orders.iterrows():\n",
    "    \n",
    "    client = order['client']\n",
    "    order_requests = []\n",
    "    \n",
    "    order_requests.append(\n",
    "        models.OrderRequest(\n",
    "            code=order['order_id'],\n",
    "            quantity=order['quantity'],\n",
    "            side=order['side'],\n",
    "            instrument_identifiers={\n",
    "                'Instrument/default/Figi': order['figi']},\n",
    "            properties={\n",
    "                     custodian_property_key: models.PerpetualProperty(\n",
    "                         key=custodian_property_key,\n",
    "                         value=models.PropertyValue(label_value=custodians[client])\n",
    "                     )\n",
    "                 },\n",
    "            order_book=models.ResourceId(\n",
    "                scope=scope,\n",
    "                code='orderbook',\n",
    "                ),\n",
    "            portfolio=models.ResourceId(\n",
    "                scope=scope,\n",
    "                code=portfolios[client]\n",
    "                )\n",
    "            )\n",
    "        )\n",
    "    \n",
    "    order_set = models.OrderSetRequest(\n",
    "        order_requests=order_requests\n",
    "        )\n",
    "\n",
    "    #Call LUSID to record your orders\n",
    "    response = api_factory.build(lusid.api.OrdersApi).upsert_orders(\n",
    "        scope=scope,\n",
    "        request=order_set\n",
    "        )\n",
    "    \n",
    "    prettyprint.upsert_orders_response(response, scope)"
   ]
  },
  {
   "cell_type": "markdown",
   "metadata": {},
   "source": [
    "## 7) Receive allocations from custodians at end of day"
   ]
  },
  {
   "cell_type": "code",
   "execution_count": null,
   "metadata": {},
   "outputs": [],
   "source": [
    "#Read allocations\n",
    "allocations = pd.read_csv('data/fundmanager-allocations.csv')\n",
    "allocations.head(10)"
   ]
  },
  {
   "cell_type": "code",
   "execution_count": null,
   "metadata": {},
   "outputs": [],
   "source": [
    "allocation_requests = defaultdict(list)\n",
    "allocation_sets = defaultdict(list)\n",
    "\n",
    "#Upsert allocations\n",
    "for index, allocation in allocations.iterrows():\n",
    "    \n",
    "    client = allocation['client']\n",
    "\n",
    "    allocation_requests[client].append(\n",
    "        models.AllocationRequest(\n",
    "            id=models.ResourceId(\n",
    "                scope=scope,\n",
    "                code=allocation['allocation_id']\n",
    "                ),\n",
    "            allocated_order_id=models.ResourceId(\n",
    "                scope=scope,\n",
    "                code=allocation['originating_order']\n",
    "                ),\n",
    "            quantity=allocation['quantity'],\n",
    "            instrument_identifiers={\n",
    "                'Instrument/default/Figi': allocation['figi']},\n",
    "            properties={},\n",
    "            portfolio_id=models.ResourceId(\n",
    "                scope=scope,\n",
    "                code=portfolios[client]\n",
    "                )\n",
    "            )\n",
    "        )\n",
    "    \n",
    "for allocation_client in allocation_requests:    \n",
    "    allocation_sets[allocation_client] = models.AllocationSetRequest(\n",
    "        allocation_requests=allocation_requests[allocation_client]\n",
    "        )\n",
    "\n",
    "for allocation_client in allocation_sets:\n",
    "    #Call LUSID to record your orders\n",
    "    response = api_factory.build(lusid.api.AllocationsApi).upsert_allocations(\n",
    "        request=allocation_sets[allocation_client]\n",
    "        )\n",
    "    \n",
    "    prettyprint.upsert_allocations_response(response, scope)"
   ]
  },
  {
   "cell_type": "markdown",
   "metadata": {},
   "source": [
    "## 8) Convert allocations to transactions against client portfolios"
   ]
  },
  {
   "cell_type": "code",
   "execution_count": null,
   "metadata": {},
   "outputs": [],
   "source": []
  },
  {
   "cell_type": "markdown",
   "metadata": {},
   "source": [
    "## 9) Reconcile allocations against order backlog"
   ]
  },
  {
   "cell_type": "code",
   "execution_count": null,
   "metadata": {},
   "outputs": [],
   "source": [
    "# fetch orders\n",
    "orders_response = api_factory.build(lusid.api.OrdersApi).list_orders(scope)\n",
    "\n",
    "orders = {}\n",
    "allocations = {}\n",
    "\n",
    "for order in orders_response.values:\n",
    "    orders[order.id.code] = order\n",
    "\n",
    "# fetch allocations\n",
    "allocations_response = api_factory.build(lusid.api.AllocationsApi).list_allocations()\n",
    "\n",
    "for allocation in allocations_response.values:\n",
    "    allocations[allocation.allocated_order_id.code] = allocation\n",
    "\n",
    "for order in orders:\n",
    "    print (order + ' ' + orders[order].lusid_instrument_id + ' ' + str(orders[order].quantity) + ' ' + allocations[order].id.code + ' ' + str(allocations[order].quantity) + ' ' + str(allocations[order].quantity - orders[order].quantity))"
   ]
  },
  {
   "cell_type": "code",
   "execution_count": null,
   "metadata": {},
   "outputs": [],
   "source": [
    "# upsert updated orders?"
   ]
  }
 ],
 "metadata": {
  "kernelspec": {
   "display_name": "Python 3",
   "language": "python",
   "name": "python3"
  },
  "language_info": {
   "codemirror_mode": {
    "name": "ipython",
    "version": 3
   },
   "file_extension": ".py",
   "mimetype": "text/x-python",
   "name": "python",
   "nbconvert_exporter": "python",
   "pygments_lexer": "ipython3",
   "version": "3.6.6"
  },
  "pycharm": {
   "stem_cell": {
    "cell_type": "raw",
    "metadata": {
     "collapsed": false
    },
    "source": []
   }
  }
 },
 "nbformat": 4,
 "nbformat_minor": 2
}
