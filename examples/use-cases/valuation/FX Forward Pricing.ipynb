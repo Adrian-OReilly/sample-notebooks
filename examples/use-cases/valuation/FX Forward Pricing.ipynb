{
 "cells": [
  {
   "cell_type": "code",
   "execution_count": 0,
   "metadata": {
    "collapsed": true
   },
   "outputs": [],
   "source": []
  },
  {
   "cell_type": "markdown",
   "source": [
    "# Fx Forward Pricing\n",
    "\n",
    "This notebook will run through the following business use cases :\n",
    "* [Pricing a set of Fx Forwards using a the internal LUSID \"Discounting\" model](#pricing_bond)\n",
    "* [Valuing a portfolio made up of an Fx forward position.](#pricing_bond_portfolio)\n",
    "* [Valuing our Fx forward portfolios using an externally supplied Fx forward price.](#accrual_override)\n",
    "\n",
    "<br>\n",
    "\n",
    "In doing so we'll cover the following LUSID concepts :\n",
    "* [Defining a LUSID internal representation of an FX forward instrument based on user provided parameters.](#bond_definition)\n",
    "* [Supplying both simple and complex market data structures through the Quotes and the StructureMarketData store.](#structured_market_data)\n",
    "* [Configuring recipes to value our FX forward in LUSID making use of the structured market data (GBP and USD OIS Yield Curves).](#recipe_configuration)\n",
    "* [Running inline aggregations that value a unitised FX forward.](#accrued_interest)\n",
    "* Running portfolio aggregations that value a porfolio containing FX forwards.\n",
    "* [Using an externally valued FX forward price to calculate portd.](#external_bond_price)\n",
    "\n",
    "<br>\n",
    "\n",
    "For this notebook example we'll work the following set of GBP/USD Forwards with 3Y, 5Y and 10Y maturities:\n",
    "\n",
    "* Trade Date : 02 Aug 2020\n",
    "* Maturity Dates :\n",
    "    * 02 Aug 2023 (3Y)\n",
    "    * 02 Aug 2025 (5Y)\n",
    "    * 02 Aug 2030 (10Y)\n",
    "* Spot Rate : 1.2508\n",
    "* Domestic Amount : 100,000,000\n",
    "* Foreign Amounts :\n",
    "    * 125,710,000 (3Y)\n",
    "    * 126,485,000 (5Y)\n",
    "    * 130,430,000 (10Y)\n",
    "\n",
    "\n",
    "## Setup LUSID and LUSID API objects."
   ],
   "metadata": {
    "collapsed": false,
    "pycharm": {
     "name": "#%% md\n"
    }
   }
  },
  {
   "cell_type": "code",
   "execution_count": 82,
   "outputs": [
    {
     "name": "stdout",
     "output_type": "stream",
     "text": [
      "LUSID Environment Initialised\n",
      "LUSID SDK Version:  0.6.4767.0\n"
     ]
    }
   ],
   "source": [
    "import os\n",
    "from datetime import datetime, timedelta\n",
    "\n",
    "import lusid\n",
    "import pandas as pd\n",
    "import pytz\n",
    "from IPython.core.display import display\n",
    "from lusid import models\n",
    "from lusid.utilities import ApiClientFactory\n",
    "from lusidjam import RefreshingToken\n",
    "from lusidtools.cocoon.transaction_type_upload import (\n",
    "    create_transaction_type_configuration,\n",
    ")\n",
    "from lusidtools.cocoon.cocoon_printer import (\n",
    "    format_portfolios_response,\n",
    ")\n",
    "from lusidtools.jupyter_tools.stop_execution import StopExecution\n",
    "\n",
    "\n",
    "# Authenticate our user and create our API client\n",
    "from lusidtools.cocoon import load_from_data_frame\n",
    "from lusidtools.pandas_utils.lusid_pandas import lusid_response_to_data_frame\n",
    "secrets_path = os.getenv(\"FBN_SECRETS_PATH\")\n",
    "\n",
    "# Initiate an API Factory which is the client side object for interacting with LUSID APIs\n",
    "api_factory = lusid.utilities.ApiClientFactory(\n",
    "    token=RefreshingToken(),\n",
    "    api_secrets_filename=secrets_path,\n",
    "    app_name=\"LusidJupyterNotebook\",\n",
    ")\n",
    "\n",
    "print ('LUSID Environment Initialised')\n",
    "print ('LUSID SDK Version: ', api_factory.build(lusid.api.ApplicationMetadataApi).get_lusid_versions().build_version)\n",
    "\n",
    "# Setup the apis we'll use in this notebook:\n",
    "instruments_api = api_factory.build(lusid.api.InstrumentsApi)\n",
    "structured_market_data_api = api_factory.build(lusid.api.StructuredMarketDataApi)\n",
    "structured_result_data_api = api_factory.build(lusid.api.StructuredResultDataApi)\n",
    "quotes_api = api_factory.build(lusid.api.QuotesApi)\n",
    "transaction_portfolios_api = api_factory.build(lusid.api.TransactionPortfoliosApi)\n",
    "system_configuration_api = api_factory.build(lusid.api.SystemConfigurationApi)\n",
    "# Setup the scope we'll use in this notebook:\n",
    "scope = \"fx-forward-pricing-nb\""
   ],
   "metadata": {
    "collapsed": false,
    "pycharm": {
     "name": "#%%\n"
    }
   }
  },
  {
   "cell_type": "code",
   "execution_count": 2,
   "outputs": [],
   "source": [
    "# Settings and utility functions to display objects and responses more clearly.\n",
    "pd.set_option('float_format', '{:f}'.format)\n",
    "def aggregation_result_to_dataframe(aggregation_results):\n",
    "    df = pd.DataFrame(aggregation_results, columns = ['Name', 'Effective At', 'Value'])\n",
    "    df['Effective At'] = df['Effective At'].dt.strftime('%d %b %Y')\n",
    "    return df\n",
    "\n",
    "def display_holdings_summary(response, effective_at):\n",
    "    # inspect holdings response for today\n",
    "    hld = [i for i in response.values]\n",
    "\n",
    "    names = []\n",
    "    #amount = []\n",
    "    units = []\n",
    "    holding_types = []\n",
    "    cost = []\n",
    "    settled_units = []\n",
    "\n",
    "\n",
    "    for item in hld:\n",
    "\n",
    "        names.append(item.properties[\"Instrument/default/Name\"].value.label_value)\n",
    "        #amount.append(item.cost.amount)\n",
    "        units.append(item.units)\n",
    "        holding_types.append(item.holding_type)\n",
    "        settled_units.append(item.settled_units)\n",
    "        cost.append(item.cost)\n",
    "\n",
    "\n",
    "    data = {\"names\": names, \"effectiveAt\" : effective_at, \"units\": units, \"settled_units\": settled_units, \"holding types\": holding_types, \"cost\" : cost}\n",
    "\n",
    "    summary = pd.DataFrame(data=data)\n",
    "    return summary"
   ],
   "metadata": {
    "collapsed": false,
    "pycharm": {
     "name": "#%%\n"
    }
   }
  },
  {
   "cell_type": "markdown",
   "source": [
    "## Define our Fx Forward Instruments\n",
    "\n",
    "We'll start by defining our forwards using LUSID's internal representation of an Fx forward instrument. For a detailed\n",
    "breakdown the internal representation take a look at the \"FxForwardInstrument\" section of the [LUSID API Swagger Specification](https://www.lusid.com/api/swagger/index.html)\n",
    "\n",
    "### Initialise FxForward Parameters\n",
    "\n",
    "Let's setup the basic parameters required for our set of Fx forwards:"
   ],
   "metadata": {
    "collapsed": false,
    "pycharm": {
     "name": "#%% md\n"
    }
   }
  },
  {
   "cell_type": "code",
   "execution_count": 3,
   "outputs": [],
   "source": [
    "trade_date = datetime(2020, 6, 1, tzinfo=pytz.utc)\n",
    "#trade_date = datetime.today().replace(tzinfo=pytz.utc)\n",
    "maturity_dates = {\n",
    "    '1W' : datetime(2020, 6, 8, tzinfo=pytz.utc),\n",
    "    '3Y' : datetime(2023, 6, 1, tzinfo=pytz.utc),\n",
    "    '5Y' : datetime(2025, 6, 1, tzinfo=pytz.utc),\n",
    "    '10Y': datetime(2030, 6, 1, tzinfo=pytz.utc)\n",
    "}\n",
    "spot_rate =  1.2508\n",
    "dom_amount = 100000000\n",
    "fgn_amounts = {\n",
    "    '1W' : 125090000,\n",
    "    '3Y' : 125710000,\n",
    "    '5Y' : 126485000,\n",
    "    '10Y': 130430000\n",
    "}"
   ],
   "metadata": {
    "collapsed": false,
    "pycharm": {
     "name": "#%%\n"
    }
   }
  },
  {
   "cell_type": "markdown",
   "source": [
    "### Create FxForwardInstrument Definitions\n",
    "\n",
    "We can use those parameters to construct a LUSID representation of an FxForward. In our case we'll define a set made up of a\n",
    "3Y, 5Y and 10Y GBP/USD Fx Forward."
   ],
   "metadata": {
    "collapsed": false,
    "pycharm": {
     "name": "#%% md\n"
    }
   }
  },
  {
   "cell_type": "code",
   "execution_count": 4,
   "outputs": [],
   "source": [
    "def create_fx_forward_instrument_definition(dom_amount, fgn_amount, spot_rate, start_date, maturity_date):\n",
    "    return models.FxForwardInstrument(\n",
    "            dom_amount=dom_amount,\n",
    "            fgn_amount=-fgn_amount,\n",
    "            fgn_ccy=\"USD\",\n",
    "            ref_spot_rate=spot_rate,\n",
    "            start_date=start_date.isoformat(),\n",
    "            maturity_date=maturity_date,\n",
    "            dom_ccy=\"GBP\",\n",
    "            instrument_type=\"FxForward\")\n",
    "\n",
    "gbpusd_fx_fwd_1w_instr_def = create_fx_forward_instrument_definition(dom_amount, fgn_amounts['1W'], spot_rate, trade_date, maturity_dates['1W'])\n",
    "gbpusd_fx_fwd_3y_instr_def = create_fx_forward_instrument_definition(dom_amount, fgn_amounts['3Y'], spot_rate, trade_date, maturity_dates['3Y'])\n",
    "gbpusd_fx_fwd_5y_instr_def = create_fx_forward_instrument_definition(dom_amount, fgn_amounts['5Y'], spot_rate, trade_date, maturity_dates['5Y'])\n",
    "gbpusd_fx_fwd_10y_instr_def = create_fx_forward_instrument_definition(dom_amount, fgn_amounts['10Y'], spot_rate, trade_date, maturity_dates['10Y'])"
   ],
   "metadata": {
    "collapsed": false,
    "pycharm": {
     "name": "#%%\n"
    }
   }
  },
  {
   "cell_type": "markdown",
   "source": [
    "## Supply Market Data\n",
    "\n",
    "Before we can price our Fx forwards we need to ensure LUSID has the required FX and interest rates available. This allows us\n",
    "to showcase two ways of getting the market data we need to price an FX forward into LUSID. The simpler method for the FX rates\n",
    "can simply be upserted as quotes but the more core complex structure of the FGPB and USD yield curves required the use of the\n",
    "Structured Market Data store.\n",
    "\n",
    "Let's start by upserting the GBP/USD FX rates for the trade data and a few subsequent dates we'll use to price the FX Forwards.\n",
    "So we can see some movement in the forward prices we'll mock a drop in the spot rate on June 2nd followed by a sharp rise on June 3rd. When providing market\n",
    "data to LUSID we also need to identify the supplier of the data and it's scope. The supplier is required further in the\n",
    "notebook when we instruct LUSID how to source data for a particular aggregation.\n",
    "\n",
    "### Upsert Spot Fx Rates"
   ],
   "metadata": {
    "collapsed": false,
    "pycharm": {
     "name": "#%% md\n"
    }
   }
  },
  {
   "cell_type": "code",
   "execution_count": 5,
   "outputs": [
    {
     "data": {
      "text/plain": "'GBP/USD @ 1.2508 for 2020-06-01 00:00:00+00:00 uploaded to quote store.'"
     },
     "metadata": {},
     "output_type": "display_data"
    },
    {
     "data": {
      "text/plain": "'USD/GBP @ 0.799488327470419 for 2020-06-01 00:00:00+00:00 uploaded to quote store.'"
     },
     "metadata": {},
     "output_type": "display_data"
    },
    {
     "data": {
      "text/plain": "'GBP/USD @ 1.2428 for 2020-06-02 00:00:00+00:00 uploaded to quote store.'"
     },
     "metadata": {},
     "output_type": "display_data"
    },
    {
     "data": {
      "text/plain": "'USD/GBP @ 0.804634695848085 for 2020-06-02 00:00:00+00:00 uploaded to quote store.'"
     },
     "metadata": {},
     "output_type": "display_data"
    },
    {
     "data": {
      "text/plain": "'GBP/USD @ 1.2588 for 2020-06-03 00:00:00+00:00 uploaded to quote store.'"
     },
     "metadata": {},
     "output_type": "display_data"
    },
    {
     "data": {
      "text/plain": "'USD/GBP @ 0.7944073721004131 for 2020-06-03 00:00:00+00:00 uploaded to quote store.'"
     },
     "metadata": {},
     "output_type": "display_data"
    }
   ],
   "source": [
    "market_data_scope = 'fx-forward-pricing-nb-market-data'\n",
    "market_supplier = 'Lusid'\n",
    "\n",
    "trade_date_plus_one = datetime(2020, 6, 2, tzinfo=pytz.utc)\n",
    "trade_date_plus_two = datetime(2020, 6, 3, tzinfo=pytz.utc)\n",
    "\n",
    "\n",
    "def upsert_gbp_usd_fx_rate(rate, effective_at):\n",
    "    upsert_quote_request = models.UpsertQuoteRequest(\n",
    "        quote_id=models.QuoteId(\n",
    "            quote_series_id=models.QuoteSeriesId(\n",
    "                provider=market_supplier,\n",
    "                instrument_id=\"GBP/USD\",\n",
    "                instrument_id_type='CurrencyPair',\n",
    "                quote_type='Price',\n",
    "                field='mid'),\n",
    "            effective_at=effective_at),\n",
    "        metric_value=models.MetricValue(\n",
    "            value=rate,\n",
    "            unit='rate'\n",
    "        ),\n",
    "        lineage='FxDataVendorABC')\n",
    "\n",
    "    # we need to insert the USD/GBP quote as well for use later in the notebook\n",
    "    # when we're booking the sell leg of our forward as a transaction\n",
    "    upsert_quote_request_inverse = models.UpsertQuoteRequest(\n",
    "        quote_id=models.QuoteId(\n",
    "            quote_series_id=models.QuoteSeriesId(\n",
    "                provider=market_supplier,\n",
    "                instrument_id=\"USD/GBP\",\n",
    "                instrument_id_type='CurrencyPair',\n",
    "                quote_type='Price',\n",
    "                field='mid'),\n",
    "            effective_at=effective_at),\n",
    "        metric_value=models.MetricValue(\n",
    "            value=1/rate,\n",
    "            unit='rate'\n",
    "        ),\n",
    "        lineage='FxDataVendorABC')\n",
    "\n",
    "    response_gbp_usd = quotes_api.upsert_quotes(\n",
    "            scope=market_data_scope,\n",
    "            request_body={\"gbp-usd-01\": upsert_quote_request})\n",
    "\n",
    "    response_usd_gbp = quotes_api.upsert_quotes(\n",
    "            scope=market_data_scope,\n",
    "            request_body={\"usd-gbp-01\": upsert_quote_request_inverse})\n",
    "\n",
    "    if response_gbp_usd.failed or response_usd_gbp.failed:\n",
    "        raise StopExecution(f\"Failed to upload currency pairs:{response_gbp_usd.failed} or {response_usd_gbp.failed}\")\n",
    "\n",
    "    display(f\"GBP/USD @ {rate} for {effective_at} uploaded to quote store.\")\n",
    "    display(f\"USD/GBP @ {1/rate} for {effective_at} uploaded to quote store.\")\n",
    "\n",
    "\n",
    "upsert_gbp_usd_fx_rate(spot_rate, trade_date)\n",
    "# drop in fx rate\n",
    "upsert_gbp_usd_fx_rate(spot_rate - 0.0080, trade_date_plus_one)\n",
    "# increase in fx rate\n",
    "upsert_gbp_usd_fx_rate(spot_rate + 0.0080, trade_date_plus_two)\n"
   ],
   "metadata": {
    "collapsed": false,
    "pycharm": {
     "name": "#%%\n"
    }
   }
  },
  {
   "cell_type": "markdown",
   "source": [
    "### Interest Rate Curves\n",
    "\n",
    "To price the FX Forwards we also need to supply the relevant interest rate curves for our domestic and foreign currencies. LUSID supports\n",
    "storage of complex market data structures through the [Structured market data](\"https://support.finbourne.com/how-do-i-store-and-tr\")\n",
    "store. When upserting the interest rate curves we use a StructuredMarketDataId to not onl uniquely identify the curve but also provide\n",
    "the supporting information required by the aggregation engine to correctly resolve the curves when we run our FX forward valuation."
   ],
   "metadata": {
    "collapsed": false,
    "pycharm": {
     "name": "#%% md\n"
    }
   }
  },
  {
   "cell_type": "code",
   "execution_count": 6,
   "outputs": [
    {
     "name": "stdout",
     "output_type": "stream",
     "text": [
      "GBP/GBPOIS interest rate curve uploaded into scope=fx-forward-pricing-nb-market-data\n",
      "USD/USDOIS interest rate curve uploaded into scope=fx-forward-pricing-nb-market-data\n"
     ]
    }
   ],
   "source": [
    "def upsert_interest_rate_curve(ir_curve_json, scope, effective_at, market_asset):\n",
    "\n",
    "    # provide the structured data file source and it's document format\n",
    "    structured_market_data = models.StructuredMarketData(document_format=\"Json\", version=\"1.0.0\",\n",
    "                                                name=\"DFEUROISCurve\", document=ir_curve_json)\n",
    "\n",
    "\n",
    "    # create a unique identifier for our OIS yield curves\n",
    "    structured_id = models.StructuredMarketDataId(provider=\"Lusid\",price_source=None,\n",
    "                                                 lineage=\"CurveVendorABC\", effective_at=effective_at,\n",
    "                                                 market_element_type=\"ZeroCurve\",\n",
    "                                                 market_asset=market_asset)\n",
    "\n",
    "    upsert_request = models.UpsertStructuredMarketDataRequest(market_data_id=structured_id,\n",
    "                                                          market_data=structured_market_data)\n",
    "\n",
    "    # https://www.lusid.com/docs/api#operation/UpsertStructuredMarketData\n",
    "    response = structured_market_data_api.upsert_structured_market_data(\n",
    "        scope=scope,\n",
    "        request_body={market_asset : upsert_request}\n",
    "    )\n",
    "\n",
    "    if response.failed:\n",
    "        raise StopExecution(\"Failed to upload interest rates curve {response.failed}\")\n",
    "\n",
    "    print(f\"{market_asset} interest rate curve uploaded into scope={scope}\")\n",
    "\n",
    "\n",
    "def load_ois_curve_json(ccy):\n",
    "    with open(f\"data/{ccy}OIS50.json\", \"r\") as ir_curve_json:\n",
    "        return ir_curve_json.read()\n",
    "\n",
    "ois_curve_gbp_json = load_ois_curve_json('GBP')\n",
    "upsert_interest_rate_curve(ois_curve_gbp_json, market_data_scope, trade_date, \"GBP/GBPOIS\")\n",
    "\n",
    "ois_curve_usd_json = load_ois_curve_json('USD')\n",
    "upsert_interest_rate_curve(ois_curve_usd_json, market_data_scope, trade_date, \"USD/USDOIS\")"
   ],
   "metadata": {
    "collapsed": false,
    "pycharm": {
     "name": "#%%\n"
    }
   }
  },
  {
   "cell_type": "markdown",
   "source": [
    "## Defining our Fx Forward Valuation\n",
    "\n",
    "With our Fx forward instruments now defined we can move onto valuing them via LUSID's aggregation engine. But before we\n",
    "can execute the aggregation we need to configure a [Recipe](\"https://support.finbourne.com/what-is-a-lusid-recipe-and-how-is-it-used\")\n",
    "instructing LUSID on how to value our Fx forwards. Specifically we need to select the Fx Forward pricing model to use and identify\n",
    "where the aggregation can resolve the market data the model needs.\n",
    "\n",
    "### Selecting a Pricing Model\n",
    "\n",
    "The pricing model we wish to use is passed in through defining a PricingContext. See the [Swagger spec](\"https://www.lusid.com/api/swagger/index.html\") under \"PricingContext\" for a detailed\n",
    "description of the parameters. For this notebook we'll use the LUSID supplied \"Discounting\" model:"
   ],
   "metadata": {
    "collapsed": false,
    "pycharm": {
     "name": "#%% md\n"
    }
   }
  },
  {
   "cell_type": "code",
   "execution_count": 7,
   "outputs": [],
   "source": [
    "def create_pricing_context():\n",
    "    vendor_model_rule = models.VendorModelRule(\n",
    "        supplier=\"Lusid\",\n",
    "        model_name=\"Discounting\",\n",
    "        instrument_type=\"FxForward\",\n",
    "        parameters=\"{}\")\n",
    "\n",
    "    return models.PricingContext(\n",
    "        model_rules=[vendor_model_rule]\n",
    "    )\n",
    "\n",
    "pricing_context = create_pricing_context()"
   ],
   "metadata": {
    "collapsed": false,
    "pycharm": {
     "name": "#%%\n"
    }
   }
  },
  {
   "cell_type": "markdown",
   "source": [
    "### Selecting the Market Data\n",
    "\n",
    "We can instruct LUSID on where to resolve market data required for pricing our Fx forwards through defining a MarketContext. See the [Swagger spec](\"https://www.lusid.com/api/swagger/index.html#model-MarketContext\")\n",
    "under \"MarketContext\" for a detailed description of the parameters. Recall that when we upserted our quote we passed in a supplier and a scope. One of\n",
    "the powerful features in LUSID is the ability to run valuations against market data from different suppliers, or even define market data retrieval rules\n",
    "to fallback to suppliers should your primary supplier not have the required data.\n",
    "\n",
    "However our example is trivial as we only require the spot rate we loaded in earlier. So we'll define a simple market context :"
   ],
   "metadata": {
    "collapsed": false,
    "pycharm": {
     "name": "#%% md\n"
    }
   }
  },
  {
   "cell_type": "code",
   "execution_count": 8,
   "outputs": [],
   "source": [
    "def create_market_context():\n",
    "    return models.MarketContext(\n",
    "        # set rules for where we should resolve our rates data. In our case the interest rate curves we inserted into\n",
    "        # the structured market result data store.\n",
    "        market_rules=[\n",
    "            models.MarketDataKeyRule(\n",
    "                key=\"Rates.*.*\",\n",
    "                data_scope=market_data_scope,\n",
    "                supplier=market_supplier,\n",
    "                quote_type='Rate',\n",
    "                field='Mid')\n",
    "        ],\n",
    "        # control default options for resolving market data. In our case simply default to the LUSID market_supplier\n",
    "        # and market data scope we defined earlier.\n",
    "        options=models.MarketOptions(\n",
    "            default_supplier=market_supplier,\n",
    "            default_scope=market_data_scope)\n",
    "    )\n",
    "\n",
    "    return market_context\n",
    "\n",
    "market_context = create_market_context()"
   ],
   "metadata": {
    "collapsed": false,
    "pycharm": {
     "name": "#%%\n"
    }
   }
  },
  {
   "cell_type": "markdown",
   "source": [
    "### Configure our FX Forward Recipe\n",
    "\n",
    "Now that we've defined what pricing model to use and where to source the market data we can bring those instructions\n",
    "together in a [Recipe](\"https://support.finbourne.com/what-is-a-lusid-recipe-and-how-is-it-used\"):"
   ],
   "metadata": {
    "collapsed": false,
    "pycharm": {
     "name": "#%% md\n"
    }
   }
  },
  {
   "cell_type": "code",
   "execution_count": 9,
   "outputs": [],
   "source": [
    "def create_fx_forward_pricing_recipe():\n",
    "    return models.ConfigurationRecipe(\n",
    "            scope=scope,\n",
    "            code=\"fx-forward-pricing-recipe\",\n",
    "            description=\"Price Fx Forwards using LUSID internal model\",\n",
    "            market=market_context,\n",
    "            pricing=pricing_context\n",
    "        )\n",
    "\n",
    "fx_forward_pricing_recipe = create_fx_forward_pricing_recipe()"
   ],
   "metadata": {
    "collapsed": false,
    "pycharm": {
     "name": "#%%\n"
    }
   }
  },
  {
   "cell_type": "markdown",
   "source": [
    "## Price the FX Forwards\n",
    "\n",
    "Let's summarise our current state:\n",
    " * We've defined a set of GBP/USD FX forwards for maturity in 3Y, 5Y and 10Y.\n",
    " * We've loaded in the spot GBP/USD rates for the dates we're going to value our forwards against.\n",
    " * We've setup our Recipe that configures how we would like to price our bond and where to source our required market data.\n",
    "\n",
    "As we have no existing positions in the FX forward booked against a portfolio we'll run our aggregation on an inlined portfolio.\n",
    "That is a portfolio made up of a set of weighted instruments only. In our case each request will be made up of only one instrument which\n",
    "will be the FX forward we're valuing.\n",
    "\n",
    "### Run an Aggregation to Price our Forwards"
   ],
   "metadata": {
    "collapsed": false,
    "pycharm": {
     "name": "#%% md\n"
    }
   }
  },
  {
   "cell_type": "code",
   "execution_count": 10,
   "outputs": [],
   "source": [
    "def run_fx_forward_pricing_aggregation(maturity, effective_at, fx_forward_instrument_definition, pricing_recipe):\n",
    "    # setup weighted instrument (only our gilt definition)\n",
    "    fx_forward = models.WeightedInstrument(quantity=1, instrument=fx_forward_instrument_definition, holding_identifier=f\"{maturity}-holding\")\n",
    "\n",
    "    # create our aggregation request made up of our recipe and the metrics we would like to calculate (Bond PV)\n",
    "    aggregation_request = models.AggregationRequest(\n",
    "        effective_at=effective_at,\n",
    "        inline_recipe=pricing_recipe,\n",
    "        metrics=[\n",
    "            models.AggregateSpec(key='Holding/default/PV', op='Value'),\n",
    "        ]\n",
    "    )\n",
    "\n",
    "    # As we're running an inline aggregation we must wrap our original aggregation request with an inline aggregation\n",
    "    # request and pass in our weighted instruments\n",
    "    inline_aggregation_request = models.InlineAggregationRequest(\n",
    "        request=aggregation_request, instruments=[fx_forward]\n",
    "    )\n",
    "\n",
    "    # https://www.lusid.com/docs/api#operation/GetAggregationOfWeightedInstruments\n",
    "    return api_factory.build(lusid.api.AggregationApi).get_aggregation_of_weighted_instruments(\n",
    "        market_data_scope, inline_aggregation_request=inline_aggregation_request)\n"
   ],
   "metadata": {
    "collapsed": false,
    "pycharm": {
     "name": "#%%\n"
    }
   }
  },
  {
   "cell_type": "markdown",
   "source": [
    "Let's start by running the 5Y forward valuation across the three dates for which we upserted spot GBP/USD quotes. Recall the quotes were 1.2508 for\n",
    "trade date, whic hthen dropped by 0.0080 on day two and subsequently then increased by 0.0160 on day 3."
   ],
   "metadata": {
    "collapsed": false,
    "pycharm": {
     "name": "#%% md\n"
    }
   }
  },
  {
   "cell_type": "code",
   "execution_count": 11,
   "outputs": [
    {
     "data": {
      "text/plain": "                    Name Effective At     Value\n0  GBP/USD 5Y Forward PV  01 Jun 2020 -0.011177\n1  GBP/USD 5Y Forward PV  02 Jun 2020 -0.017654\n2  GBP/USD 5Y Forward PV  03 Jun 2020 -0.004782",
      "text/html": "<div>\n<style scoped>\n    .dataframe tbody tr th:only-of-type {\n        vertical-align: middle;\n    }\n\n    .dataframe tbody tr th {\n        vertical-align: top;\n    }\n\n    .dataframe thead th {\n        text-align: right;\n    }\n</style>\n<table border=\"1\" class=\"dataframe\">\n  <thead>\n    <tr style=\"text-align: right;\">\n      <th></th>\n      <th>Name</th>\n      <th>Effective At</th>\n      <th>Value</th>\n    </tr>\n  </thead>\n  <tbody>\n    <tr>\n      <th>0</th>\n      <td>GBP/USD 5Y Forward PV</td>\n      <td>01 Jun 2020</td>\n      <td>-0.011177</td>\n    </tr>\n    <tr>\n      <th>1</th>\n      <td>GBP/USD 5Y Forward PV</td>\n      <td>02 Jun 2020</td>\n      <td>-0.017654</td>\n    </tr>\n    <tr>\n      <th>2</th>\n      <td>GBP/USD 5Y Forward PV</td>\n      <td>03 Jun 2020</td>\n      <td>-0.004782</td>\n    </tr>\n  </tbody>\n</table>\n</div>"
     },
     "execution_count": 11,
     "metadata": {},
     "output_type": "execute_result"
    }
   ],
   "source": [
    "result_t = run_fx_forward_pricing_aggregation('5Y', trade_date, gbpusd_fx_fwd_5y_instr_def, fx_forward_pricing_recipe)\n",
    "result_t_plus_one = run_fx_forward_pricing_aggregation('5Y', trade_date_plus_one, gbpusd_fx_fwd_5y_instr_def, fx_forward_pricing_recipe)\n",
    "result_t_plus_two = run_fx_forward_pricing_aggregation('5Y', trade_date_plus_two, gbpusd_fx_fwd_5y_instr_def, fx_forward_pricing_recipe)\n",
    "\n",
    "aggregation_result_to_dataframe([\n",
    "    ['GBP/USD 5Y Forward PV', trade_date, result_t.data[0]['Holding/default/PV']],\n",
    "    ['GBP/USD 5Y Forward PV', trade_date_plus_one, result_t_plus_one.data[0]['Holding/default/PV']],\n",
    "    ['GBP/USD 5Y Forward PV', trade_date_plus_two, result_t_plus_two.data[0]['Holding/default/PV']]\n",
    "])"
   ],
   "metadata": {
    "collapsed": false,
    "pycharm": {
     "name": "#%%\n"
    }
   }
  },
  {
   "cell_type": "markdown",
   "source": [
    "Let's now take a slightly different perspective and look at the prices across the Forward curve for one date only:"
   ],
   "metadata": {
    "collapsed": false,
    "pycharm": {
     "name": "#%% md\n"
    }
   }
  },
  {
   "cell_type": "code",
   "execution_count": 12,
   "outputs": [
    {
     "data": {
      "text/plain": "                     Name Effective At     Value\n0   GBP/USD 3Y Forward PV  01 Jun 2020 -0.005022\n1   GBP/USD 5Y Forward PV  01 Jun 2020 -0.011177\n2  GBP/USD 10Y Forward PV  01 Jun 2020 -0.042347",
      "text/html": "<div>\n<style scoped>\n    .dataframe tbody tr th:only-of-type {\n        vertical-align: middle;\n    }\n\n    .dataframe tbody tr th {\n        vertical-align: top;\n    }\n\n    .dataframe thead th {\n        text-align: right;\n    }\n</style>\n<table border=\"1\" class=\"dataframe\">\n  <thead>\n    <tr style=\"text-align: right;\">\n      <th></th>\n      <th>Name</th>\n      <th>Effective At</th>\n      <th>Value</th>\n    </tr>\n  </thead>\n  <tbody>\n    <tr>\n      <th>0</th>\n      <td>GBP/USD 3Y Forward PV</td>\n      <td>01 Jun 2020</td>\n      <td>-0.005022</td>\n    </tr>\n    <tr>\n      <th>1</th>\n      <td>GBP/USD 5Y Forward PV</td>\n      <td>01 Jun 2020</td>\n      <td>-0.011177</td>\n    </tr>\n    <tr>\n      <th>2</th>\n      <td>GBP/USD 10Y Forward PV</td>\n      <td>01 Jun 2020</td>\n      <td>-0.042347</td>\n    </tr>\n  </tbody>\n</table>\n</div>"
     },
     "execution_count": 12,
     "metadata": {},
     "output_type": "execute_result"
    }
   ],
   "source": [
    "result_3y = run_fx_forward_pricing_aggregation('3Y', trade_date, gbpusd_fx_fwd_3y_instr_def, fx_forward_pricing_recipe)\n",
    "result_5y = run_fx_forward_pricing_aggregation('5Y', trade_date, gbpusd_fx_fwd_5y_instr_def, fx_forward_pricing_recipe)\n",
    "result_10y = run_fx_forward_pricing_aggregation('10Y', trade_date, gbpusd_fx_fwd_10y_instr_def, fx_forward_pricing_recipe)\n",
    "\n",
    "aggregation_result_to_dataframe([\n",
    "    ['GBP/USD 3Y Forward PV', trade_date, result_3y.data[0]['Holding/default/PV']],\n",
    "    ['GBP/USD 5Y Forward PV', trade_date, result_5y.data[0]['Holding/default/PV']],\n",
    "    ['GBP/USD 10Y Forward PV', trade_date, result_10y.data[0]['Holding/default/PV']]\n",
    "])\n"
   ],
   "metadata": {
    "collapsed": false,
    "pycharm": {
     "name": "#%%\n"
    }
   }
  },
  {
   "cell_type": "markdown",
   "source": [
    "## Pricing a Portfolio of FX Forwards\n",
    "\n",
    "Up until now we've only priced a unit Fx Forward as an instrument. Let's now take it a step further and build a simple portfolio made up of\n",
    "an FX forward positions. While we'll now be running our aggregation on an actual portfolio as opposed to just the Fx Forward instrument\n",
    "we'll still make use of the same recipe we defined. This is because the rules regarding what model we'd like to use to price our\n",
    "Fx Forward and where LUSID should retrieve market data from have not changed.\n",
    "\n",
    "\n",
    "### Setting up our Portfolio\n",
    "\n",
    "We'll firstly setup the portfolio that will hold our FX forward positions:"
   ],
   "metadata": {
    "collapsed": false,
    "pycharm": {
     "name": "#%% md\n"
    }
   }
  },
  {
   "cell_type": "code",
   "execution_count": 13,
   "outputs": [
    {
     "data": {
      "text/plain": "            successful items\n0  simple-fxfwd-portfolio-01",
      "text/html": "<div>\n<style scoped>\n    .dataframe tbody tr th:only-of-type {\n        vertical-align: middle;\n    }\n\n    .dataframe tbody tr th {\n        vertical-align: top;\n    }\n\n    .dataframe thead th {\n        text-align: right;\n    }\n</style>\n<table border=\"1\" class=\"dataframe\">\n  <thead>\n    <tr style=\"text-align: right;\">\n      <th></th>\n      <th>successful items</th>\n    </tr>\n  </thead>\n  <tbody>\n    <tr>\n      <th>0</th>\n      <td>simple-fxfwd-portfolio-01</td>\n    </tr>\n  </tbody>\n</table>\n</div>"
     },
     "execution_count": 13,
     "metadata": {},
     "output_type": "execute_result"
    }
   ],
   "source": [
    "portfolio = \"simple-fxfwd-portfolio-01\"\n",
    "\n",
    "def create_portfolio(scope, portfolio_code, portfolio_name, portfolio_ccy):\n",
    "    pfs = [[portfolio_code, portfolio_name, portfolio_ccy]]\n",
    "    pf_df = pd.DataFrame(pfs, columns=['portfolio_code', 'portfolio_name', 'base_currency'])\n",
    "\n",
    "    portfolio_mapping = {\n",
    "        \"required\": {\n",
    "            \"code\": \"portfolio_code\",\n",
    "            \"display_name\": \"portfolio_name\",\n",
    "            \"base_currency\": \"base_currency\",\n",
    "        },\n",
    "        \"optional\": {\"created\": \"$2020-01-01T00:00:00+00:00\"},\n",
    "    }\n",
    "    result = load_from_data_frame(\n",
    "        api_factory=api_factory,\n",
    "        scope=scope,\n",
    "        data_frame=pf_df,\n",
    "        mapping_required=portfolio_mapping[\"required\"],\n",
    "        mapping_optional=portfolio_mapping[\"optional\"],\n",
    "        file_type=\"portfolios\",\n",
    "        sub_holding_keys=[],\n",
    "    )\n",
    "    succ, failed = format_portfolios_response(result)\n",
    "\n",
    "    if not failed.empty:\n",
    "        raise StopExecution(failed)\n",
    "\n",
    "    return succ\n",
    "\n",
    "create_portfolio(scope, portfolio, portfolio, \"GBP\")\n",
    "\n"
   ],
   "metadata": {
    "collapsed": false,
    "pycharm": {
     "name": "#%%\n"
    }
   }
  },
  {
   "cell_type": "markdown",
   "source": [
    "### Upserting our FX Forward Instrument\n",
    "\n",
    "Previously as we were only pricing the FX Forward instrument we were only required to pass in it's instrument definition. As we're now\n",
    "booking transactions against the instrument we'll need to upsert the instrument into LUSID. This will provide us with an identifier\n",
    "we can use to book our transactions against.\n",
    "\n",
    "For the purpose of our portfolio we'll only work with the 3Y FX forward from now on:"
   ],
   "metadata": {
    "collapsed": false,
    "pycharm": {
     "name": "#%% md\n"
    }
   }
  },
  {
   "cell_type": "code",
   "execution_count": 14,
   "outputs": [],
   "source": [
    "def upsert_fx_fwd_instrument(instrument_id, instrument_name, fx_fwd_definition):\n",
    "    bond_instrument_request = {instrument_id: models.LusidInstrumentDefinition(\n",
    "        # instrument display name\n",
    "        name=instrument_name,\n",
    "        # unique instrument identifier\n",
    "        identifiers={\"ClientInternal\": models.InstrumentIdValue(instrument_id)},\n",
    "        # our gilt instrument definition\n",
    "        definition=fx_fwd_definition\n",
    "    )}\n",
    "    # Note we're using upsert_lusid_instrument and not upset_instrument as we're creating an instrument based\n",
    "    # on a user defined instrument definition and not the base LUSID instruments.\n",
    "    return instruments_api.upsert_lusid_instruments(bond_instrument_request)\n",
    "\n",
    "gbpusd_fx_fwd_3y_instr_client_id = \"gbp_usd_fwd_3y_12571\"\n",
    "instrument_creation_response = upsert_fx_fwd_instrument(gbpusd_fx_fwd_3y_instr_client_id, \"GBP/USD 3Y @ 1.2571\", gbpusd_fx_fwd_3y_instr_def)\n",
    "# retrieve the instrument id of our gilt to be used later when loading market quotes for the bond into LUSID.\n",
    "gbpusd_fx_fwd_3y_instr_luid = instrument_creation_response.values[gbpusd_fx_fwd_3y_instr_client_id].lusid_instrument_id\n",
    "\n",
    "gbpusd_fx_fwd_1w_instr_client_id = \"gbp_usd_fwd_1w_12509\"\n",
    "instrument_creation_response = upsert_fx_fwd_instrument(gbpusd_fx_fwd_1w_instr_client_id, \"GBP/USD 1W @ 1.2509\", gbpusd_fx_fwd_1w_instr_def)\n",
    "# retrieve the instrument id of our gilt to be used later when loading market quotes for the bond into LUSID.\n",
    "gbpusd_fx_fwd_1w_instr_luid = instrument_creation_response.values[gbpusd_fx_fwd_1w_instr_client_id].lusid_instrument_id\n"
   ],
   "metadata": {
    "collapsed": false,
    "pycharm": {
     "name": "#%%\n"
    }
   }
  },
  {
   "cell_type": "markdown",
   "source": [
    "### Setting up our FX Forward Transaction\n",
    "\n",
    "Let's assume we're taking a position in the GBP/USD 3Y Fx Forward we setup. As the domestic and foreign notionals are\n",
    "included in the instrument definition we simply need to setup a transaction type that gives use a \"stock\" holding in the instrument. Now, as\n",
    "there is no cash exchanged the default \"Buy\" transaction is unsuitable so we'll have to create our own. For details\n",
    "on movements take a look at the notebook [Generating holdings with the movements engine in LUSID](https://github.com/finbourne/sample-notebooks/blob/master/examples/use-cases/ibor/Generating%20holdings%20with%20the%20movements%20engine%20in%20LUSID.ipynb)\n",
    "\n",
    "\n",
    "#### Creating a Transaction Type\n",
    "\n",
    "For more information on transaction types have a read of [Configuring transaction types](https://support.finbourne.com/configuring-transaction-types) and try the\n",
    " TODO find notebook\n",
    "\n",
    "We need a transaction that simply buys a unit of the forward with no cash movement that we'll call \"FxFwdInstBuy\""
   ],
   "metadata": {
    "collapsed": false
   }
  },
  {
   "cell_type": "code",
   "execution_count": 15,
   "outputs": [
    {
     "name": "stderr",
     "output_type": "stream",
     "text": [
      "WARNING:root:The following alias already exists: Type of FxFwdInstBuy with source default\n"
     ]
    }
   ],
   "source": [
    "create_txn_type_response = create_transaction_type_configuration(\n",
    "    api_factory,\n",
    "    alias=models.TransactionConfigurationTypeAlias(\n",
    "        type=\"FxFwdInstBuy\",\n",
    "        description=\"Buy a unit of a pre defined FXForwardInstrument\",\n",
    "        transaction_class=\"Basic\",\n",
    "        transaction_group=\"default\",\n",
    "        transaction_roles=\"LongLonger\",\n",
    "    ),\n",
    "    movements=[\n",
    "        models.TransactionConfigurationMovementDataRequest(\n",
    "            movement_types=\"StockMovement\",\n",
    "            side=\"Side1\",\n",
    "            direction=1,\n",
    "            properties=None,\n",
    "            mappings=None,\n",
    "        )\n",
    "    ],\n",
    ")\n"
   ],
   "metadata": {
    "collapsed": false,
    "pycharm": {
     "name": "#%%\n"
    }
   }
  },
  {
   "cell_type": "markdown",
   "source": [
    "#### Upserting our transaction\n",
    "\n",
    "With out transaction type configured we can now upsert a transation in the 3Y forward. An important point to note is when valuing\n",
    "the Fx forward the calculated PV is a unitised value. Therefore our units in the transaction should match our notional:"
   ],
   "metadata": {
    "collapsed": false,
    "pycharm": {
     "name": "#%% md\n"
    }
   }
  },
  {
   "cell_type": "code",
   "execution_count": 16,
   "outputs": [],
   "source": [
    "def upsert_fwd_transaction(scope, txn_id, txn_type, txn_ccy, instrument_id, trade_date, settlement_date, portfolio, units, transaction_price, consideration):\n",
    "    gilt_transaction_request = models.TransactionRequest(\n",
    "        transaction_id=txn_id,\n",
    "        type=txn_type,\n",
    "        instrument_identifiers={\"Instrument/default/ClientInternal\": instrument_id},\n",
    "        transaction_date=trade_date.isoformat(),\n",
    "        settlement_date=settlement_date.isoformat(),\n",
    "        units=units,\n",
    "        transaction_price=models.TransactionPrice(price=transaction_price, type=\"Price\"),\n",
    "        total_consideration=models.CurrencyAndAmount(amount=consideration, currency=txn_ccy),\n",
    "        exchange_rate=1,\n",
    "        transaction_currency=txn_ccy\n",
    "    )\n",
    "\n",
    "    response = api_factory.build(lusid.api.TransactionPortfoliosApi).upsert_transactions(scope=scope,\n",
    "                                                                                         code=portfolio,\n",
    "                                                                                         transaction_request=[gilt_transaction_request])\n",
    "\n",
    "# Insert position in 3Y\n",
    "\n",
    "# our units are 100000000 as the PV in the forward pricing is calculated for a unit instrument.\n",
    "units = 100000000\n",
    "transaction_price = 1.2571  # spot + 3y fwd spread\n",
    "consideration = 100000000\n",
    "# upsert the buy leg of the forward\n",
    "#upsert_fwd_transaction(scope, \"fx_fwd_3y_b_001\", \"FxFwdInstBuy\", \"GBP\", gbpusd_fx_fwd_3y_instr_client_id, trade_date, maturity_dates['3Y'], portfolio, transaction_price, consideration)\n",
    "#upsert_fwd_transaction(scope, \"fx_fwd_3y_b_001\", \"FxFwdInstBuy_CM\", \"GBP\", gbpusd_fx_fwd_3y_instr_client_id, trade_date, maturity_dates['3Y'], portfolio, transaction_price, consideration)\n",
    "\n",
    "\n",
    "# Insert position in 1W\n",
    "units = 100000000\n",
    "transaction_price = 1.2509  # spot + 3y fwd spread\n",
    "consideration = 100000000\n",
    "# upsert the buy leg of the forward\n",
    "#upsert_fwd_transaction(scope, \"fx_fwd_1w_b_001\", \"FxFwdInstBuy\", \"GBP\", gbpusd_fx_fwd_1w_instr_client_id, trade_date, maturity_dates['1W'], portfolio, transaction_price, consideration)\n",
    "#upsert_fwd_transaction(scope, \"fx_fwd_1w_b_001\", \"FxFwdInstBuy\", \"GBP\", gbpusd_fx_fwd_1w_instr_client_id, trade_date, maturity_dates['1W'], portfolio, transaction_price, consideration)\n",
    "#upsert_fwd_transaction(scope, \"fx_fwd_1w_b_001_CM\", \"FxFwdInstBuy_CM\", \"GBP\", gbpusd_fx_fwd_1w_instr_client_id, trade_date, maturity_dates['1W'], portfolio, transaction_price, consideration)\n",
    "\n"
   ],
   "metadata": {
    "collapsed": false,
    "pycharm": {
     "name": "#%%\n"
    }
   }
  },
  {
   "cell_type": "markdown",
   "source": [
    "### Value Portfolio\n",
    "\n",
    "With our portfolio now populated with a transaction in the 3Y forward we can"
   ],
   "metadata": {
    "collapsed": false,
    "pycharm": {
     "name": "#%% md\n"
    }
   }
  },
  {
   "cell_type": "code",
   "execution_count": 17,
   "outputs": [
    {
     "data": {
      "text/plain": "           Name Effective At          Value\n0  Portfolio PV  01 Jun 2020   -7994.751870\n1  Portfolio PV  02 Jun 2020 -651743.391309\n2  Portfolio PV  03 Jun 2020  627571.508930",
      "text/html": "<div>\n<style scoped>\n    .dataframe tbody tr th:only-of-type {\n        vertical-align: middle;\n    }\n\n    .dataframe tbody tr th {\n        vertical-align: top;\n    }\n\n    .dataframe thead th {\n        text-align: right;\n    }\n</style>\n<table border=\"1\" class=\"dataframe\">\n  <thead>\n    <tr style=\"text-align: right;\">\n      <th></th>\n      <th>Name</th>\n      <th>Effective At</th>\n      <th>Value</th>\n    </tr>\n  </thead>\n  <tbody>\n    <tr>\n      <th>0</th>\n      <td>Portfolio PV</td>\n      <td>01 Jun 2020</td>\n      <td>-7994.751870</td>\n    </tr>\n    <tr>\n      <th>1</th>\n      <td>Portfolio PV</td>\n      <td>02 Jun 2020</td>\n      <td>-651743.391309</td>\n    </tr>\n    <tr>\n      <th>2</th>\n      <td>Portfolio PV</td>\n      <td>03 Jun 2020</td>\n      <td>627571.508930</td>\n    </tr>\n  </tbody>\n</table>\n</div>"
     },
     "execution_count": 17,
     "metadata": {},
     "output_type": "execute_result"
    }
   ],
   "source": [
    "def run_fx_forward_pricing_aggregation_on_portfolio(scope, portfolio, recipe, effective_at):\n",
    "    aggregation_request = models.AggregationRequest(\n",
    "        effective_at=effective_at.isoformat(),\n",
    "        inline_recipe=recipe,\n",
    "        metrics=[\n",
    "            models.AggregateSpec(key='Holding/default/PV',\n",
    "                                 op='Value'),\n",
    "            # models.AggregateSpec(key='Analytic/default/ValuationDate',\n",
    "            #                              op='Value'),\n",
    "            # models.AggregateSpec(key='Analytic/default/DomCcy',\n",
    "            #                      op='Value'),\n",
    "            # models.AggregateSpec(key='Analytic/default/FgnCcy',\n",
    "            #                      op='Value'),\n",
    "            # models.AggregateSpec(key='Analytic/default/StartDate',\n",
    "            #                      op='Value'),\n",
    "            # models.AggregateSpec(key='Analytic/default/MaturityDate',\n",
    "            #                      op='Value'),\n",
    "            # models.AggregateSpec(key='Portfolio/default/Name',\n",
    "            #                      op='Value'),\n",
    "            # models.AggregateSpec(key='Holding/default/Cost',\n",
    "            #                      op='Value'),\n",
    "            # models.AggregateSpec(key='Holding/default/Units',\n",
    "            #                      op='Value'),\n",
    "            #             models.AggregateSpec(\"Holding/default/Error\", \"Value\")\n",
    "        ]\n",
    "    )\n",
    "\n",
    "    return api_factory.build(lusid.api.AggregationApi).get_aggregation(scope=scope, code=portfolio,\n",
    "                                                             aggregation_request=aggregation_request)\n",
    "\n",
    "\n",
    "result_t = run_fx_forward_pricing_aggregation_on_portfolio(scope, portfolio, fx_forward_pricing_recipe, trade_date)\n",
    "result_t_plus_one = run_fx_forward_pricing_aggregation_on_portfolio(scope, portfolio, fx_forward_pricing_recipe, trade_date_plus_one)\n",
    "result_t_plus_two = run_fx_forward_pricing_aggregation_on_portfolio(scope, portfolio, fx_forward_pricing_recipe, trade_date_plus_two)\n",
    "\n",
    "aggregation_result_to_dataframe([\n",
    "    ['Portfolio PV', trade_date, result_t.data[0]['Holding/default/PV']],\n",
    "    ['Portfolio PV', trade_date_plus_one, result_t_plus_one.data[0]['Holding/default/PV']],\n",
    "    ['Portfolio PV', trade_date_plus_two, result_t_plus_two.data[0]['Holding/default/PV']]\n",
    "])"
   ],
   "metadata": {
    "collapsed": false,
    "pycharm": {
     "name": "#%%\n"
    }
   }
  },
  {
   "cell_type": "code",
   "execution_count": 18,
   "outputs": [
    {
     "data": {
      "text/plain": "                    Name Effective At     Value\n0  GBP/USD 3Y Forward PV  01 Jun 2020 -0.005022\n1  GBP/USD 3Y Forward PV  02 Jun 2020 -0.011472\n2  GBP/USD 3Y Forward PV  03 Jun 2020  0.001346",
      "text/html": "<div>\n<style scoped>\n    .dataframe tbody tr th:only-of-type {\n        vertical-align: middle;\n    }\n\n    .dataframe tbody tr th {\n        vertical-align: top;\n    }\n\n    .dataframe thead th {\n        text-align: right;\n    }\n</style>\n<table border=\"1\" class=\"dataframe\">\n  <thead>\n    <tr style=\"text-align: right;\">\n      <th></th>\n      <th>Name</th>\n      <th>Effective At</th>\n      <th>Value</th>\n    </tr>\n  </thead>\n  <tbody>\n    <tr>\n      <th>0</th>\n      <td>GBP/USD 3Y Forward PV</td>\n      <td>01 Jun 2020</td>\n      <td>-0.005022</td>\n    </tr>\n    <tr>\n      <th>1</th>\n      <td>GBP/USD 3Y Forward PV</td>\n      <td>02 Jun 2020</td>\n      <td>-0.011472</td>\n    </tr>\n    <tr>\n      <th>2</th>\n      <td>GBP/USD 3Y Forward PV</td>\n      <td>03 Jun 2020</td>\n      <td>0.001346</td>\n    </tr>\n  </tbody>\n</table>\n</div>"
     },
     "execution_count": 18,
     "metadata": {},
     "output_type": "execute_result"
    }
   ],
   "source": [
    "result_t = run_fx_forward_pricing_aggregation('3Y', trade_date, gbpusd_fx_fwd_3y_instr_def, fx_forward_pricing_recipe)\n",
    "result_t_plus_one = run_fx_forward_pricing_aggregation('3Y', trade_date_plus_one, gbpusd_fx_fwd_3y_instr_def, fx_forward_pricing_recipe)\n",
    "result_t_plus_two = run_fx_forward_pricing_aggregation('3Y', trade_date_plus_two, gbpusd_fx_fwd_3y_instr_def, fx_forward_pricing_recipe)\n",
    "\n",
    "aggregation_result_to_dataframe([\n",
    "    ['GBP/USD 3Y Forward PV', trade_date, result_t.data[0]['Holding/default/PV']],\n",
    "    ['GBP/USD 3Y Forward PV', trade_date_plus_one, result_t_plus_one.data[0]['Holding/default/PV']],\n",
    "    ['GBP/USD 3Y Forward PV', trade_date_plus_two, result_t_plus_two.data[0]['Holding/default/PV']]\n",
    "])"
   ],
   "metadata": {
    "collapsed": false,
    "pycharm": {
     "name": "#%%\n"
    }
   }
  },
  {
   "cell_type": "markdown",
   "source": [
    "### Price across the life of the forward"
   ],
   "metadata": {
    "collapsed": false
   }
  },
  {
   "cell_type": "code",
   "execution_count": 19,
   "outputs": [
    {
     "data": {
      "text/plain": "'GBP/USD @ 1.2509 for 2020-06-08 00:00:00+00:00 uploaded to quote store.'"
     },
     "metadata": {},
     "output_type": "display_data"
    },
    {
     "data": {
      "text/plain": "'USD/GBP @ 0.7994244144216165 for 2020-06-08 00:00:00+00:00 uploaded to quote store.'"
     },
     "metadata": {},
     "output_type": "display_data"
    },
    {
     "data": {
      "text/plain": "                    Name Effective At     Value\n0  GBP/USD 1W Forward PV  01 Jun 2020 -0.000080\n1  GBP/USD 1W Forward PV  02 Jun 2020 -0.006517\n2  GBP/USD 1W Forward PV  08 Jun 2020  0.000000",
      "text/html": "<div>\n<style scoped>\n    .dataframe tbody tr th:only-of-type {\n        vertical-align: middle;\n    }\n\n    .dataframe tbody tr th {\n        vertical-align: top;\n    }\n\n    .dataframe thead th {\n        text-align: right;\n    }\n</style>\n<table border=\"1\" class=\"dataframe\">\n  <thead>\n    <tr style=\"text-align: right;\">\n      <th></th>\n      <th>Name</th>\n      <th>Effective At</th>\n      <th>Value</th>\n    </tr>\n  </thead>\n  <tbody>\n    <tr>\n      <th>0</th>\n      <td>GBP/USD 1W Forward PV</td>\n      <td>01 Jun 2020</td>\n      <td>-0.000080</td>\n    </tr>\n    <tr>\n      <th>1</th>\n      <td>GBP/USD 1W Forward PV</td>\n      <td>02 Jun 2020</td>\n      <td>-0.006517</td>\n    </tr>\n    <tr>\n      <th>2</th>\n      <td>GBP/USD 1W Forward PV</td>\n      <td>08 Jun 2020</td>\n      <td>0.000000</td>\n    </tr>\n  </tbody>\n</table>\n</div>"
     },
     "execution_count": 19,
     "metadata": {},
     "output_type": "execute_result"
    }
   ],
   "source": [
    "# assume spot rate on expiry date is lower thant forward rate\n",
    "upsert_gbp_usd_fx_rate(1.2509, maturity_dates['1W'])\n",
    "\n",
    "\n",
    "result_t = run_fx_forward_pricing_aggregation('1W', trade_date, gbpusd_fx_fwd_1w_instr_def, fx_forward_pricing_recipe)\n",
    "result_t_plus_one = run_fx_forward_pricing_aggregation('1W', trade_date_plus_one, gbpusd_fx_fwd_1w_instr_def, fx_forward_pricing_recipe)\n",
    "result_on_maturity = run_fx_forward_pricing_aggregation('1W', maturity_dates['1W'], gbpusd_fx_fwd_1w_instr_def, fx_forward_pricing_recipe)\n",
    "\n",
    "aggregation_result_to_dataframe([\n",
    "    ['GBP/USD 1W Forward PV', trade_date, result_t.data[0]['Holding/default/PV']],\n",
    "    ['GBP/USD 1W Forward PV', trade_date_plus_one, result_t_plus_one.data[0]['Holding/default/PV']],\n",
    "    ['GBP/USD 1W Forward PV', maturity_dates['1W'], result_on_maturity.data[0]['Holding/default/PV']]\n",
    "])\n"
   ],
   "metadata": {
    "collapsed": false,
    "pycharm": {
     "name": "#%%\n"
    }
   }
  },
  {
   "cell_type": "markdown",
   "source": [
    "## Examples To Tests\n",
    "\n",
    "Example Set  1 :\n",
    "* Transactions modelled as \"CashForward\" movements that only ever impact Side 1. So it's a buy and a sell\n",
    "* For test we assume Spot Price at expiry above the Forward rate to ensure a Pnl exists\n",
    "* Tests :\n",
    "  * Example 1a : One transaction only. We buy contract (so buy domestic and sell foreign) (FxFwdInstBuy_CM)\n",
    "  * Example 1b : One transaction only. We sell contract (sell domestic, buy foreign)  (FxFwdInstSell_CM)\n",
    "  * Example 1c : Two transactions. We buy contract (so buy domestic and sell foreign) (FxFwdInstBuy_CM followed FxFwdInstSell_CM)\n",
    "  * Example 1d : Two transactions. We sell contract (so sell domestic, buy foreign) (FxFwdInstSell_CM followed FxFwdInstBuy_CM)\n",
    "\n",
    "Example Set 2 :\n",
    "*Transactions modelled using defaults\n",
    "\n",
    "\n",
    "\n",
    "## Transactions to be used\n"
   ],
   "metadata": {
    "collapsed": false,
    "pycharm": {
     "name": "#%% md\n"
    }
   }
  },
  {
   "cell_type": "code",
   "execution_count": 20,
   "outputs": [
    {
     "name": "stderr",
     "output_type": "stream",
     "text": [
      "WARNING:root:The following alias already exists: Type of FxFwdInstBuy_CM with source default\n",
      "WARNING:root:The following alias already exists: Type of FxFwdInstSell_CM with source default\n"
     ]
    }
   ],
   "source": [
    "create_txn_type_response = create_transaction_type_configuration(\n",
    "    api_factory,\n",
    "    alias=models.TransactionConfigurationTypeAlias(\n",
    "        type=\"FxFwdInstBuy_CM\",\n",
    "        description=\"Buy a unit of a pre defined FXForwardInstrument\",\n",
    "        transaction_class=\"Basic\",\n",
    "        transaction_group=\"default\",\n",
    "        transaction_roles=\"Longer\",\n",
    "    ),\n",
    "    movements=[\n",
    "        models.TransactionConfigurationMovementDataRequest(\n",
    "            movement_types=\"CashFxForward\",\n",
    "            side=\"Side1\",\n",
    "            direction=1,\n",
    "            properties=None,\n",
    "            mappings=None,\n",
    "        )\n",
    "    ],\n",
    ")\n",
    "\n",
    "create_txn_type_response = create_transaction_type_configuration(\n",
    "    api_factory,\n",
    "    alias=models.TransactionConfigurationTypeAlias(\n",
    "        type=\"FxFwdInstSell_CM\",\n",
    "        description=\"Sell a unit of a pre defined FXForwardInstrument\",\n",
    "        transaction_class=\"Basic\",\n",
    "        transaction_group=\"default\",\n",
    "        transaction_roles=\"Longer\",\n",
    "    ),\n",
    "    movements=[\n",
    "        models.TransactionConfigurationMovementDataRequest(\n",
    "            movement_types=\"CashFxForward\",\n",
    "            side=\"Side1\",\n",
    "            direction=-1,\n",
    "            properties=None,\n",
    "            mappings=None,\n",
    "        )\n",
    "    ],\n",
    ")"
   ],
   "metadata": {
    "collapsed": false,
    "pycharm": {
     "name": "#%%\n"
    }
   }
  },
  {
   "cell_type": "markdown",
   "source": [
    "## Examples :\n",
    "\n",
    "Recall parameters for GBP/USD 1Wk Fwd\n",
    "Trade Date : 1 June 2020 (Spot Rate : 1.2508)\n",
    "Settlement Date: 8 June 2020 (Spot Rate : set in examples)\n",
    "Dom : 100000000\n",
    "Fgn : 125090000\n",
    "Fwd Rate : 1.2509\n",
    "\n",
    "### Example 1 :\n",
    "* We only upsert one transaction which is a buy of the 1W GBP/USD forward.\n",
    "* FxFwdInstBuy_CM transaction type is a \"CashFxForward\" Side 1 Movement only.\n",
    "* On settlement Forward becomes a \"P\" holiding with no corresponding cash holding in underlying currencies"
   ],
   "metadata": {
    "collapsed": false
   }
  },
  {
   "cell_type": "code",
   "execution_count": 21,
   "outputs": [
    {
     "data": {
      "text/plain": "'GBP/USD @ 1.2508 for 2020-06-01 00:00:00+00:00 uploaded to quote store.'"
     },
     "metadata": {},
     "output_type": "display_data"
    },
    {
     "data": {
      "text/plain": "'USD/GBP @ 0.799488327470419 for 2020-06-01 00:00:00+00:00 uploaded to quote store.'"
     },
     "metadata": {},
     "output_type": "display_data"
    },
    {
     "data": {
      "text/plain": "'GBP/USD @ 1.2609 for 2020-06-08 00:00:00+00:00 uploaded to quote store.'"
     },
     "metadata": {},
     "output_type": "display_data"
    },
    {
     "data": {
      "text/plain": "'USD/GBP @ 0.7930843048616069 for 2020-06-08 00:00:00+00:00 uploaded to quote store.'"
     },
     "metadata": {},
     "output_type": "display_data"
    },
    {
     "data": {
      "text/plain": "                          Name Effective At     Value\n0  Portfolio PV (CFM Buy Only)  01 Jun 2020 -0.799475\n1  Portfolio PV (CFM Buy Only)  08 Jun 2020 79.307127",
      "text/html": "<div>\n<style scoped>\n    .dataframe tbody tr th:only-of-type {\n        vertical-align: middle;\n    }\n\n    .dataframe tbody tr th {\n        vertical-align: top;\n    }\n\n    .dataframe thead th {\n        text-align: right;\n    }\n</style>\n<table border=\"1\" class=\"dataframe\">\n  <thead>\n    <tr style=\"text-align: right;\">\n      <th></th>\n      <th>Name</th>\n      <th>Effective At</th>\n      <th>Value</th>\n    </tr>\n  </thead>\n  <tbody>\n    <tr>\n      <th>0</th>\n      <td>Portfolio PV (CFM Buy Only)</td>\n      <td>01 Jun 2020</td>\n      <td>-0.799475</td>\n    </tr>\n    <tr>\n      <th>1</th>\n      <td>Portfolio PV (CFM Buy Only)</td>\n      <td>08 Jun 2020</td>\n      <td>79.307127</td>\n    </tr>\n  </tbody>\n</table>\n</div>"
     },
     "execution_count": 21,
     "metadata": {},
     "output_type": "execute_result"
    }
   ],
   "source": [
    "portfolio_cfm_buy_only = \"fxfwd-portfolio-cfm-buy-only\"\n",
    "create_portfolio(scope, portfolio_cfm_buy_only, portfolio_cfm_buy_only, \"GBP\")\n",
    "\n",
    "# spot on fx forward 1.2508 on trade date\n",
    "upsert_gbp_usd_fx_rate(1.2508, trade_date)\n",
    "\n",
    "units = 10000\n",
    "transaction_price = 1.2509  # spot + 3y fwd spread\n",
    "consideration = 10000\n",
    "\n",
    "# buy transaction\n",
    "upsert_fwd_transaction(scope, \"fx_fwd_1w_cfm_buy_only_001\", \"FxFwdInstBuy_CM\", \"GBP\", gbpusd_fx_fwd_1w_instr_client_id, trade_date, maturity_dates['1W'], portfolio_cfm_buy_only, units, transaction_price, consideration)\n",
    "\n",
    "# assume spot rate on expiry date is higher than the forward rate\n",
    "upsert_gbp_usd_fx_rate(1.2609, maturity_dates['1W'])\n",
    "\n",
    "# run aggregations\n",
    "result_t = run_fx_forward_pricing_aggregation_on_portfolio(scope, portfolio_cfm_buy_only, fx_forward_pricing_recipe, trade_date)\n",
    "result_expiry = run_fx_forward_pricing_aggregation_on_portfolio(scope, portfolio_cfm_buy_only, fx_forward_pricing_recipe, maturity_dates['1W'])\n",
    "\n",
    "aggregation_result_to_dataframe([\n",
    "    ['Portfolio PV (CFM Buy Only)', trade_date, result_t.data[0]['Holding/default/PV']],\n",
    "    ['Portfolio PV (CFM Buy Only)', maturity_dates['1W'], result_expiry.data[0]['Holding/default/PV']]\n",
    "])"
   ],
   "metadata": {
    "collapsed": false,
    "pycharm": {
     "name": "#%%\n"
    }
   }
  },
  {
   "cell_type": "markdown",
   "source": [
    "#### Holdings"
   ],
   "metadata": {
    "collapsed": false,
    "pycharm": {
     "name": "#%% md\n"
    }
   }
  },
  {
   "cell_type": "code",
   "execution_count": 22,
   "outputs": [
    {
     "data": {
      "text/plain": "                 names               effectiveAt        units  settled_units  \\\n0  GBP/USD 1W @ 1.2509 2020-06-01 00:00:00+00:00 10000.000000       0.000000   \n0  GBP/USD 1W @ 1.2509 2020-06-08 00:00:00+00:00 10000.000000   10000.000000   \n\n  holding types                                    cost  \n0             F  {'amount': 10000.0, 'currency': 'GBP'}  \n0             P  {'amount': 10000.0, 'currency': 'GBP'}  ",
      "text/html": "<div>\n<style scoped>\n    .dataframe tbody tr th:only-of-type {\n        vertical-align: middle;\n    }\n\n    .dataframe tbody tr th {\n        vertical-align: top;\n    }\n\n    .dataframe thead th {\n        text-align: right;\n    }\n</style>\n<table border=\"1\" class=\"dataframe\">\n  <thead>\n    <tr style=\"text-align: right;\">\n      <th></th>\n      <th>names</th>\n      <th>effectiveAt</th>\n      <th>units</th>\n      <th>settled_units</th>\n      <th>holding types</th>\n      <th>cost</th>\n    </tr>\n  </thead>\n  <tbody>\n    <tr>\n      <th>0</th>\n      <td>GBP/USD 1W @ 1.2509</td>\n      <td>2020-06-01 00:00:00+00:00</td>\n      <td>10000.000000</td>\n      <td>0.000000</td>\n      <td>F</td>\n      <td>{'amount': 10000.0, 'currency': 'GBP'}</td>\n    </tr>\n    <tr>\n      <th>0</th>\n      <td>GBP/USD 1W @ 1.2509</td>\n      <td>2020-06-08 00:00:00+00:00</td>\n      <td>10000.000000</td>\n      <td>10000.000000</td>\n      <td>P</td>\n      <td>{'amount': 10000.0, 'currency': 'GBP'}</td>\n    </tr>\n  </tbody>\n</table>\n</div>"
     },
     "execution_count": 22,
     "metadata": {},
     "output_type": "execute_result"
    }
   ],
   "source": [
    "holdings_response_trade_date = transaction_portfolios_api.get_holdings(\n",
    "    scope=scope, code=portfolio_cfm_buy_only, property_keys=[\"Instrument/default/Name\"], effective_at=trade_date\n",
    ")\n",
    "\n",
    "trade_date_holdings = display_holdings_summary(holdings_response_trade_date, trade_date)\n",
    "\n",
    "holdings_response_expiry = transaction_portfolios_api.get_holdings(\n",
    "    scope=scope, code=portfolio_cfm_buy_only, property_keys=[\"Instrument/default/Name\"], effective_at=maturity_dates['1W']\n",
    ")\n",
    "\n",
    "expiry_date_holdings = display_holdings_summary(holdings_response_expiry, maturity_dates['1W'])\n",
    "\n",
    "pd.concat([trade_date_holdings, expiry_date_holdings])"
   ],
   "metadata": {
    "collapsed": false,
    "pycharm": {
     "name": "#%%\n"
    }
   }
  },
  {
   "cell_type": "markdown",
   "source": [
    "Forward type before expiry becomes a position  -> but no auto matching cash transactions!\n",
    "\n",
    "\n",
    "\n",
    "### Example 2:\n",
    "* We upsert two transactions:\n",
    "  * Buy of the 1W GBP/USD forward in domestic ccy (so 10,000GBP notional)\n",
    "  * Sell of the 1W GBP/USD forward in foreign ccy (so 12,509USD notional)\n",
    "* FxFwdInstBuy_CM transaction type is a \"CashFxForward\" Side 1 Dir 1 Movement only.\n",
    "* FxFwdInstSell_CM transaction type is a \"CashFxForward\" Side 1 Dir -1 Movement only.\n",
    "* On settlement data Forward become holding positions"
   ],
   "metadata": {
    "collapsed": false,
    "pycharm": {
     "name": "#%% md\n"
    }
   }
  },
  {
   "cell_type": "code",
   "execution_count": 23,
   "outputs": [
    {
     "data": {
      "text/plain": "'GBP/USD @ 1.2508 for 2020-06-01 00:00:00+00:00 uploaded to quote store.'"
     },
     "metadata": {},
     "output_type": "display_data"
    },
    {
     "data": {
      "text/plain": "'USD/GBP @ 0.799488327470419 for 2020-06-01 00:00:00+00:00 uploaded to quote store.'"
     },
     "metadata": {},
     "output_type": "display_data"
    },
    {
     "data": {
      "text/plain": "'GBP/USD @ 1.2609 for 2020-06-08 00:00:00+00:00 uploaded to quote store.'"
     },
     "metadata": {},
     "output_type": "display_data"
    },
    {
     "data": {
      "text/plain": "'USD/GBP @ 0.7930843048616069 for 2020-06-08 00:00:00+00:00 uploaded to quote store.'"
     },
     "metadata": {},
     "output_type": "display_data"
    },
    {
     "data": {
      "text/plain": "                                            Name Effective At     Value\n0  Portfolio PV (CFM Buy and Sell On Trade Date)  01 Jun 2020 -0.799475\n1  Portfolio PV (CFM Buy and Sell On Trade Date)  08 Jun 2020 79.307127",
      "text/html": "<div>\n<style scoped>\n    .dataframe tbody tr th:only-of-type {\n        vertical-align: middle;\n    }\n\n    .dataframe tbody tr th {\n        vertical-align: top;\n    }\n\n    .dataframe thead th {\n        text-align: right;\n    }\n</style>\n<table border=\"1\" class=\"dataframe\">\n  <thead>\n    <tr style=\"text-align: right;\">\n      <th></th>\n      <th>Name</th>\n      <th>Effective At</th>\n      <th>Value</th>\n    </tr>\n  </thead>\n  <tbody>\n    <tr>\n      <th>0</th>\n      <td>Portfolio PV (CFM Buy and Sell On Trade Date)</td>\n      <td>01 Jun 2020</td>\n      <td>-0.799475</td>\n    </tr>\n    <tr>\n      <th>1</th>\n      <td>Portfolio PV (CFM Buy and Sell On Trade Date)</td>\n      <td>08 Jun 2020</td>\n      <td>79.307127</td>\n    </tr>\n  </tbody>\n</table>\n</div>"
     },
     "execution_count": 23,
     "metadata": {},
     "output_type": "execute_result"
    }
   ],
   "source": [
    "portfolio_cfm_buy_sell_trade_date = \"fxfwd-portfolio-cfm-buy-sell-trade-date\"\n",
    "create_portfolio(scope, portfolio_cfm_buy_sell_trade_date, portfolio_cfm_buy_sell_trade_date, \"GBP\")\n",
    "\n",
    "# spot on fx forward 1.2508 on trade date\n",
    "upsert_gbp_usd_fx_rate(1.2508, trade_date)\n",
    "\n",
    "# domestic (Buy)\n",
    "units = 10000\n",
    "transaction_price = 1.2509  # spot + 3y fwd spread\n",
    "consideration = 10000\n",
    "\n",
    "# buy transaction\n",
    "upsert_fwd_transaction(scope, \"fx_fwd_1w_cfm_buy_trade_date_001\", \"FxFwdInstBuy_CM\", \"GBP\", gbpusd_fx_fwd_1w_instr_client_id, trade_date, maturity_dates['1W'], portfolio_cfm_buy_sell_trade_date, units, transaction_price, consideration)\n",
    "\n",
    "# foreign (Sell)\n",
    "units = 12509\n",
    "transaction_price = 1.2509  # spot + 3y fwd spread\n",
    "consideration = 12509\n",
    "\n",
    "# sell transaction\n",
    "upsert_fwd_transaction(scope, \"fx_fwd_1w_cfm_sell_trade_date_001\", \"FxFwdInstSell_CM\", \"USD\", gbpusd_fx_fwd_1w_instr_client_id, trade_date, maturity_dates['1W'], portfolio_cfm_buy_sell_trade_date, units, transaction_price, consideration)\n",
    "\n",
    "# assume spot rate on expiry date is higher thant forward rate\n",
    "upsert_gbp_usd_fx_rate(1.2609, maturity_dates['1W'])\n",
    "\n",
    "# run aggregations\n",
    "result_t = run_fx_forward_pricing_aggregation_on_portfolio(scope, portfolio_cfm_buy_sell_trade_date, fx_forward_pricing_recipe, trade_date)\n",
    "result_expiry = run_fx_forward_pricing_aggregation_on_portfolio(scope, portfolio_cfm_buy_sell_trade_date, fx_forward_pricing_recipe, maturity_dates['1W'])\n",
    "\n",
    "aggregation_result_to_dataframe([\n",
    "    ['Portfolio PV (CFM Buy and Sell On Trade Date)', trade_date, result_t.data[0]['Holding/default/PV']],\n",
    "    ['Portfolio PV (CFM Buy and Sell On Trade Date)', maturity_dates['1W'], result_expiry.data[0]['Holding/default/PV']]\n",
    "])"
   ],
   "metadata": {
    "collapsed": false,
    "pycharm": {
     "name": "#%%\n"
    }
   }
  },
  {
   "cell_type": "markdown",
   "source": [
    "#### Example Holdings"
   ],
   "metadata": {
    "collapsed": false
   }
  },
  {
   "cell_type": "code",
   "execution_count": 24,
   "outputs": [
    {
     "data": {
      "text/plain": "                 names               effectiveAt         units  settled_units  \\\n0  GBP/USD 1W @ 1.2509 2020-06-01 00:00:00+00:00  10000.000000       0.000000   \n1  GBP/USD 1W @ 1.2509 2020-06-01 00:00:00+00:00 -12509.000000       0.000000   \n0  GBP/USD 1W @ 1.2509 2020-06-08 00:00:00+00:00  10000.000000   10000.000000   \n1  GBP/USD 1W @ 1.2509 2020-06-08 00:00:00+00:00 -12509.000000  -12509.000000   \n\n  holding types                                     cost  \n0             F   {'amount': 10000.0, 'currency': 'GBP'}  \n1             F  {'amount': -12509.0, 'currency': 'USD'}  \n0             P   {'amount': 10000.0, 'currency': 'GBP'}  \n1             P  {'amount': -12509.0, 'currency': 'USD'}  ",
      "text/html": "<div>\n<style scoped>\n    .dataframe tbody tr th:only-of-type {\n        vertical-align: middle;\n    }\n\n    .dataframe tbody tr th {\n        vertical-align: top;\n    }\n\n    .dataframe thead th {\n        text-align: right;\n    }\n</style>\n<table border=\"1\" class=\"dataframe\">\n  <thead>\n    <tr style=\"text-align: right;\">\n      <th></th>\n      <th>names</th>\n      <th>effectiveAt</th>\n      <th>units</th>\n      <th>settled_units</th>\n      <th>holding types</th>\n      <th>cost</th>\n    </tr>\n  </thead>\n  <tbody>\n    <tr>\n      <th>0</th>\n      <td>GBP/USD 1W @ 1.2509</td>\n      <td>2020-06-01 00:00:00+00:00</td>\n      <td>10000.000000</td>\n      <td>0.000000</td>\n      <td>F</td>\n      <td>{'amount': 10000.0, 'currency': 'GBP'}</td>\n    </tr>\n    <tr>\n      <th>1</th>\n      <td>GBP/USD 1W @ 1.2509</td>\n      <td>2020-06-01 00:00:00+00:00</td>\n      <td>-12509.000000</td>\n      <td>0.000000</td>\n      <td>F</td>\n      <td>{'amount': -12509.0, 'currency': 'USD'}</td>\n    </tr>\n    <tr>\n      <th>0</th>\n      <td>GBP/USD 1W @ 1.2509</td>\n      <td>2020-06-08 00:00:00+00:00</td>\n      <td>10000.000000</td>\n      <td>10000.000000</td>\n      <td>P</td>\n      <td>{'amount': 10000.0, 'currency': 'GBP'}</td>\n    </tr>\n    <tr>\n      <th>1</th>\n      <td>GBP/USD 1W @ 1.2509</td>\n      <td>2020-06-08 00:00:00+00:00</td>\n      <td>-12509.000000</td>\n      <td>-12509.000000</td>\n      <td>P</td>\n      <td>{'amount': -12509.0, 'currency': 'USD'}</td>\n    </tr>\n  </tbody>\n</table>\n</div>"
     },
     "execution_count": 24,
     "metadata": {},
     "output_type": "execute_result"
    }
   ],
   "source": [
    "holdings_response_trade_date = transaction_portfolios_api.get_holdings(\n",
    "    scope=scope, code=portfolio_cfm_buy_sell_trade_date, property_keys=[\"Instrument/default/Name\"], effective_at=trade_date\n",
    ")\n",
    "\n",
    "trade_date_holdings = display_holdings_summary(holdings_response_trade_date, trade_date)\n",
    "\n",
    "holdings_response_expiry = transaction_portfolios_api.get_holdings(\n",
    "    scope=scope, code=portfolio_cfm_buy_sell_trade_date, property_keys=[\"Instrument/default/Name\"], effective_at=maturity_dates['1W']\n",
    ")\n",
    "\n",
    "expiry_date_holdings = display_holdings_summary(holdings_response_expiry, maturity_dates['1W'])\n",
    "\n",
    "pd.concat([trade_date_holdings, expiry_date_holdings])\n",
    "\n"
   ],
   "metadata": {
    "collapsed": false,
    "pycharm": {
     "name": "#%%\n"
    }
   }
  },
  {
   "cell_type": "markdown",
   "source": [
    "### Example 3\n",
    "\n",
    "* We only upsert one transaction which is a buy of the 1W GBP/USD forward.\n",
    "* FxFwdBuy transaction type is a \"CashFxForward\" Side 1, Dir 1 Movement and a \"CashFxForward\" Side 2, Dir -1\n",
    "* On settlement Forward becomes a \"P\" holding with a corresponding cash holding in underlying in the transaction currency (-10000 CCY_GBP)"
   ],
   "metadata": {
    "collapsed": false,
    "pycharm": {
     "name": "#%% md\n"
    }
   }
  },
  {
   "cell_type": "code",
   "execution_count": 25,
   "outputs": [
    {
     "data": {
      "text/plain": "'GBP/USD @ 1.2508 for 2020-06-01 00:00:00+00:00 uploaded to quote store.'"
     },
     "metadata": {},
     "output_type": "display_data"
    },
    {
     "data": {
      "text/plain": "'USD/GBP @ 0.799488327470419 for 2020-06-01 00:00:00+00:00 uploaded to quote store.'"
     },
     "metadata": {},
     "output_type": "display_data"
    },
    {
     "data": {
      "text/plain": "'GBP/USD @ 1.2609 for 2020-06-08 00:00:00+00:00 uploaded to quote store.'"
     },
     "metadata": {},
     "output_type": "display_data"
    },
    {
     "data": {
      "text/plain": "'USD/GBP @ 0.7930843048616069 for 2020-06-08 00:00:00+00:00 uploaded to quote store.'"
     },
     "metadata": {},
     "output_type": "display_data"
    },
    {
     "data": {
      "text/plain": "                                            Name Effective At     Value\n0  Portfolio PV (CFM Buy and Sell On Trade Date)  01 Jun 2020 -0.799475\n1  Portfolio PV (CFM Buy and Sell On Trade Date)  08 Jun 2020 79.307127",
      "text/html": "<div>\n<style scoped>\n    .dataframe tbody tr th:only-of-type {\n        vertical-align: middle;\n    }\n\n    .dataframe tbody tr th {\n        vertical-align: top;\n    }\n\n    .dataframe thead th {\n        text-align: right;\n    }\n</style>\n<table border=\"1\" class=\"dataframe\">\n  <thead>\n    <tr style=\"text-align: right;\">\n      <th></th>\n      <th>Name</th>\n      <th>Effective At</th>\n      <th>Value</th>\n    </tr>\n  </thead>\n  <tbody>\n    <tr>\n      <th>0</th>\n      <td>Portfolio PV (CFM Buy and Sell On Trade Date)</td>\n      <td>01 Jun 2020</td>\n      <td>-0.799475</td>\n    </tr>\n    <tr>\n      <th>1</th>\n      <td>Portfolio PV (CFM Buy and Sell On Trade Date)</td>\n      <td>08 Jun 2020</td>\n      <td>79.307127</td>\n    </tr>\n  </tbody>\n</table>\n</div>"
     },
     "execution_count": 25,
     "metadata": {},
     "output_type": "execute_result"
    }
   ],
   "source": [
    "portfolio_default_buy_only = \"fxfwd-portfolio-default-buy-only\"\n",
    "create_portfolio(scope, portfolio_default_buy_only, portfolio_default_buy_only, \"GBP\")\n",
    "\n",
    "# spot on fx forward 1.2508 on trade date\n",
    "upsert_gbp_usd_fx_rate(1.2508, trade_date)\n",
    "\n",
    "# domestic (Buy)\n",
    "units = 10000\n",
    "transaction_price = 1.2509  # spot + 3y fwd spread) // TODO ask on rounding in web?\n",
    "consideration = 10000\n",
    "\n",
    "# buy transaction\n",
    "upsert_fwd_transaction(scope, \"fx_fwd_1w_cfm_buy_trade_date_001\", \"FwdFxBuy\", \"GBP\", gbpusd_fx_fwd_1w_instr_client_id, trade_date, maturity_dates['1W'], portfolio_default_buy_only, units, transaction_price, consideration)\n",
    "\n",
    "# assume spot rate on expiry date is higher thant forward rate\n",
    "upsert_gbp_usd_fx_rate(1.2609, maturity_dates['1W'])\n",
    "\n",
    "# run aggregations\n",
    "result_t = run_fx_forward_pricing_aggregation_on_portfolio(scope, portfolio_default_buy_only, fx_forward_pricing_recipe, trade_date)\n",
    "result_expiry = run_fx_forward_pricing_aggregation_on_portfolio(scope, portfolio_default_buy_only, fx_forward_pricing_recipe, maturity_dates['1W'])\n",
    "\n",
    "aggregation_result_to_dataframe([\n",
    "    ['Portfolio PV (CFM Buy and Sell On Trade Date)', trade_date, result_t.data[0]['Holding/default/PV']],\n",
    "    ['Portfolio PV (CFM Buy and Sell On Trade Date)', maturity_dates['1W'], result_expiry.data[0]['Holding/default/PV']]\n",
    "])"
   ],
   "metadata": {
    "collapsed": false,
    "pycharm": {
     "name": "#%%\n"
    }
   }
  },
  {
   "cell_type": "markdown",
   "source": [
    "#### Holdings"
   ],
   "metadata": {
    "collapsed": false
   }
  },
  {
   "cell_type": "code",
   "execution_count": 26,
   "outputs": [
    {
     "data": {
      "text/plain": "                 names               effectiveAt         units  settled_units  \\\n0  GBP/USD 1W @ 1.2509 2020-06-01 00:00:00+00:00  10000.000000       0.000000   \n1              CCY_GBP 2020-06-01 00:00:00+00:00 -10000.000000       0.000000   \n0  GBP/USD 1W @ 1.2509 2020-06-08 00:00:00+00:00  10000.000000   10000.000000   \n1              CCY_GBP 2020-06-08 00:00:00+00:00 -10000.000000  -10000.000000   \n\n  holding types                                     cost  \n0             F   {'amount': 10000.0, 'currency': 'GBP'}  \n1             F  {'amount': -10000.0, 'currency': 'GBP'}  \n0             P   {'amount': 10000.0, 'currency': 'GBP'}  \n1             B  {'amount': -10000.0, 'currency': 'GBP'}  ",
      "text/html": "<div>\n<style scoped>\n    .dataframe tbody tr th:only-of-type {\n        vertical-align: middle;\n    }\n\n    .dataframe tbody tr th {\n        vertical-align: top;\n    }\n\n    .dataframe thead th {\n        text-align: right;\n    }\n</style>\n<table border=\"1\" class=\"dataframe\">\n  <thead>\n    <tr style=\"text-align: right;\">\n      <th></th>\n      <th>names</th>\n      <th>effectiveAt</th>\n      <th>units</th>\n      <th>settled_units</th>\n      <th>holding types</th>\n      <th>cost</th>\n    </tr>\n  </thead>\n  <tbody>\n    <tr>\n      <th>0</th>\n      <td>GBP/USD 1W @ 1.2509</td>\n      <td>2020-06-01 00:00:00+00:00</td>\n      <td>10000.000000</td>\n      <td>0.000000</td>\n      <td>F</td>\n      <td>{'amount': 10000.0, 'currency': 'GBP'}</td>\n    </tr>\n    <tr>\n      <th>1</th>\n      <td>CCY_GBP</td>\n      <td>2020-06-01 00:00:00+00:00</td>\n      <td>-10000.000000</td>\n      <td>0.000000</td>\n      <td>F</td>\n      <td>{'amount': -10000.0, 'currency': 'GBP'}</td>\n    </tr>\n    <tr>\n      <th>0</th>\n      <td>GBP/USD 1W @ 1.2509</td>\n      <td>2020-06-08 00:00:00+00:00</td>\n      <td>10000.000000</td>\n      <td>10000.000000</td>\n      <td>P</td>\n      <td>{'amount': 10000.0, 'currency': 'GBP'}</td>\n    </tr>\n    <tr>\n      <th>1</th>\n      <td>CCY_GBP</td>\n      <td>2020-06-08 00:00:00+00:00</td>\n      <td>-10000.000000</td>\n      <td>-10000.000000</td>\n      <td>B</td>\n      <td>{'amount': -10000.0, 'currency': 'GBP'}</td>\n    </tr>\n  </tbody>\n</table>\n</div>"
     },
     "execution_count": 26,
     "metadata": {},
     "output_type": "execute_result"
    }
   ],
   "source": [
    "holdings_response_trade_date = transaction_portfolios_api.get_holdings(\n",
    "    scope=scope, code=portfolio_default_buy_only, property_keys=[\"Instrument/default/Name\"], effective_at=trade_date\n",
    ")\n",
    "\n",
    "trade_date_holdings = display_holdings_summary(holdings_response_trade_date, trade_date)\n",
    "\n",
    "holdings_response_expiry = transaction_portfolios_api.get_holdings(\n",
    "    scope=scope, code=portfolio_default_buy_only, property_keys=[\"Instrument/default/Name\"], effective_at=maturity_dates['1W']\n",
    ")\n",
    "\n",
    "expiry_date_holdings = display_holdings_summary(holdings_response_expiry, maturity_dates['1W'])\n",
    "\n",
    "pd.concat([trade_date_holdings, expiry_date_holdings])\n",
    "\n",
    "\n",
    "\n"
   ],
   "metadata": {
    "collapsed": false,
    "pycharm": {
     "name": "#%%\n"
    }
   }
  },
  {
   "cell_type": "markdown",
   "source": [
    "### Example 4\n",
    "* We upsert two transactions:\n",
    "  * Buy of the 1W GBP/USD forward in domestic ccy (so 10,000GBP notional)\n",
    "  * Sell of the 1W GBP/USD forward in foreign ccy (so 12,509USD notional)\n",
    "* FxFwdBuy transaction type is a \"CashFxForward\" Side 1 Dir 1 Movement only.\n",
    "* FxFwdSell transaction type is a \"CashFxForward\" Side 1 Dir -1 Movement only.\n",
    "* On settlement data Forward become holding positions"
   ],
   "metadata": {
    "collapsed": false
   }
  },
  {
   "cell_type": "code",
   "execution_count": 27,
   "outputs": [
    {
     "data": {
      "text/plain": "'GBP/USD @ 1.2508 for 2020-06-01 00:00:00+00:00 uploaded to quote store.'"
     },
     "metadata": {},
     "output_type": "display_data"
    },
    {
     "data": {
      "text/plain": "'USD/GBP @ 0.799488327470419 for 2020-06-01 00:00:00+00:00 uploaded to quote store.'"
     },
     "metadata": {},
     "output_type": "display_data"
    },
    {
     "data": {
      "text/plain": "'GBP/USD @ 1.2609 for 2020-06-08 00:00:00+00:00 uploaded to quote store.'"
     },
     "metadata": {},
     "output_type": "display_data"
    },
    {
     "data": {
      "text/plain": "'USD/GBP @ 0.7930843048616069 for 2020-06-08 00:00:00+00:00 uploaded to quote store.'"
     },
     "metadata": {},
     "output_type": "display_data"
    },
    {
     "data": {
      "text/plain": "                                            Name Effective At     Value\n0  Portfolio PV (CFM Buy and Sell On Trade Date)  01 Jun 2020 -0.799475\n1  Portfolio PV (CFM Buy and Sell On Trade Date)  08 Jun 2020 79.307127",
      "text/html": "<div>\n<style scoped>\n    .dataframe tbody tr th:only-of-type {\n        vertical-align: middle;\n    }\n\n    .dataframe tbody tr th {\n        vertical-align: top;\n    }\n\n    .dataframe thead th {\n        text-align: right;\n    }\n</style>\n<table border=\"1\" class=\"dataframe\">\n  <thead>\n    <tr style=\"text-align: right;\">\n      <th></th>\n      <th>Name</th>\n      <th>Effective At</th>\n      <th>Value</th>\n    </tr>\n  </thead>\n  <tbody>\n    <tr>\n      <th>0</th>\n      <td>Portfolio PV (CFM Buy and Sell On Trade Date)</td>\n      <td>01 Jun 2020</td>\n      <td>-0.799475</td>\n    </tr>\n    <tr>\n      <th>1</th>\n      <td>Portfolio PV (CFM Buy and Sell On Trade Date)</td>\n      <td>08 Jun 2020</td>\n      <td>79.307127</td>\n    </tr>\n  </tbody>\n</table>\n</div>"
     },
     "execution_count": 27,
     "metadata": {},
     "output_type": "execute_result"
    }
   ],
   "source": [
    "portfolio_default_buy_sell_only = \"fxfwd-portfolio-default-buy-sell-only\"\n",
    "create_portfolio(scope, portfolio_default_buy_sell_only, portfolio_default_buy_sell_only, \"GBP\")\n",
    "\n",
    "# spot on fx forward 1.2508 on trade date\n",
    "upsert_gbp_usd_fx_rate(1.2508, trade_date)\n",
    "\n",
    "# domestic (Buy)\n",
    "units = 10000\n",
    "transaction_price = 1.2509  # spot + 3y fwd spread\n",
    "consideration = 10000\n",
    "\n",
    "# buy transaction\n",
    "upsert_fwd_transaction(scope, \"fx_fwd_1w_cfm_buy_trade_date_001\", \"FwdFxBuy\", \"GBP\", gbpusd_fx_fwd_1w_instr_client_id, trade_date, maturity_dates['1W'], portfolio_default_buy_sell_only, units, transaction_price, consideration)\n",
    "\n",
    "# foreign (Sell)\n",
    "units = 12509\n",
    "transaction_price = 1.2509  # spot + 3y fwd spread\n",
    "consideration = 12509\n",
    "\n",
    "# sell transaction\n",
    "upsert_fwd_transaction(scope, \"fx_fwd_1w_cfm_sell_trade_date_001\", \"FwdFxSell\", \"USD\", gbpusd_fx_fwd_1w_instr_client_id, trade_date, maturity_dates['1W'], portfolio_default_buy_sell_only, units, transaction_price, consideration)\n",
    "\n",
    "# assume spot rate on expiry date is higher thant forward rate\n",
    "upsert_gbp_usd_fx_rate(1.2609, maturity_dates['1W'])\n",
    "\n",
    "# run aggregations\n",
    "result_t = run_fx_forward_pricing_aggregation_on_portfolio(scope, portfolio_default_buy_sell_only, fx_forward_pricing_recipe, trade_date)\n",
    "result_expiry = run_fx_forward_pricing_aggregation_on_portfolio(scope, portfolio_default_buy_sell_only, fx_forward_pricing_recipe, maturity_dates['1W'])\n",
    "\n",
    "\n",
    "aggregation_result_to_dataframe([\n",
    "    ['Portfolio PV (CFM Buy and Sell On Trade Date)', trade_date, result_t.data[0]['Holding/default/PV']],\n",
    "    ['Portfolio PV (CFM Buy and Sell On Trade Date)', maturity_dates['1W'], result_expiry.data[0]['Holding/default/PV']]\n",
    "])"
   ],
   "metadata": {
    "collapsed": false,
    "pycharm": {
     "name": "#%%\n"
    }
   }
  },
  {
   "cell_type": "markdown",
   "source": [
    "#### Holdings"
   ],
   "metadata": {
    "collapsed": false
   }
  },
  {
   "cell_type": "code",
   "execution_count": 28,
   "outputs": [
    {
     "data": {
      "text/plain": "                 names               effectiveAt         units  settled_units  \\\n0  GBP/USD 1W @ 1.2509 2020-06-01 00:00:00+00:00  10000.000000       0.000000   \n1              CCY_GBP 2020-06-01 00:00:00+00:00 -10000.000000       0.000000   \n0  GBP/USD 1W @ 1.2509 2020-06-08 00:00:00+00:00  10000.000000   10000.000000   \n1  GBP/USD 1W @ 1.2509 2020-06-08 00:00:00+00:00 -12509.000000  -12509.000000   \n2              CCY_GBP 2020-06-08 00:00:00+00:00 -10000.000000  -10000.000000   \n3              CCY_USD 2020-06-08 00:00:00+00:00  12509.000000   12509.000000   \n\n  holding types                                     cost  \n0             F   {'amount': 10000.0, 'currency': 'GBP'}  \n1             F  {'amount': -10000.0, 'currency': 'GBP'}  \n0             P   {'amount': 10000.0, 'currency': 'GBP'}  \n1             P  {'amount': -12509.0, 'currency': 'USD'}  \n2             B  {'amount': -10000.0, 'currency': 'GBP'}  \n3             B   {'amount': 12509.0, 'currency': 'USD'}  ",
      "text/html": "<div>\n<style scoped>\n    .dataframe tbody tr th:only-of-type {\n        vertical-align: middle;\n    }\n\n    .dataframe tbody tr th {\n        vertical-align: top;\n    }\n\n    .dataframe thead th {\n        text-align: right;\n    }\n</style>\n<table border=\"1\" class=\"dataframe\">\n  <thead>\n    <tr style=\"text-align: right;\">\n      <th></th>\n      <th>names</th>\n      <th>effectiveAt</th>\n      <th>units</th>\n      <th>settled_units</th>\n      <th>holding types</th>\n      <th>cost</th>\n    </tr>\n  </thead>\n  <tbody>\n    <tr>\n      <th>0</th>\n      <td>GBP/USD 1W @ 1.2509</td>\n      <td>2020-06-01 00:00:00+00:00</td>\n      <td>10000.000000</td>\n      <td>0.000000</td>\n      <td>F</td>\n      <td>{'amount': 10000.0, 'currency': 'GBP'}</td>\n    </tr>\n    <tr>\n      <th>1</th>\n      <td>CCY_GBP</td>\n      <td>2020-06-01 00:00:00+00:00</td>\n      <td>-10000.000000</td>\n      <td>0.000000</td>\n      <td>F</td>\n      <td>{'amount': -10000.0, 'currency': 'GBP'}</td>\n    </tr>\n    <tr>\n      <th>0</th>\n      <td>GBP/USD 1W @ 1.2509</td>\n      <td>2020-06-08 00:00:00+00:00</td>\n      <td>10000.000000</td>\n      <td>10000.000000</td>\n      <td>P</td>\n      <td>{'amount': 10000.0, 'currency': 'GBP'}</td>\n    </tr>\n    <tr>\n      <th>1</th>\n      <td>GBP/USD 1W @ 1.2509</td>\n      <td>2020-06-08 00:00:00+00:00</td>\n      <td>-12509.000000</td>\n      <td>-12509.000000</td>\n      <td>P</td>\n      <td>{'amount': -12509.0, 'currency': 'USD'}</td>\n    </tr>\n    <tr>\n      <th>2</th>\n      <td>CCY_GBP</td>\n      <td>2020-06-08 00:00:00+00:00</td>\n      <td>-10000.000000</td>\n      <td>-10000.000000</td>\n      <td>B</td>\n      <td>{'amount': -10000.0, 'currency': 'GBP'}</td>\n    </tr>\n    <tr>\n      <th>3</th>\n      <td>CCY_USD</td>\n      <td>2020-06-08 00:00:00+00:00</td>\n      <td>12509.000000</td>\n      <td>12509.000000</td>\n      <td>B</td>\n      <td>{'amount': 12509.0, 'currency': 'USD'}</td>\n    </tr>\n  </tbody>\n</table>\n</div>"
     },
     "execution_count": 28,
     "metadata": {},
     "output_type": "execute_result"
    }
   ],
   "source": [
    "holdings_response_trade_date = transaction_portfolios_api.get_holdings(\n",
    "    scope=scope, code=portfolio_default_buy_sell_only, property_keys=[\"Instrument/default/Name\"], effective_at=trade_date\n",
    ")\n",
    "\n",
    "holdings_response_expiry = transaction_portfolios_api.get_holdings(\n",
    "    scope=scope, code=portfolio_default_buy_sell_only, property_keys=[\"Instrument/default/Name\"], effective_at=maturity_dates['1W']\n",
    ")\n",
    "\n",
    "expiry_date_holdings = display_holdings_summary(holdings_response_expiry, maturity_dates['1W'])\n",
    "\n",
    "pd.concat([trade_date_holdings, expiry_date_holdings])"
   ],
   "metadata": {
    "collapsed": false,
    "pycharm": {
     "name": "#%%\n"
    }
   }
  },
  {
   "cell_type": "markdown",
   "source": [
    "Fwd becomes a posittion as well as cash balance. Why?? We have our cash positions the contract is done\n",
    "\n",
    "\n"
   ],
   "metadata": {
    "collapsed": false,
    "pycharm": {
     "name": "#%% md\n"
    }
   }
  },
  {
   "cell_type": "markdown",
   "source": [
    "### Example 3 : Stock Movement only a buy transaction"
   ],
   "metadata": {
    "collapsed": false
   }
  },
  {
   "cell_type": "code",
   "execution_count": 29,
   "outputs": [
    {
     "data": {
      "text/plain": "'GBP/USD @ 1.2609 for 2020-06-08 00:00:00+00:00 uploaded to quote store.'"
     },
     "metadata": {},
     "output_type": "display_data"
    },
    {
     "data": {
      "text/plain": "'USD/GBP @ 0.7930843048616069 for 2020-06-08 00:00:00+00:00 uploaded to quote store.'"
     },
     "metadata": {},
     "output_type": "display_data"
    },
    {
     "data": {
      "text/plain": "                          Name Effective At     Value\n0  Portfolio PV (CFM Buy Only)  01 Jun 2020 -0.799475\n1  Portfolio PV (CFM Buy Only)  08 Jun 2020 79.307127",
      "text/html": "<div>\n<style scoped>\n    .dataframe tbody tr th:only-of-type {\n        vertical-align: middle;\n    }\n\n    .dataframe tbody tr th {\n        vertical-align: top;\n    }\n\n    .dataframe thead th {\n        text-align: right;\n    }\n</style>\n<table border=\"1\" class=\"dataframe\">\n  <thead>\n    <tr style=\"text-align: right;\">\n      <th></th>\n      <th>Name</th>\n      <th>Effective At</th>\n      <th>Value</th>\n    </tr>\n  </thead>\n  <tbody>\n    <tr>\n      <th>0</th>\n      <td>Portfolio PV (CFM Buy Only)</td>\n      <td>01 Jun 2020</td>\n      <td>-0.799475</td>\n    </tr>\n    <tr>\n      <th>1</th>\n      <td>Portfolio PV (CFM Buy Only)</td>\n      <td>08 Jun 2020</td>\n      <td>79.307127</td>\n    </tr>\n  </tbody>\n</table>\n</div>"
     },
     "execution_count": 29,
     "metadata": {},
     "output_type": "execute_result"
    }
   ],
   "source": [
    "portfolio_sm_buy_only = \"fxfwd-portfolio-sm-buy-only\"\n",
    "create_portfolio(scope, portfolio_sm_buy_only, portfolio_sm_buy_only, \"GBP\")\n",
    "\n",
    "units = 10000\n",
    "transaction_price = 1.2509  # spot + 3y fwd spread\n",
    "consideration = 10000\n",
    "\n",
    "# buy transaction\n",
    "upsert_fwd_transaction(scope, \"fx_fwd_1w_cfm_sm_only_001\", \"FxFwdInstBuy\", \"GBP\", gbpusd_fx_fwd_1w_instr_client_id, trade_date, maturity_dates['1W'], portfolio_sm_buy_only, units, transaction_price, consideration)\n",
    "\n",
    "# assume spot rate on expiry date is higher thant forward rate\n",
    "upsert_gbp_usd_fx_rate(1.2609, maturity_dates['1W'])\n",
    "\n",
    "# run aggregations\n",
    "result_t = run_fx_forward_pricing_aggregation_on_portfolio(scope, portfolio_sm_buy_only, fx_forward_pricing_recipe, trade_date)\n",
    "result_expiry = run_fx_forward_pricing_aggregation_on_portfolio(scope, portfolio_sm_buy_only, fx_forward_pricing_recipe, maturity_dates['1W'])\n",
    "\n",
    "aggregation_result_to_dataframe([\n",
    "    ['Portfolio PV (CFM Buy Only)', trade_date, result_t.data[0]['Holding/default/PV']],\n",
    "    ['Portfolio PV (CFM Buy Only)', maturity_dates['1W'], result_expiry.data[0]['Holding/default/PV']]\n",
    "])"
   ],
   "metadata": {
    "collapsed": false,
    "pycharm": {
     "name": "#%%\n"
    }
   }
  },
  {
   "cell_type": "markdown",
   "source": [
    "#### Example 3a Holdings"
   ],
   "metadata": {
    "collapsed": false
   }
  },
  {
   "cell_type": "code",
   "execution_count": 30,
   "outputs": [
    {
     "data": {
      "text/plain": "                 names               effectiveAt        units  settled_units  \\\n0  GBP/USD 1W @ 1.2509 2020-06-01 00:00:00+00:00 10000.000000       0.000000   \n0  GBP/USD 1W @ 1.2509 2020-06-08 00:00:00+00:00 10000.000000   10000.000000   \n\n  holding types                                    cost  \n0             P  {'amount': 10000.0, 'currency': 'GBP'}  \n0             P  {'amount': 10000.0, 'currency': 'GBP'}  ",
      "text/html": "<div>\n<style scoped>\n    .dataframe tbody tr th:only-of-type {\n        vertical-align: middle;\n    }\n\n    .dataframe tbody tr th {\n        vertical-align: top;\n    }\n\n    .dataframe thead th {\n        text-align: right;\n    }\n</style>\n<table border=\"1\" class=\"dataframe\">\n  <thead>\n    <tr style=\"text-align: right;\">\n      <th></th>\n      <th>names</th>\n      <th>effectiveAt</th>\n      <th>units</th>\n      <th>settled_units</th>\n      <th>holding types</th>\n      <th>cost</th>\n    </tr>\n  </thead>\n  <tbody>\n    <tr>\n      <th>0</th>\n      <td>GBP/USD 1W @ 1.2509</td>\n      <td>2020-06-01 00:00:00+00:00</td>\n      <td>10000.000000</td>\n      <td>0.000000</td>\n      <td>P</td>\n      <td>{'amount': 10000.0, 'currency': 'GBP'}</td>\n    </tr>\n    <tr>\n      <th>0</th>\n      <td>GBP/USD 1W @ 1.2509</td>\n      <td>2020-06-08 00:00:00+00:00</td>\n      <td>10000.000000</td>\n      <td>10000.000000</td>\n      <td>P</td>\n      <td>{'amount': 10000.0, 'currency': 'GBP'}</td>\n    </tr>\n  </tbody>\n</table>\n</div>"
     },
     "execution_count": 30,
     "metadata": {},
     "output_type": "execute_result"
    }
   ],
   "source": [
    "holdings_response_trade_date = transaction_portfolios_api.get_holdings(\n",
    "    scope=scope, code=portfolio_sm_buy_only, property_keys=[\"Instrument/default/Name\"], effective_at=trade_date\n",
    ")\n",
    "\n",
    "trade_date_holdings = display_holdings_summary(holdings_response_trade_date, trade_date)\n",
    "\n",
    "holdings_response_expiry = transaction_portfolios_api.get_holdings(\n",
    "    scope=scope, code=portfolio_sm_buy_only, property_keys=[\"Instrument/default/Name\"], effective_at=maturity_dates['1W']\n",
    ")\n",
    "\n",
    "expiry_date_holdings = display_holdings_summary(holdings_response_expiry, maturity_dates['1W'])\n",
    "\n",
    "pd.concat([trade_date_holdings, expiry_date_holdings])\n",
    "\n",
    "\n"
   ],
   "metadata": {
    "collapsed": false,
    "pycharm": {
     "name": "#%%\n"
    }
   }
  },
  {
   "cell_type": "markdown",
   "source": [
    "### Example 4 :\n",
    "* We upsert two transactions:\n",
    "  * Trade Date : Buy of the GBP/USD 1W forward in domestic ccy (so 10,000GBP notional)\n",
    "  * Maturity Date : Close position and delivery the cash\n",
    "* FxFwdBuy_Otc transaction type:\n",
    "  * StockMovement Side 1 Dir 1 Movement only (Positoin unsettled units)\n",
    "* FxFwdSell_Otc transaction type:  (assumes cash actually delivered on settlement baked into one transaction)\n",
    "  * StockMovement Side 1 Dir -1 to close out Position\n",
    "  * Cash Side 2 Dir -1 outgoing domestic\n",
    "  * Cash Side 2 Dir 1  incoming foreign\n",
    "* On settlement data Forward become holding positions\n",
    "\n",
    "\n",
    "\n",
    "#### Define Transaction Types"
   ],
   "metadata": {
    "collapsed": false,
    "pycharm": {
     "name": "#%% md\n"
    }
   }
  },
  {
   "cell_type": "code",
   "execution_count": 45,
   "outputs": [],
   "source": [
    "def upsert_cash_transaction(scope, portfolio, units, transaction_price, consideration, txn_id, txn_type, txn_ccy, transaction_date, exchange_rate=1):\n",
    "    gilt_transaction_request = models.TransactionRequest(\n",
    "        transaction_id=txn_id,\n",
    "        type=txn_type,\n",
    "        instrument_identifiers={\"Instrument/default/Currency\": txn_ccy},\n",
    "        transaction_date=transaction_date.isoformat(),\n",
    "        settlement_date=transaction_date.isoformat(),\n",
    "        units=units,\n",
    "        transaction_price=models.TransactionPrice(price=transaction_price, type=\"Price\"),\n",
    "        total_consideration=models.CurrencyAndAmount(amount=consideration, currency=txn_ccy),\n",
    "        exchange_rate=exchange_rate,\n",
    "        transaction_currency=txn_ccy,\n",
    "    )\n",
    "\n",
    "    response = api_factory.build(lusid.api.TransactionPortfoliosApi).upsert_transactions(scope=scope,\n",
    "                                                                                         code=portfolio,\n",
    "                                                                                         transaction_request=[gilt_transaction_request])\n",
    "\n",
    "\n",
    "def upsert_fwd_close_transaction(scope, portfolio, units, transaction_price, consideration, txn_id, txn_type, txn_ccy, transaction_date, exchange_rate=1):\n",
    "    gilt_transaction_request = models.TransactionRequest(\n",
    "        transaction_id=txn_id,\n",
    "        type=txn_type,\n",
    "        instrument_identifiers={\"Instrument/default/Currency\": txn_ccy},\n",
    "        transaction_date=transaction_date.isoformat(),\n",
    "        settlement_date=transaction_date.isoformat(),\n",
    "        units=units,\n",
    "        transaction_price=models.TransactionPrice(price=transaction_price, type=\"Price\"),\n",
    "        total_consideration=models.CurrencyAndAmount(amount=consideration, currency=txn_ccy),\n",
    "        exchange_rate=exchange_rate,\n",
    "        transaction_currency=txn_ccy,\n",
    "    )\n",
    "\n",
    "    response = api_factory.build(lusid.api.TransactionPortfoliosApi).upsert_transactions(scope=scope,\n",
    "                                                                                         code=portfolio,\n",
    "                                                                                         transaction_request=[gilt_transaction_request])\n"
   ],
   "metadata": {
    "collapsed": false,
    "pycharm": {
     "name": "#%%\n"
    }
   }
  },
  {
   "cell_type": "code",
   "execution_count": null,
   "outputs": [],
   "source": [
    "create_txn_type_response = create_transaction_type_configuration(\n",
    "    api_factory,\n",
    "    alias=models.TransactionConfigurationTypeAlias(\n",
    "        type=\"FxFwdOpen_Otc\",\n",
    "        description=\"Open a position in an  FX Forward Instrument\",\n",
    "        transaction_class=\"Basic\",\n",
    "        transaction_group=\"default\",\n",
    "        transaction_roles=\"Longer\",\n",
    "    ),\n",
    "    movements=[\n",
    "        models.TransactionConfigurationMovementDataRequest(\n",
    "            movement_types=\"StockMovement\",\n",
    "            side=\"Side1\",\n",
    "            direction=1\n",
    "        )\n",
    "    ],\n",
    ")\n",
    "\n",
    "create_txn_type_response = create_transaction_type_configuration(\n",
    "    api_factory,\n",
    "    alias=models.TransactionConfigurationTypeAlias(\n",
    "        type=\"FxFwdClose_Otc\",\n",
    "        description=\"Close a position in an  FX Forward Instrument\",\n",
    "        transaction_class=\"Basic\",\n",
    "        transaction_group=\"default\",\n",
    "        transaction_roles=\"Longer\",\n",
    "    ),\n",
    "    movements=[\n",
    "        models.TransactionConfigurationMovementDataRequest(\n",
    "            movement_types=\"StockMovement\",\n",
    "            side=\"Side1\",\n",
    "            direction=-1\n",
    "        )\n",
    "    ],\n",
    ")\n",
    "\n",
    "create_txn_type_response = create_transaction_type_configuration(\n",
    "    api_factory,\n",
    "    alias=models.TransactionConfigurationTypeAlias(\n",
    "        type=\"FxFwdClose_Otc_DomCash\",\n",
    "        description=\"Close a position in an  FX Forward Instrument - Domestic cash delivery\",\n",
    "        transaction_class=\"Basic\",\n",
    "        transaction_group=\"default\",\n",
    "        transaction_roles=\"Shorter\",\n",
    "    ),\n",
    "    movements=[\n",
    "        models.TransactionConfigurationMovementDataRequest(\n",
    "            movement_types=\"CashSettlement\",\n",
    "            side=\"Side1\",\n",
    "            direction=-1\n",
    "        )\n",
    "    ],\n",
    ")\n",
    "\n",
    "create_txn_type_response = create_transaction_type_configuration(\n",
    "    api_factory,\n",
    "    alias=models.TransactionConfigurationTypeAlias(\n",
    "        type=\"FxFwdClose_Otc_FgnCash\",\n",
    "        description=\"Close a position in an  FX Forward Instrument - Foreign cash receivable\",\n",
    "        transaction_class=\"Basic\",\n",
    "        transaction_group=\"default\",\n",
    "        transaction_roles=\"Longer\",\n",
    "    ),\n",
    "    movements=[\n",
    "        models.TransactionConfigurationMovementDataRequest(\n",
    "            movement_types=\"CashSettlement\",\n",
    "            side=\"Side1\",\n",
    "            direction=1\n",
    "        )\n",
    "    ],\n",
    ")"
   ],
   "metadata": {
    "collapsed": false,
    "pycharm": {
     "name": "#%%\n"
    }
   }
  },
  {
   "cell_type": "code",
   "execution_count": 69,
   "outputs": [
    {
     "data": {
      "text/plain": "{'links': [{'description': None,\n            'href': 'https://khalid-local-dev.lusid.com/api/api/schemas/entities/SideConfigurationData',\n            'method': 'GET',\n            'relation': 'EntitySchema'},\n           {'description': 'A link to the LUSID Insights website showing all '\n                           'logs related to this request',\n            'href': 'http://khalid-local-dev.lusid.com/app/insights/logs/0HM1381C5JQ3P:00000001',\n            'method': 'GET',\n            'relation': 'RequestLogs'}],\n 'side_definitions': [{'amount': 'Txn:TradeAmount',\n                       'currency': 'Txn:TradeCurrency',\n                       'links': None,\n                       'rate': 'Txn:TradeToPortfolioRate',\n                       'security': 'Txn:LusidInstrumentId',\n                       'side': 'Side1',\n                       'units': 'Txn:Units'},\n                      {'amount': 'Txn:TotalConsideration',\n                       'currency': 'Txn:SettlementCurrency',\n                       'links': None,\n                       'rate': 'SettledToPortfolioRate',\n                       'security': 'Txn:SettleCcy',\n                       'side': 'Side2',\n                       'units': 'Txn:TotalConsideration'},\n                      {'amount': 'BaseOnSeparateBondInterest',\n                       'currency': 'Txn:SettlementCurrency',\n                       'links': None,\n                       'rate': 'SettledToPortfolioRate',\n                       'security': 'Txn:SettleCcy',\n                       'side': 'Side2WithoutBondInterest',\n                       'units': 'BaseOnSeparateBondInterest'},\n                      {'amount': 'Txn:BondInterest',\n                       'currency': 'Txn:SettlementCurrency',\n                       'links': None,\n                       'rate': 'SettledToPortfolioRate',\n                       'security': 'Txn:SettleCcy',\n                       'side': 'BondInt',\n                       'units': 'Txn:BondInterest'},\n                      {'amount': 'Txn:TradeAmount',\n                       'currency': 'Txn:TradeCurrency',\n                       'links': None,\n                       'rate': 'Txn:TradeToPortfolioRate',\n                       'security': 'Transaction/Fx_Fwd/FgnCcy',\n                       'side': 'FxFwdFgnCashSide',\n                       'units': 'Txn:TradeAmount'},\n                      {'amount': 'Txn:TradeAmount',\n                       'currency': 'Txn:TradeCurrency',\n                       'links': None,\n                       'rate': 'Txn:TradeToPortfolioRate',\n                       'security': 'Transaction/Fx_Fwd/FgnCcy',\n                       'side': 'FxFwdFgnCashSide',\n                       'units': 'Txn:TradeAmount'},\n                      {'amount': 'Txn:TradeAmount',\n                       'currency': 'Txn:TradeCurrency',\n                       'links': None,\n                       'rate': 'Txn:TradeToPortfolioRate',\n                       'security': 'Transaction/fx-forward-pricing-nb/FgnCcy',\n                       'side': 'FxFwdFgnCashSide',\n                       'units': 'Txn:TradeAmount'},\n                      {'amount': 'Txn:TradeAmount',\n                       'currency': 'Txn:TradeCurrency',\n                       'links': None,\n                       'rate': 'Txn:TradeToPortfolioRate',\n                       'security': 'Transaction/fx-forward-pricing-nb/FgnCcy',\n                       'side': 'FxFwdFgnCashSide_02',\n                       'units': 'Txn:TradeAmount'},\n                      {'amount': 'Txn:TradeAmount',\n                       'currency': 'Txn:TradeCurrency',\n                       'links': None,\n                       'rate': 'Txn:TradeToPortfolioRate',\n                       'security': 'Transaction/fx-forward-pricing-nb/FgnCcy',\n                       'side': 'FxFwdFgnCashSide_03',\n                       'units': 'Txn:TradeAmount'}],\n 'transaction_configs': [{'aliases': [{'description': 'Purchase',\n                                       'transaction_class': 'Basic',\n                                       'transaction_group': 'default',\n                                       'transaction_roles': 'LongLonger',\n                                       'type': 'Buy'},\n                                      {'description': 'PURCHASE',\n                                       'transaction_class': 'Basic',\n                                       'transaction_group': 'alt1',\n                                       'transaction_roles': 'LongLonger',\n                                       'type': 'BY'}],\n                          'movements': [{'direction': 1,\n                                         'mappings': [],\n                                         'movement_types': 'StockMovement',\n                                         'properties': {},\n                                         'side': 'Side1'},\n                                        {'direction': -1,\n                                         'mappings': [],\n                                         'movement_types': 'CashCommitment',\n                                         'properties': {},\n                                         'side': 'Side2'}],\n                          'properties': {}},\n                         {'aliases': [{'description': 'Sale',\n                                       'transaction_class': 'Basic',\n                                       'transaction_group': 'default',\n                                       'transaction_roles': 'LongShorter',\n                                       'type': 'Sell'},\n                                      {'description': 'SALE',\n                                       'transaction_class': 'Basic',\n                                       'transaction_group': 'alt1',\n                                       'transaction_roles': 'LongShorter',\n                                       'type': 'SL'}],\n                          'movements': [{'direction': -1,\n                                         'mappings': [],\n                                         'movement_types': 'StockMovement',\n                                         'properties': {},\n                                         'side': 'Side1'},\n                                        {'direction': 1,\n                                         'mappings': [],\n                                         'movement_types': 'CashCommitment',\n                                         'properties': {},\n                                         'side': 'Side2'}],\n                          'properties': {}},\n                         {'aliases': [{'description': 'Cover Short ',\n                                       'transaction_class': 'Basic',\n                                       'transaction_group': 'default',\n                                       'transaction_roles': 'ShortLonger',\n                                       'type': 'CoverShort'},\n                                      {'description': 'COVER SHORT ',\n                                       'transaction_class': 'Basic',\n                                       'transaction_group': 'alt1',\n                                       'transaction_roles': 'ShortLonger',\n                                       'type': 'CS'}],\n                          'movements': [{'direction': 1,\n                                         'mappings': [],\n                                         'movement_types': 'StockMovement',\n                                         'properties': {},\n                                         'side': 'Side1'},\n                                        {'direction': -1,\n                                         'mappings': [],\n                                         'movement_types': 'CashCommitment',\n                                         'properties': {},\n                                         'side': 'Side2'}],\n                          'properties': {}},\n                         {'aliases': [{'description': 'Sell Short',\n                                       'transaction_class': 'Basic',\n                                       'transaction_group': 'default',\n                                       'transaction_roles': 'ShortShorter',\n                                       'type': 'SellShort'},\n                                      {'description': 'SELL SHORT',\n                                       'transaction_class': 'Basic',\n                                       'transaction_group': 'alt1',\n                                       'transaction_roles': 'ShortShorter',\n                                       'type': 'SS'}],\n                          'movements': [{'direction': -1,\n                                         'mappings': [],\n                                         'movement_types': 'StockMovement',\n                                         'properties': {},\n                                         'side': 'Side1'},\n                                        {'direction': 1,\n                                         'mappings': [],\n                                         'movement_types': 'CashCommitment',\n                                         'properties': {},\n                                         'side': 'Side2'}],\n                          'properties': {}},\n                         {'aliases': [{'description': 'Transfer In',\n                                       'transaction_class': 'StockTransfers',\n                                       'transaction_group': 'default',\n                                       'transaction_roles': 'Longer',\n                                       'type': 'StockIn'},\n                                      {'description': 'SECURITY IN',\n                                       'transaction_class': 'StockTransfers',\n                                       'transaction_group': 'alt1',\n                                       'transaction_roles': 'LongLonger',\n                                       'type': 'SI'},\n                                      {'description': 'SHORT SECURITY OUT',\n                                       'transaction_class': 'StockTransfers',\n                                       'transaction_group': 'alt1',\n                                       'transaction_roles': 'ShortLonger',\n                                       'type': 'SW'}],\n                          'movements': [{'direction': 1,\n                                         'mappings': [],\n                                         'movement_types': 'StockMovement',\n                                         'properties': {},\n                                         'side': 'Side1'}],\n                          'properties': {}},\n                         {'aliases': [{'description': 'Transfer Out',\n                                       'transaction_class': 'StockTransfers',\n                                       'transaction_group': 'default',\n                                       'transaction_roles': 'Shorter',\n                                       'type': 'StockOut'},\n                                      {'description': 'SECURITY OUT',\n                                       'transaction_class': 'StockTransfers',\n                                       'transaction_group': 'alt1',\n                                       'transaction_roles': 'LongShorter',\n                                       'type': 'SO'},\n                                      {'description': 'SHORT SECURITY IN',\n                                       'transaction_class': 'StockTransfers',\n                                       'transaction_group': 'alt1',\n                                       'transaction_roles': 'ShortShorter',\n                                       'type': 'SA'}],\n                          'movements': [{'direction': -1,\n                                         'mappings': [],\n                                         'movement_types': 'StockMovement',\n                                         'properties': {},\n                                         'side': 'Side1'}],\n                          'properties': {}},\n                         {'aliases': [{'description': 'Spot FX Purchase',\n                                       'transaction_class': 'SpotFx',\n                                       'transaction_group': 'default',\n                                       'transaction_roles': 'Longer',\n                                       'type': 'FxBuy'}],\n                          'movements': [{'direction': 1,\n                                         'mappings': [],\n                                         'movement_types': 'CashCommitment',\n                                         'properties': {},\n                                         'side': 'Side1'},\n                                        {'direction': -1,\n                                         'mappings': [],\n                                         'movement_types': 'CashCommitment',\n                                         'properties': {},\n                                         'side': 'Side2'}],\n                          'properties': {}},\n                         {'aliases': [{'description': 'Spot FX Sale',\n                                       'transaction_class': 'SpotFx',\n                                       'transaction_group': 'default',\n                                       'transaction_roles': 'Shorter',\n                                       'type': 'FxSell'},\n                                      {'description': 'SPOT FX',\n                                       'transaction_class': 'SpotFx',\n                                       'transaction_group': 'alt1',\n                                       'transaction_roles': 'Longer',\n                                       'type': 'SF'}],\n                          'movements': [{'direction': -1,\n                                         'mappings': [],\n                                         'movement_types': 'CashCommitment',\n                                         'properties': {},\n                                         'side': 'Side1'},\n                                        {'direction': 1,\n                                         'mappings': [],\n                                         'movement_types': 'CashCommitment',\n                                         'properties': {},\n                                         'side': 'Side2'}],\n                          'properties': {}},\n                         {'aliases': [{'description': 'Forward FX Purchase',\n                                       'transaction_class': 'FwdFx',\n                                       'transaction_group': 'default',\n                                       'transaction_roles': 'Longer',\n                                       'type': 'FwdFxBuy'}],\n                          'movements': [{'direction': 1,\n                                         'mappings': [],\n                                         'movement_types': 'CashFxForward',\n                                         'properties': {},\n                                         'side': 'Side1'},\n                                        {'direction': -1,\n                                         'mappings': [],\n                                         'movement_types': 'CashFxForward',\n                                         'properties': {},\n                                         'side': 'Side2'}],\n                          'properties': {}},\n                         {'aliases': [{'description': 'Forward FX Sale',\n                                       'transaction_class': 'FwdFx',\n                                       'transaction_group': 'default',\n                                       'transaction_roles': 'Shorter',\n                                       'type': 'FwdFxSell'},\n                                      {'description': 'FORWARD FX',\n                                       'transaction_class': 'FwdFx',\n                                       'transaction_group': 'alt1',\n                                       'transaction_roles': 'Shorter',\n                                       'type': 'FF'}],\n                          'movements': [{'direction': -1,\n                                         'mappings': [],\n                                         'movement_types': 'CashFxForward',\n                                         'properties': {},\n                                         'side': 'Side1'},\n                                        {'direction': 1,\n                                         'mappings': [],\n                                         'movement_types': 'CashFxForward',\n                                         'properties': {},\n                                         'side': 'Side2'}],\n                          'properties': {}},\n                         {'aliases': [{'description': 'Pending Cash Purchase',\n                                       'transaction_class': 'PendCash',\n                                       'transaction_group': 'default',\n                                       'transaction_roles': 'Longer',\n                                       'type': 'FutCashBuy'}],\n                          'movements': [{'direction': 1,\n                                         'mappings': [],\n                                         'movement_types': 'CashForward',\n                                         'properties': {},\n                                         'side': 'Side1'},\n                                        {'direction': -1,\n                                         'mappings': [],\n                                         'movement_types': 'CashForward',\n                                         'properties': {},\n                                         'side': 'Side2'}],\n                          'properties': {}},\n                         {'aliases': [{'description': 'Pending Cash Sale',\n                                       'transaction_class': 'PendCash',\n                                       'transaction_group': 'default',\n                                       'transaction_roles': 'Shorter',\n                                       'type': 'FutCashSell'}],\n                          'movements': [{'direction': -1,\n                                         'mappings': [],\n                                         'movement_types': 'CashForward',\n                                         'properties': {},\n                                         'side': 'Side1'},\n                                        {'direction': 1,\n                                         'mappings': [],\n                                         'movement_types': 'CashForward',\n                                         'properties': {},\n                                         'side': 'Side2'}],\n                          'properties': {}},\n                         {'aliases': [{'description': 'Deposit New Funds',\n                                       'transaction_class': 'CashTransfers',\n                                       'transaction_group': 'default',\n                                       'transaction_roles': 'Longer',\n                                       'type': 'FundsIn'},\n                                      {'description': 'FUNDS IN',\n                                       'transaction_class': 'CashTransfers',\n                                       'transaction_group': 'alt1',\n                                       'transaction_roles': 'Longer',\n                                       'type': 'FI'}],\n                          'movements': [{'direction': 1,\n                                         'mappings': [],\n                                         'movement_types': 'CashReceivable',\n                                         'properties': {},\n                                         'side': 'Side1'}],\n                          'properties': {}},\n                         {'aliases': [{'description': 'Withdraw Funds',\n                                       'transaction_class': 'CashTransfers',\n                                       'transaction_group': 'default',\n                                       'transaction_roles': 'Shorter',\n                                       'type': 'FundsOut'},\n                                      {'description': 'FUNDS OUT',\n                                       'transaction_class': 'CashTransfers',\n                                       'transaction_group': 'alt1',\n                                       'transaction_roles': 'Shorter',\n                                       'type': 'FO'}],\n                          'movements': [{'direction': -1,\n                                         'mappings': [],\n                                         'movement_types': 'CashReceivable',\n                                         'properties': {},\n                                         'side': 'Side1'}],\n                          'properties': {}},\n                         {'aliases': [{'description': 'Open Long Futures '\n                                                      'Contract',\n                                       'transaction_class': 'Futures',\n                                       'transaction_group': 'default',\n                                       'transaction_roles': 'LongLonger',\n                                       'type': 'OLFC'},\n                                      {'description': 'OPEN LONG FUTURES '\n                                                      'CONTRACT',\n                                       'transaction_class': 'Futures',\n                                       'transaction_group': 'alt1',\n                                       'transaction_roles': 'LongLonger',\n                                       'type': 'O1'}],\n                          'movements': [{'direction': 1,\n                                         'mappings': [],\n                                         'movement_types': 'StockMovement',\n                                         'properties': {'TransactionConfiguration/default/TaxLotSelectionMethod': {'key': 'TransactionConfiguration/default/TaxLotSelectionMethod',\n                                                                                                                   'value': {'label_value': 'FirstInFirstOut',\n                                                                                                                             'metric_value': None}}},\n                                         'side': 'Side1'},\n                                        {'direction': -1,\n                                         'mappings': [],\n                                         'movement_types': 'CashCommitment',\n                                         'properties': {},\n                                         'side': 'Side2'}],\n                          'properties': {}},\n                         {'aliases': [{'description': 'Close Long Futures '\n                                                      'Contract',\n                                       'transaction_class': 'Futures',\n                                       'transaction_group': 'default',\n                                       'transaction_roles': 'LongShorter',\n                                       'type': 'CLFC'},\n                                      {'description': 'CLOSE LONG FUTURES '\n                                                      'CONTRACT',\n                                       'transaction_class': 'Futures',\n                                       'transaction_group': 'alt1',\n                                       'transaction_roles': 'LongShorter',\n                                       'type': 'C1'}],\n                          'movements': [{'direction': -1,\n                                         'mappings': [],\n                                         'movement_types': 'StockMovement',\n                                         'properties': {'TransactionConfiguration/default/TaxLotSelectionMethod': {'key': 'TransactionConfiguration/default/TaxLotSelectionMethod',\n                                                                                                                   'value': {'label_value': 'FirstInFirstOut',\n                                                                                                                             'metric_value': None}}},\n                                         'side': 'Side1'},\n                                        {'direction': 1,\n                                         'mappings': [],\n                                         'movement_types': 'CashCommitment',\n                                         'properties': {},\n                                         'side': 'Side2'}],\n                          'properties': {}},\n                         {'aliases': [{'description': 'Open Short Futures '\n                                                      'Contract',\n                                       'transaction_class': 'Futures',\n                                       'transaction_group': 'default',\n                                       'transaction_roles': 'ShortShorter',\n                                       'type': 'OSFC'},\n                                      {'description': 'OPEN SHORT FUTURES '\n                                                      'CONTRACT',\n                                       'transaction_class': 'Futures',\n                                       'transaction_group': 'alt1',\n                                       'transaction_roles': 'ShortShorter',\n                                       'type': 'O3'}],\n                          'movements': [{'direction': -1,\n                                         'mappings': [],\n                                         'movement_types': 'StockMovement',\n                                         'properties': {'TransactionConfiguration/default/TaxLotSelectionMethod': {'key': 'TransactionConfiguration/default/TaxLotSelectionMethod',\n                                                                                                                   'value': {'label_value': 'FirstInFirstOut',\n                                                                                                                             'metric_value': None}}},\n                                         'side': 'Side1'},\n                                        {'direction': 1,\n                                         'mappings': [],\n                                         'movement_types': 'CashCommitment',\n                                         'properties': {},\n                                         'side': 'Side2'}],\n                          'properties': {}},\n                         {'aliases': [{'description': 'Close Short Futures '\n                                                      'Contract',\n                                       'transaction_class': 'Futures',\n                                       'transaction_group': 'default',\n                                       'transaction_roles': 'ShortLonger',\n                                       'type': 'CSFC'},\n                                      {'description': 'CLOSE SHORT FUTURES '\n                                                      'CONTRACT',\n                                       'transaction_class': 'Futures',\n                                       'transaction_group': 'alt1',\n                                       'transaction_roles': 'ShortLonger',\n                                       'type': 'C3'}],\n                          'movements': [{'direction': 1,\n                                         'mappings': [],\n                                         'movement_types': 'StockMovement',\n                                         'properties': {'TransactionConfiguration/default/TaxLotSelectionMethod': {'key': 'TransactionConfiguration/default/TaxLotSelectionMethod',\n                                                                                                                   'value': {'label_value': 'FirstInFirstOut',\n                                                                                                                             'metric_value': None}}},\n                                         'side': 'Side1'},\n                                        {'direction': -1,\n                                         'mappings': [],\n                                         'movement_types': 'CashCommitment',\n                                         'properties': {},\n                                         'side': 'Side2'}],\n                          'properties': {}},\n                         {'aliases': [{'description': 'cash paid/received from '\n                                                      'instrument',\n                                       'transaction_class': 'CashFlow',\n                                       'transaction_group': 'default',\n                                       'transaction_roles': 'AllRoles',\n                                       'type': 'CashFlow'}],\n                          'movements': [{'direction': 1,\n                                         'mappings': [],\n                                         'movement_types': 'CashReceivable',\n                                         'properties': {},\n                                         'side': 'Side2'}],\n                          'properties': {}},\n                         {'aliases': [{'description': 'TESTBUY1',\n                                       'transaction_class': 'TESTBUY1',\n                                       'transaction_group': 'SYSTEM1',\n                                       'transaction_roles': 'AllRoles',\n                                       'type': '387c18b713873e'}],\n                          'movements': [{'direction': 1,\n                                         'mappings': [],\n                                         'movement_types': 'StockMovement',\n                                         'properties': {},\n                                         'side': 'Side1'},\n                                        {'direction': -1,\n                                         'mappings': [],\n                                         'movement_types': 'CashCommitment',\n                                         'properties': {},\n                                         'side': 'Side2'}],\n                          'properties': {}},\n                         {'aliases': [{'description': 'TESTBUY1',\n                                       'transaction_class': 'TESTBUY1',\n                                       'transaction_group': 'SYSTEM1',\n                                       'transaction_roles': 'AllRoles',\n                                       'type': '387c9ce8072b92'}],\n                          'movements': [{'direction': 1,\n                                         'mappings': [],\n                                         'movement_types': 'StockMovement',\n                                         'properties': {},\n                                         'side': 'Side1'},\n                                        {'direction': -1,\n                                         'mappings': [],\n                                         'movement_types': 'CashCommitment',\n                                         'properties': {},\n                                         'side': 'Side2'}],\n                          'properties': {}},\n                         {'aliases': [{'description': 'TESTBUY1',\n                                       'transaction_class': 'TESTBUY1',\n                                       'transaction_group': 'SYSTEM1',\n                                       'transaction_roles': 'AllRoles',\n                                       'type': '387ca2062cc83c'}],\n                          'movements': [{'direction': 1,\n                                         'mappings': [],\n                                         'movement_types': 'StockMovement',\n                                         'properties': {},\n                                         'side': 'Side1'},\n                                        {'direction': -1,\n                                         'mappings': [],\n                                         'movement_types': 'CashCommitment',\n                                         'properties': {},\n                                         'side': 'Side2'}],\n                          'properties': {}},\n                         {'aliases': [{'description': 'TESTBUY1',\n                                       'transaction_class': 'TESTBUY1',\n                                       'transaction_group': 'SYSTEM1',\n                                       'transaction_roles': 'AllRoles',\n                                       'type': '387caa9aa0875e'}],\n                          'movements': [{'direction': 1,\n                                         'mappings': [],\n                                         'movement_types': 'StockMovement',\n                                         'properties': {},\n                                         'side': 'Side1'},\n                                        {'direction': -1,\n                                         'mappings': [],\n                                         'movement_types': 'CashCommitment',\n                                         'properties': {},\n                                         'side': 'Side2'}],\n                          'properties': {}},\n                         {'aliases': [{'description': 'TESTBUY1',\n                                       'transaction_class': 'TESTBUY1',\n                                       'transaction_group': 'SYSTEM1',\n                                       'transaction_roles': 'AllRoles',\n                                       'type': '387d77976d9d20'}],\n                          'movements': [{'direction': 1,\n                                         'mappings': [],\n                                         'movement_types': 'StockMovement',\n                                         'properties': {},\n                                         'side': 'Side1'},\n                                        {'direction': -1,\n                                         'mappings': [],\n                                         'movement_types': 'CashCommitment',\n                                         'properties': {},\n                                         'side': 'Side2'}],\n                          'properties': {}},\n                         {'aliases': [{'description': 'TESTBUY1',\n                                       'transaction_class': 'TESTBUY1',\n                                       'transaction_group': 'SYSTEM1',\n                                       'transaction_roles': 'AllRoles',\n                                       'type': '387e38eb140e2e'}],\n                          'movements': [{'direction': 1,\n                                         'mappings': [],\n                                         'movement_types': 'StockMovement',\n                                         'properties': {},\n                                         'side': 'Side1'},\n                                        {'direction': -1,\n                                         'mappings': [],\n                                         'movement_types': 'CashCommitment',\n                                         'properties': {},\n                                         'side': 'Side2'}],\n                          'properties': {}},\n                         {'aliases': [{'description': 'TESTBUY1',\n                                       'transaction_class': 'TESTBUY1',\n                                       'transaction_group': 'SYSTEM1',\n                                       'transaction_roles': 'AllRoles',\n                                       'type': '38818ea1dde614'}],\n                          'movements': [{'direction': 1,\n                                         'mappings': [],\n                                         'movement_types': 'StockMovement',\n                                         'properties': {},\n                                         'side': 'Side1'},\n                                        {'direction': -1,\n                                         'mappings': [],\n                                         'movement_types': 'CashCommitment',\n                                         'properties': {},\n                                         'side': 'Side2'}],\n                          'properties': {}},\n                         {'aliases': [{'description': 'TESTBUY1',\n                                       'transaction_class': 'TESTBUY1',\n                                       'transaction_group': 'SYSTEM1',\n                                       'transaction_roles': 'AllRoles',\n                                       'type': '3881908340cd70'}],\n                          'movements': [{'direction': 1,\n                                         'mappings': [],\n                                         'movement_types': 'StockMovement',\n                                         'properties': {},\n                                         'side': 'Side1'},\n                                        {'direction': -1,\n                                         'mappings': [],\n                                         'movement_types': 'CashCommitment',\n                                         'properties': {},\n                                         'side': 'Side2'}],\n                          'properties': {}},\n                         {'aliases': [{'description': 'TESTBUY1',\n                                       'transaction_class': 'TESTBUY1',\n                                       'transaction_group': 'SYSTEM1',\n                                       'transaction_roles': 'AllRoles',\n                                       'type': '388249f604e6e2'}],\n                          'movements': [{'direction': 1,\n                                         'mappings': [],\n                                         'movement_types': 'StockMovement',\n                                         'properties': {},\n                                         'side': 'Side1'},\n                                        {'direction': -1,\n                                         'mappings': [],\n                                         'movement_types': 'CashCommitment',\n                                         'properties': {},\n                                         'side': 'Side2'}],\n                          'properties': {}},\n                         {'aliases': [{'description': 'TESTBUY1',\n                                       'transaction_class': 'TESTBUY1',\n                                       'transaction_group': 'SYSTEM1',\n                                       'transaction_roles': 'AllRoles',\n                                       'type': '388928b4a3028a'}],\n                          'movements': [{'direction': 1,\n                                         'mappings': [],\n                                         'movement_types': 'StockMovement',\n                                         'properties': {},\n                                         'side': 'Side1'},\n                                        {'direction': -1,\n                                         'mappings': [],\n                                         'movement_types': 'CashCommitment',\n                                         'properties': {},\n                                         'side': 'Side2'}],\n                          'properties': {}},\n                         {'aliases': [{'description': 'TESTBUY1',\n                                       'transaction_class': 'TESTBUY1',\n                                       'transaction_group': 'SYSTEM1',\n                                       'transaction_roles': 'AllRoles',\n                                       'type': '38894942628fb6'}],\n                          'movements': [{'direction': 1,\n                                         'mappings': [],\n                                         'movement_types': 'StockMovement',\n                                         'properties': {},\n                                         'side': 'Side1'},\n                                        {'direction': -1,\n                                         'mappings': [],\n                                         'movement_types': 'CashCommitment',\n                                         'properties': {},\n                                         'side': 'Side2'}],\n                          'properties': {}},\n                         {'aliases': [{'description': 'Booking of stock '\n                                                      'lending transaction out',\n                                       'transaction_class': 'StockLending',\n                                       'transaction_group': 'default',\n                                       'transaction_roles': 'Shorter',\n                                       'type': 'StockLoanOut'}],\n                          'movements': [{'direction': -1,\n                                         'mappings': [{'map_from': None,\n                                                       'property_key': 'Transaction/GenerateHoldings/StockLendingStatus',\n                                                       'set_to': 'PortfolioPosition'}],\n                                         'movement_types': 'StockMovement',\n                                         'properties': {},\n                                         'side': 'Side1'},\n                                        {'direction': 1,\n                                         'mappings': [{'map_from': None,\n                                                       'property_key': 'Transaction/GenerateHoldings/StockLendingStatus',\n                                                       'set_to': 'Loan'}],\n                                         'movement_types': 'StockMovement',\n                                         'properties': {},\n                                         'side': 'Side1'}],\n                          'properties': {}},\n                         {'aliases': [{'description': 'Buy a unit of a pre '\n                                                      'defined '\n                                                      'FXForwardInstrument',\n                                       'transaction_class': 'Basic',\n                                       'transaction_group': 'default',\n                                       'transaction_roles': 'LongLonger',\n                                       'type': 'FxFwdInstBuy'}],\n                          'movements': [{'direction': 1,\n                                         'mappings': [],\n                                         'movement_types': 'StockMovement',\n                                         'properties': {},\n                                         'side': 'Side1'}],\n                          'properties': {}},\n                         {'aliases': [{'description': 'Buy a unit of a pre '\n                                                      'defined '\n                                                      'FXForwardInstrument',\n                                       'transaction_class': 'Basic',\n                                       'transaction_group': 'default',\n                                       'transaction_roles': 'Longer',\n                                       'type': 'FxFwdInstBuy_CM'}],\n                          'movements': [{'direction': 1,\n                                         'mappings': [],\n                                         'movement_types': 'CashFxForward',\n                                         'properties': {},\n                                         'side': 'Side1'}],\n                          'properties': {}},\n                         {'aliases': [{'description': 'Sell a unit of a pre '\n                                                      'defined '\n                                                      'FXForwardInstrument',\n                                       'transaction_class': 'Basic',\n                                       'transaction_group': 'default',\n                                       'transaction_roles': 'Longer',\n                                       'type': 'FxFwdInstSell_CM'}],\n                          'movements': [{'direction': -1,\n                                         'mappings': [],\n                                         'movement_types': 'CashFxForward',\n                                         'properties': {},\n                                         'side': 'Side1'}],\n                          'properties': {}},\n                         {'aliases': [{'description': 'Open a position in an  '\n                                                      'FX Forward Instrument',\n                                       'transaction_class': 'Basic',\n                                       'transaction_group': 'default',\n                                       'transaction_roles': 'Longer',\n                                       'type': 'FxFwdOpen_Otc'}],\n                          'movements': [{'direction': 1,\n                                         'mappings': [],\n                                         'movement_types': 'StockMovement',\n                                         'properties': {},\n                                         'side': 'Side1'}],\n                          'properties': {}},\n                         {'aliases': [{'description': 'Close a position in an  '\n                                                      'FX Forward Instrument',\n                                       'transaction_class': 'Basic',\n                                       'transaction_group': 'default',\n                                       'transaction_roles': 'Longer',\n                                       'type': 'FxFwdClose_Otc'}],\n                          'movements': [{'direction': -1,\n                                         'mappings': [],\n                                         'movement_types': 'StockMovement',\n                                         'properties': {},\n                                         'side': 'Side1'}],\n                          'properties': {}},\n                         {'aliases': [{'description': 'Close a position in an  '\n                                                      'FX Forward Instrument - '\n                                                      'Domestic cash delivery',\n                                       'transaction_class': 'Basic',\n                                       'transaction_group': 'default',\n                                       'transaction_roles': 'Shorter',\n                                       'type': 'FxFwdClose_Otc_DomCash'}],\n                          'movements': [{'direction': -1,\n                                         'mappings': [],\n                                         'movement_types': 'CashSettlement',\n                                         'properties': {},\n                                         'side': 'Side1'}],\n                          'properties': {}},\n                         {'aliases': [{'description': 'Close a position in an  '\n                                                      'FX Forward Instrument - '\n                                                      'Foreign cash receivable',\n                                       'transaction_class': 'Basic',\n                                       'transaction_group': 'default',\n                                       'transaction_roles': 'Longer',\n                                       'type': 'FxFwdClose_Otc_FgnCash'}],\n                          'movements': [{'direction': 1,\n                                         'mappings': [],\n                                         'movement_types': 'CashSettlement',\n                                         'properties': {},\n                                         'side': 'Side1'}],\n                          'properties': {}},\n                         {'aliases': [{'description': 'Close a position in an  '\n                                                      'FX Forward Instrument',\n                                       'transaction_class': 'Basic',\n                                       'transaction_group': 'default',\n                                       'transaction_roles': 'Longer',\n                                       'type': 'FxFwdClose_Otc_All'}],\n                          'movements': [{'direction': -1,\n                                         'mappings': [],\n                                         'movement_types': 'StockMovement',\n                                         'properties': {},\n                                         'side': 'Side1'},\n                                        {'direction': -1,\n                                         'mappings': [],\n                                         'movement_types': 'CashSettlement',\n                                         'properties': {},\n                                         'side': 'Side2'},\n                                        {'direction': 1,\n                                         'mappings': [],\n                                         'movement_types': 'CashSettlement',\n                                         'properties': {},\n                                         'side': 'FxFwdFgnCashSide'}],\n                          'properties': {}}]}"
     },
     "execution_count": 69,
     "metadata": {},
     "output_type": "execute_result"
    }
   ],
   "source": [
    "def create_fx_fwd_fgn_cash_side():\n",
    "    fgn_cash_side_cfg = models.SideConfigurationDataRequest(\n",
    "        side=\"FxFwdFgnCashSide_02\",\n",
    "        security=f\"Transaction/{scope}/FgnCcy\",\n",
    "        currency=\"Txn:TradeCurrency\",\n",
    "        rate=\"Txn:TradeToPortfolioRate\",\n",
    "        units=\"Txn:TradeAmount\",\n",
    "        amount=\"Txn:TradeAmount\"\n",
    "    )\n",
    "\n",
    "    response = system_configuration_api.create_side_definition(side_configuration_data_request=fgn_cash_side_cfg)\n",
    "    return response\n",
    "create_fx_fwd_fgn_cash_side()"
   ],
   "metadata": {
    "collapsed": false,
    "pycharm": {
     "name": "#%%\n"
    }
   }
  },
  {
   "cell_type": "code",
   "execution_count": 66,
   "outputs": [
    {
     "data": {
      "text/plain": "{'code': 'FgnCcy',\n 'constraint_style': 'Property',\n 'data_type_id': {'code': 'string', 'scope': 'system'},\n 'display_name': 'FX Forward CCY',\n 'domain': 'Transaction',\n 'href': None,\n 'key': 'Transaction/fx-forward-pricing-nb/FgnCcy',\n 'life_time': 'Perpetual',\n 'links': [{'description': None,\n            'href': 'https://khalid-local-dev.lusid.com/api/api/schemas/entities/PropertyDefinition',\n            'method': 'GET',\n            'relation': 'EntitySchema'},\n           {'description': 'A link to the LUSID Insights website showing all '\n                           'logs related to this request',\n            'href': 'http://khalid-local-dev.lusid.com/app/insights/logs/0HM1381J6LKBL:00000001',\n            'method': 'GET',\n            'relation': 'RequestLogs'}],\n 'scope': 'fx-forward-pricing-nb',\n 'type': 'Label',\n 'unit_schema': 'NoUnits',\n 'value_required': False,\n 'value_type': 'String'}"
     },
     "execution_count": 66,
     "metadata": {},
     "output_type": "execute_result"
    }
   ],
   "source": [
    "def create_instrument_mapping_prop():\n",
    "    return  api_factory.build(lusid.api.PropertyDefinitionsApi).create_property_definition(\n",
    "        create_property_definition_request=lusid.models.CreatePropertyDefinitionRequest(\n",
    "            domain = \"Transaction\",\n",
    "            scope = scope,\n",
    "            code = \"FgnCcy\",\n",
    "            value_required = None,\n",
    "            display_name = \"FX Forward CCY\",\n",
    "            data_type_id = lusid.ResourceId(scope=\"system\", code=\"string\"),\n",
    "            life_time = None\n",
    "        )\n",
    "    )\n",
    "\n",
    "create_instrument_mapping_prop()"
   ],
   "metadata": {
    "collapsed": false,
    "pycharm": {
     "name": "#%%\n"
    }
   }
  },
  {
   "cell_type": "code",
   "execution_count": 70,
   "outputs": [
    {
     "data": {
      "text/plain": "{'links': [{'description': None,\n            'href': 'https://khalid-local-dev.lusid.com/api/api/schemas/entities/TransactionConfigurationData',\n            'method': 'GET',\n            'relation': 'EntitySchema'},\n           {'description': None,\n            'href': 'https://khalid-local-dev.lusid.com/api/',\n            'method': 'GET',\n            'relation': 'PropertySchema'},\n           {'description': 'A link to the LUSID Insights website showing all '\n                           'logs related to this request',\n            'href': 'http://khalid-local-dev.lusid.com/app/insights/logs/0HM1381J6LKE5:00000002',\n            'method': 'GET',\n            'relation': 'RequestLogs'}],\n 'side_definitions': [{'amount': 'Txn:TradeAmount',\n                       'currency': 'Txn:TradeCurrency',\n                       'links': None,\n                       'rate': 'Txn:TradeToPortfolioRate',\n                       'security': 'Txn:LusidInstrumentId',\n                       'side': 'Side1',\n                       'units': 'Txn:Units'},\n                      {'amount': 'Txn:TotalConsideration',\n                       'currency': 'Txn:SettlementCurrency',\n                       'links': None,\n                       'rate': 'SettledToPortfolioRate',\n                       'security': 'Txn:SettleCcy',\n                       'side': 'Side2',\n                       'units': 'Txn:TotalConsideration'},\n                      {'amount': 'BaseOnSeparateBondInterest',\n                       'currency': 'Txn:SettlementCurrency',\n                       'links': None,\n                       'rate': 'SettledToPortfolioRate',\n                       'security': 'Txn:SettleCcy',\n                       'side': 'Side2WithoutBondInterest',\n                       'units': 'BaseOnSeparateBondInterest'},\n                      {'amount': 'Txn:BondInterest',\n                       'currency': 'Txn:SettlementCurrency',\n                       'links': None,\n                       'rate': 'SettledToPortfolioRate',\n                       'security': 'Txn:SettleCcy',\n                       'side': 'BondInt',\n                       'units': 'Txn:BondInterest'},\n                      {'amount': 'Txn:TradeAmount',\n                       'currency': 'Txn:TradeCurrency',\n                       'links': None,\n                       'rate': 'Txn:TradeToPortfolioRate',\n                       'security': 'Transaction/Fx_Fwd/FgnCcy',\n                       'side': 'FxFwdFgnCashSide',\n                       'units': 'Txn:TradeAmount'},\n                      {'amount': 'Txn:TradeAmount',\n                       'currency': 'Txn:TradeCurrency',\n                       'links': None,\n                       'rate': 'Txn:TradeToPortfolioRate',\n                       'security': 'Transaction/Fx_Fwd/FgnCcy',\n                       'side': 'FxFwdFgnCashSide',\n                       'units': 'Txn:TradeAmount'},\n                      {'amount': 'Txn:TradeAmount',\n                       'currency': 'Txn:TradeCurrency',\n                       'links': None,\n                       'rate': 'Txn:TradeToPortfolioRate',\n                       'security': 'Transaction/fx-forward-pricing-nb/FgnCcy',\n                       'side': 'FxFwdFgnCashSide',\n                       'units': 'Txn:TradeAmount'},\n                      {'amount': 'Txn:TradeAmount',\n                       'currency': 'Txn:TradeCurrency',\n                       'links': None,\n                       'rate': 'Txn:TradeToPortfolioRate',\n                       'security': 'Transaction/fx-forward-pricing-nb/FgnCcy',\n                       'side': 'FxFwdFgnCashSide_02',\n                       'units': 'Txn:TradeAmount'},\n                      {'amount': 'Txn:TradeAmount',\n                       'currency': 'Txn:TradeCurrency',\n                       'links': None,\n                       'rate': 'Txn:TradeToPortfolioRate',\n                       'security': 'Transaction/fx-forward-pricing-nb/FgnCcy',\n                       'side': 'FxFwdFgnCashSide_03',\n                       'units': 'Txn:TradeAmount'}],\n 'transaction_configs': [{'aliases': [{'description': 'Purchase',\n                                       'transaction_class': 'Basic',\n                                       'transaction_group': 'default',\n                                       'transaction_roles': 'LongLonger',\n                                       'type': 'Buy'},\n                                      {'description': 'PURCHASE',\n                                       'transaction_class': 'Basic',\n                                       'transaction_group': 'alt1',\n                                       'transaction_roles': 'LongLonger',\n                                       'type': 'BY'}],\n                          'movements': [{'direction': 1,\n                                         'mappings': [],\n                                         'movement_types': 'StockMovement',\n                                         'properties': {},\n                                         'side': 'Side1'},\n                                        {'direction': -1,\n                                         'mappings': [],\n                                         'movement_types': 'CashCommitment',\n                                         'properties': {},\n                                         'side': 'Side2'}],\n                          'properties': {}},\n                         {'aliases': [{'description': 'Sale',\n                                       'transaction_class': 'Basic',\n                                       'transaction_group': 'default',\n                                       'transaction_roles': 'LongShorter',\n                                       'type': 'Sell'},\n                                      {'description': 'SALE',\n                                       'transaction_class': 'Basic',\n                                       'transaction_group': 'alt1',\n                                       'transaction_roles': 'LongShorter',\n                                       'type': 'SL'}],\n                          'movements': [{'direction': -1,\n                                         'mappings': [],\n                                         'movement_types': 'StockMovement',\n                                         'properties': {},\n                                         'side': 'Side1'},\n                                        {'direction': 1,\n                                         'mappings': [],\n                                         'movement_types': 'CashCommitment',\n                                         'properties': {},\n                                         'side': 'Side2'}],\n                          'properties': {}},\n                         {'aliases': [{'description': 'Cover Short ',\n                                       'transaction_class': 'Basic',\n                                       'transaction_group': 'default',\n                                       'transaction_roles': 'ShortLonger',\n                                       'type': 'CoverShort'},\n                                      {'description': 'COVER SHORT ',\n                                       'transaction_class': 'Basic',\n                                       'transaction_group': 'alt1',\n                                       'transaction_roles': 'ShortLonger',\n                                       'type': 'CS'}],\n                          'movements': [{'direction': 1,\n                                         'mappings': [],\n                                         'movement_types': 'StockMovement',\n                                         'properties': {},\n                                         'side': 'Side1'},\n                                        {'direction': -1,\n                                         'mappings': [],\n                                         'movement_types': 'CashCommitment',\n                                         'properties': {},\n                                         'side': 'Side2'}],\n                          'properties': {}},\n                         {'aliases': [{'description': 'Sell Short',\n                                       'transaction_class': 'Basic',\n                                       'transaction_group': 'default',\n                                       'transaction_roles': 'ShortShorter',\n                                       'type': 'SellShort'},\n                                      {'description': 'SELL SHORT',\n                                       'transaction_class': 'Basic',\n                                       'transaction_group': 'alt1',\n                                       'transaction_roles': 'ShortShorter',\n                                       'type': 'SS'}],\n                          'movements': [{'direction': -1,\n                                         'mappings': [],\n                                         'movement_types': 'StockMovement',\n                                         'properties': {},\n                                         'side': 'Side1'},\n                                        {'direction': 1,\n                                         'mappings': [],\n                                         'movement_types': 'CashCommitment',\n                                         'properties': {},\n                                         'side': 'Side2'}],\n                          'properties': {}},\n                         {'aliases': [{'description': 'Transfer In',\n                                       'transaction_class': 'StockTransfers',\n                                       'transaction_group': 'default',\n                                       'transaction_roles': 'Longer',\n                                       'type': 'StockIn'},\n                                      {'description': 'SECURITY IN',\n                                       'transaction_class': 'StockTransfers',\n                                       'transaction_group': 'alt1',\n                                       'transaction_roles': 'LongLonger',\n                                       'type': 'SI'},\n                                      {'description': 'SHORT SECURITY OUT',\n                                       'transaction_class': 'StockTransfers',\n                                       'transaction_group': 'alt1',\n                                       'transaction_roles': 'ShortLonger',\n                                       'type': 'SW'}],\n                          'movements': [{'direction': 1,\n                                         'mappings': [],\n                                         'movement_types': 'StockMovement',\n                                         'properties': {},\n                                         'side': 'Side1'}],\n                          'properties': {}},\n                         {'aliases': [{'description': 'Transfer Out',\n                                       'transaction_class': 'StockTransfers',\n                                       'transaction_group': 'default',\n                                       'transaction_roles': 'Shorter',\n                                       'type': 'StockOut'},\n                                      {'description': 'SECURITY OUT',\n                                       'transaction_class': 'StockTransfers',\n                                       'transaction_group': 'alt1',\n                                       'transaction_roles': 'LongShorter',\n                                       'type': 'SO'},\n                                      {'description': 'SHORT SECURITY IN',\n                                       'transaction_class': 'StockTransfers',\n                                       'transaction_group': 'alt1',\n                                       'transaction_roles': 'ShortShorter',\n                                       'type': 'SA'}],\n                          'movements': [{'direction': -1,\n                                         'mappings': [],\n                                         'movement_types': 'StockMovement',\n                                         'properties': {},\n                                         'side': 'Side1'}],\n                          'properties': {}},\n                         {'aliases': [{'description': 'Spot FX Purchase',\n                                       'transaction_class': 'SpotFx',\n                                       'transaction_group': 'default',\n                                       'transaction_roles': 'Longer',\n                                       'type': 'FxBuy'}],\n                          'movements': [{'direction': 1,\n                                         'mappings': [],\n                                         'movement_types': 'CashCommitment',\n                                         'properties': {},\n                                         'side': 'Side1'},\n                                        {'direction': -1,\n                                         'mappings': [],\n                                         'movement_types': 'CashCommitment',\n                                         'properties': {},\n                                         'side': 'Side2'}],\n                          'properties': {}},\n                         {'aliases': [{'description': 'Spot FX Sale',\n                                       'transaction_class': 'SpotFx',\n                                       'transaction_group': 'default',\n                                       'transaction_roles': 'Shorter',\n                                       'type': 'FxSell'},\n                                      {'description': 'SPOT FX',\n                                       'transaction_class': 'SpotFx',\n                                       'transaction_group': 'alt1',\n                                       'transaction_roles': 'Longer',\n                                       'type': 'SF'}],\n                          'movements': [{'direction': -1,\n                                         'mappings': [],\n                                         'movement_types': 'CashCommitment',\n                                         'properties': {},\n                                         'side': 'Side1'},\n                                        {'direction': 1,\n                                         'mappings': [],\n                                         'movement_types': 'CashCommitment',\n                                         'properties': {},\n                                         'side': 'Side2'}],\n                          'properties': {}},\n                         {'aliases': [{'description': 'Forward FX Purchase',\n                                       'transaction_class': 'FwdFx',\n                                       'transaction_group': 'default',\n                                       'transaction_roles': 'Longer',\n                                       'type': 'FwdFxBuy'}],\n                          'movements': [{'direction': 1,\n                                         'mappings': [],\n                                         'movement_types': 'CashFxForward',\n                                         'properties': {},\n                                         'side': 'Side1'},\n                                        {'direction': -1,\n                                         'mappings': [],\n                                         'movement_types': 'CashFxForward',\n                                         'properties': {},\n                                         'side': 'Side2'}],\n                          'properties': {}},\n                         {'aliases': [{'description': 'Forward FX Sale',\n                                       'transaction_class': 'FwdFx',\n                                       'transaction_group': 'default',\n                                       'transaction_roles': 'Shorter',\n                                       'type': 'FwdFxSell'},\n                                      {'description': 'FORWARD FX',\n                                       'transaction_class': 'FwdFx',\n                                       'transaction_group': 'alt1',\n                                       'transaction_roles': 'Shorter',\n                                       'type': 'FF'}],\n                          'movements': [{'direction': -1,\n                                         'mappings': [],\n                                         'movement_types': 'CashFxForward',\n                                         'properties': {},\n                                         'side': 'Side1'},\n                                        {'direction': 1,\n                                         'mappings': [],\n                                         'movement_types': 'CashFxForward',\n                                         'properties': {},\n                                         'side': 'Side2'}],\n                          'properties': {}},\n                         {'aliases': [{'description': 'Pending Cash Purchase',\n                                       'transaction_class': 'PendCash',\n                                       'transaction_group': 'default',\n                                       'transaction_roles': 'Longer',\n                                       'type': 'FutCashBuy'}],\n                          'movements': [{'direction': 1,\n                                         'mappings': [],\n                                         'movement_types': 'CashForward',\n                                         'properties': {},\n                                         'side': 'Side1'},\n                                        {'direction': -1,\n                                         'mappings': [],\n                                         'movement_types': 'CashForward',\n                                         'properties': {},\n                                         'side': 'Side2'}],\n                          'properties': {}},\n                         {'aliases': [{'description': 'Pending Cash Sale',\n                                       'transaction_class': 'PendCash',\n                                       'transaction_group': 'default',\n                                       'transaction_roles': 'Shorter',\n                                       'type': 'FutCashSell'}],\n                          'movements': [{'direction': -1,\n                                         'mappings': [],\n                                         'movement_types': 'CashForward',\n                                         'properties': {},\n                                         'side': 'Side1'},\n                                        {'direction': 1,\n                                         'mappings': [],\n                                         'movement_types': 'CashForward',\n                                         'properties': {},\n                                         'side': 'Side2'}],\n                          'properties': {}},\n                         {'aliases': [{'description': 'Deposit New Funds',\n                                       'transaction_class': 'CashTransfers',\n                                       'transaction_group': 'default',\n                                       'transaction_roles': 'Longer',\n                                       'type': 'FundsIn'},\n                                      {'description': 'FUNDS IN',\n                                       'transaction_class': 'CashTransfers',\n                                       'transaction_group': 'alt1',\n                                       'transaction_roles': 'Longer',\n                                       'type': 'FI'}],\n                          'movements': [{'direction': 1,\n                                         'mappings': [],\n                                         'movement_types': 'CashReceivable',\n                                         'properties': {},\n                                         'side': 'Side1'}],\n                          'properties': {}},\n                         {'aliases': [{'description': 'Withdraw Funds',\n                                       'transaction_class': 'CashTransfers',\n                                       'transaction_group': 'default',\n                                       'transaction_roles': 'Shorter',\n                                       'type': 'FundsOut'},\n                                      {'description': 'FUNDS OUT',\n                                       'transaction_class': 'CashTransfers',\n                                       'transaction_group': 'alt1',\n                                       'transaction_roles': 'Shorter',\n                                       'type': 'FO'}],\n                          'movements': [{'direction': -1,\n                                         'mappings': [],\n                                         'movement_types': 'CashReceivable',\n                                         'properties': {},\n                                         'side': 'Side1'}],\n                          'properties': {}},\n                         {'aliases': [{'description': 'Open Long Futures '\n                                                      'Contract',\n                                       'transaction_class': 'Futures',\n                                       'transaction_group': 'default',\n                                       'transaction_roles': 'LongLonger',\n                                       'type': 'OLFC'},\n                                      {'description': 'OPEN LONG FUTURES '\n                                                      'CONTRACT',\n                                       'transaction_class': 'Futures',\n                                       'transaction_group': 'alt1',\n                                       'transaction_roles': 'LongLonger',\n                                       'type': 'O1'}],\n                          'movements': [{'direction': 1,\n                                         'mappings': [],\n                                         'movement_types': 'StockMovement',\n                                         'properties': {'TransactionConfiguration/default/TaxLotSelectionMethod': {'key': 'TransactionConfiguration/default/TaxLotSelectionMethod',\n                                                                                                                   'value': {'label_value': 'FirstInFirstOut',\n                                                                                                                             'metric_value': None}}},\n                                         'side': 'Side1'},\n                                        {'direction': -1,\n                                         'mappings': [],\n                                         'movement_types': 'CashCommitment',\n                                         'properties': {},\n                                         'side': 'Side2'}],\n                          'properties': {}},\n                         {'aliases': [{'description': 'Close Long Futures '\n                                                      'Contract',\n                                       'transaction_class': 'Futures',\n                                       'transaction_group': 'default',\n                                       'transaction_roles': 'LongShorter',\n                                       'type': 'CLFC'},\n                                      {'description': 'CLOSE LONG FUTURES '\n                                                      'CONTRACT',\n                                       'transaction_class': 'Futures',\n                                       'transaction_group': 'alt1',\n                                       'transaction_roles': 'LongShorter',\n                                       'type': 'C1'}],\n                          'movements': [{'direction': -1,\n                                         'mappings': [],\n                                         'movement_types': 'StockMovement',\n                                         'properties': {'TransactionConfiguration/default/TaxLotSelectionMethod': {'key': 'TransactionConfiguration/default/TaxLotSelectionMethod',\n                                                                                                                   'value': {'label_value': 'FirstInFirstOut',\n                                                                                                                             'metric_value': None}}},\n                                         'side': 'Side1'},\n                                        {'direction': 1,\n                                         'mappings': [],\n                                         'movement_types': 'CashCommitment',\n                                         'properties': {},\n                                         'side': 'Side2'}],\n                          'properties': {}},\n                         {'aliases': [{'description': 'Open Short Futures '\n                                                      'Contract',\n                                       'transaction_class': 'Futures',\n                                       'transaction_group': 'default',\n                                       'transaction_roles': 'ShortShorter',\n                                       'type': 'OSFC'},\n                                      {'description': 'OPEN SHORT FUTURES '\n                                                      'CONTRACT',\n                                       'transaction_class': 'Futures',\n                                       'transaction_group': 'alt1',\n                                       'transaction_roles': 'ShortShorter',\n                                       'type': 'O3'}],\n                          'movements': [{'direction': -1,\n                                         'mappings': [],\n                                         'movement_types': 'StockMovement',\n                                         'properties': {'TransactionConfiguration/default/TaxLotSelectionMethod': {'key': 'TransactionConfiguration/default/TaxLotSelectionMethod',\n                                                                                                                   'value': {'label_value': 'FirstInFirstOut',\n                                                                                                                             'metric_value': None}}},\n                                         'side': 'Side1'},\n                                        {'direction': 1,\n                                         'mappings': [],\n                                         'movement_types': 'CashCommitment',\n                                         'properties': {},\n                                         'side': 'Side2'}],\n                          'properties': {}},\n                         {'aliases': [{'description': 'Close Short Futures '\n                                                      'Contract',\n                                       'transaction_class': 'Futures',\n                                       'transaction_group': 'default',\n                                       'transaction_roles': 'ShortLonger',\n                                       'type': 'CSFC'},\n                                      {'description': 'CLOSE SHORT FUTURES '\n                                                      'CONTRACT',\n                                       'transaction_class': 'Futures',\n                                       'transaction_group': 'alt1',\n                                       'transaction_roles': 'ShortLonger',\n                                       'type': 'C3'}],\n                          'movements': [{'direction': 1,\n                                         'mappings': [],\n                                         'movement_types': 'StockMovement',\n                                         'properties': {'TransactionConfiguration/default/TaxLotSelectionMethod': {'key': 'TransactionConfiguration/default/TaxLotSelectionMethod',\n                                                                                                                   'value': {'label_value': 'FirstInFirstOut',\n                                                                                                                             'metric_value': None}}},\n                                         'side': 'Side1'},\n                                        {'direction': -1,\n                                         'mappings': [],\n                                         'movement_types': 'CashCommitment',\n                                         'properties': {},\n                                         'side': 'Side2'}],\n                          'properties': {}},\n                         {'aliases': [{'description': 'cash paid/received from '\n                                                      'instrument',\n                                       'transaction_class': 'CashFlow',\n                                       'transaction_group': 'default',\n                                       'transaction_roles': 'AllRoles',\n                                       'type': 'CashFlow'}],\n                          'movements': [{'direction': 1,\n                                         'mappings': [],\n                                         'movement_types': 'CashReceivable',\n                                         'properties': {},\n                                         'side': 'Side2'}],\n                          'properties': {}},\n                         {'aliases': [{'description': 'TESTBUY1',\n                                       'transaction_class': 'TESTBUY1',\n                                       'transaction_group': 'SYSTEM1',\n                                       'transaction_roles': 'AllRoles',\n                                       'type': '387c18b713873e'}],\n                          'movements': [{'direction': 1,\n                                         'mappings': [],\n                                         'movement_types': 'StockMovement',\n                                         'properties': {},\n                                         'side': 'Side1'},\n                                        {'direction': -1,\n                                         'mappings': [],\n                                         'movement_types': 'CashCommitment',\n                                         'properties': {},\n                                         'side': 'Side2'}],\n                          'properties': {}},\n                         {'aliases': [{'description': 'TESTBUY1',\n                                       'transaction_class': 'TESTBUY1',\n                                       'transaction_group': 'SYSTEM1',\n                                       'transaction_roles': 'AllRoles',\n                                       'type': '387c9ce8072b92'}],\n                          'movements': [{'direction': 1,\n                                         'mappings': [],\n                                         'movement_types': 'StockMovement',\n                                         'properties': {},\n                                         'side': 'Side1'},\n                                        {'direction': -1,\n                                         'mappings': [],\n                                         'movement_types': 'CashCommitment',\n                                         'properties': {},\n                                         'side': 'Side2'}],\n                          'properties': {}},\n                         {'aliases': [{'description': 'TESTBUY1',\n                                       'transaction_class': 'TESTBUY1',\n                                       'transaction_group': 'SYSTEM1',\n                                       'transaction_roles': 'AllRoles',\n                                       'type': '387ca2062cc83c'}],\n                          'movements': [{'direction': 1,\n                                         'mappings': [],\n                                         'movement_types': 'StockMovement',\n                                         'properties': {},\n                                         'side': 'Side1'},\n                                        {'direction': -1,\n                                         'mappings': [],\n                                         'movement_types': 'CashCommitment',\n                                         'properties': {},\n                                         'side': 'Side2'}],\n                          'properties': {}},\n                         {'aliases': [{'description': 'TESTBUY1',\n                                       'transaction_class': 'TESTBUY1',\n                                       'transaction_group': 'SYSTEM1',\n                                       'transaction_roles': 'AllRoles',\n                                       'type': '387caa9aa0875e'}],\n                          'movements': [{'direction': 1,\n                                         'mappings': [],\n                                         'movement_types': 'StockMovement',\n                                         'properties': {},\n                                         'side': 'Side1'},\n                                        {'direction': -1,\n                                         'mappings': [],\n                                         'movement_types': 'CashCommitment',\n                                         'properties': {},\n                                         'side': 'Side2'}],\n                          'properties': {}},\n                         {'aliases': [{'description': 'TESTBUY1',\n                                       'transaction_class': 'TESTBUY1',\n                                       'transaction_group': 'SYSTEM1',\n                                       'transaction_roles': 'AllRoles',\n                                       'type': '387d77976d9d20'}],\n                          'movements': [{'direction': 1,\n                                         'mappings': [],\n                                         'movement_types': 'StockMovement',\n                                         'properties': {},\n                                         'side': 'Side1'},\n                                        {'direction': -1,\n                                         'mappings': [],\n                                         'movement_types': 'CashCommitment',\n                                         'properties': {},\n                                         'side': 'Side2'}],\n                          'properties': {}},\n                         {'aliases': [{'description': 'TESTBUY1',\n                                       'transaction_class': 'TESTBUY1',\n                                       'transaction_group': 'SYSTEM1',\n                                       'transaction_roles': 'AllRoles',\n                                       'type': '387e38eb140e2e'}],\n                          'movements': [{'direction': 1,\n                                         'mappings': [],\n                                         'movement_types': 'StockMovement',\n                                         'properties': {},\n                                         'side': 'Side1'},\n                                        {'direction': -1,\n                                         'mappings': [],\n                                         'movement_types': 'CashCommitment',\n                                         'properties': {},\n                                         'side': 'Side2'}],\n                          'properties': {}},\n                         {'aliases': [{'description': 'TESTBUY1',\n                                       'transaction_class': 'TESTBUY1',\n                                       'transaction_group': 'SYSTEM1',\n                                       'transaction_roles': 'AllRoles',\n                                       'type': '38818ea1dde614'}],\n                          'movements': [{'direction': 1,\n                                         'mappings': [],\n                                         'movement_types': 'StockMovement',\n                                         'properties': {},\n                                         'side': 'Side1'},\n                                        {'direction': -1,\n                                         'mappings': [],\n                                         'movement_types': 'CashCommitment',\n                                         'properties': {},\n                                         'side': 'Side2'}],\n                          'properties': {}},\n                         {'aliases': [{'description': 'TESTBUY1',\n                                       'transaction_class': 'TESTBUY1',\n                                       'transaction_group': 'SYSTEM1',\n                                       'transaction_roles': 'AllRoles',\n                                       'type': '3881908340cd70'}],\n                          'movements': [{'direction': 1,\n                                         'mappings': [],\n                                         'movement_types': 'StockMovement',\n                                         'properties': {},\n                                         'side': 'Side1'},\n                                        {'direction': -1,\n                                         'mappings': [],\n                                         'movement_types': 'CashCommitment',\n                                         'properties': {},\n                                         'side': 'Side2'}],\n                          'properties': {}},\n                         {'aliases': [{'description': 'TESTBUY1',\n                                       'transaction_class': 'TESTBUY1',\n                                       'transaction_group': 'SYSTEM1',\n                                       'transaction_roles': 'AllRoles',\n                                       'type': '388249f604e6e2'}],\n                          'movements': [{'direction': 1,\n                                         'mappings': [],\n                                         'movement_types': 'StockMovement',\n                                         'properties': {},\n                                         'side': 'Side1'},\n                                        {'direction': -1,\n                                         'mappings': [],\n                                         'movement_types': 'CashCommitment',\n                                         'properties': {},\n                                         'side': 'Side2'}],\n                          'properties': {}},\n                         {'aliases': [{'description': 'TESTBUY1',\n                                       'transaction_class': 'TESTBUY1',\n                                       'transaction_group': 'SYSTEM1',\n                                       'transaction_roles': 'AllRoles',\n                                       'type': '388928b4a3028a'}],\n                          'movements': [{'direction': 1,\n                                         'mappings': [],\n                                         'movement_types': 'StockMovement',\n                                         'properties': {},\n                                         'side': 'Side1'},\n                                        {'direction': -1,\n                                         'mappings': [],\n                                         'movement_types': 'CashCommitment',\n                                         'properties': {},\n                                         'side': 'Side2'}],\n                          'properties': {}},\n                         {'aliases': [{'description': 'TESTBUY1',\n                                       'transaction_class': 'TESTBUY1',\n                                       'transaction_group': 'SYSTEM1',\n                                       'transaction_roles': 'AllRoles',\n                                       'type': '38894942628fb6'}],\n                          'movements': [{'direction': 1,\n                                         'mappings': [],\n                                         'movement_types': 'StockMovement',\n                                         'properties': {},\n                                         'side': 'Side1'},\n                                        {'direction': -1,\n                                         'mappings': [],\n                                         'movement_types': 'CashCommitment',\n                                         'properties': {},\n                                         'side': 'Side2'}],\n                          'properties': {}},\n                         {'aliases': [{'description': 'Booking of stock '\n                                                      'lending transaction out',\n                                       'transaction_class': 'StockLending',\n                                       'transaction_group': 'default',\n                                       'transaction_roles': 'Shorter',\n                                       'type': 'StockLoanOut'}],\n                          'movements': [{'direction': -1,\n                                         'mappings': [{'map_from': None,\n                                                       'property_key': 'Transaction/GenerateHoldings/StockLendingStatus',\n                                                       'set_to': 'PortfolioPosition'}],\n                                         'movement_types': 'StockMovement',\n                                         'properties': {},\n                                         'side': 'Side1'},\n                                        {'direction': 1,\n                                         'mappings': [{'map_from': None,\n                                                       'property_key': 'Transaction/GenerateHoldings/StockLendingStatus',\n                                                       'set_to': 'Loan'}],\n                                         'movement_types': 'StockMovement',\n                                         'properties': {},\n                                         'side': 'Side1'}],\n                          'properties': {}},\n                         {'aliases': [{'description': 'Buy a unit of a pre '\n                                                      'defined '\n                                                      'FXForwardInstrument',\n                                       'transaction_class': 'Basic',\n                                       'transaction_group': 'default',\n                                       'transaction_roles': 'LongLonger',\n                                       'type': 'FxFwdInstBuy'}],\n                          'movements': [{'direction': 1,\n                                         'mappings': [],\n                                         'movement_types': 'StockMovement',\n                                         'properties': {},\n                                         'side': 'Side1'}],\n                          'properties': {}},\n                         {'aliases': [{'description': 'Buy a unit of a pre '\n                                                      'defined '\n                                                      'FXForwardInstrument',\n                                       'transaction_class': 'Basic',\n                                       'transaction_group': 'default',\n                                       'transaction_roles': 'Longer',\n                                       'type': 'FxFwdInstBuy_CM'}],\n                          'movements': [{'direction': 1,\n                                         'mappings': [],\n                                         'movement_types': 'CashFxForward',\n                                         'properties': {},\n                                         'side': 'Side1'}],\n                          'properties': {}},\n                         {'aliases': [{'description': 'Sell a unit of a pre '\n                                                      'defined '\n                                                      'FXForwardInstrument',\n                                       'transaction_class': 'Basic',\n                                       'transaction_group': 'default',\n                                       'transaction_roles': 'Longer',\n                                       'type': 'FxFwdInstSell_CM'}],\n                          'movements': [{'direction': -1,\n                                         'mappings': [],\n                                         'movement_types': 'CashFxForward',\n                                         'properties': {},\n                                         'side': 'Side1'}],\n                          'properties': {}},\n                         {'aliases': [{'description': 'Open a position in an  '\n                                                      'FX Forward Instrument',\n                                       'transaction_class': 'Basic',\n                                       'transaction_group': 'default',\n                                       'transaction_roles': 'Longer',\n                                       'type': 'FxFwdOpen_Otc'}],\n                          'movements': [{'direction': 1,\n                                         'mappings': [],\n                                         'movement_types': 'StockMovement',\n                                         'properties': {},\n                                         'side': 'Side1'}],\n                          'properties': {}},\n                         {'aliases': [{'description': 'Close a position in an  '\n                                                      'FX Forward Instrument',\n                                       'transaction_class': 'Basic',\n                                       'transaction_group': 'default',\n                                       'transaction_roles': 'Longer',\n                                       'type': 'FxFwdClose_Otc'}],\n                          'movements': [{'direction': -1,\n                                         'mappings': [],\n                                         'movement_types': 'StockMovement',\n                                         'properties': {},\n                                         'side': 'Side1'}],\n                          'properties': {}},\n                         {'aliases': [{'description': 'Close a position in an  '\n                                                      'FX Forward Instrument - '\n                                                      'Domestic cash delivery',\n                                       'transaction_class': 'Basic',\n                                       'transaction_group': 'default',\n                                       'transaction_roles': 'Shorter',\n                                       'type': 'FxFwdClose_Otc_DomCash'}],\n                          'movements': [{'direction': -1,\n                                         'mappings': [],\n                                         'movement_types': 'CashSettlement',\n                                         'properties': {},\n                                         'side': 'Side1'}],\n                          'properties': {}},\n                         {'aliases': [{'description': 'Close a position in an  '\n                                                      'FX Forward Instrument - '\n                                                      'Foreign cash receivable',\n                                       'transaction_class': 'Basic',\n                                       'transaction_group': 'default',\n                                       'transaction_roles': 'Longer',\n                                       'type': 'FxFwdClose_Otc_FgnCash'}],\n                          'movements': [{'direction': 1,\n                                         'mappings': [],\n                                         'movement_types': 'CashSettlement',\n                                         'properties': {},\n                                         'side': 'Side1'}],\n                          'properties': {}},\n                         {'aliases': [{'description': 'Close a position in an  '\n                                                      'FX Forward Instrument',\n                                       'transaction_class': 'Basic',\n                                       'transaction_group': 'default',\n                                       'transaction_roles': 'Longer',\n                                       'type': 'FxFwdClose_Otc_All'}],\n                          'movements': [{'direction': -1,\n                                         'mappings': [],\n                                         'movement_types': 'StockMovement',\n                                         'properties': {},\n                                         'side': 'Side1'},\n                                        {'direction': -1,\n                                         'mappings': [],\n                                         'movement_types': 'CashSettlement',\n                                         'properties': {},\n                                         'side': 'Side2'},\n                                        {'direction': 1,\n                                         'mappings': [],\n                                         'movement_types': 'CashSettlement',\n                                         'properties': {},\n                                         'side': 'FxFwdFgnCashSide'}],\n                          'properties': {}},\n                         {'aliases': [{'description': 'Close a position in an  '\n                                                      'FX Forward Instrument',\n                                       'transaction_class': 'Basic',\n                                       'transaction_group': 'default',\n                                       'transaction_roles': 'Longer',\n                                       'type': 'FxFwdClose_Otc_All_2'}],\n                          'movements': [{'direction': -1,\n                                         'mappings': [],\n                                         'movement_types': 'StockMovement',\n                                         'properties': {},\n                                         'side': 'Side1'},\n                                        {'direction': -1,\n                                         'mappings': [],\n                                         'movement_types': 'CashSettlement',\n                                         'properties': {},\n                                         'side': 'Side2'},\n                                        {'direction': 1,\n                                         'mappings': [],\n                                         'movement_types': 'CashSettlement',\n                                         'properties': {},\n                                         'side': 'FxFwdFgnCashSide_02'}],\n                          'properties': {}}]}"
     },
     "execution_count": 70,
     "metadata": {},
     "output_type": "execute_result"
    }
   ],
   "source": [
    "create_transaction_type_configuration(\n",
    "    api_factory,\n",
    "    alias=models.TransactionConfigurationTypeAlias(\n",
    "        type=\"FxFwdClose_Otc_All_2\",\n",
    "        description=\"Close a position in an  FX Forward Instrument\",\n",
    "        transaction_class=\"Basic\",\n",
    "        transaction_group=\"default\",\n",
    "        transaction_roles=\"Longer\",\n",
    "    ),\n",
    "    movements=[\n",
    "        models.TransactionConfigurationMovementDataRequest(\n",
    "            movement_types=\"StockMovement\",\n",
    "            side=\"Side1\",\n",
    "            direction=-1\n",
    "        ),\n",
    "        models.TransactionConfigurationMovementDataRequest(\n",
    "            movement_types=\"CashSettlement\",\n",
    "            side=\"Side2\",\n",
    "            direction=-1\n",
    "        ),\n",
    "        models.TransactionConfigurationMovementDataRequest(\n",
    "            movement_types=\"CashSettlement\",\n",
    "            side=\"FxFwdFgnCashSide_02\",\n",
    "            direction=1\n",
    "        )\n",
    "    ],\n",
    ")\n"
   ],
   "metadata": {
    "collapsed": false,
    "pycharm": {
     "name": "#%%\n"
    }
   }
  },
  {
   "cell_type": "code",
   "execution_count": 84,
   "outputs": [
    {
     "data": {
      "text/plain": "'GBP/USD @ 1.2609 for 2020-06-08 00:00:00+00:00 uploaded to quote store.'"
     },
     "metadata": {},
     "output_type": "display_data"
    },
    {
     "data": {
      "text/plain": "'USD/GBP @ 0.7930843048616069 for 2020-06-08 00:00:00+00:00 uploaded to quote store.'"
     },
     "metadata": {},
     "output_type": "display_data"
    }
   ],
   "source": [
    "portfolio_otc = \"fxfwd-portfolio_otc_02\"\n",
    "create_portfolio(scope, portfolio_otc, portfolio_otc, \"GBP\")\n",
    "\n",
    "fwd_units = 10000\n",
    "transaction_price = 1.2509  # spot + 3y fwd spread\n",
    "consideration = 10000\n",
    "fgn_consideration = 10000 * 1.2509 # should I retrieve this quote from quote store? or insturment def? or this ok to say just replicate a cash transaction from extern system\n",
    "dom_units_on_settlement = 10000\n",
    "fgn_units_on_settlement = 12509\n",
    "\n",
    "# assume spot rate on expiry date is higher thant forward rate\n",
    "upsert_gbp_usd_fx_rate(1.2609, maturity_dates['1W'])\n",
    "\n",
    "# buy transaction on June 1\n",
    "upsert_fwd_transaction(scope, \"fx_fwd_1w_open_001\", \"FxFwdOpen_Otc\", \"GBP\", gbpusd_fx_fwd_1w_instr_client_id, trade_date, trade_date, portfolio_otc, units, transaction_price, consideration)\n",
    "\n",
    "\n",
    "\n"
   ],
   "metadata": {
    "collapsed": false,
    "pycharm": {
     "name": "#%%\n"
    }
   }
  },
  {
   "cell_type": "markdown",
   "source": [
    "#### Open Forward Positions"
   ],
   "metadata": {
    "collapsed": false
   }
  },
  {
   "cell_type": "code",
   "execution_count": 85,
   "outputs": [
    {
     "ename": "AttributeError",
     "evalue": "'tuple' object has no attribute 'isoformat'",
     "output_type": "error",
     "traceback": [
      "\u001B[1;31m---------------------------------------------------------------------------\u001B[0m",
      "\u001B[1;31mAttributeError\u001B[0m                            Traceback (most recent call last)",
      "\u001B[1;32m<ipython-input-85-ff4504a56d82>\u001B[0m in \u001B[0;36m<module>\u001B[1;34m\u001B[0m\n\u001B[0;32m      5\u001B[0m \u001B[1;31m# run aggregations\u001B[0m\u001B[1;33m\u001B[0m\u001B[1;33m\u001B[0m\u001B[1;33m\u001B[0m\u001B[0m\n\u001B[0;32m      6\u001B[0m \u001B[0mresult_t\u001B[0m \u001B[1;33m=\u001B[0m \u001B[0mrun_fx_forward_pricing_aggregation_on_portfolio\u001B[0m\u001B[1;33m(\u001B[0m\u001B[0mscope\u001B[0m\u001B[1;33m,\u001B[0m \u001B[0mportfolio_otc\u001B[0m\u001B[1;33m,\u001B[0m \u001B[0mfx_forward_pricing_recipe\u001B[0m\u001B[1;33m,\u001B[0m \u001B[0mtrade_date\u001B[0m\u001B[1;33m)\u001B[0m\u001B[1;33m\u001B[0m\u001B[1;33m\u001B[0m\u001B[0m\n\u001B[1;32m----> 7\u001B[1;33m \u001B[0mresult_t_p_1\u001B[0m \u001B[1;33m=\u001B[0m \u001B[0mrun_fx_forward_pricing_aggregation_on_portfolio\u001B[0m\u001B[1;33m(\u001B[0m\u001B[0mscope\u001B[0m\u001B[1;33m,\u001B[0m \u001B[0mportfolio_otc\u001B[0m\u001B[1;33m,\u001B[0m \u001B[0mfx_forward_pricing_recipe\u001B[0m\u001B[1;33m,\u001B[0m \u001B[0mt_p_1\u001B[0m\u001B[1;33m)\u001B[0m\u001B[1;33m\u001B[0m\u001B[1;33m\u001B[0m\u001B[0m\n\u001B[0m\u001B[0;32m      8\u001B[0m \u001B[0mresult_t_p_3\u001B[0m \u001B[1;33m=\u001B[0m \u001B[0mrun_fx_forward_pricing_aggregation_on_portfolio\u001B[0m\u001B[1;33m(\u001B[0m\u001B[0mscope\u001B[0m\u001B[1;33m,\u001B[0m \u001B[0mportfolio_otc\u001B[0m\u001B[1;33m,\u001B[0m \u001B[0mfx_forward_pricing_recipe\u001B[0m\u001B[1;33m,\u001B[0m \u001B[0mt_p_3\u001B[0m\u001B[1;33m)\u001B[0m\u001B[1;33m\u001B[0m\u001B[1;33m\u001B[0m\u001B[0m\n\u001B[0;32m      9\u001B[0m \u001B[0mresult_expiry\u001B[0m \u001B[1;33m=\u001B[0m \u001B[0mrun_fx_forward_pricing_aggregation_on_portfolio\u001B[0m\u001B[1;33m(\u001B[0m\u001B[0mscope\u001B[0m\u001B[1;33m,\u001B[0m \u001B[0mportfolio_otc\u001B[0m\u001B[1;33m,\u001B[0m \u001B[0mfx_forward_pricing_recipe\u001B[0m\u001B[1;33m,\u001B[0m \u001B[0mmaturity_dates\u001B[0m\u001B[1;33m[\u001B[0m\u001B[1;34m'1W'\u001B[0m\u001B[1;33m]\u001B[0m\u001B[1;33m)\u001B[0m\u001B[1;33m\u001B[0m\u001B[1;33m\u001B[0m\u001B[0m\n",
      "\u001B[1;32m<ipython-input-17-26980a938508>\u001B[0m in \u001B[0;36mrun_fx_forward_pricing_aggregation_on_portfolio\u001B[1;34m(scope, portfolio, recipe, effective_at)\u001B[0m\n\u001B[0;32m      1\u001B[0m \u001B[1;32mdef\u001B[0m \u001B[0mrun_fx_forward_pricing_aggregation_on_portfolio\u001B[0m\u001B[1;33m(\u001B[0m\u001B[0mscope\u001B[0m\u001B[1;33m,\u001B[0m \u001B[0mportfolio\u001B[0m\u001B[1;33m,\u001B[0m \u001B[0mrecipe\u001B[0m\u001B[1;33m,\u001B[0m \u001B[0meffective_at\u001B[0m\u001B[1;33m)\u001B[0m\u001B[1;33m:\u001B[0m\u001B[1;33m\u001B[0m\u001B[1;33m\u001B[0m\u001B[0m\n\u001B[0;32m      2\u001B[0m     aggregation_request = models.AggregationRequest(\n\u001B[1;32m----> 3\u001B[1;33m         \u001B[0meffective_at\u001B[0m\u001B[1;33m=\u001B[0m\u001B[0meffective_at\u001B[0m\u001B[1;33m.\u001B[0m\u001B[0misoformat\u001B[0m\u001B[1;33m(\u001B[0m\u001B[1;33m)\u001B[0m\u001B[1;33m,\u001B[0m\u001B[1;33m\u001B[0m\u001B[1;33m\u001B[0m\u001B[0m\n\u001B[0m\u001B[0;32m      4\u001B[0m         \u001B[0minline_recipe\u001B[0m\u001B[1;33m=\u001B[0m\u001B[0mrecipe\u001B[0m\u001B[1;33m,\u001B[0m\u001B[1;33m\u001B[0m\u001B[1;33m\u001B[0m\u001B[0m\n\u001B[0;32m      5\u001B[0m         metrics=[\n",
      "\u001B[1;31mAttributeError\u001B[0m: 'tuple' object has no attribute 'isoformat'"
     ]
    }
   ],
   "source": [
    "t_p_1 = datetime(2020, 6, 2, tzinfo=pytz.utc),\n",
    "t_p_3 = datetime(2020, 6, 4, tzinfo=pytz.utc),\n",
    "\n",
    "\n",
    "# run aggregations\n",
    "result_t = run_fx_forward_pricing_aggregation_on_portfolio(scope, portfolio_otc, fx_forward_pricing_recipe, trade_date)\n",
    "result_t_p_1 = run_fx_forward_pricing_aggregation_on_portfolio(scope, portfolio_otc, fx_forward_pricing_recipe, t_p_1)\n",
    "result_t_p_3 = run_fx_forward_pricing_aggregation_on_portfolio(scope, portfolio_otc, fx_forward_pricing_recipe, t_p_3)\n",
    "result_expiry = run_fx_forward_pricing_aggregation_on_portfolio(scope, portfolio_otc, fx_forward_pricing_recipe, maturity_dates['1W'])\n",
    "\n",
    "aggregation_result_to_dataframe([\n",
    "    ['Portfolio PV (CFM Buy Only)', trade_date, result_t.data[0]['Holding/default/PV']],\n",
    "    ['Portfolio PV (CFM Buy Only)', maturity_dates['1W'], result_expiry.data[0]['Holding/default/PV']]\n",
    "])"
   ],
   "metadata": {
    "collapsed": false,
    "pycharm": {
     "name": "#%%\n"
    }
   }
  },
  {
   "cell_type": "markdown",
   "source": [
    "#### On Settlement"
   ],
   "metadata": {
    "collapsed": false
   }
  },
  {
   "cell_type": "code",
   "execution_count": 91,
   "outputs": [
    {
     "data": {
      "text/plain": "{'href': 'https://khalid-local-dev.lusid.com/api/api/transactionportfolios/fx-forward-pricing-nb/fxfwd-portfolio_otc_02/transactions?asAt=2020-07-09T09%3A38%3A50.4088530%2B00%3A00',\n 'links': [{'description': None,\n            'href': 'https://khalid-local-dev.lusid.com/api/api/portfolios/fx-forward-pricing-nb/fxfwd-portfolio_otc_02?effectiveAt=2020-01-01T00%3A00%3A00.0000000%2B00%3A00&asAt=2020-07-09T09%3A38%3A50.4088530%2B00%3A00',\n            'method': 'GET',\n            'relation': 'Root'},\n           {'description': None,\n            'href': 'https://khalid-local-dev.lusid.com/api/api/schemas/entities/UpsertPortfolioTransactionsResponse',\n            'method': 'GET',\n            'relation': 'EntitySchema'},\n           {'description': 'A link to the LUSID Insights website showing all '\n                           'logs related to this request',\n            'href': 'http://khalid-local-dev.lusid.com/app/insights/logs/0HM13URDH63ML:00000001',\n            'method': 'GET',\n            'relation': 'RequestLogs'}],\n 'version': {'as_at_date': datetime.datetime(2020, 7, 9, 9, 38, 50, 408853, tzinfo=tzutc()),\n             'effective_from': datetime.datetime(2020, 1, 1, 0, 0, tzinfo=tzutc())}}"
     },
     "execution_count": 91,
     "metadata": {},
     "output_type": "execute_result"
    }
   ],
   "source": [
    "# close forward on Jun 8\n",
    "#upsert_fwd_transaction(scope, \"fx_fwd_1w_close_001\", \"FxFwdClose_Otc\", \"GBP\", gbpusd_fx_fwd_1w_instr_client_id, maturity_dates['1W'], maturity_dates['1W'], portfolio_otc, units, transaction_price, consideration)\n",
    "# exchange cash flows on Jun 8\n",
    "#upsert_cash_transaction(scope, portfolio_otc, dom_units_on_settlement, transaction_price, consideration, \"fx_fwd_1w_close_001_pay_dom\", \"FxFwdClose_Otc_DomCash\", \"GBP\", maturity_dates['1W'])\n",
    "# has to be in gbp with exch rate. otherwise cost calculated from units\n",
    "#upsert_cash_transaction(scope, portfolio_otc, units, transaction_price, fgn_consideration, \"fx_fwd_1w_close_001_rec_fgn\", \"FxFwdClose_Otc_FgnCash\", \"USD\", maturity_dates['1W'])\n",
    "#upsert_cash_transaction(scope, portfolio_otc, fgn_units_on_settlement, transaction_price, fgn_consideration, \"fx_fwd_1w_close_001_rec_fgn\", \"FxFwdClose_Otc_FgnCash\", \"USD\", maturity_dates['1W'])\n",
    "\n",
    "usd_gbp_contract_rate = 1/1.2509\n",
    "#upsert_fwd_transaction(scope, \"fx_fwd_1w_close_001\", \"FxFwdClose_Otc_All\", \"GBP\", gbpusd_fx_fwd_1w_instr_client_id, maturity_dates['1W'], maturity_dates['1W'], portfolio_otc, units, transaction_price, consideration)\n",
    "fgn_consideration = 12509\n",
    "# close out the fwd\n",
    "close_fwd_request = models.TransactionRequest(\n",
    "        transaction_id=\"fx_fwd_1w_close_001\",\n",
    "        #type=\"FxFwdClose_Otc_All_2\",\n",
    "        type=\"FxFwdClose_FgnCashSettlementOnly\",\n",
    "        instrument_identifiers={\"Instrument/default/ClientInternal\": gbpusd_fx_fwd_1w_instr_client_id},\n",
    "        transaction_date=maturity_dates['1W'].isoformat(),\n",
    "        settlement_date=maturity_dates['1W'].isoformat(),\n",
    "        units=units,\n",
    "        transaction_price=models.TransactionPrice(price=transaction_price, type=\"Price\"),\n",
    "        total_consideration=models.CurrencyAndAmount(amount=fgn_consideration, currency=\"USD\"),\n",
    "        exchange_rate=1.2509,\n",
    "        transaction_currency=\"GBP\",\n",
    "        properties={\n",
    "            f\"Transaction/{scope}/FgnCcy\" : models.PerpetualProperty(\n",
    "                key=f\"Transaction/{scope}/FgnCcy\",\n",
    "                value=models.PropertyValue(label_value=\"CCY_GBP\")\n",
    "            )\n",
    "        }\n",
    "    )\n",
    "\n",
    "api_factory.build(lusid.api.TransactionPortfoliosApi).upsert_transactions(scope=scope,\n",
    "                                                                                         code=portfolio_otc,\n",
    "                                                                                         transaction_request=[close_fwd_request])\n"
   ],
   "metadata": {
    "collapsed": false,
    "pycharm": {
     "name": "#%%\n"
    }
   }
  },
  {
   "cell_type": "markdown",
   "source": [
    "#### Holdings"
   ],
   "metadata": {
    "collapsed": false
   }
  },
  {
   "cell_type": "code",
   "execution_count": 64,
   "outputs": [
    {
     "data": {
      "text/plain": "                 names               effectiveAt         units  settled_units  \\\n0  GBP/USD 1W @ 1.2509 2020-06-01 00:00:00+00:00  10000.000000   10000.000000   \n0              CCY_GBP 2020-06-08 00:00:00+00:00 -10000.000000  -10000.000000   \n\n  holding types                                     cost  \n0             P   {'amount': 10000.0, 'currency': 'GBP'}  \n0             B  {'amount': -10000.0, 'currency': 'GBP'}  ",
      "text/html": "<div>\n<style scoped>\n    .dataframe tbody tr th:only-of-type {\n        vertical-align: middle;\n    }\n\n    .dataframe tbody tr th {\n        vertical-align: top;\n    }\n\n    .dataframe thead th {\n        text-align: right;\n    }\n</style>\n<table border=\"1\" class=\"dataframe\">\n  <thead>\n    <tr style=\"text-align: right;\">\n      <th></th>\n      <th>names</th>\n      <th>effectiveAt</th>\n      <th>units</th>\n      <th>settled_units</th>\n      <th>holding types</th>\n      <th>cost</th>\n    </tr>\n  </thead>\n  <tbody>\n    <tr>\n      <th>0</th>\n      <td>GBP/USD 1W @ 1.2509</td>\n      <td>2020-06-01 00:00:00+00:00</td>\n      <td>10000.000000</td>\n      <td>10000.000000</td>\n      <td>P</td>\n      <td>{'amount': 10000.0, 'currency': 'GBP'}</td>\n    </tr>\n    <tr>\n      <th>0</th>\n      <td>CCY_GBP</td>\n      <td>2020-06-08 00:00:00+00:00</td>\n      <td>-10000.000000</td>\n      <td>-10000.000000</td>\n      <td>B</td>\n      <td>{'amount': -10000.0, 'currency': 'GBP'}</td>\n    </tr>\n  </tbody>\n</table>\n</div>"
     },
     "execution_count": 64,
     "metadata": {},
     "output_type": "execute_result"
    }
   ],
   "source": [
    "holdings_response_trade_date = transaction_portfolios_api.get_holdings(\n",
    "    scope=scope, code=portfolio_otc, property_keys=[\"Instrument/default/Name\"], effective_at=trade_date\n",
    ")\n",
    "\n",
    "trade_date_holdings = display_holdings_summary(holdings_response_trade_date, trade_date)\n",
    "\n",
    "holdings_response_expiry = transaction_portfolios_api.get_holdings(\n",
    "    scope=scope, code=portfolio_otc, property_keys=[\"Instrument/default/Name\"], effective_at=maturity_dates['1W']\n",
    ")\n",
    "\n",
    "expiry_date_holdings = display_holdings_summary(holdings_response_expiry, maturity_dates['1W'])\n",
    "\n",
    "pd.concat([trade_date_holdings, expiry_date_holdings])\n",
    "\n",
    "\n",
    "\n",
    "\n",
    "\n"
   ],
   "metadata": {
    "collapsed": false,
    "pycharm": {
     "name": "#%%\n"
    }
   }
  },
  {
   "cell_type": "code",
   "execution_count": null,
   "outputs": [],
   "source": [
    "create_transaction_type_configuration(\n",
    "    api_factory,\n",
    "    alias=models.TransactionConfigurationTypeAlias(\n",
    "        type=\"FxFwdClose_FgnCashSettlementOnly\",\n",
    "        description=\"Settlment Side of Foreign Cash\",\n",
    "        transaction_class=\"Basic\",\n",
    "        transaction_group=\"default\",\n",
    "        transaction_roles=\"Longer\",\n",
    "    ),\n",
    "    movements=[\n",
    "        models.TransactionConfigurationMovementDataRequest(\n",
    "            movement_types=\"CashSettlement\",\n",
    "            side=\"FxFwdFgnCashSide_02\",\n",
    "            direction=1\n",
    "        )\n",
    "    ],\n",
    ")\n"
   ],
   "metadata": {
    "collapsed": false,
    "pycharm": {
     "name": "#%%\n"
    }
   }
  }
 ],
 "metadata": {
  "kernelspec": {
   "display_name": "Python 3",
   "language": "python",
   "name": "python3"
  },
  "language_info": {
   "codemirror_mode": {
    "name": "ipython",
    "version": 2
   },
   "file_extension": ".py",
   "mimetype": "text/x-python",
   "name": "python",
   "nbconvert_exporter": "python",
   "pygments_lexer": "ipython2",
   "version": "2.7.6"
  }
 },
 "nbformat": 4,
 "nbformat_minor": 0
}