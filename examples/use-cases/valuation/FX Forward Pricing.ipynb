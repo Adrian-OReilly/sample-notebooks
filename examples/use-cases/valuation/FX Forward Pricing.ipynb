{
 "cells": [
  {
   "cell_type": "code",
   "execution_count": 21,
   "metadata": {
    "collapsed": true
   },
   "outputs": [],
   "source": []
  },
  {
   "cell_type": "markdown",
   "source": [
    "# Fx Forward Pricing\n",
    "\n",
    "This notebook will run through the following business use cases :\n",
    "* [Pricing a set of Fx Forwards using the internal LUSID \"Discounting\" model](#pricing_bond)\n",
    "* [Booking a set FX forward instrument transactions and analysing it's impact on holdings the over the life of the contract.\n",
    "* [Valuing a portfolio made up of an Fx forward position with fluctuating market data.](#pricing_bond_portfolio)\n",
    "\n",
    "<br>\n",
    "\n",
    "In doing so we'll cover the following LUSID concepts :\n",
    "* [Defining a LUSID internal representation of an FX forward instrument based on user provided parameters.](#bond_definition)\n",
    "* [Supplying both simple and complex market data structures through the Quotes and the StructureMarketData store.](#structured_market_data)\n",
    "* [Configuring recipes to value our FX forward in LUSID making use of the structured market data (GBP and USD OIS Yield Curves).](#recipe_configuration)\n",
    "* [Running inline aggregations that value a unitised FX forward.](#accrued_interest)\n",
    "* Creating custom transaction types and custom sides to properly model the life of an Fx Forward\n",
    "* Running aggregations that value a portfolio containing FX forwards.\n",
    "\n",
    "<br>\n",
    "\n",
    "For this notebook example we'll work the following set of GBP/USD Forwards with 3Y, 5Y and 10Y maturities:\n",
    "\n",
    "* Trade Date : 02 Aug 2020\n",
    "* Maturity Dates :\n",
    "    * 02 Aug 2023 (3Y)\n",
    "    * 02 Aug 2025 (5Y)\n",
    "    * 02 Aug 2030 (10Y)\n",
    "* Spot Rate : 1.2508\n",
    "* Domestic Amount : 100,000,000\n",
    "* Foreign Amounts :\n",
    "    * 125,710,000 (3Y)\n",
    "    * 126,485,000 (5Y)\n",
    "    * 130,430,000 (10Y)\n",
    "\n",
    "\n",
    "## Setup LUSID and LUSID API objects."
   ],
   "metadata": {
    "collapsed": false,
    "pycharm": {
     "name": "#%% md\n"
    }
   }
  },
  {
   "cell_type": "code",
   "execution_count": 5,
   "outputs": [
    {
     "name": "stdout",
     "output_type": "stream",
     "text": [
      "LUSID Environment Initialised\n",
      "LUSID SDK Version:  0.6.4778.0\n"
     ]
    }
   ],
   "source": [
    "import os\n",
    "from datetime import datetime, timedelta\n",
    "\n",
    "import lusid\n",
    "import pandas as pd\n",
    "import pytz\n",
    "from IPython.core.display import display\n",
    "from lusid import models\n",
    "from lusid.utilities import ApiClientFactory\n",
    "from lusidjam import RefreshingToken\n",
    "from lusidtools.cocoon.transaction_type_upload import (\n",
    "    create_transaction_type_configuration,\n",
    ")\n",
    "from lusidtools.cocoon.cocoon_printer import (\n",
    "    format_portfolios_response,\n",
    ")\n",
    "from lusidtools.jupyter_tools.stop_execution import StopExecution\n",
    "\n",
    "\n",
    "# Authenticate our user and create our API client\n",
    "from lusidtools.cocoon import load_from_data_frame\n",
    "from lusidtools.pandas_utils.lusid_pandas import lusid_response_to_data_frame\n",
    "secrets_path = os.getenv(\"FBN_SECRETS_PATH\")\n",
    "\n",
    "# Initiate an API Factory which is the client side object for interacting with LUSID APIs\n",
    "api_factory = lusid.utilities.ApiClientFactory(\n",
    "    token=RefreshingToken(),\n",
    "    api_secrets_filename=secrets_path,\n",
    "    app_name=\"LusidJupyterNotebook\",\n",
    ")\n",
    "\n",
    "print ('LUSID Environment Initialised')\n",
    "print ('LUSID SDK Version: ', api_factory.build(lusid.api.ApplicationMetadataApi).get_lusid_versions().build_version)\n",
    "\n",
    "# Setup the apis we'll use in this notebook:\n",
    "instruments_api = api_factory.build(lusid.api.InstrumentsApi)\n",
    "structured_market_data_api = api_factory.build(lusid.api.StructuredMarketDataApi)\n",
    "structured_result_data_api = api_factory.build(lusid.api.StructuredResultDataApi)\n",
    "quotes_api = api_factory.build(lusid.api.QuotesApi)\n",
    "transaction_portfolios_api = api_factory.build(lusid.api.TransactionPortfoliosApi)\n",
    "system_configuration_api = api_factory.build(lusid.api.SystemConfigurationApi)\n",
    "\n",
    "# Setup the scope we'll use in this notebook:\n",
    "scope = \"fx-forward-pricing-nb\""
   ],
   "metadata": {
    "collapsed": false,
    "pycharm": {
     "name": "#%%\n"
    }
   }
  },
  {
   "cell_type": "code",
   "execution_count": 6,
   "outputs": [],
   "source": [
    "# Settings and utility functions to display objects and responses more clearly.\n",
    "pd.set_option('float_format', '{:f}'.format)\n",
    "def aggregation_result_to_dataframe(aggregation_results):\n",
    "    df = pd.DataFrame(aggregation_results, columns = ['Name', 'Effective At', 'Value'])\n",
    "    df['Effective At'] = df['Effective At'].dt.strftime('%d %b %Y')\n",
    "    return df\n",
    "\n",
    "def display_holdings_summary(response, effective_at):\n",
    "    # inspect holdings response for today\n",
    "    hld = [i for i in response.values]\n",
    "\n",
    "    names = []\n",
    "    #amount = []\n",
    "    units = []\n",
    "    holding_types = []\n",
    "    cost = []\n",
    "    settled_units = []\n",
    "\n",
    "\n",
    "    for item in hld:\n",
    "\n",
    "        names.append(item.properties[\"Instrument/default/Name\"].value.label_value)\n",
    "        #amount.append(item.cost.amount)\n",
    "        units.append(item.units)\n",
    "        holding_types.append(item.holding_type)\n",
    "        settled_units.append(item.settled_units)\n",
    "        cost.append(item.cost)\n",
    "\n",
    "\n",
    "    data = {\"names\": names, \"effectiveAt\" : effective_at, \"units\": units, \"settled_units\": settled_units, \"holding types\": holding_types, \"cost\" : cost}\n",
    "\n",
    "    summary = pd.DataFrame(data=data)\n",
    "    return summary"
   ],
   "metadata": {
    "collapsed": false,
    "pycharm": {
     "name": "#%%\n"
    }
   }
  },
  {
   "cell_type": "markdown",
   "source": [
    "## Define our Fx Forward Instruments\n",
    "\n",
    "We'll start by defining our forwards using LUSID's internal representation of an Fx forward instrument. For a detailed\n",
    "breakdown the internal representation take a look at the \"FxForwardInstrument\" section of the [LUSID API Swagger Specification](https://www.lusid.com/api/swagger/index.html)\n",
    "\n",
    "### Initialise FxForward Parameters\n",
    "\n",
    "Let's setup the basic parameters required for our set of Fx forwards:"
   ],
   "metadata": {
    "collapsed": false,
    "pycharm": {
     "name": "#%% md\n"
    }
   }
  },
  {
   "cell_type": "code",
   "execution_count": 7,
   "outputs": [],
   "source": [
    "trade_date = datetime(2020, 6, 1, tzinfo=pytz.utc)\n",
    "#trade_date = datetime.today().replace(tzinfo=pytz.utc)\n",
    "maturity_dates = {\n",
    "    '1W' : datetime(2020, 6, 8, tzinfo=pytz.utc),\n",
    "    '3Y' : datetime(2023, 6, 1, tzinfo=pytz.utc),\n",
    "    '5Y' : datetime(2025, 6, 1, tzinfo=pytz.utc),\n",
    "    '10Y': datetime(2030, 6, 1, tzinfo=pytz.utc)\n",
    "}\n",
    "spot_rate =  1.2508\n",
    "dom_amount = 100000000\n",
    "fgn_amounts = {\n",
    "    '1W' : 125090000,\n",
    "    '3Y' : 125710000,\n",
    "    '5Y' : 126485000,\n",
    "    '10Y': 130430000\n",
    "}"
   ],
   "metadata": {
    "collapsed": false,
    "pycharm": {
     "name": "#%%\n"
    }
   }
  },
  {
   "cell_type": "markdown",
   "source": [
    "### Create FxForwardInstrument Definitions\n",
    "\n",
    "We can use those parameters to construct a LUSID representation of an FxForward. In our case we'll define a set made up of a\n",
    "3Y, 5Y and 10Y GBP/USD Fx Forward."
   ],
   "metadata": {
    "collapsed": false,
    "pycharm": {
     "name": "#%% md\n"
    }
   }
  },
  {
   "cell_type": "code",
   "execution_count": 8,
   "outputs": [],
   "source": [
    "def create_fx_forward_instrument_definition(dom_amount, fgn_amount, spot_rate, start_date, maturity_date):\n",
    "    return models.FxForwardInstrument(\n",
    "            dom_amount=dom_amount,\n",
    "            fgn_amount=-fgn_amount,\n",
    "            fgn_ccy=\"USD\",\n",
    "            ref_spot_rate=spot_rate,\n",
    "            start_date=start_date.isoformat(),\n",
    "            maturity_date=maturity_date,\n",
    "            dom_ccy=\"GBP\",\n",
    "            instrument_type=\"FxForward\")\n",
    "\n",
    "gbpusd_fx_fwd_1w_instr_def = create_fx_forward_instrument_definition(dom_amount, fgn_amounts['1W'], spot_rate, trade_date, maturity_dates['1W'])\n",
    "gbpusd_fx_fwd_3y_instr_def = create_fx_forward_instrument_definition(dom_amount, fgn_amounts['3Y'], spot_rate, trade_date, maturity_dates['3Y'])\n",
    "gbpusd_fx_fwd_5y_instr_def = create_fx_forward_instrument_definition(dom_amount, fgn_amounts['5Y'], spot_rate, trade_date, maturity_dates['5Y'])\n",
    "gbpusd_fx_fwd_10y_instr_def = create_fx_forward_instrument_definition(dom_amount, fgn_amounts['10Y'], spot_rate, trade_date, maturity_dates['10Y'])"
   ],
   "metadata": {
    "collapsed": false,
    "pycharm": {
     "name": "#%%\n"
    }
   }
  },
  {
   "cell_type": "markdown",
   "source": [
    "## Supply Market Data\n",
    "\n",
    "Before we can price our Fx forwards we need to ensure LUSID has the required FX and interest rates available. This allows us\n",
    "to showcase two ways of getting the market data we need to price an FX forward into LUSID. The simpler method for the FX rates\n",
    "can simply be upserted as quotes but the more core complex structure of the FGPB and USD yield curves required the use of the\n",
    "Structured Market Data store.\n",
    "\n",
    "Let's start by upserting the GBP/USD FX rates for the trade data and a few subsequent dates we'll use to price the FX Forwards.\n",
    "So we can see some movement in the forward prices we'll mock a drop in the spot rate on June 2nd followed by a sharp rise on June 3rd. When providing market\n",
    "data to LUSID we also need to identify the supplier of the data and it's scope. The supplier is required further in the\n",
    "notebook when we instruct LUSID how to source data for a particular aggregation.\n",
    "\n",
    "### Upsert Spot Fx Rates"
   ],
   "metadata": {
    "collapsed": false,
    "pycharm": {
     "name": "#%% md\n"
    }
   }
  },
  {
   "cell_type": "code",
   "execution_count": 31,
   "outputs": [
    {
     "data": {
      "text/plain": "'GBP/USD @ 1.2508 for 2020-06-01 00:00:00+00:00 uploaded to quote store.'"
     },
     "metadata": {},
     "output_type": "display_data"
    },
    {
     "data": {
      "text/plain": "'USD/GBP @ 0.799488327470419 for 2020-06-01 00:00:00+00:00 uploaded to quote store.'"
     },
     "metadata": {},
     "output_type": "display_data"
    },
    {
     "data": {
      "text/plain": "'GBP/USD @ 1.2428 for 2020-06-02 00:00:00+00:00 uploaded to quote store.'"
     },
     "metadata": {},
     "output_type": "display_data"
    },
    {
     "data": {
      "text/plain": "'USD/GBP @ 0.804634695848085 for 2020-06-02 00:00:00+00:00 uploaded to quote store.'"
     },
     "metadata": {},
     "output_type": "display_data"
    },
    {
     "data": {
      "text/plain": "'GBP/USD @ 1.2588 for 2020-06-03 00:00:00+00:00 uploaded to quote store.'"
     },
     "metadata": {},
     "output_type": "display_data"
    },
    {
     "data": {
      "text/plain": "'USD/GBP @ 0.7944073721004131 for 2020-06-03 00:00:00+00:00 uploaded to quote store.'"
     },
     "metadata": {},
     "output_type": "display_data"
    }
   ],
   "source": [
    "market_data_scope = 'fx-forward-pricing-nb-market-data'\n",
    "market_supplier = 'Lusid'\n",
    "\n",
    "t_p_1 = datetime(2020, 6, 2, tzinfo=pytz.utc)\n",
    "t_p_2 = datetime(2020, 6, 3, tzinfo=pytz.utc)\n",
    "\n",
    "\n",
    "def upsert_gbp_usd_fx_rate(rate, effective_at):\n",
    "    upsert_quote_request = models.UpsertQuoteRequest(\n",
    "        quote_id=models.QuoteId(\n",
    "            quote_series_id=models.QuoteSeriesId(\n",
    "                provider=market_supplier,\n",
    "                instrument_id=\"GBP/USD\",\n",
    "                instrument_id_type='CurrencyPair',\n",
    "                quote_type='Price',\n",
    "                field='mid'),\n",
    "            effective_at=effective_at),\n",
    "        metric_value=models.MetricValue(\n",
    "            value=rate,\n",
    "            unit='rate'\n",
    "        ),\n",
    "        lineage='FxDataVendorABC')\n",
    "\n",
    "    # we need to insert the USD/GBP quote as well for use later in the notebook\n",
    "    # when we're booking the sell leg of our forward as a transaction\n",
    "    upsert_quote_request_inverse = models.UpsertQuoteRequest(\n",
    "        quote_id=models.QuoteId(\n",
    "            quote_series_id=models.QuoteSeriesId(\n",
    "                provider=market_supplier,\n",
    "                instrument_id=\"USD/GBP\",\n",
    "                instrument_id_type='CurrencyPair',\n",
    "                quote_type='Price',\n",
    "                field='mid'),\n",
    "            effective_at=effective_at),\n",
    "        metric_value=models.MetricValue(\n",
    "            value=1/rate,\n",
    "            unit='rate'\n",
    "        ),\n",
    "        lineage='FxDataVendorABC')\n",
    "\n",
    "    response_gbp_usd = quotes_api.upsert_quotes(\n",
    "            scope=market_data_scope,\n",
    "            request_body={\"gbp-usd-01\": upsert_quote_request})\n",
    "\n",
    "    response_usd_gbp = quotes_api.upsert_quotes(\n",
    "            scope=market_data_scope,\n",
    "            request_body={\"usd-gbp-01\": upsert_quote_request_inverse})\n",
    "\n",
    "    if response_gbp_usd.failed or response_usd_gbp.failed:\n",
    "        raise StopExecution(f\"Failed to upload currency pairs:{response_gbp_usd.failed} or {response_usd_gbp.failed}\")\n",
    "\n",
    "    display(f\"GBP/USD @ {rate} for {effective_at} uploaded to quote store.\")\n",
    "    display(f\"USD/GBP @ {1/rate} for {effective_at} uploaded to quote store.\")\n",
    "\n",
    "\n",
    "upsert_gbp_usd_fx_rate(spot_rate, trade_date)\n",
    "# drop in fx rate\n",
    "upsert_gbp_usd_fx_rate(spot_rate - 0.0080, t_p_1)\n",
    "# increase in fx rate\n",
    "upsert_gbp_usd_fx_rate(spot_rate + 0.0080, t_p_2)\n"
   ],
   "metadata": {
    "collapsed": false,
    "pycharm": {
     "name": "#%%\n"
    }
   }
  },
  {
   "cell_type": "markdown",
   "source": [
    "### Interest Rate Curves\n",
    "\n",
    "As well as the FX rate to price our Forwards we also need to supply the interest rate curves for our domestic and foreign currencies. LUSID supports\n",
    "storage of complex market data structures through the [Structured market data](\"https://support.finbourne.com/how-do-i-store-and-tr\")\n",
    "store. When upserting the interest rate curves we use a StructuredMarketDataId to not onl uniquely identify the curve but also provide\n",
    "the supporting information required by the aggregation engine to correctly resolve the curves during the execution of the FX forward valuation."
   ],
   "metadata": {
    "collapsed": false,
    "pycharm": {
     "name": "#%% md\n"
    }
   }
  },
  {
   "cell_type": "code",
   "execution_count": 26,
   "outputs": [
    {
     "name": "stdout",
     "output_type": "stream",
     "text": [
      "GBP/GBPOIS interest rate curve uploaded into scope=fx-forward-pricing-nb-market-data\n",
      "USD/USDOIS interest rate curve uploaded into scope=fx-forward-pricing-nb-market-data\n"
     ]
    }
   ],
   "source": [
    "def upsert_interest_rate_curve(ir_curve_json, scope, effective_at, market_asset):\n",
    "\n",
    "    # provide the structured data file source and it's document format\n",
    "    structured_market_data = models.StructuredMarketData(document_format=\"Json\", version=\"1.0.0\",\n",
    "                                                name=\"DFEUROISCurve\", document=ir_curve_json)\n",
    "\n",
    "\n",
    "    # create a unique identifier for our OIS yield curves\n",
    "    structured_id = models.StructuredMarketDataId(provider=\"Lusid\",price_source=None,\n",
    "                                                 lineage=\"CurveVendorABC\", effective_at=effective_at,\n",
    "                                                 market_element_type=\"ZeroCurve\",\n",
    "                                                 market_asset=market_asset)\n",
    "\n",
    "    upsert_request = models.UpsertStructuredMarketDataRequest(market_data_id=structured_id,\n",
    "                                                          market_data=structured_market_data)\n",
    "\n",
    "    # https://www.lusid.com/docs/api#operation/UpsertStructuredMarketData\n",
    "    response = structured_market_data_api.upsert_structured_market_data(\n",
    "        scope=scope,\n",
    "        request_body={market_asset : upsert_request}\n",
    "    )\n",
    "\n",
    "    if response.failed:\n",
    "        raise StopExecution(\"Failed to upload interest rates curve {response.failed}\")\n",
    "\n",
    "    print(f\"{market_asset} interest rate curve uploaded into scope={scope}\")\n",
    "\n",
    "\n",
    "def load_ois_curve_json(ccy, shift=None):\n",
    "    ois_curve_path = f\"data/{ccy}OIS50_shift.json\" if shift else f\"data/{ccy}OIS50.json\"\n",
    "    with open(ois_curve_path, \"r\") as ir_curve_json:\n",
    "        return ir_curve_json.read()\n",
    "\n",
    "ois_curve_gbp_json = load_ois_curve_json('GBP')\n",
    "upsert_interest_rate_curve(ois_curve_gbp_json, market_data_scope, trade_date, \"GBP/GBPOIS\")\n",
    "\n",
    "ois_curve_usd_json = load_ois_curve_json('USD')\n",
    "upsert_interest_rate_curve(ois_curve_usd_json, market_data_scope, trade_date, \"USD/USDOIS\")"
   ],
   "metadata": {
    "collapsed": false,
    "pycharm": {
     "name": "#%%\n"
    }
   }
  },
  {
   "cell_type": "markdown",
   "source": [
    "## Defining our Fx Forward Valuation\n",
    "\n",
    "With our Fx forward instruments now defined we can move onto valuing them via LUSID's aggregation engine. But before we\n",
    "can execute the aggregation we need to configure a [Recipe](\"https://support.finbourne.com/what-is-a-lusid-recipe-and-how-is-it-used\")\n",
    "instructing LUSID on how to value our Fx forwards. Specifically we need to select the Fx Forward pricing model to use and identify\n",
    "where the aggregation can resolve the market data the model needs.\n",
    "\n",
    "### Selecting a Pricing Model\n",
    "\n",
    "The pricing model we wish to use is passed in through defining a PricingContext. See the [Swagger spec](\"https://www.lusid.com/api/swagger/index.html\") under \"PricingContext\" for a detailed\n",
    "description of the parameters. For this notebook we'll use the LUSID supplied \"Discounting\" model:"
   ],
   "metadata": {
    "collapsed": false,
    "pycharm": {
     "name": "#%% md\n"
    }
   }
  },
  {
   "cell_type": "code",
   "execution_count": 11,
   "outputs": [],
   "source": [
    "def create_pricing_context():\n",
    "    vendor_model_rule = models.VendorModelRule(\n",
    "        supplier=\"Lusid\",\n",
    "        model_name=\"Discounting\",\n",
    "        instrument_type=\"FxForward\",\n",
    "        parameters=\"{}\")\n",
    "\n",
    "    return models.PricingContext(\n",
    "        model_rules=[vendor_model_rule]\n",
    "    )\n",
    "\n",
    "pricing_context = create_pricing_context()"
   ],
   "metadata": {
    "collapsed": false,
    "pycharm": {
     "name": "#%%\n"
    }
   }
  },
  {
   "cell_type": "markdown",
   "source": [
    "### Selecting the Market Data\n",
    "\n",
    "We can instruct LUSID on where to resolve market data required for pricing our Fx forwards through defining a MarketContext. See the [Swagger spec](\"https://www.lusid.com/api/swagger/index.html#model-MarketContext\")\n",
    "under \"MarketContext\" for a detailed description of the parameters. Recall that when we upserted our quote we passed in a supplier and a scope. One of\n",
    "the powerful features in LUSID is the ability to run valuations against market data from different suppliers, or even define market data retrieval rules\n",
    "to fallback to suppliers should your primary supplier not have the required data.\n",
    "\n",
    "However our example is trivial as we only require the spot rate we loaded in earlier. So we'll define a simple market context :"
   ],
   "metadata": {
    "collapsed": false,
    "pycharm": {
     "name": "#%% md\n"
    }
   }
  },
  {
   "cell_type": "code",
   "execution_count": 12,
   "outputs": [],
   "source": [
    "def create_market_context():\n",
    "    return models.MarketContext(\n",
    "        # set rules for where we should resolve our rates data. In our case the interest rate curves we inserted into\n",
    "        # the structured market result data store.\n",
    "        market_rules=[\n",
    "            models.MarketDataKeyRule(\n",
    "                key=\"Rates.*.*\",\n",
    "                data_scope=market_data_scope,\n",
    "                supplier=market_supplier,\n",
    "                quote_type='Rate',\n",
    "                field='Mid')\n",
    "        ],\n",
    "        # control default options for resolving market data. In our case simply default to the LUSID market_supplier\n",
    "        # and market data scope we defined earlier.\n",
    "        options=models.MarketOptions(\n",
    "            default_supplier=market_supplier,\n",
    "            default_scope=market_data_scope)\n",
    "    )\n",
    "\n",
    "    return market_context\n",
    "\n",
    "market_context = create_market_context()"
   ],
   "metadata": {
    "collapsed": false,
    "pycharm": {
     "name": "#%%\n"
    }
   }
  },
  {
   "cell_type": "markdown",
   "source": [
    "### Configure our FX Forward Recipe\n",
    "\n",
    "Now that we've defined what pricing model to use and where to source the market data we can bring those instructions\n",
    "together in a [Recipe](\"https://support.finbourne.com/what-is-a-lusid-recipe-and-how-is-it-used\"):"
   ],
   "metadata": {
    "collapsed": false,
    "pycharm": {
     "name": "#%% md\n"
    }
   }
  },
  {
   "cell_type": "code",
   "execution_count": 13,
   "outputs": [],
   "source": [
    "def create_fx_forward_pricing_recipe():\n",
    "    return models.ConfigurationRecipe(\n",
    "            scope=scope,\n",
    "            code=\"fx-forward-pricing-recipe\",\n",
    "            description=\"Price Fx Forwards using LUSID internal model\",\n",
    "            market=market_context,\n",
    "            pricing=pricing_context\n",
    "        )\n",
    "\n",
    "fx_forward_pricing_recipe = create_fx_forward_pricing_recipe()"
   ],
   "metadata": {
    "collapsed": false,
    "pycharm": {
     "name": "#%%\n"
    }
   }
  },
  {
   "cell_type": "markdown",
   "source": [
    "## Price the FX Forwards\n",
    "\n",
    "Let's summarise our current state:\n",
    " * We've defined a set of GBP/USD FX forwards for maturity in 3Y, 5Y and 10Y.\n",
    " * We've loaded in the spot GBP/USD rates for the dates we're going to value our forwards against.\n",
    " * We've setup our Recipe that configures how we would like to price our bond and where to source our required market data.\n",
    "\n",
    "As we have no existing positions in the FX forward booked against a portfolio we'll run our aggregation on an inlined portfolio.\n",
    "That is a portfolio made up of a set of weighted instruments only. In our case each request will be made up of only one instrument which\n",
    "will be the FX forward we're valuing.\n",
    "\n",
    "### Run an Aggregation to Price our Forwards"
   ],
   "metadata": {
    "collapsed": false,
    "pycharm": {
     "name": "#%% md\n"
    }
   }
  },
  {
   "cell_type": "code",
   "execution_count": 14,
   "outputs": [],
   "source": [
    "def run_fx_forward_pricing_aggregation(maturity, effective_at, fx_forward_instrument_definition, pricing_recipe):\n",
    "    # setup weighted instrument (only our gilt definition)\n",
    "    fx_forward = models.WeightedInstrument(quantity=1, instrument=fx_forward_instrument_definition, holding_identifier=f\"{maturity}-holding\")\n",
    "\n",
    "    # create our aggregation request made up of our recipe and the metrics we would like to calculate (Bond PV)\n",
    "    aggregation_request = models.AggregationRequest(\n",
    "        effective_at=effective_at,\n",
    "        inline_recipe=pricing_recipe,\n",
    "        metrics=[\n",
    "            models.AggregateSpec(key='Holding/default/PV', op='Value'),\n",
    "        ]\n",
    "    )\n",
    "\n",
    "    # As we're running an inline aggregation we must wrap our original aggregation request with an inline aggregation\n",
    "    # request and pass in our weighted instruments\n",
    "    inline_aggregation_request = models.InlineAggregationRequest(\n",
    "        request=aggregation_request, instruments=[fx_forward]\n",
    "    )\n",
    "\n",
    "    # https://www.lusid.com/docs/api#operation/GetAggregationOfWeightedInstruments\n",
    "    return api_factory.build(lusid.api.AggregationApi).get_aggregation_of_weighted_instruments(\n",
    "        market_data_scope, inline_aggregation_request=inline_aggregation_request)\n"
   ],
   "metadata": {
    "collapsed": false,
    "pycharm": {
     "name": "#%%\n"
    }
   }
  },
  {
   "cell_type": "markdown",
   "source": [
    "Let's start by running the 5Y forward valuation across the three dates for which we upserted spot GBP/USD quotes. Recall the spot rate quotes were 1.2508 for\n",
    "trade date, which then dropped by 0.0080 on day two and subsequently then increased by 0.0160 on day 3."
   ],
   "metadata": {
    "collapsed": false,
    "pycharm": {
     "name": "#%% md\n"
    }
   }
  },
  {
   "cell_type": "code",
   "execution_count": 27,
   "outputs": [
    {
     "data": {
      "text/plain": "                    Name Effective At     Value\n0  GBP/USD 5Y Forward PV  01 Jun 2020 -0.011177\n1  GBP/USD 5Y Forward PV  02 Jun 2020 -0.017654\n2  GBP/USD 5Y Forward PV  03 Jun 2020 -0.004782",
      "text/html": "<div>\n<style scoped>\n    .dataframe tbody tr th:only-of-type {\n        vertical-align: middle;\n    }\n\n    .dataframe tbody tr th {\n        vertical-align: top;\n    }\n\n    .dataframe thead th {\n        text-align: right;\n    }\n</style>\n<table border=\"1\" class=\"dataframe\">\n  <thead>\n    <tr style=\"text-align: right;\">\n      <th></th>\n      <th>Name</th>\n      <th>Effective At</th>\n      <th>Value</th>\n    </tr>\n  </thead>\n  <tbody>\n    <tr>\n      <th>0</th>\n      <td>GBP/USD 5Y Forward PV</td>\n      <td>01 Jun 2020</td>\n      <td>-0.011177</td>\n    </tr>\n    <tr>\n      <th>1</th>\n      <td>GBP/USD 5Y Forward PV</td>\n      <td>02 Jun 2020</td>\n      <td>-0.017654</td>\n    </tr>\n    <tr>\n      <th>2</th>\n      <td>GBP/USD 5Y Forward PV</td>\n      <td>03 Jun 2020</td>\n      <td>-0.004782</td>\n    </tr>\n  </tbody>\n</table>\n</div>"
     },
     "execution_count": 27,
     "metadata": {},
     "output_type": "execute_result"
    }
   ],
   "source": [
    "result_t = run_fx_forward_pricing_aggregation('5Y', trade_date, gbpusd_fx_fwd_5y_instr_def, fx_forward_pricing_recipe)\n",
    "result_t_plus_one = run_fx_forward_pricing_aggregation('5Y', t_p_1, gbpusd_fx_fwd_5y_instr_def, fx_forward_pricing_recipe)\n",
    "result_t_plus_two = run_fx_forward_pricing_aggregation('5Y', t_p_2, gbpusd_fx_fwd_5y_instr_def, fx_forward_pricing_recipe)\n",
    "\n",
    "aggregation_result_to_dataframe([\n",
    "    ['GBP/USD 5Y Forward PV', trade_date, result_t.data[0]['Holding/default/PV']],\n",
    "    ['GBP/USD 5Y Forward PV', t_p_1, result_t_plus_one.data[0]['Holding/default/PV']],\n",
    "    ['GBP/USD 5Y Forward PV', t_p_2, result_t_plus_two.data[0]['Holding/default/PV']]\n",
    "])"
   ],
   "metadata": {
    "collapsed": false,
    "pycharm": {
     "name": "#%%\n"
    }
   }
  },
  {
   "cell_type": "markdown",
   "source": [
    "Let's now take a slightly different perspective and look at the valuations across the Forward curve:"
   ],
   "metadata": {
    "collapsed": false,
    "pycharm": {
     "name": "#%% md\n"
    }
   }
  },
  {
   "cell_type": "code",
   "execution_count": 52,
   "outputs": [
    {
     "data": {
      "text/plain": "                     Name Effective At     Value\n0   GBP/USD 3Y Forward PV  01 Jun 2020 -0.002024\n1   GBP/USD 5Y Forward PV  01 Jun 2020 -0.006160\n2  GBP/USD 10Y Forward PV  01 Jun 2020 -0.032075",
      "text/html": "<div>\n<style scoped>\n    .dataframe tbody tr th:only-of-type {\n        vertical-align: middle;\n    }\n\n    .dataframe tbody tr th {\n        vertical-align: top;\n    }\n\n    .dataframe thead th {\n        text-align: right;\n    }\n</style>\n<table border=\"1\" class=\"dataframe\">\n  <thead>\n    <tr style=\"text-align: right;\">\n      <th></th>\n      <th>Name</th>\n      <th>Effective At</th>\n      <th>Value</th>\n    </tr>\n  </thead>\n  <tbody>\n    <tr>\n      <th>0</th>\n      <td>GBP/USD 3Y Forward PV</td>\n      <td>01 Jun 2020</td>\n      <td>-0.002024</td>\n    </tr>\n    <tr>\n      <th>1</th>\n      <td>GBP/USD 5Y Forward PV</td>\n      <td>01 Jun 2020</td>\n      <td>-0.006160</td>\n    </tr>\n    <tr>\n      <th>2</th>\n      <td>GBP/USD 10Y Forward PV</td>\n      <td>01 Jun 2020</td>\n      <td>-0.032075</td>\n    </tr>\n  </tbody>\n</table>\n</div>"
     },
     "execution_count": 52,
     "metadata": {},
     "output_type": "execute_result"
    }
   ],
   "source": [
    "result_3y = run_fx_forward_pricing_aggregation('3Y', trade_date, gbpusd_fx_fwd_3y_instr_def, fx_forward_pricing_recipe)\n",
    "result_5y = run_fx_forward_pricing_aggregation('5Y', trade_date, gbpusd_fx_fwd_5y_instr_def, fx_forward_pricing_recipe)\n",
    "result_10y = run_fx_forward_pricing_aggregation('10Y', trade_date, gbpusd_fx_fwd_10y_instr_def, fx_forward_pricing_recipe)\n",
    "\n",
    "aggregation_result_to_dataframe([\n",
    "    ['GBP/USD 3Y Forward PV', trade_date, result_3y.data[0]['Holding/default/PV']],\n",
    "    ['GBP/USD 5Y Forward PV', trade_date, result_5y.data[0]['Holding/default/PV']],\n",
    "    ['GBP/USD 10Y Forward PV', trade_date, result_10y.data[0]['Holding/default/PV']]\n",
    "])\n"
   ],
   "metadata": {
    "collapsed": false,
    "pycharm": {
     "name": "#%%\n"
    }
   }
  },
  {
   "cell_type": "markdown",
   "source": [
    "## Adding FX Forwards to our Portfolio\n",
    "\n",
    "TODO introcude working with portfolio:\n",
    "    Discuss need to properly book transactions on open and close\n",
    "    Discuss Pricing\n",
    "\n",
    "\n",
    "\n",
    "Up until now we've only priced our Fx Forwards as unitised instruments. Let's now take it a step further and build a simple portfolio made up of\n",
    "an actual FX forward position we decide to enter with a counterparty and see it through till maturity. Here's a quick preview of what we aim to do :\n",
    "* Setup a portfolio and book a transaction entering into an FX Forward position\n",
    "* Simulate market movements in fx and interest rates during the life of the position and run valuations to view the impact on our portfolio PV.\n",
    "* Book a transaction on maturity closing the forward and reflecting the cash movements.\n",
    "* Analyse the the evolution of our portfolio holdgins over the life of the contract.\n",
    "\n",
    "\n",
    "\n",
    "### Setting up our Portfolio\n",
    "\n",
    "We'll firstly setup the portfolio that will hold our FX forward positions:"
   ],
   "metadata": {
    "collapsed": false,
    "pycharm": {
     "name": "#%% md\n"
    }
   }
  },
  {
   "cell_type": "code",
   "execution_count": 17,
   "outputs": [
    {
     "data": {
      "text/plain": "     successful items\n0  fxfwd-portfolio-01",
      "text/html": "<div>\n<style scoped>\n    .dataframe tbody tr th:only-of-type {\n        vertical-align: middle;\n    }\n\n    .dataframe tbody tr th {\n        vertical-align: top;\n    }\n\n    .dataframe thead th {\n        text-align: right;\n    }\n</style>\n<table border=\"1\" class=\"dataframe\">\n  <thead>\n    <tr style=\"text-align: right;\">\n      <th></th>\n      <th>successful items</th>\n    </tr>\n  </thead>\n  <tbody>\n    <tr>\n      <th>0</th>\n      <td>fxfwd-portfolio-01</td>\n    </tr>\n  </tbody>\n</table>\n</div>"
     },
     "execution_count": 17,
     "metadata": {},
     "output_type": "execute_result"
    }
   ],
   "source": [
    "portfolio = \"fxfwd-portfolio-01\"\n",
    "\n",
    "def create_portfolio(scope, portfolio_code, portfolio_name, portfolio_ccy):\n",
    "    pfs = [[portfolio_code, portfolio_name, portfolio_ccy]]\n",
    "    pf_df = pd.DataFrame(pfs, columns=['portfolio_code', 'portfolio_name', 'base_currency'])\n",
    "\n",
    "    portfolio_mapping = {\n",
    "        \"required\": {\n",
    "            \"code\": \"portfolio_code\",\n",
    "            \"display_name\": \"portfolio_name\",\n",
    "            \"base_currency\": \"base_currency\",\n",
    "        },\n",
    "        \"optional\": {\"created\": \"$2020-01-01T00:00:00+00:00\"},\n",
    "    }\n",
    "    result = load_from_data_frame(\n",
    "        api_factory=api_factory,\n",
    "        scope=scope,\n",
    "        data_frame=pf_df,\n",
    "        mapping_required=portfolio_mapping[\"required\"],\n",
    "        mapping_optional=portfolio_mapping[\"optional\"],\n",
    "        file_type=\"portfolios\",\n",
    "        sub_holding_keys=[],\n",
    "    )\n",
    "    succ, failed = format_portfolios_response(result)\n",
    "\n",
    "    if not failed.empty:\n",
    "        raise StopExecution(failed)\n",
    "\n",
    "    return succ\n",
    "\n",
    "create_portfolio(scope, portfolio, portfolio, \"GBP\")\n",
    "\n"
   ],
   "metadata": {
    "collapsed": false,
    "pycharm": {
     "name": "#%%\n"
    }
   }
  },
  {
   "cell_type": "markdown",
   "source": [
    "### Upserting our FX Forward Instrument\n",
    "\n",
    "Recall when valuing our unitised Fx Forwards earlier we ran an \"inline\" aggregatoin that did not require us to hold a position\n",
    "in the forward. However we now no longer want to value the unitised FX forward but actually value our position in the forward. To do\n",
    "so we'll no longer run an inline aggregation but instead a portfolio aggregation.\n",
    "\n",
    "As the valuation method and market data sources aren't changing we can simply reuse our \"FX Forward Discounting\" recipe we constructed\n",
    "earlier. However we will now be booking a transaction against our FX Forward instrument we need an instrument identifier that our transactoin\n",
    "can book against. Therefore we now need to actually upsert the FX forward and store it in LUSID.\n",
    "\n",
    "Our portfolio will only include a position in the GBP/USD 1W forward:"
   ],
   "metadata": {
    "collapsed": false,
    "pycharm": {
     "name": "#%% md\n"
    }
   }
  },
  {
   "cell_type": "code",
   "execution_count": 18,
   "outputs": [],
   "source": [
    "def upsert_fx_fwd_instrument(instrument_id, instrument_name, fx_fwd_definition):\n",
    "    bond_instrument_request = {instrument_id: models.LusidInstrumentDefinition(\n",
    "        # instrument display name\n",
    "        name=instrument_name,\n",
    "        # unique instrument identifier\n",
    "        identifiers={\"ClientInternal\": models.InstrumentIdValue(instrument_id)},\n",
    "        # our gilt instrument definition\n",
    "        definition=fx_fwd_definition\n",
    "    )}\n",
    "    # Note we're using upsert_lusid_instrument and not upset_instrument as we're creating an instrument based\n",
    "    # on a user defined instrument definition and not the base LUSID instruments.\n",
    "    return instruments_api.upsert_lusid_instruments(bond_instrument_request)\n",
    "\n",
    "# the identifier we'll use to reference the instrument when booking transactions.\n",
    "gbpusd_fx_fwd_1w_instr_client_id = \"gbp_usd_fwd_1w_12509\"\n",
    "instrument_creation_response = upsert_fx_fwd_instrument(gbpusd_fx_fwd_1w_instr_client_id, \"GBP/USD 1W @ 1.2509\", gbpusd_fx_fwd_1w_instr_def)\n"
   ],
   "metadata": {
    "collapsed": false,
    "pycharm": {
     "name": "#%%\n"
    }
   }
  },
  {
   "cell_type": "markdown",
   "source": [
    "### Setting up our FX Forward Transaction\n",
    "\n",
    "Note : The next section will make use of defining transaction types and sides. For a recap of those concepts then please review\n",
    "the following KB artciles and notebooks:\n",
    "* [Configuring Transaction Types](https://support.finbourne.com/configuring-transaction-types)\n",
    "* [What is a Side in LUSID](https://support.finbourne.com/what-is-a-side-in-lusid)\n",
    "* [NB : [Generating holdings with the movements engine in LUSID](https://github.com/finbourne/sample-notebooks/blob/master/examples/use-cases/ibor/Generating%20holdings%20with%20the%20movements%20engine%20in%20LUSID.ipynb)\n",
    "\n",
    "We'd like to open a Long position in the FX forward GBP/USD 1W @ 1.2509 with the spot @ 1.2508. Our position is to buy 10,000 GBP\n",
    "and sell 12,509 USD on maturity.\n",
    "\n",
    "Our FX Forward is defined as an instrument we'd like to buy. However the default \"Buy\" transaction type for LUSID is not suitable\n",
    "for a forward. The reason being is that although we would like to increase our \"stock\" holdings in the instrument we don't at this\n",
    "stage want to reflect any cash movement as none has been exchanged. So instead we define our own transaction type.\n",
    "\n",
    "##### Creating a Transaction Type (Opening an FX Forward Position)\n",
    "\n",
    "Let's define a transaction that simply increases our \"stock\" holding in the FX Forward instrument:"
   ],
   "metadata": {
    "collapsed": false
   }
  },
  {
   "cell_type": "code",
   "execution_count": 19,
   "outputs": [
    {
     "name": "stderr",
     "output_type": "stream",
     "text": [
      "WARNING:root:The following alias already exists: Type of FxFwdOpen with source default\n"
     ]
    }
   ],
   "source": [
    "create_txn_type_response = create_transaction_type_configuration(\n",
    "    api_factory,\n",
    "    alias=models.TransactionConfigurationTypeAlias(\n",
    "        type=\"FxFwdOpen\",\n",
    "        description=\"Open an FX Forward position\",\n",
    "        transaction_class=\"Basic\",\n",
    "        transaction_group=\"default\",\n",
    "        transaction_roles=\"Longer\",\n",
    "    ),\n",
    "    movements=[\n",
    "        models.TransactionConfigurationMovementDataRequest(\n",
    "            movement_types=\"StockMovement\",\n",
    "            side=\"Side1\",\n",
    "            direction=1\n",
    "        )\n",
    "    ],\n",
    ")\n",
    "\n"
   ],
   "metadata": {
    "collapsed": false,
    "pycharm": {
     "name": "#%%\n"
    }
   }
  },
  {
   "cell_type": "markdown",
   "source": [
    "#### Upserting our transaction\n",
    "\n",
    "We're now ready to book a transaction in our FX forward. At this point it's worth remembering that when we were valuing\n",
    "our FX forward earlier, we were doing so on a unitised basis. Our transaction is where we would book the actual notionals\n",
    "involved in our contract.\n",
    "\n",
    "Recall we've agreed to Buy 10,000GBP and Sell 12,509 USD on maturity:"
   ],
   "metadata": {
    "collapsed": false,
    "pycharm": {
     "name": "#%% md\n"
    }
   }
  },
  {
   "cell_type": "code",
   "execution_count": 21,
   "outputs": [],
   "source": [
    "# our instrument is \"unitised\" we'd like to open 10,000 units to reflect our notional\n",
    "units = 10000\n",
    "transaction_price = 1.2509  # spot + 3y fwd spread\n",
    "consideration = 10000\n",
    "\n",
    "gilt_transaction_request = models.TransactionRequest(\n",
    "    transaction_id=\"fx_fwd_1w_b_001\",\n",
    "    # our custom transaction type we setup\n",
    "    type=\"FxFwdOpen\",\n",
    "    # the id we setup for our 1W forward that we upserted earlier\n",
    "    instrument_identifiers={\"Instrument/default/ClientInternal\": gbpusd_fx_fwd_1w_instr_client_id},\n",
    "    transaction_date=trade_date.isoformat(),\n",
    "    settlement_date=maturity_dates['1W'],\n",
    "    units=units,\n",
    "    transaction_price=models.TransactionPrice(price=transaction_price, type=\"Price\"),\n",
    "    total_consideration=models.CurrencyAndAmount(amount=consideration, currency=\"GBP\"),\n",
    "    exchange_rate=1,\n",
    "    transaction_currency=\"GBP\"\n",
    ")\n",
    "\n",
    "response = api_factory.build(lusid.api.TransactionPortfoliosApi).upsert_transactions(scope=scope,\n",
    "                                                                                     code=portfolio,\n",
    "                                                                                     transaction_request=[gilt_transaction_request])"
   ],
   "metadata": {
    "collapsed": false,
    "pycharm": {
     "name": "#%%\n"
    }
   }
  },
  {
   "cell_type": "markdown",
   "source": [
    "#### View our Holdings\n",
    "\n",
    "We've now taken a position in the FX Forward and can see it reflected as such in our holdings :"
   ],
   "metadata": {
    "collapsed": false
   }
  },
  {
   "cell_type": "code",
   "execution_count": 22,
   "outputs": [
    {
     "data": {
      "text/plain": "                 names               effectiveAt        units  settled_units  \\\n0  GBP/USD 1W @ 1.2509 2020-06-01 00:00:00+00:00 10000.000000       0.000000   \n\n  holding types                                    cost  \n0             P  {'amount': 10000.0, 'currency': 'GBP'}  ",
      "text/html": "<div>\n<style scoped>\n    .dataframe tbody tr th:only-of-type {\n        vertical-align: middle;\n    }\n\n    .dataframe tbody tr th {\n        vertical-align: top;\n    }\n\n    .dataframe thead th {\n        text-align: right;\n    }\n</style>\n<table border=\"1\" class=\"dataframe\">\n  <thead>\n    <tr style=\"text-align: right;\">\n      <th></th>\n      <th>names</th>\n      <th>effectiveAt</th>\n      <th>units</th>\n      <th>settled_units</th>\n      <th>holding types</th>\n      <th>cost</th>\n    </tr>\n  </thead>\n  <tbody>\n    <tr>\n      <th>0</th>\n      <td>GBP/USD 1W @ 1.2509</td>\n      <td>2020-06-01 00:00:00+00:00</td>\n      <td>10000.000000</td>\n      <td>0.000000</td>\n      <td>P</td>\n      <td>{'amount': 10000.0, 'currency': 'GBP'}</td>\n    </tr>\n  </tbody>\n</table>\n</div>"
     },
     "execution_count": 22,
     "metadata": {},
     "output_type": "execute_result"
    }
   ],
   "source": [
    "holdings_response_trade_date = transaction_portfolios_api.get_holdings(\n",
    "    scope=scope, code=portfolio, property_keys=[\"Instrument/default/Name\"], effective_at=trade_date\n",
    ")\n",
    "\n",
    "display_holdings_summary(holdings_response_trade_date, trade_date)\n"
   ],
   "metadata": {
    "collapsed": false,
    "pycharm": {
     "name": "#%%\n"
    }
   }
  },
  {
   "cell_type": "markdown",
   "source": [
    "### Valuing our Portfolio\n",
    "\n",
    "Let's now run a valuation of the portfolio remembering that we're using the same recipe we defined earlier (using the internal LUSID Fx Forward\n",
    " discounting model). Also be aware as mentioned at the start of this section that we're no longer running an \"inline\" aggregation but actually\n",
    " aggregating the portfolio.\n"
   ],
   "metadata": {
    "collapsed": false,
    "pycharm": {
     "name": "#%% md\n"
    }
   }
  },
  {
   "cell_type": "code",
   "execution_count": 28,
   "outputs": [
    {
     "data": {
      "text/plain": "           Name Effective At     Value\n0  Portfolio PV  01 Jun 2020 -0.799475",
      "text/html": "<div>\n<style scoped>\n    .dataframe tbody tr th:only-of-type {\n        vertical-align: middle;\n    }\n\n    .dataframe tbody tr th {\n        vertical-align: top;\n    }\n\n    .dataframe thead th {\n        text-align: right;\n    }\n</style>\n<table border=\"1\" class=\"dataframe\">\n  <thead>\n    <tr style=\"text-align: right;\">\n      <th></th>\n      <th>Name</th>\n      <th>Effective At</th>\n      <th>Value</th>\n    </tr>\n  </thead>\n  <tbody>\n    <tr>\n      <th>0</th>\n      <td>Portfolio PV</td>\n      <td>01 Jun 2020</td>\n      <td>-0.799475</td>\n    </tr>\n  </tbody>\n</table>\n</div>"
     },
     "execution_count": 28,
     "metadata": {},
     "output_type": "execute_result"
    }
   ],
   "source": [
    "def run_fx_forward_pricing_aggregation_on_portfolio(scope, portfolio, recipe, effective_at):\n",
    "    aggregation_request = models.AggregationRequest(\n",
    "        effective_at=effective_at.isoformat(),\n",
    "        inline_recipe=recipe,\n",
    "        metrics=[\n",
    "            models.AggregateSpec(key='Holding/default/PV',\n",
    "                                 op='Value')\n",
    "        ]\n",
    "    )\n",
    "\n",
    "    return api_factory.build(lusid.api.AggregationApi).get_aggregation(scope=scope, code=portfolio,\n",
    "                                                             aggregation_request=aggregation_request)\n",
    "\n",
    "\n",
    "result_t = run_fx_forward_pricing_aggregation_on_portfolio(scope, portfolio, fx_forward_pricing_recipe, trade_date)\n",
    "\n",
    "\n",
    "aggregation_result_to_dataframe([\n",
    "    ['Portfolio PV', trade_date, result_t.data[0]['Holding/default/PV']],\n",
    "])\n"
   ],
   "metadata": {
    "collapsed": false,
    "pycharm": {
     "name": "#%%\n"
    }
   }
  },
  {
   "cell_type": "markdown",
   "source": [
    "#### Our Portfolio Value as Markets Fluctuate\n",
    "\n",
    "As time progresses during the life of our FX forward positions the markets will inevitably fluctuate. As they do we can update\n",
    "the market data our pricing models consume to allow us to see the impact of those fluctuations on our portfolio value.\n",
    "\n",
    "Let's simulate some movements over the coming days of our trade. We begin with the following data and an increase in the\n",
    "GBP/USD spot rate:"
   ],
   "metadata": {
    "collapsed": false,
    "pycharm": {
     "name": "#%% md\n"
    }
   }
  },
  {
   "cell_type": "code",
   "execution_count": 32,
   "outputs": [
    {
     "data": {
      "text/plain": "'GBP/USD @ 1.2508 for 2020-06-01 00:00:00+00:00 uploaded to quote store.'"
     },
     "metadata": {},
     "output_type": "display_data"
    },
    {
     "data": {
      "text/plain": "'USD/GBP @ 0.799488327470419 for 2020-06-01 00:00:00+00:00 uploaded to quote store.'"
     },
     "metadata": {},
     "output_type": "display_data"
    },
    {
     "data": {
      "text/plain": "'GBP/USD @ 1.255 for 2020-06-02 00:00:00+00:00 uploaded to quote store.'"
     },
     "metadata": {},
     "output_type": "display_data"
    },
    {
     "data": {
      "text/plain": "'USD/GBP @ 0.7968127490039841 for 2020-06-02 00:00:00+00:00 uploaded to quote store.'"
     },
     "metadata": {},
     "output_type": "display_data"
    },
    {
     "data": {
      "text/plain": "           Name Effective At     Value\n0  Portfolio PV  01 Jun 2020 -0.799475\n1  Portfolio PV  02 Jun 2020 32.832566",
      "text/html": "<div>\n<style scoped>\n    .dataframe tbody tr th:only-of-type {\n        vertical-align: middle;\n    }\n\n    .dataframe tbody tr th {\n        vertical-align: top;\n    }\n\n    .dataframe thead th {\n        text-align: right;\n    }\n</style>\n<table border=\"1\" class=\"dataframe\">\n  <thead>\n    <tr style=\"text-align: right;\">\n      <th></th>\n      <th>Name</th>\n      <th>Effective At</th>\n      <th>Value</th>\n    </tr>\n  </thead>\n  <tbody>\n    <tr>\n      <th>0</th>\n      <td>Portfolio PV</td>\n      <td>01 Jun 2020</td>\n      <td>-0.799475</td>\n    </tr>\n    <tr>\n      <th>1</th>\n      <td>Portfolio PV</td>\n      <td>02 Jun 2020</td>\n      <td>32.832566</td>\n    </tr>\n  </tbody>\n</table>\n</div>"
     },
     "execution_count": 32,
     "metadata": {},
     "output_type": "execute_result"
    }
   ],
   "source": [
    "t_p_1 = datetime(2020, 6, 2, tzinfo=pytz.utc)\n",
    "upsert_gbp_usd_fx_rate(1.2550, t_p_1)\n",
    "\n",
    "# run a portfolio valuation on day t+1 and compare with t\n",
    "result_t_p_1 = run_fx_forward_pricing_aggregation_on_portfolio(scope, portfolio, fx_forward_pricing_recipe, t_p_1)\n",
    "\n",
    "aggregation_result_to_dataframe([\n",
    "    ['Portfolio PV', trade_date, result_t.data[0]['Holding/default/PV']],\n",
    "    ['Portfolio PV', t_p_1, result_t_p_1.data[0]['Holding/default/PV']],\n",
    "])"
   ],
   "metadata": {
    "collapsed": false,
    "pycharm": {
     "name": "#%%\n"
    }
   }
  },
  {
   "cell_type": "markdown",
   "source": [
    "Over the next couple of days US interest rates take a sudden shift and increase to 0.2% across the yield curve with a correponding\n",
    "drop in the GBP/USD spot rate:"
   ],
   "metadata": {
    "collapsed": false,
    "pycharm": {
     "name": "#%% md\n"
    }
   }
  },
  {
   "cell_type": "code",
   "execution_count": 38,
   "outputs": [
    {
     "name": "stdout",
     "output_type": "stream",
     "text": [
      "USD/USDOIS interest rate curve uploaded into scope=fx-forward-pricing-nb-market-data\n"
     ]
    },
    {
     "data": {
      "text/plain": "'GBP/USD @ 1.2508 for 2020-06-01 00:00:00+00:00 uploaded to quote store.'"
     },
     "metadata": {},
     "output_type": "display_data"
    },
    {
     "data": {
      "text/plain": "'USD/GBP @ 0.799488327470419 for 2020-06-01 00:00:00+00:00 uploaded to quote store.'"
     },
     "metadata": {},
     "output_type": "display_data"
    },
    {
     "data": {
      "text/plain": "'GBP/USD @ 1.25 for 2020-06-04 00:00:00+00:00 uploaded to quote store.'"
     },
     "metadata": {},
     "output_type": "display_data"
    },
    {
     "data": {
      "text/plain": "'USD/GBP @ 0.8 for 2020-06-04 00:00:00+00:00 uploaded to quote store.'"
     },
     "metadata": {},
     "output_type": "display_data"
    }
   ],
   "source": [
    "t_p_3 = datetime(2020, 6, 4, tzinfo=pytz.utc)\n",
    "\n",
    "# increase in US interest rates\n",
    "ois_curve_usd_json = load_ois_curve_json('USD', \"shift interest rate higher\")\n",
    "upsert_interest_rate_curve(ois_curve_usd_json, market_data_scope, t_p_3, \"USD/USDOIS\")\n",
    "\n",
    "# corresponding drop in fx rates\n",
    "upsert_gbp_usd_fx_rate(1.2500, t_p_3)\n",
    "\n",
    "# run valuation for day t+3 and compare with t+1 and t\n",
    "result_t_p_3 = run_fx_forward_pricing_aggregation_on_portfolio(scope, portfolio, fx_forward_pricing_recipe, t_p_3)\n",
    "\n",
    "aggregation_result_to_dataframe([\n",
    "    ['Portfolio PV', trade_date, result_t.data[0]['Holding/default/PV']],\n",
    "    ['Portfolio PV', t_p_1, result_t_p_1.data[0]['Holding/default/PV']],\n",
    "    ['Portfolio PV', t_p_3, result_t_p_3.data[0]['Holding/default/PV']],\n",
    "])\n"
   ],
   "metadata": {
    "collapsed": false,
    "pycharm": {
     "name": "#%%\n"
    }
   }
  },
  {
   "cell_type": "markdown",
   "source": [
    "### Closing our FX Forward Position On Maturity\n",
    "\n",
    "On maturity we now need to a transaction to close out our position which means we need to cover closing our long \"stock\"\n",
    "holding in the forward instrument and then exchanging the contractual cash flows with an outflow in USD and and inflow in GBP\n",
    "\n",
    "Ideally we'd like to wrap all those movements into one transaction type which would do the following :\n",
    "* Apply direction=-1 Side1 movement removes our \"stock\" holding in the Forward instrument\n",
    "* Apply direction=-1 Side2 cash movement to reflect our selling USD\n",
    "* Apply direction=1 \"?\" cash movement to reflect our buying of GBP.\n",
    "\n",
    "\n",
    "#### Defining a Custom Side for an Fx Forward Leg\n",
    "As our Side2 movement deals in the outflow of USD we need a new custom side that handles the inflow of GBP. To see how we'll\n",
    "create this custom side let's firstly take a look at how the Side2 movement works (Note : an understanding of Sides is required so please review [What is a Side in LUSID](https://support.finbourne.com/what-is-a-side-in-lusid) if necessary).\n",
    "\n",
    "\"Side 2\" maps the settlement parameters of a transaction to a cash movement. That basically means that when we upsert a transaction and\n",
    "generate a holding report the amount from the consideration will be added or subtracted from the settlement currency account. Based on that\n",
    "our custom side needs to have the opposing cash movement impact. So it will take the transaction amount to be added or subtracted from the\n",
    "transaction currency account when generating a holdings report."
   ],
   "metadata": {
    "collapsed": false,
    "pycharm": {
     "name": "#%% md\n"
    }
   }
  },
  {
   "cell_type": "code",
   "execution_count": 43,
   "outputs": [
    {
     "data": {
      "text/plain": "'FxFwd_TransactionCcy_Side already exists.'"
     },
     "metadata": {},
     "output_type": "display_data"
    }
   ],
   "source": [
    "def side_exists(side):\n",
    "    response = system_configuration_api.list_configuration_transaction_types();\n",
    "    return any(s.side==side for s in response.side_definitions)\n",
    "\n",
    "def create_transaction_movement_side(side):\n",
    "    if side_exists(side):\n",
    "        display(f\"{side} already exists.\")\n",
    "        return\n",
    "\n",
    "    txn_cash_side_cfg = models.SideConfigurationDataRequest(\n",
    "        side=side,\n",
    "        # want to map the transaction amount to our tranaction currency account (in our exampl CCY_GBP)\n",
    "        security=\"Txn:TradeCurrency\",\n",
    "        # the transaction currency\n",
    "        currency=\"Txn:TradeCurrency\",\n",
    "        # the exchange rate used to map the transaction price to portfolio currency\n",
    "        rate=\"Txn:TradeToPortfolioRate\",\n",
    "        # in our FX forward example the units match our transaction notional\n",
    "        units=\"Txn:TradeAmount\",\n",
    "        # the transaction amount (i.e the BUY 10,000 GBP)\n",
    "        amount=\"Txn:TradeAmount\"\n",
    "    )\n",
    "\n",
    "    response = system_configuration_api.create_side_definition(side_configuration_data_request=txn_cash_side_cfg)\n",
    "\n",
    "    if not response.side_definitions :\n",
    "        raise StopExecution(f\"Failed to create side. Response:{response}\")\n",
    "\n",
    "    display(f\"Created {side} side.\")\n",
    "\n",
    "\n",
    "create_transaction_movement_side(\"FxFwd_TransactionCcy_Side\")"
   ],
   "metadata": {
    "collapsed": false,
    "pycharm": {
     "name": "#%%\n"
    }
   }
  },
  {
   "cell_type": "markdown",
   "source": [
    "##### Creating a Transaction Type (Closing an FX Forward Position)\n",
    "\n",
    "CLosing transaction type. depend how we want to model . For this example we'll close out forward position and transer cashflows\n",
    "apply tansaction date immediately\n",
    "\n",
    "Until now not actually defined side of the contract : were we long or shot dom vs fgn\n",
    "\n",
    "two ways to cloese as diff movements on each. but in each case we close out the future\n",
    "\n",
    "\n",
    "### Close if we've been long\n"
   ],
   "metadata": {
    "collapsed": false
   }
  },
  {
   "cell_type": "code",
   "execution_count": 44,
   "outputs": [
    {
     "name": "stderr",
     "output_type": "stream",
     "text": [
      "WARNING:root:The following alias already exists: Type of FxFwdClose_Long with source default\n"
     ]
    },
    {
     "data": {
      "text/plain": "'Created FxFwdClose_Long transaction type.'"
     },
     "metadata": {},
     "output_type": "display_data"
    }
   ],
   "source": [
    "create_txn_type_response = create_transaction_type_configuration(\n",
    "    api_factory,\n",
    "    alias=models.TransactionConfigurationTypeAlias(\n",
    "        type=\"FxFwdClose_Long\",\n",
    "        description=\"Close a long position in an Fx Forward (Buy Dom, Sell Fgn)\",\n",
    "        transaction_class=\"Basic\",\n",
    "        transaction_group=\"default\",\n",
    "        transaction_roles=\"Longer\",\n",
    "    ),\n",
    "    movements=[\n",
    "        models.TransactionConfigurationMovementDataRequest(\n",
    "            movement_types=\"StockMovement\",\n",
    "            side=\"Side1\",\n",
    "            direction=-1\n",
    "        ),\n",
    "        models.TransactionConfigurationMovementDataRequest(\n",
    "            movement_types=\"CashSettlement\",\n",
    "            side=\"Side2\",\n",
    "            direction=-1\n",
    "        ),\n",
    "        models.TransactionConfigurationMovementDataRequest(\n",
    "            movement_types=\"CashSettlement\",\n",
    "            side=\"FxFwd_TransactionCcy_Side\",\n",
    "            direction=1\n",
    "        )\n",
    "    ],\n",
    ")\n",
    "\n",
    "if not create_txn_type_response.transaction_configs :\n",
    "        raise StopExecution(f\"Failed to create FxFwdClose_Long transaction type. Response:{create_txn_type_response}\")\n",
    "\n",
    "display(\"Created FxFwdClose_Long transaction type.\")"
   ],
   "metadata": {
    "collapsed": false,
    "pycharm": {
     "name": "#%%\n"
    }
   }
  },
  {
   "cell_type": "markdown",
   "source": [
    "### Close if we've been short\n",
    "\n",
    "for display purposes only we would have flipped the signs"
   ],
   "metadata": {
    "collapsed": false
   }
  },
  {
   "cell_type": "code",
   "execution_count": 45,
   "outputs": [
    {
     "data": {
      "text/plain": "'Created FxFwdClose_Short transaction type.'"
     },
     "metadata": {},
     "output_type": "display_data"
    }
   ],
   "source": [
    "create_txn_type_response = create_transaction_type_configuration(\n",
    "    api_factory,\n",
    "    alias=models.TransactionConfigurationTypeAlias(\n",
    "        type=\"FxFwdClose_Short\",\n",
    "        description=\"Close a short position in an Fx Forward (Sell Dom, Buy Fgn)\",\n",
    "        transaction_class=\"Basic\",\n",
    "        transaction_group=\"default\",\n",
    "        transaction_roles=\"Longer\",\n",
    "    ),\n",
    "    movements=[\n",
    "        models.TransactionConfigurationMovementDataRequest(\n",
    "            movement_types=\"StockMovement\",\n",
    "            side=\"Side1\",\n",
    "            direction=-1\n",
    "        ),\n",
    "        models.TransactionConfigurationMovementDataRequest(\n",
    "            movement_types=\"CashSettlement\",\n",
    "            side=\"Side2\",\n",
    "            direction=1\n",
    "        ),\n",
    "        models.TransactionConfigurationMovementDataRequest(\n",
    "            movement_types=\"CashSettlement\",\n",
    "            side=\"FxFwd_TransactionCcy_Side\",\n",
    "            direction=-1\n",
    "        )\n",
    "    ],\n",
    ")\n",
    "\n",
    "if not create_txn_type_response.transaction_configs :\n",
    "        raise StopExecution(f\"Failed to create FxFwdClose_Short transaction type. Response:{create_txn_type_response}\")\n",
    "\n",
    "display(\"Created FxFwdClose_Short transaction type.\")"
   ],
   "metadata": {
    "collapsed": false,
    "pycharm": {
     "name": "#%%\n"
    }
   }
  },
  {
   "cell_type": "code",
   "execution_count": 46,
   "outputs": [
    {
     "data": {
      "text/plain": "{'href': 'https://khalid-local-dev.lusid.com/api/api/transactionportfolios/fx-forward-pricing-nb/fxfwd-portfolio-01/transactions?asAt=2020-07-10T08%3A05%3A19.4577830%2B00%3A00',\n 'links': [{'description': None,\n            'href': 'https://khalid-local-dev.lusid.com/api/api/portfolios/fx-forward-pricing-nb/fxfwd-portfolio-01?effectiveAt=2020-06-08T00%3A00%3A00.0000000%2B00%3A00&asAt=2020-07-10T08%3A05%3A19.4577830%2B00%3A00',\n            'method': 'GET',\n            'relation': 'Root'},\n           {'description': None,\n            'href': 'https://khalid-local-dev.lusid.com/api/api/schemas/entities/UpsertPortfolioTransactionsResponse',\n            'method': 'GET',\n            'relation': 'EntitySchema'},\n           {'description': 'A link to the LUSID Insights website showing all '\n                           'logs related to this request',\n            'href': 'http://khalid-local-dev.lusid.com/app/insights/logs/0HM14BCUCIVBV:00000001',\n            'method': 'GET',\n            'relation': 'RequestLogs'}],\n 'version': {'as_at_date': datetime.datetime(2020, 7, 10, 8, 5, 19, 457783, tzinfo=tzutc()),\n             'effective_from': datetime.datetime(2020, 6, 8, 0, 0, tzinfo=tzutc())}}"
     },
     "execution_count": 46,
     "metadata": {},
     "output_type": "execute_result"
    }
   ],
   "source": [
    "fwd_units = 10000\n",
    "contract_exc_rate = 1.2509\n",
    "consideration = 10000\n",
    "fgn_consideration = 10000 * 1.2509\n",
    "\n",
    "close_fwd_request = models.TransactionRequest(\n",
    "        transaction_id=\"fx_fwd_1w_close_001\",\n",
    "        type=\"FxFwdClose_Long\",\n",
    "        #type=\"FxFwdClose_FgnCashSettlementOnly\",\n",
    "        instrument_identifiers={\"Instrument/default/ClientInternal\": gbpusd_fx_fwd_1w_instr_client_id},\n",
    "        transaction_date=maturity_dates['1W'].isoformat(),\n",
    "        settlement_date=maturity_dates['1W'].isoformat(),\n",
    "        units=units,\n",
    "        transaction_price=models.TransactionPrice(price=contract_exc_rate, type=\"Price\"),\n",
    "        total_consideration=models.CurrencyAndAmount(amount=fgn_consideration, currency=\"USD\"),\n",
    "        exchange_rate=contract_exc_rate,\n",
    "        transaction_currency=\"GBP\",\n",
    "    )\n",
    "\n",
    "api_factory.build(lusid.api.TransactionPortfoliosApi).upsert_transactions(scope=scope,\n",
    "                                                                                         code=portfolio,\n",
    "                                                                                         transaction_request=[close_fwd_request])\n"
   ],
   "metadata": {
    "collapsed": false,
    "pycharm": {
     "name": "#%%\n"
    }
   }
  },
  {
   "cell_type": "markdown",
   "source": [
    "#### Evolution of Holdings During Life Cycle Of Maturity\n",
    "\n",
    "View just bash balance"
   ],
   "metadata": {
    "collapsed": false
   }
  },
  {
   "cell_type": "code",
   "execution_count": 48,
   "outputs": [
    {
     "data": {
      "text/plain": "                 names               effectiveAt        units  settled_units  \\\n0  GBP/USD 1W @ 1.2509 2020-06-01 00:00:00+00:00 10000.000000       0.000000   \n\n  holding types                                    cost  \n0             P  {'amount': 10000.0, 'currency': 'GBP'}  ",
      "text/html": "<div>\n<style scoped>\n    .dataframe tbody tr th:only-of-type {\n        vertical-align: middle;\n    }\n\n    .dataframe tbody tr th {\n        vertical-align: top;\n    }\n\n    .dataframe thead th {\n        text-align: right;\n    }\n</style>\n<table border=\"1\" class=\"dataframe\">\n  <thead>\n    <tr style=\"text-align: right;\">\n      <th></th>\n      <th>names</th>\n      <th>effectiveAt</th>\n      <th>units</th>\n      <th>settled_units</th>\n      <th>holding types</th>\n      <th>cost</th>\n    </tr>\n  </thead>\n  <tbody>\n    <tr>\n      <th>0</th>\n      <td>GBP/USD 1W @ 1.2509</td>\n      <td>2020-06-01 00:00:00+00:00</td>\n      <td>10000.000000</td>\n      <td>0.000000</td>\n      <td>P</td>\n      <td>{'amount': 10000.0, 'currency': 'GBP'}</td>\n    </tr>\n  </tbody>\n</table>\n</div>"
     },
     "execution_count": 48,
     "metadata": {},
     "output_type": "execute_result"
    }
   ],
   "source": [
    "holdings_response_trade_date = transaction_portfolios_api.get_holdings(\n",
    "    scope=scope, code=portfolio, property_keys=[\"Instrument/default/Name\"], effective_at=trade_date\n",
    ")\n",
    "\n",
    "display_holdings_summary(holdings_response_trade_date, trade_date)"
   ],
   "metadata": {
    "collapsed": false,
    "pycharm": {
     "name": "#%%\n"
    }
   }
  },
  {
   "cell_type": "code",
   "execution_count": 50,
   "outputs": [
    {
     "data": {
      "text/plain": "                 names               effectiveAt        units  settled_units  \\\n0  GBP/USD 1W @ 1.2509 2020-06-04 00:00:00+00:00 10000.000000       0.000000   \n\n  holding types                                    cost  \n0             P  {'amount': 10000.0, 'currency': 'GBP'}  ",
      "text/html": "<div>\n<style scoped>\n    .dataframe tbody tr th:only-of-type {\n        vertical-align: middle;\n    }\n\n    .dataframe tbody tr th {\n        vertical-align: top;\n    }\n\n    .dataframe thead th {\n        text-align: right;\n    }\n</style>\n<table border=\"1\" class=\"dataframe\">\n  <thead>\n    <tr style=\"text-align: right;\">\n      <th></th>\n      <th>names</th>\n      <th>effectiveAt</th>\n      <th>units</th>\n      <th>settled_units</th>\n      <th>holding types</th>\n      <th>cost</th>\n    </tr>\n  </thead>\n  <tbody>\n    <tr>\n      <th>0</th>\n      <td>GBP/USD 1W @ 1.2509</td>\n      <td>2020-06-04 00:00:00+00:00</td>\n      <td>10000.000000</td>\n      <td>0.000000</td>\n      <td>P</td>\n      <td>{'amount': 10000.0, 'currency': 'GBP'}</td>\n    </tr>\n  </tbody>\n</table>\n</div>"
     },
     "execution_count": 50,
     "metadata": {},
     "output_type": "execute_result"
    }
   ],
   "source": [
    "holdings_response_expiry = transaction_portfolios_api.get_holdings(\n",
    "    scope=scope, code=portfolio, property_keys=[\"Instrument/default/Name\"], effective_at=t_p_3\n",
    ")\n",
    "\n",
    "display_holdings_summary(holdings_response_expiry, t_p_3)"
   ],
   "metadata": {
    "collapsed": false,
    "pycharm": {
     "name": "#%%\n"
    }
   }
  },
  {
   "cell_type": "code",
   "execution_count": 51,
   "outputs": [
    {
     "data": {
      "text/plain": "     names               effectiveAt         units  settled_units  \\\n0  CCY_USD 2020-06-08 00:00:00+00:00 -12509.000000  -12509.000000   \n1  CCY_GBP 2020-06-08 00:00:00+00:00  10000.000000   10000.000000   \n\n  holding types                                     cost  \n0             B  {'amount': -12509.0, 'currency': 'USD'}  \n1             B   {'amount': 10000.0, 'currency': 'GBP'}  ",
      "text/html": "<div>\n<style scoped>\n    .dataframe tbody tr th:only-of-type {\n        vertical-align: middle;\n    }\n\n    .dataframe tbody tr th {\n        vertical-align: top;\n    }\n\n    .dataframe thead th {\n        text-align: right;\n    }\n</style>\n<table border=\"1\" class=\"dataframe\">\n  <thead>\n    <tr style=\"text-align: right;\">\n      <th></th>\n      <th>names</th>\n      <th>effectiveAt</th>\n      <th>units</th>\n      <th>settled_units</th>\n      <th>holding types</th>\n      <th>cost</th>\n    </tr>\n  </thead>\n  <tbody>\n    <tr>\n      <th>0</th>\n      <td>CCY_USD</td>\n      <td>2020-06-08 00:00:00+00:00</td>\n      <td>-12509.000000</td>\n      <td>-12509.000000</td>\n      <td>B</td>\n      <td>{'amount': -12509.0, 'currency': 'USD'}</td>\n    </tr>\n    <tr>\n      <th>1</th>\n      <td>CCY_GBP</td>\n      <td>2020-06-08 00:00:00+00:00</td>\n      <td>10000.000000</td>\n      <td>10000.000000</td>\n      <td>B</td>\n      <td>{'amount': 10000.0, 'currency': 'GBP'}</td>\n    </tr>\n  </tbody>\n</table>\n</div>"
     },
     "execution_count": 51,
     "metadata": {},
     "output_type": "execute_result"
    }
   ],
   "source": [
    "holdings_response_expiry = transaction_portfolios_api.get_holdings(\n",
    "    scope=scope, code=portfolio, property_keys=[\"Instrument/default/Name\"], effective_at=maturity_dates['1W']\n",
    ")\n",
    "\n",
    "display_holdings_summary(holdings_response_expiry, maturity_dates['1W'])\n",
    "\n"
   ],
   "metadata": {
    "collapsed": false,
    "pycharm": {
     "name": "#%%\n"
    }
   }
  }
 ],
 "metadata": {
  "kernelspec": {
   "display_name": "Python 3",
   "language": "python",
   "name": "python3"
  },
  "language_info": {
   "codemirror_mode": {
    "name": "ipython",
    "version": 2
   },
   "file_extension": ".py",
   "mimetype": "text/x-python",
   "name": "python",
   "nbconvert_exporter": "python",
   "pygments_lexer": "ipython2",
   "version": "2.7.6"
  }
 },
 "nbformat": 4,
 "nbformat_minor": 0
}