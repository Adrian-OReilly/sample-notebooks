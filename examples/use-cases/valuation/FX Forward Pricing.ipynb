{
 "cells": [
  {
   "cell_type": "code",
   "execution_count": 38,
   "metadata": {
    "collapsed": true
   },
   "outputs": [],
   "source": []
  },
  {
   "cell_type": "markdown",
   "source": [
    "# Fx Forward Pricing\n",
    "\n",
    "This notebook will run through the following business use cases :\n",
    "* [Pricing a set of Fx Forwards using a the internal LUSID \"Discounting\" model](#pricing_bond)\n",
    "* [Valuing a portfolio made up of an Fx forward position.](#pricing_bond_portfolio)\n",
    "* [Valuing our Fx forward portfolios using an externally supplied Fx forward price.](#accrual_override)\n",
    "\n",
    "<br>\n",
    "\n",
    "In doing so we'll cover the following LUSID concepts :\n",
    "* [Defining a LUSID internal representation of an FX forward instrument based on user provided parameters.](#bond_definition)\n",
    "* [Supplying both simple and complex market data structures through the Quotes and the StructureMarketData store.](#structured_market_data)\n",
    "* [Configuring recipes to value our FX forward in LUSID making use of the structured market data (GBP and USD OIS Yield Curves).](#recipe_configuration)\n",
    "* [Running inline aggregations that value a unitised FX forward.](#accrued_interest)\n",
    "* Running portfolio aggregations that value a porfolio containing FX forwards.\n",
    "* [Using an externally valued FX forward price to calculate portd.](#external_bond_price)\n",
    "\n",
    "<br>\n",
    "\n",
    "For this notebook example we'll work the following set of GBP/USD Forwards with 3Y, 5Y and 10Y maturities:\n",
    "\n",
    "* Trade Date : 02 Aug 2020\n",
    "* Maturity Dates :\n",
    "    * 02 Aug 2023 (3Y)\n",
    "    * 02 Aug 2025 (5Y)\n",
    "    * 02 Aug 2030 (10Y)\n",
    "* Spot Rate : 1.2508\n",
    "* Domestic Amount : 100,000,000\n",
    "* Foreign Amounts :\n",
    "    * 125,710,000 (3Y)\n",
    "    * 126,485,000 (5Y)\n",
    "    * 130,430,000 (10Y)\n",
    "\n",
    "\n",
    "## Setup LUSID and LUSID API objects."
   ],
   "metadata": {
    "collapsed": false,
    "pycharm": {
     "name": "#%% md\n"
    }
   }
  },
  {
   "cell_type": "code",
   "execution_count": 39,
   "outputs": [
    {
     "name": "stdout",
     "output_type": "stream",
     "text": [
      "LUSID Environment Initialised\n",
      "LUSID SDK Version:  0.6.4748.0\n"
     ]
    }
   ],
   "source": [
    "import os\n",
    "from datetime import datetime, timedelta\n",
    "\n",
    "import lusid\n",
    "import pandas as pd\n",
    "import pytz\n",
    "from IPython.core.display import display\n",
    "from lusid import models\n",
    "from lusid.utilities import ApiClientFactory\n",
    "from lusidjam import RefreshingToken\n",
    "from lusidtools.cocoon.transaction_type_upload import (\n",
    "    create_transaction_type_configuration,\n",
    ")\n",
    "from lusidtools.cocoon.cocoon_printer import (\n",
    "    format_portfolios_response,\n",
    ")\n",
    "from lusidtools.jupyter_tools.stop_execution import StopExecution\n",
    "\n",
    "\n",
    "# Authenticate our user and create our API client\n",
    "from lusidtools.cocoon import load_from_data_frame\n",
    "from lusidtools.pandas_utils.lusid_pandas import lusid_response_to_data_frame\n",
    "secrets_path = os.getenv(\"FBN_SECRETS_PATH\")\n",
    "\n",
    "# Initiate an API Factory which is the client side object for interacting with LUSID APIs\n",
    "api_factory = lusid.utilities.ApiClientFactory(\n",
    "    token=RefreshingToken(),\n",
    "    api_secrets_filename=secrets_path,\n",
    "    app_name=\"LusidJupyterNotebook\",\n",
    ")\n",
    "\n",
    "print ('LUSID Environment Initialised')\n",
    "print ('LUSID SDK Version: ', api_factory.build(lusid.api.ApplicationMetadataApi).get_lusid_versions().build_version)\n",
    "\n",
    "# Setup the apis we'll use in this notebook:\n",
    "instruments_api = api_factory.build(lusid.api.InstrumentsApi)\n",
    "structured_market_data_api = api_factory.build(lusid.api.StructuredMarketDataApi)\n",
    "structured_result_data_api = api_factory.build(lusid.api.StructuredResultDataApi)\n",
    "quotes_api = api_factory.build(lusid.api.QuotesApi)\n",
    "\n",
    "# Setup the scope we'll use in this notebook:\n",
    "scope = \"fx-forward-pricing-nb\""
   ],
   "metadata": {
    "collapsed": false,
    "pycharm": {
     "name": "#%%\n"
    }
   }
  },
  {
   "cell_type": "code",
   "execution_count": 40,
   "outputs": [],
   "source": [
    "# Settings and utility functions to display objects and responses more clearly.\n",
    "pd.set_option('float_format', '{:f}'.format)\n",
    "def aggregation_result_to_dataframe(aggregation_results):\n",
    "    df = pd.DataFrame(aggregation_results, columns = ['Name', 'Effective At', 'Value'])\n",
    "    df['Effective At'] = df['Effective At'].dt.strftime('%d %b %Y')\n",
    "    return df\n"
   ],
   "metadata": {
    "collapsed": false,
    "pycharm": {
     "name": "#%%\n"
    }
   }
  },
  {
   "cell_type": "markdown",
   "source": [
    "## Define our Fx Forward Instruments\n",
    "\n",
    "We'll start by defining our forwards using LUSID's internal representation of an Fx forward instrument. For a detailed\n",
    "breakdown the internal representation take a look at the \"FxForwardInstrument\" section of the [LUSID API Swagger Specification](https://www.lusid.com/api/swagger/index.html)\n",
    "\n",
    "### Initialise FxForward Parameters\n",
    "\n",
    "Let's setup the basic parameters required for our set of Fx forwards:"
   ],
   "metadata": {
    "collapsed": false,
    "pycharm": {
     "name": "#%% md\n"
    }
   }
  },
  {
   "cell_type": "code",
   "execution_count": 41,
   "outputs": [],
   "source": [
    "trade_date = datetime(2020, 6, 1, tzinfo=pytz.utc)\n",
    "#trade_date = datetime.today().replace(tzinfo=pytz.utc)\n",
    "maturity_dates = {\n",
    "    '1W' : datetime(2020, 6, 8, tzinfo=pytz.utc),\n",
    "    '3Y' : datetime(2023, 6, 1, tzinfo=pytz.utc),\n",
    "    '5Y' : datetime(2025, 6, 1, tzinfo=pytz.utc),\n",
    "    '10Y': datetime(2030, 6, 1, tzinfo=pytz.utc)\n",
    "}\n",
    "spot_rate =  1.2508\n",
    "dom_amount = 100000000\n",
    "fgn_amounts = {\n",
    "    '1W' : 125090000,\n",
    "    '3Y' : 125710000,\n",
    "    '5Y' : 126485000,\n",
    "    '10Y': 130430000\n",
    "}"
   ],
   "metadata": {
    "collapsed": false,
    "pycharm": {
     "name": "#%%\n"
    }
   }
  },
  {
   "cell_type": "markdown",
   "source": [
    "### Create FxForwardInstrument Definitions\n",
    "\n",
    "We can use those parameters to construct a LUSID representation of an FxForward. In our case we'll define a set made up of a\n",
    "3Y, 5Y and 10Y GBP/USD Fx Forward."
   ],
   "metadata": {
    "collapsed": false,
    "pycharm": {
     "name": "#%% md\n"
    }
   }
  },
  {
   "cell_type": "code",
   "execution_count": 42,
   "outputs": [],
   "source": [
    "def create_fx_forward_instrument_definition(dom_amount, fgn_amount, spot_rate, start_date, maturity_date):\n",
    "    return models.FxForwardInstrument(\n",
    "            dom_amount=dom_amount,\n",
    "            fgn_amount=-fgn_amount,\n",
    "            fgn_ccy=\"USD\",\n",
    "            ref_spot_rate=spot_rate,\n",
    "            start_date=start_date.isoformat(),\n",
    "            maturity_date=maturity_date,\n",
    "            dom_ccy=\"GBP\",\n",
    "            instrument_type=\"FxForward\")\n",
    "\n",
    "gbpusd_fx_fwd_1w_instr_def = create_fx_forward_instrument_definition(dom_amount, fgn_amounts['1W'], spot_rate, trade_date, maturity_dates['1W'])\n",
    "gbpusd_fx_fwd_3y_instr_def = create_fx_forward_instrument_definition(dom_amount, fgn_amounts['3Y'], spot_rate, trade_date, maturity_dates['3Y'])\n",
    "gbpusd_fx_fwd_5y_instr_def = create_fx_forward_instrument_definition(dom_amount, fgn_amounts['5Y'], spot_rate, trade_date, maturity_dates['5Y'])\n",
    "gbpusd_fx_fwd_10y_instr_def = create_fx_forward_instrument_definition(dom_amount, fgn_amounts['10Y'], spot_rate, trade_date, maturity_dates['10Y'])"
   ],
   "metadata": {
    "collapsed": false,
    "pycharm": {
     "name": "#%%\n"
    }
   }
  },
  {
   "cell_type": "markdown",
   "source": [
    "## Supply Market Data\n",
    "\n",
    "Before we can price our Fx forwards we need to ensure LUSID has the required FX and interest rates available. This allows us\n",
    "to showcase two ways of getting the market data we need to price an FX forward into LUSID. The simpler method for the FX rates\n",
    "can simply be upserted as quotes but the more core complex structure of the FGPB and USD yield curves required the use of the\n",
    "Structured Market Data store.\n",
    "\n",
    "Let's start by upserting the GBP/USD FX rates for the trade data and a few subsequent dates we'll use to price the FX Forwards.\n",
    "So we can see some movement in the forward prices we'll mock a drop in the spot rate on June 2nd followed by a sharp rise on June 3rd. When providing market\n",
    "data to LUSID we also need to identify the supplier of the data and it's scope. The supplier is required further in the\n",
    "notebook when we instruct LUSID how to source data for a particular aggregation.\n",
    "\n",
    "### Upsert Spot Fx Rates"
   ],
   "metadata": {
    "collapsed": false,
    "pycharm": {
     "name": "#%% md\n"
    }
   }
  },
  {
   "cell_type": "code",
   "execution_count": 43,
   "outputs": [
    {
     "data": {
      "text/plain": "'GBP/USD @ 1.2508 for 2020-06-01 00:00:00+00:00 uploaded to quote store.'"
     },
     "metadata": {},
     "output_type": "display_data"
    },
    {
     "data": {
      "text/plain": "'USD/GBP @ 0.799488327470419 for 2020-06-01 00:00:00+00:00 uploaded to quote store.'"
     },
     "metadata": {},
     "output_type": "display_data"
    },
    {
     "data": {
      "text/plain": "'GBP/USD @ 1.2428 for 2020-06-02 00:00:00+00:00 uploaded to quote store.'"
     },
     "metadata": {},
     "output_type": "display_data"
    },
    {
     "data": {
      "text/plain": "'USD/GBP @ 0.804634695848085 for 2020-06-02 00:00:00+00:00 uploaded to quote store.'"
     },
     "metadata": {},
     "output_type": "display_data"
    },
    {
     "data": {
      "text/plain": "'GBP/USD @ 1.2588 for 2020-06-03 00:00:00+00:00 uploaded to quote store.'"
     },
     "metadata": {},
     "output_type": "display_data"
    },
    {
     "data": {
      "text/plain": "'USD/GBP @ 0.7944073721004131 for 2020-06-03 00:00:00+00:00 uploaded to quote store.'"
     },
     "metadata": {},
     "output_type": "display_data"
    }
   ],
   "source": [
    "market_data_scope = 'fx-forward-pricing-nb-market-data'\n",
    "market_supplier = 'Lusid'\n",
    "\n",
    "trade_date_plus_one = datetime(2020, 6, 2, tzinfo=pytz.utc)\n",
    "trade_date_plus_two = datetime(2020, 6, 3, tzinfo=pytz.utc)\n",
    "\n",
    "\n",
    "def upsert_gbp_usd_fx_rate(rate, effective_at):\n",
    "    upsert_quote_request = models.UpsertQuoteRequest(\n",
    "        quote_id=models.QuoteId(\n",
    "            quote_series_id=models.QuoteSeriesId(\n",
    "                provider=market_supplier,\n",
    "                instrument_id=\"GBP/USD\",\n",
    "                instrument_id_type='CurrencyPair',\n",
    "                quote_type='Price',\n",
    "                field='mid'),\n",
    "            effective_at=effective_at),\n",
    "        metric_value=models.MetricValue(\n",
    "            value=rate,\n",
    "            unit='rate'\n",
    "        ),\n",
    "        lineage='FxDataVendorABC')\n",
    "\n",
    "    # we need to insert the USD/GBP quote as well for use later in the notebook\n",
    "    # when we're booking the sell leg of our forward as a transaction\n",
    "    upsert_quote_request_inverse = models.UpsertQuoteRequest(\n",
    "        quote_id=models.QuoteId(\n",
    "            quote_series_id=models.QuoteSeriesId(\n",
    "                provider=market_supplier,\n",
    "                instrument_id=\"USD/GBP\",\n",
    "                instrument_id_type='CurrencyPair',\n",
    "                quote_type='Price',\n",
    "                field='mid'),\n",
    "            effective_at=effective_at),\n",
    "        metric_value=models.MetricValue(\n",
    "            value=1/rate,\n",
    "            unit='rate'\n",
    "        ),\n",
    "        lineage='FxDataVendorABC')\n",
    "\n",
    "    response_gbp_usd = quotes_api.upsert_quotes(\n",
    "            scope=market_data_scope,\n",
    "            request_body={\"gbp-usd-01\": upsert_quote_request})\n",
    "\n",
    "    response_usd_gbp = quotes_api.upsert_quotes(\n",
    "            scope=market_data_scope,\n",
    "            request_body={\"usd-gbp-01\": upsert_quote_request_inverse})\n",
    "\n",
    "    if response_gbp_usd.failed or response_usd_gbp.failed:\n",
    "        raise StopExecution(f\"Failed to upload currency pairs:{response_gbp_usd.failed} or {response_usd_gbp.failed}\")\n",
    "\n",
    "    display(f\"GBP/USD @ {rate} for {effective_at} uploaded to quote store.\")\n",
    "    display(f\"USD/GBP @ {1/rate} for {effective_at} uploaded to quote store.\")\n",
    "\n",
    "\n",
    "upsert_gbp_usd_fx_rate(spot_rate, trade_date)\n",
    "# drop in fx rate\n",
    "upsert_gbp_usd_fx_rate(spot_rate - 0.0080, trade_date_plus_one)\n",
    "# increase in fx rate\n",
    "upsert_gbp_usd_fx_rate(spot_rate + 0.0080, trade_date_plus_two)\n"
   ],
   "metadata": {
    "collapsed": false,
    "pycharm": {
     "name": "#%%\n"
    }
   }
  },
  {
   "cell_type": "markdown",
   "source": [
    "### Interest Rate Curves\n",
    "\n",
    "To price the FX Forwards we also need to supply the relevant interest rate curves for our domestic and foreign currencies. LUSID supports\n",
    "storage of complex market data structures through the [Structured market data](\"https://support.finbourne.com/how-do-i-store-and-tr\")\n",
    "store. When upserting the interest rate curves we use a StructuredMarketDataId to not onl uniquely identify the curve but also provide\n",
    "the supporting information required by the aggregation engine to correctly resolve the curves when we run our FX forward valuation."
   ],
   "metadata": {
    "collapsed": false,
    "pycharm": {
     "name": "#%% md\n"
    }
   }
  },
  {
   "cell_type": "code",
   "execution_count": 44,
   "outputs": [
    {
     "name": "stdout",
     "output_type": "stream",
     "text": [
      "GBP/GBPOIS interest rate curve uploaded into scope=fx-forward-pricing-nb-market-data\n",
      "USD/USDOIS interest rate curve uploaded into scope=fx-forward-pricing-nb-market-data\n"
     ]
    }
   ],
   "source": [
    "def upsert_interest_rate_curve(ir_curve_json, scope, effective_at, market_asset):\n",
    "\n",
    "    # provide the structured data file source and it's document format\n",
    "    structured_market_data = models.StructuredMarketData(document_format=\"Json\", version=\"1.0.0\",\n",
    "                                                name=\"DFEUROISCurve\", document=ir_curve_json)\n",
    "\n",
    "\n",
    "    # create a unique identifier for our OIS yield curves\n",
    "    structured_id = models.StructuredMarketDataId(provider=\"Lusid\",price_source=None,\n",
    "                                                 lineage=\"CurveVendorABC\", effective_at=effective_at,\n",
    "                                                 market_element_type=\"ZeroCurve\",\n",
    "                                                 market_asset=market_asset)\n",
    "\n",
    "    upsert_request = models.UpsertStructuredMarketDataRequest(market_data_id=structured_id,\n",
    "                                                          market_data=structured_market_data)\n",
    "\n",
    "    # https://www.lusid.com/docs/api#operation/UpsertStructuredMarketData\n",
    "    response = structured_market_data_api.upsert_structured_market_data(\n",
    "        scope=scope,\n",
    "        request_body={market_asset : upsert_request}\n",
    "    )\n",
    "\n",
    "    if response.failed:\n",
    "        raise StopExecution(\"Failed to upload interest rates curve {response.failed}\")\n",
    "\n",
    "    print(f\"{market_asset} interest rate curve uploaded into scope={scope}\")\n",
    "\n",
    "\n",
    "def load_ois_curve_json(ccy):\n",
    "    with open(f\"data/{ccy}OIS50.json\", \"r\") as ir_curve_json:\n",
    "        return ir_curve_json.read()\n",
    "\n",
    "ois_curve_gbp_json = load_ois_curve_json('GBP')\n",
    "upsert_interest_rate_curve(ois_curve_gbp_json, market_data_scope, trade_date, \"GBP/GBPOIS\")\n",
    "\n",
    "ois_curve_usd_json = load_ois_curve_json('USD')\n",
    "upsert_interest_rate_curve(ois_curve_usd_json, market_data_scope, trade_date, \"USD/USDOIS\")"
   ],
   "metadata": {
    "collapsed": false,
    "pycharm": {
     "name": "#%%\n"
    }
   }
  },
  {
   "cell_type": "markdown",
   "source": [
    "## Defining our Fx Forward Valuation\n",
    "\n",
    "With our Fx forward instruments now defined we can move onto valuing them via LUSID's aggregation engine. But before we\n",
    "can execute the aggregation we need to configure a [Recipe](\"https://support.finbourne.com/what-is-a-lusid-recipe-and-how-is-it-used\")\n",
    "instructing LUSID on how to value our Fx forwards. Specifically we need to select the Fx Forward pricing model to use and identify\n",
    "where the aggregation can resolve the market data the model needs.\n",
    "\n",
    "### Selecting a Pricing Model\n",
    "\n",
    "The pricing model we wish to use is passed in through defining a PricingContext. See the [Swagger spec](\"https://www.lusid.com/api/swagger/index.html\") under \"PricingContext\" for a detailed\n",
    "description of the parameters. For this notebook we'll use the LUSID supplied \"Discounting\" model:"
   ],
   "metadata": {
    "collapsed": false,
    "pycharm": {
     "name": "#%% md\n"
    }
   }
  },
  {
   "cell_type": "code",
   "execution_count": 45,
   "outputs": [],
   "source": [
    "def create_pricing_context():\n",
    "    vendor_model_rule = models.VendorModelRule(\n",
    "        supplier=\"Lusid\",\n",
    "        model_name=\"Discounting\",\n",
    "        instrument_type=\"FxForward\",\n",
    "        parameters=\"{}\")\n",
    "\n",
    "    return models.PricingContext(\n",
    "        model_rules=[vendor_model_rule]\n",
    "    )\n",
    "\n",
    "pricing_context = create_pricing_context()"
   ],
   "metadata": {
    "collapsed": false,
    "pycharm": {
     "name": "#%%\n"
    }
   }
  },
  {
   "cell_type": "markdown",
   "source": [
    "### Selecting the Market Data\n",
    "\n",
    "We can instruct LUSID on where to resolve market data required for pricing our Fx forwards through defining a MarketContext. See the [Swagger spec](\"https://www.lusid.com/api/swagger/index.html#model-MarketContext\")\n",
    "under \"MarketContext\" for a detailed description of the parameters. Recall that when we upserted our quote we passed in a supplier and a scope. One of\n",
    "the powerful features in LUSID is the ability to run valuations against market data from different suppliers, or even define market data retrieval rules\n",
    "to fallback to suppliers should your primary supplier not have the required data.\n",
    "\n",
    "However our example is trivial as we only require the spot rate we loaded in earlier. So we'll define a simple market context :"
   ],
   "metadata": {
    "collapsed": false,
    "pycharm": {
     "name": "#%% md\n"
    }
   }
  },
  {
   "cell_type": "code",
   "execution_count": 46,
   "outputs": [],
   "source": [
    "def create_market_context():\n",
    "    return models.MarketContext(\n",
    "        # set rules for where we should resolve our rates data. In our case the interest rate curves we inserted into\n",
    "        # the structured market result data store.\n",
    "        market_rules=[\n",
    "            models.MarketDataKeyRule(\n",
    "                key=\"Rates.*.*\",\n",
    "                data_scope=market_data_scope,\n",
    "                supplier=market_supplier,\n",
    "                quote_type='Rate',\n",
    "                field='Mid')\n",
    "        ],\n",
    "        # control default options for resolving market data. In our case simply default to the LUSID market_supplier\n",
    "        # and market data scope we defined earlier.\n",
    "        options=models.MarketOptions(\n",
    "            default_supplier=market_supplier,\n",
    "            default_scope=market_data_scope)\n",
    "    )\n",
    "\n",
    "    return market_context\n",
    "\n",
    "market_context = create_market_context()"
   ],
   "metadata": {
    "collapsed": false,
    "pycharm": {
     "name": "#%%\n"
    }
   }
  },
  {
   "cell_type": "markdown",
   "source": [
    "### Configure our FX Forward Recipe\n",
    "\n",
    "Now that we've defined what pricing model to use and where to source the market data we can bring those instructions\n",
    "together in a [Recipe](\"https://support.finbourne.com/what-is-a-lusid-recipe-and-how-is-it-used\"):"
   ],
   "metadata": {
    "collapsed": false,
    "pycharm": {
     "name": "#%% md\n"
    }
   }
  },
  {
   "cell_type": "code",
   "execution_count": 47,
   "outputs": [],
   "source": [
    "def create_fx_forward_pricing_recipe():\n",
    "    return models.ConfigurationRecipe(\n",
    "            scope=scope,\n",
    "            code=\"fx-forward-pricing-recipe\",\n",
    "            description=\"Price Fx Forwards using LUSID internal model\",\n",
    "            market=market_context,\n",
    "            pricing=pricing_context\n",
    "        )\n",
    "\n",
    "fx_forward_pricing_recipe = create_fx_forward_pricing_recipe()"
   ],
   "metadata": {
    "collapsed": false,
    "pycharm": {
     "name": "#%%\n"
    }
   }
  },
  {
   "cell_type": "markdown",
   "source": [
    "## Price the FX Forwards\n",
    "\n",
    "Let's summarise our current state:\n",
    " * We've defined a set of GBP/USD FX forwards for maturity in 3Y, 5Y and 10Y.\n",
    " * We've loaded in the spot GBP/USD rates for the dates we're going to value our forwards against.\n",
    " * We've setup our Recipe that configures how we would like to price our bond and where to source our required market data.\n",
    "\n",
    "As we have no existing positions in the FX forward booked against a portfolio we'll run our aggregation on an inlined portfolio.\n",
    "That is a portfolio made up of a set of weighted instruments only. In our case each request will be made up of only one instrument which\n",
    "will be the FX forward we're valuing.\n",
    "\n",
    "### Run an Aggregation to Price our Forwards"
   ],
   "metadata": {
    "collapsed": false,
    "pycharm": {
     "name": "#%% md\n"
    }
   }
  },
  {
   "cell_type": "code",
   "execution_count": 48,
   "outputs": [],
   "source": [
    "def run_fx_forward_pricing_aggregation(maturity, effective_at, fx_forward_instrument_definition, pricing_recipe):\n",
    "    # setup weighted instrument (only our gilt definition)\n",
    "    fx_forward = models.WeightedInstrument(quantity=1, instrument=fx_forward_instrument_definition, holding_identifier=f\"{maturity}-holding\")\n",
    "\n",
    "    # create our aggregation request made up of our recipe and the metrics we would like to calculate (Bond PV)\n",
    "    aggregation_request = models.AggregationRequest(\n",
    "        effective_at=effective_at,\n",
    "        inline_recipe=pricing_recipe,\n",
    "        metrics=[\n",
    "            models.AggregateSpec(key='Holding/default/PV', op='Value'),\n",
    "        ]\n",
    "    )\n",
    "\n",
    "    # As we're running an inline aggregation we must wrap our original aggregation request with an inline aggregation\n",
    "    # request and pass in our weighted instruments\n",
    "    inline_aggregation_request = models.InlineAggregationRequest(\n",
    "        request=aggregation_request, instruments=[fx_forward]\n",
    "    )\n",
    "\n",
    "    # https://www.lusid.com/docs/api#operation/GetAggregationOfWeightedInstruments\n",
    "    return api_factory.build(lusid.api.AggregationApi).get_aggregation_of_weighted_instruments(\n",
    "        market_data_scope, inline_aggregation_request=inline_aggregation_request)\n"
   ],
   "metadata": {
    "collapsed": false,
    "pycharm": {
     "name": "#%%\n"
    }
   }
  },
  {
   "cell_type": "markdown",
   "source": [
    "Let's start by running the 5Y forward valuation across the three dates for which we upserted spot GBP/USD quotes. Recall the quotes were 1.2508 for\n",
    "trade date, whic hthen dropped by 0.0080 on day two and subsequently then increased by 0.0160 on day 3."
   ],
   "metadata": {
    "collapsed": false,
    "pycharm": {
     "name": "#%% md\n"
    }
   }
  },
  {
   "cell_type": "code",
   "execution_count": 49,
   "outputs": [
    {
     "data": {
      "text/plain": "                    Name Effective At     Value\n0  GBP/USD 5Y Forward PV  01 Jun 2020 -0.006160\n1  GBP/USD 5Y Forward PV  02 Jun 2020 -0.012605\n2  GBP/USD 5Y Forward PV  03 Jun 2020  0.000202",
      "text/html": "<div>\n<style scoped>\n    .dataframe tbody tr th:only-of-type {\n        vertical-align: middle;\n    }\n\n    .dataframe tbody tr th {\n        vertical-align: top;\n    }\n\n    .dataframe thead th {\n        text-align: right;\n    }\n</style>\n<table border=\"1\" class=\"dataframe\">\n  <thead>\n    <tr style=\"text-align: right;\">\n      <th></th>\n      <th>Name</th>\n      <th>Effective At</th>\n      <th>Value</th>\n    </tr>\n  </thead>\n  <tbody>\n    <tr>\n      <th>0</th>\n      <td>GBP/USD 5Y Forward PV</td>\n      <td>01 Jun 2020</td>\n      <td>-0.006160</td>\n    </tr>\n    <tr>\n      <th>1</th>\n      <td>GBP/USD 5Y Forward PV</td>\n      <td>02 Jun 2020</td>\n      <td>-0.012605</td>\n    </tr>\n    <tr>\n      <th>2</th>\n      <td>GBP/USD 5Y Forward PV</td>\n      <td>03 Jun 2020</td>\n      <td>0.000202</td>\n    </tr>\n  </tbody>\n</table>\n</div>"
     },
     "execution_count": 49,
     "metadata": {},
     "output_type": "execute_result"
    }
   ],
   "source": [
    "result_t = run_fx_forward_pricing_aggregation('5Y', trade_date, gbpusd_fx_fwd_5y_instr_def, fx_forward_pricing_recipe)\n",
    "result_t_plus_one = run_fx_forward_pricing_aggregation('5Y', trade_date_plus_one, gbpusd_fx_fwd_5y_instr_def, fx_forward_pricing_recipe)\n",
    "result_t_plus_two = run_fx_forward_pricing_aggregation('5Y', trade_date_plus_two, gbpusd_fx_fwd_5y_instr_def, fx_forward_pricing_recipe)\n",
    "\n",
    "aggregation_result_to_dataframe([\n",
    "    ['GBP/USD 5Y Forward PV', trade_date, result_t.data[0]['Holding/default/PV']],\n",
    "    ['GBP/USD 5Y Forward PV', trade_date_plus_one, result_t_plus_one.data[0]['Holding/default/PV']],\n",
    "    ['GBP/USD 5Y Forward PV', trade_date_plus_two, result_t_plus_two.data[0]['Holding/default/PV']]\n",
    "])"
   ],
   "metadata": {
    "collapsed": false,
    "pycharm": {
     "name": "#%%\n"
    }
   }
  },
  {
   "cell_type": "markdown",
   "source": [
    "Let's now take a slightly different perspective and look at the prices across the Forward curve for one date only:"
   ],
   "metadata": {
    "collapsed": false,
    "pycharm": {
     "name": "#%% md\n"
    }
   }
  },
  {
   "cell_type": "code",
   "execution_count": 50,
   "outputs": [
    {
     "data": {
      "text/plain": "                     Name Effective At     Value\n0   GBP/USD 3Y Forward PV  01 Jun 2020 -0.002024\n1   GBP/USD 5Y Forward PV  01 Jun 2020 -0.006160\n2  GBP/USD 10Y Forward PV  01 Jun 2020 -0.032075",
      "text/html": "<div>\n<style scoped>\n    .dataframe tbody tr th:only-of-type {\n        vertical-align: middle;\n    }\n\n    .dataframe tbody tr th {\n        vertical-align: top;\n    }\n\n    .dataframe thead th {\n        text-align: right;\n    }\n</style>\n<table border=\"1\" class=\"dataframe\">\n  <thead>\n    <tr style=\"text-align: right;\">\n      <th></th>\n      <th>Name</th>\n      <th>Effective At</th>\n      <th>Value</th>\n    </tr>\n  </thead>\n  <tbody>\n    <tr>\n      <th>0</th>\n      <td>GBP/USD 3Y Forward PV</td>\n      <td>01 Jun 2020</td>\n      <td>-0.002024</td>\n    </tr>\n    <tr>\n      <th>1</th>\n      <td>GBP/USD 5Y Forward PV</td>\n      <td>01 Jun 2020</td>\n      <td>-0.006160</td>\n    </tr>\n    <tr>\n      <th>2</th>\n      <td>GBP/USD 10Y Forward PV</td>\n      <td>01 Jun 2020</td>\n      <td>-0.032075</td>\n    </tr>\n  </tbody>\n</table>\n</div>"
     },
     "execution_count": 50,
     "metadata": {},
     "output_type": "execute_result"
    }
   ],
   "source": [
    "result_3y = run_fx_forward_pricing_aggregation('3Y', trade_date, gbpusd_fx_fwd_3y_instr_def, fx_forward_pricing_recipe)\n",
    "result_5y = run_fx_forward_pricing_aggregation('5Y', trade_date, gbpusd_fx_fwd_5y_instr_def, fx_forward_pricing_recipe)\n",
    "result_10y = run_fx_forward_pricing_aggregation('10Y', trade_date, gbpusd_fx_fwd_10y_instr_def, fx_forward_pricing_recipe)\n",
    "\n",
    "aggregation_result_to_dataframe([\n",
    "    ['GBP/USD 3Y Forward PV', trade_date, result_3y.data[0]['Holding/default/PV']],\n",
    "    ['GBP/USD 5Y Forward PV', trade_date, result_5y.data[0]['Holding/default/PV']],\n",
    "    ['GBP/USD 10Y Forward PV', trade_date, result_10y.data[0]['Holding/default/PV']]\n",
    "])\n"
   ],
   "metadata": {
    "collapsed": false,
    "pycharm": {
     "name": "#%%\n"
    }
   }
  },
  {
   "cell_type": "markdown",
   "source": [
    "## Pricing a Portfolio of FX Forwards\n",
    "\n",
    "Up until now we've only priced a unit Fx Forward as an instrument. Let's now take it a step further and build a simple portfolio made up of\n",
    "an FX forward positions. While we'll now be running our aggregation on an actual portfolio as opposed to just the Fx Forward instrument\n",
    "we'll still make use of the same recipe we defined. This is because the rules regarding what model we'd like to use to price our\n",
    "Fx Forward and where LUSID should retrieve market data from have not changed.\n",
    "\n",
    "\n",
    "### Setting up our Portfolio\n",
    "\n",
    "We'll firstly setup the portfolio that will hold our FX forward positions:"
   ],
   "metadata": {
    "collapsed": false,
    "pycharm": {
     "name": "#%% md\n"
    }
   }
  },
  {
   "cell_type": "code",
   "execution_count": 51,
   "outputs": [
    {
     "data": {
      "text/plain": "            successful items\n0  simple-fxfwd-portfolio-01",
      "text/html": "<div>\n<style scoped>\n    .dataframe tbody tr th:only-of-type {\n        vertical-align: middle;\n    }\n\n    .dataframe tbody tr th {\n        vertical-align: top;\n    }\n\n    .dataframe thead th {\n        text-align: right;\n    }\n</style>\n<table border=\"1\" class=\"dataframe\">\n  <thead>\n    <tr style=\"text-align: right;\">\n      <th></th>\n      <th>successful items</th>\n    </tr>\n  </thead>\n  <tbody>\n    <tr>\n      <th>0</th>\n      <td>simple-fxfwd-portfolio-01</td>\n    </tr>\n  </tbody>\n</table>\n</div>"
     },
     "execution_count": 51,
     "metadata": {},
     "output_type": "execute_result"
    }
   ],
   "source": [
    "portfolio = \"simple-fxfwd-portfolio-01\"\n",
    "\n",
    "def create_portfolio(scope, portfolio_code, portfolio_name, portfolio_ccy):\n",
    "    pfs = [[portfolio_code, portfolio_name, portfolio_ccy]]\n",
    "    pf_df = pd.DataFrame(pfs, columns=['portfolio_code', 'portfolio_name', 'base_currency'])\n",
    "\n",
    "    portfolio_mapping = {\n",
    "        \"required\": {\n",
    "            \"code\": \"portfolio_code\",\n",
    "            \"display_name\": \"portfolio_name\",\n",
    "            \"base_currency\": \"base_currency\",\n",
    "        },\n",
    "        \"optional\": {\"created\": \"$2020-01-01T00:00:00+00:00\"},\n",
    "    }\n",
    "    result = load_from_data_frame(\n",
    "        api_factory=api_factory,\n",
    "        scope=scope,\n",
    "        data_frame=pf_df,\n",
    "        mapping_required=portfolio_mapping[\"required\"],\n",
    "        mapping_optional=portfolio_mapping[\"optional\"],\n",
    "        file_type=\"portfolios\",\n",
    "        sub_holding_keys=[],\n",
    "    )\n",
    "    succ, failed = format_portfolios_response(result)\n",
    "\n",
    "    if not failed.empty:\n",
    "        raise StopExecution(failed)\n",
    "\n",
    "    return succ\n",
    "\n",
    "create_portfolio(scope, portfolio, portfolio, \"GBP\")\n",
    "\n"
   ],
   "metadata": {
    "collapsed": false,
    "pycharm": {
     "name": "#%%\n"
    }
   }
  },
  {
   "cell_type": "markdown",
   "source": [
    "### Upserting our FX Forward Instrument\n",
    "\n",
    "Previously as we were only pricing the FX Forward instrument we were only required to pass in it's instrument definition. As we're now\n",
    "booking transactions against the instrument we'll need to upsert the instrument into LUSID. This will provide us with an identifier\n",
    "we can use to book our transactions against.\n",
    "\n",
    "For the purpose of our portfolio we'll only work with the 3Y FX forward from now on:"
   ],
   "metadata": {
    "collapsed": false,
    "pycharm": {
     "name": "#%% md\n"
    }
   }
  },
  {
   "cell_type": "code",
   "execution_count": 52,
   "outputs": [],
   "source": [
    "def upsert_fx_fwd_instrument(instrument_id, instrument_name, fx_fwd_definition):\n",
    "    bond_instrument_request = {instrument_id: models.LusidInstrumentDefinition(\n",
    "        # instrument display name\n",
    "        name=instrument_name,\n",
    "        # unique instrument identifier\n",
    "        identifiers={\"ClientInternal\": models.InstrumentIdValue(instrument_id)},\n",
    "        # our gilt instrument definition\n",
    "        definition=fx_fwd_definition\n",
    "    )}\n",
    "    # Note we're using upsert_lusid_instrument and not upset_instrument as we're creating an instrument based\n",
    "    # on a user defined instrument definition and not the base LUSID instruments.\n",
    "    return instruments_api.upsert_lusid_instruments(bond_instrument_request)\n",
    "\n",
    "gbpusd_fx_fwd_3y_instr_client_id = \"gbp_usd_fwd_3y_12571\"\n",
    "instrument_creation_response = upsert_fx_fwd_instrument(gbpusd_fx_fwd_3y_instr_client_id, \"GBP/USD 3Y @ 1.2571\", gbpusd_fx_fwd_3y_instr_def)\n",
    "# retrieve the instrument id of our gilt to be used later when loading market quotes for the bond into LUSID.\n",
    "gbpusd_fx_fwd_3y_instr_luid = instrument_creation_response.values[gbpusd_fx_fwd_3y_instr_client_id].lusid_instrument_id\n",
    "\n",
    "gbpusd_fx_fwd_1w_instr_client_id = \"gbp_usd_fwd_1w_12509\"\n",
    "instrument_creation_response = upsert_fx_fwd_instrument(gbpusd_fx_fwd_1w_instr_client_id, \"GBP/USD 1W @ 1.2509\", gbpusd_fx_fwd_1w_instr_def)\n",
    "# retrieve the instrument id of our gilt to be used later when loading market quotes for the bond into LUSID.\n",
    "gbpusd_fx_fwd_1w_instr_luid = instrument_creation_response.values[gbpusd_fx_fwd_1w_instr_client_id].lusid_instrument_id\n"
   ],
   "metadata": {
    "collapsed": false,
    "pycharm": {
     "name": "#%%\n"
    }
   }
  },
  {
   "cell_type": "markdown",
   "source": [
    "### Setting up our FX Forward Transaction\n",
    "\n",
    "Let's assume we're taking a position in the GBP/USD 3Y Fx Forward we setup. As the domestic and foreign notionals are\n",
    "included in the instrument definition we simply need to setup a transaction type that gives use a \"stock\" holding in the instrument. Now, as\n",
    "there is no cash exchanged the default \"Buy\" transaction is unsuitable so we'll have to create our own. For details\n",
    "on movements take a look at the notebook [Generating holdings with the movements engine in LUSID](https://github.com/finbourne/sample-notebooks/blob/master/examples/use-cases/ibor/Generating%20holdings%20with%20the%20movements%20engine%20in%20LUSID.ipynb)\n",
    "\n",
    "\n",
    "#### Creating a Transaction Type\n",
    "\n",
    "For more information on transaction types have a read of [Configuring transaction types](https://support.finbourne.com/configuring-transaction-types) and try the\n",
    " TODO find notebook\n",
    "\n",
    "We need a transaction that simply buys a unit of the forward with no cash movement that we'll call \"FxFwdInstBuy\""
   ],
   "metadata": {
    "collapsed": false
   }
  },
  {
   "cell_type": "code",
   "execution_count": 53,
   "outputs": [
    {
     "name": "stderr",
     "output_type": "stream",
     "text": [
      "WARNING:root:The following alias already exists: Type of FxFwdInstBuy with source default\n",
      "WARNING:root:The following alias already exists: Type of FxFwdInstBuy_CM with source default\n"
     ]
    }
   ],
   "source": [
    "create_txn_type_response = create_transaction_type_configuration(\n",
    "    api_factory,\n",
    "    alias=models.TransactionConfigurationTypeAlias(\n",
    "        type=\"FxFwdInstBuy\",\n",
    "        description=\"Buy a unit of a pre defined FXForwardInstrument\",\n",
    "        transaction_class=\"Basic\",\n",
    "        transaction_group=\"default\",\n",
    "        transaction_roles=\"LongLonger\",\n",
    "    ),\n",
    "    movements=[\n",
    "        models.TransactionConfigurationMovementDataRequest(\n",
    "            movement_types=\"StockMovement\",\n",
    "            side=\"Side1\",\n",
    "            direction=1,\n",
    "            properties=None,\n",
    "            mappings=None,\n",
    "        )\n",
    "    ],\n",
    ")\n",
    "\n",
    "create_txn_type_response = create_transaction_type_configuration(\n",
    "    api_factory,\n",
    "    alias=models.TransactionConfigurationTypeAlias(\n",
    "        type=\"FxFwdInstBuy_CM\",\n",
    "        description=\"Buy a unit of a pre defined FXForwardInstrument\",\n",
    "        transaction_class=\"Basic\",\n",
    "        transaction_group=\"default\",\n",
    "        transaction_roles=\"Longer\",\n",
    "    ),\n",
    "    movements=[\n",
    "        models.TransactionConfigurationMovementDataRequest(\n",
    "            movement_types=\"CashFxForward\",\n",
    "            side=\"Side1\",\n",
    "            direction=1,\n",
    "            properties=None,\n",
    "            mappings=None,\n",
    "        )\n",
    "    ],\n",
    ")"
   ],
   "metadata": {
    "collapsed": false,
    "pycharm": {
     "name": "#%%\n"
    }
   }
  },
  {
   "cell_type": "markdown",
   "source": [
    "#### Upserting our transaction\n",
    "\n",
    "With out transaction type configured we can now upsert a transation in the 3Y forward. An important point to note is when valuing\n",
    "the Fx forward the calculated PV is a unitised value. Therefore our units in the transaction should match our notional:"
   ],
   "metadata": {
    "collapsed": false,
    "pycharm": {
     "name": "#%% md\n"
    }
   }
  },
  {
   "cell_type": "code",
   "execution_count": 54,
   "outputs": [],
   "source": [
    "def upsert_fwd_transaction(scope, txn_id, txn_type, txn_ccy, instrument_id, trade_date, settlement_date, portfolio, transaction_price, consideration):\n",
    "    gilt_transaction_request = models.TransactionRequest(\n",
    "        transaction_id=txn_id,\n",
    "        type=txn_type,\n",
    "        instrument_identifiers={\"Instrument/default/ClientInternal\": instrument_id},\n",
    "        transaction_date=trade_date.isoformat(),\n",
    "        settlement_date=settlement_date.isoformat(),\n",
    "        units=100000000,\n",
    "        transaction_price=models.TransactionPrice(price=transaction_price, type=\"Price\"),\n",
    "        total_consideration=models.CurrencyAndAmount(amount=consideration, currency=txn_ccy),\n",
    "        exchange_rate=1,\n",
    "        transaction_currency=txn_ccy\n",
    "    )\n",
    "\n",
    "    response = api_factory.build(lusid.api.TransactionPortfoliosApi).upsert_transactions(scope=scope,\n",
    "                                                                                         code=portfolio,\n",
    "                                                                                         transaction_request=[gilt_transaction_request])\n",
    "\n",
    "# Insert position in 3Y\n",
    "\n",
    "# our units are 100000000 as the PV in the forward pricing is calculated for a unit instrument.\n",
    "units = 100000000\n",
    "transaction_price = 1.2571  # spot + 3y fwd spread\n",
    "consideration = 100000000\n",
    "# upsert the buy leg of the forward\n",
    "#upsert_fwd_transaction(scope, \"fx_fwd_3y_b_001\", \"FxFwdInstBuy\", \"GBP\", gbpusd_fx_fwd_3y_instr_client_id, trade_date, maturity_dates['3Y'], portfolio, transaction_price, consideration)\n",
    "#upsert_fwd_transaction(scope, \"fx_fwd_3y_b_001\", \"FxFwdInstBuy_CM\", \"GBP\", gbpusd_fx_fwd_3y_instr_client_id, trade_date, maturity_dates['3Y'], portfolio, transaction_price, consideration)\n",
    "\n",
    "\n",
    "# Insert position in 1W\n",
    "units = 100000000\n",
    "transaction_price = 1.2509  # spot + 3y fwd spread\n",
    "consideration = 100000000\n",
    "# upsert the buy leg of the forward\n",
    "#upsert_fwd_transaction(scope, \"fx_fwd_1w_b_001\", \"FxFwdInstBuy\", \"GBP\", gbpusd_fx_fwd_1w_instr_client_id, trade_date, maturity_dates['1W'], portfolio, transaction_price, consideration)\n",
    "upsert_fwd_transaction(scope, \"fx_fwd_1w_b_001\", \"FxFwdInstBuy\", \"GBP\", gbpusd_fx_fwd_1w_instr_client_id, trade_date, maturity_dates['1W'], portfolio, transaction_price, consideration)\n",
    "upsert_fwd_transaction(scope, \"fx_fwd_1w_b_001_CM\", \"FxFwdInstBuy_CM\", \"GBP\", gbpusd_fx_fwd_1w_instr_client_id, trade_date, maturity_dates['1W'], portfolio, transaction_price, consideration)\n",
    "\n"
   ],
   "metadata": {
    "collapsed": false,
    "pycharm": {
     "name": "#%%\n"
    }
   }
  },
  {
   "cell_type": "markdown",
   "source": [
    "### Value Portfolio\n",
    "\n",
    "With our portfolio now populated with a transaction in the 3Y forward we can"
   ],
   "metadata": {
    "collapsed": false,
    "pycharm": {
     "name": "#%% md\n"
    }
   }
  },
  {
   "cell_type": "code",
   "execution_count": 55,
   "outputs": [
    {
     "data": {
      "text/plain": "           Name Effective At          Value\n0  Portfolio PV  01 Jun 2020   -6351.446653\n1  Portfolio PV  02 Jun 2020 -650089.508009\n2  Portfolio PV  03 Jun 2020  629204.370517",
      "text/html": "<div>\n<style scoped>\n    .dataframe tbody tr th:only-of-type {\n        vertical-align: middle;\n    }\n\n    .dataframe tbody tr th {\n        vertical-align: top;\n    }\n\n    .dataframe thead th {\n        text-align: right;\n    }\n</style>\n<table border=\"1\" class=\"dataframe\">\n  <thead>\n    <tr style=\"text-align: right;\">\n      <th></th>\n      <th>Name</th>\n      <th>Effective At</th>\n      <th>Value</th>\n    </tr>\n  </thead>\n  <tbody>\n    <tr>\n      <th>0</th>\n      <td>Portfolio PV</td>\n      <td>01 Jun 2020</td>\n      <td>-6351.446653</td>\n    </tr>\n    <tr>\n      <th>1</th>\n      <td>Portfolio PV</td>\n      <td>02 Jun 2020</td>\n      <td>-650089.508009</td>\n    </tr>\n    <tr>\n      <th>2</th>\n      <td>Portfolio PV</td>\n      <td>03 Jun 2020</td>\n      <td>629204.370517</td>\n    </tr>\n  </tbody>\n</table>\n</div>"
     },
     "execution_count": 55,
     "metadata": {},
     "output_type": "execute_result"
    }
   ],
   "source": [
    "def run_fx_forward_pricing_aggregation_on_portfolio(scope, portfolio, recipe, effective_at):\n",
    "    aggregation_request = models.AggregationRequest(\n",
    "        effective_at=effective_at.isoformat(),\n",
    "        inline_recipe=recipe,\n",
    "        metrics=[\n",
    "            models.AggregateSpec(key='Holding/default/PV',\n",
    "                                 op='Value'),\n",
    "            # models.AggregateSpec(key='Analytic/default/ValuationDate',\n",
    "            #                              op='Value'),\n",
    "            # models.AggregateSpec(key='Analytic/default/DomCcy',\n",
    "            #                      op='Value'),\n",
    "            # models.AggregateSpec(key='Analytic/default/FgnCcy',\n",
    "            #                      op='Value'),\n",
    "            # models.AggregateSpec(key='Analytic/default/StartDate',\n",
    "            #                      op='Value'),\n",
    "            # models.AggregateSpec(key='Analytic/default/MaturityDate',\n",
    "            #                      op='Value'),\n",
    "            # models.AggregateSpec(key='Portfolio/default/Name',\n",
    "            #                      op='Value'),\n",
    "            # models.AggregateSpec(key='Holding/default/Cost',\n",
    "            #                      op='Value'),\n",
    "            # models.AggregateSpec(key='Holding/default/Units',\n",
    "            #                      op='Value'),\n",
    "            #             models.AggregateSpec(\"Holding/default/Error\", \"Value\")\n",
    "        ]\n",
    "    )\n",
    "\n",
    "    return api_factory.build(lusid.api.AggregationApi).get_aggregation(scope=scope, code=portfolio,\n",
    "                                                             aggregation_request=aggregation_request)\n",
    "\n",
    "\n",
    "result_t = run_fx_forward_pricing_aggregation_on_portfolio(scope, portfolio, fx_forward_pricing_recipe, trade_date)\n",
    "result_t_plus_one = run_fx_forward_pricing_aggregation_on_portfolio(scope, portfolio, fx_forward_pricing_recipe, trade_date_plus_one)\n",
    "result_t_plus_two = run_fx_forward_pricing_aggregation_on_portfolio(scope, portfolio, fx_forward_pricing_recipe, trade_date_plus_two)\n",
    "\n",
    "aggregation_result_to_dataframe([\n",
    "    ['Portfolio PV', trade_date, result_t.data[0]['Holding/default/PV']],\n",
    "    ['Portfolio PV', trade_date_plus_one, result_t_plus_one.data[0]['Holding/default/PV']],\n",
    "    ['Portfolio PV', trade_date_plus_two, result_t_plus_two.data[0]['Holding/default/PV']]\n",
    "])"
   ],
   "metadata": {
    "collapsed": false,
    "pycharm": {
     "name": "#%%\n"
    }
   }
  },
  {
   "cell_type": "code",
   "execution_count": 56,
   "outputs": [
    {
     "data": {
      "text/plain": "                    Name Effective At     Value\n0  GBP/USD 3Y Forward PV  01 Jun 2020 -0.002024\n1  GBP/USD 3Y Forward PV  02 Jun 2020 -0.008455\n2  GBP/USD 3Y Forward PV  03 Jun 2020  0.004325",
      "text/html": "<div>\n<style scoped>\n    .dataframe tbody tr th:only-of-type {\n        vertical-align: middle;\n    }\n\n    .dataframe tbody tr th {\n        vertical-align: top;\n    }\n\n    .dataframe thead th {\n        text-align: right;\n    }\n</style>\n<table border=\"1\" class=\"dataframe\">\n  <thead>\n    <tr style=\"text-align: right;\">\n      <th></th>\n      <th>Name</th>\n      <th>Effective At</th>\n      <th>Value</th>\n    </tr>\n  </thead>\n  <tbody>\n    <tr>\n      <th>0</th>\n      <td>GBP/USD 3Y Forward PV</td>\n      <td>01 Jun 2020</td>\n      <td>-0.002024</td>\n    </tr>\n    <tr>\n      <th>1</th>\n      <td>GBP/USD 3Y Forward PV</td>\n      <td>02 Jun 2020</td>\n      <td>-0.008455</td>\n    </tr>\n    <tr>\n      <th>2</th>\n      <td>GBP/USD 3Y Forward PV</td>\n      <td>03 Jun 2020</td>\n      <td>0.004325</td>\n    </tr>\n  </tbody>\n</table>\n</div>"
     },
     "execution_count": 56,
     "metadata": {},
     "output_type": "execute_result"
    }
   ],
   "source": [
    "result_t = run_fx_forward_pricing_aggregation('3Y', trade_date, gbpusd_fx_fwd_3y_instr_def, fx_forward_pricing_recipe)\n",
    "result_t_plus_one = run_fx_forward_pricing_aggregation('3Y', trade_date_plus_one, gbpusd_fx_fwd_3y_instr_def, fx_forward_pricing_recipe)\n",
    "result_t_plus_two = run_fx_forward_pricing_aggregation('3Y', trade_date_plus_two, gbpusd_fx_fwd_3y_instr_def, fx_forward_pricing_recipe)\n",
    "\n",
    "aggregation_result_to_dataframe([\n",
    "    ['GBP/USD 3Y Forward PV', trade_date, result_t.data[0]['Holding/default/PV']],\n",
    "    ['GBP/USD 3Y Forward PV', trade_date_plus_one, result_t_plus_one.data[0]['Holding/default/PV']],\n",
    "    ['GBP/USD 3Y Forward PV', trade_date_plus_two, result_t_plus_two.data[0]['Holding/default/PV']]\n",
    "])"
   ],
   "metadata": {
    "collapsed": false,
    "pycharm": {
     "name": "#%%\n"
    }
   }
  },
  {
   "cell_type": "markdown",
   "source": [
    "### Price across the life of the forward"
   ],
   "metadata": {
    "collapsed": false
   }
  },
  {
   "cell_type": "code",
   "execution_count": 57,
   "outputs": [
    {
     "data": {
      "text/plain": "'GBP/USD @ 1.2509 for 2020-06-08 00:00:00+00:00 uploaded to quote store.'"
     },
     "metadata": {},
     "output_type": "display_data"
    },
    {
     "data": {
      "text/plain": "'USD/GBP @ 0.7994244144216165 for 2020-06-08 00:00:00+00:00 uploaded to quote store.'"
     },
     "metadata": {},
     "output_type": "display_data"
    },
    {
     "data": {
      "text/plain": "                    Name Effective At     Value\n0  GBP/USD 1W Forward PV  01 Jun 2020 -0.000064\n1  GBP/USD 1W Forward PV  02 Jun 2020 -0.006501\n2  GBP/USD 1W Forward PV  08 Jun 2020  0.000016",
      "text/html": "<div>\n<style scoped>\n    .dataframe tbody tr th:only-of-type {\n        vertical-align: middle;\n    }\n\n    .dataframe tbody tr th {\n        vertical-align: top;\n    }\n\n    .dataframe thead th {\n        text-align: right;\n    }\n</style>\n<table border=\"1\" class=\"dataframe\">\n  <thead>\n    <tr style=\"text-align: right;\">\n      <th></th>\n      <th>Name</th>\n      <th>Effective At</th>\n      <th>Value</th>\n    </tr>\n  </thead>\n  <tbody>\n    <tr>\n      <th>0</th>\n      <td>GBP/USD 1W Forward PV</td>\n      <td>01 Jun 2020</td>\n      <td>-0.000064</td>\n    </tr>\n    <tr>\n      <th>1</th>\n      <td>GBP/USD 1W Forward PV</td>\n      <td>02 Jun 2020</td>\n      <td>-0.006501</td>\n    </tr>\n    <tr>\n      <th>2</th>\n      <td>GBP/USD 1W Forward PV</td>\n      <td>08 Jun 2020</td>\n      <td>0.000016</td>\n    </tr>\n  </tbody>\n</table>\n</div>"
     },
     "execution_count": 57,
     "metadata": {},
     "output_type": "execute_result"
    }
   ],
   "source": [
    "# assume spot rate on expiry date is lower thant forward rate\n",
    "upsert_gbp_usd_fx_rate(1.2509, maturity_dates['1W'])\n",
    "\n",
    "\n",
    "result_t = run_fx_forward_pricing_aggregation('1W', trade_date, gbpusd_fx_fwd_1w_instr_def, fx_forward_pricing_recipe)\n",
    "result_t_plus_one = run_fx_forward_pricing_aggregation('1W', trade_date_plus_one, gbpusd_fx_fwd_1w_instr_def, fx_forward_pricing_recipe)\n",
    "result_on_maturity = run_fx_forward_pricing_aggregation('1W', maturity_dates['1W'], gbpusd_fx_fwd_1w_instr_def, fx_forward_pricing_recipe)\n",
    "\n",
    "aggregation_result_to_dataframe([\n",
    "    ['GBP/USD 1W Forward PV', trade_date, result_t.data[0]['Holding/default/PV']],\n",
    "    ['GBP/USD 1W Forward PV', trade_date_plus_one, result_t_plus_one.data[0]['Holding/default/PV']],\n",
    "    ['GBP/USD 1W Forward PV', maturity_dates['1W'], result_on_maturity.data[0]['Holding/default/PV']]\n",
    "])\n"
   ],
   "metadata": {
    "collapsed": false,
    "pycharm": {
     "name": "#%%\n"
    }
   }
  },
  {
   "cell_type": "markdown",
   "source": [
    "## Forward Pricing Override with LUSID Static Model\n",
    "\n",
    "Let's now assume that we've calculated priced our FX forwards externally to LUSID but would like the prices in LUSID to\n",
    "value our portfolio. We can do so by changing the pricing model we use from \"Discounting\" model to a \"SimpleStatic\" model. For\n",
    "the static model to retrieve the externally calculate Forward prices we need to firsty upsert those prices as market data quotes against the\n",
    "FX forward insturment we defined earlier in the notebook\n",
    "\n",
    "### Load FX Forward Prices into LUSID"
   ],
   "metadata": {
    "collapsed": false,
    "pycharm": {
     "name": "#%% md\n"
    }
   }
  },
  {
   "cell_type": "code",
   "execution_count": 58,
   "outputs": [
    {
     "name": "stdout",
     "output_type": "stream",
     "text": [
      "FX Forward @0.1 uploaded into Quote store.\n",
      "FX Forward @0.105 uploaded into Quote store.\n",
      "FX Forward @0.005 uploaded into Quote store.\n"
     ]
    }
   ],
   "source": [
    "def upsert_external_fx_forward_as_quote(fx_fwd_price, effective_at):\n",
    "    spot_quote = models.UpsertQuoteRequest(\n",
    "        quote_id=models.QuoteId(\n",
    "            quote_series_id=models.QuoteSeriesId(\n",
    "                provider=market_supplier,\n",
    "                instrument_id=gbpusd_fx_fwd_3y_instr_luid,\n",
    "                instrument_id_type='LusidInstrumentId',\n",
    "                quote_type='Spread',\n",
    "                field='Mid'),\n",
    "            effective_at=effective_at,\n",
    "        ),\n",
    "        metric_value=models.MetricValue(\n",
    "            value=fx_fwd_price,\n",
    "            unit='GBP'),\n",
    "        lineage='InternalSystem')\n",
    "\n",
    "    response = api_factory.build(lusid.api.QuotesApi).upsert_quotes(\n",
    "        scope=market_data_scope,\n",
    "        request_body={\"1\": spot_quote})\n",
    "\n",
    "    if response.failed:\n",
    "        raise StopExecution(f\"Failed to upload FX Forward price:{response.failed}\")\n",
    "\n",
    "    print(f\"FX Forward @{fx_fwd_price} uploaded into Quote store.\")\n",
    "\n",
    "upsert_external_fx_forward_as_quote(0.10000, trade_date)\n",
    "upsert_external_fx_forward_as_quote(0.105000, trade_date_plus_one)\n",
    "upsert_external_fx_forward_as_quote(0.005000, trade_date_plus_two)\n"
   ],
   "metadata": {
    "collapsed": false,
    "pycharm": {
     "name": "#%%\n"
    }
   }
  },
  {
   "cell_type": "markdown",
   "source": [
    "### Updating our Recipe to the Static Model\n",
    "\n",
    "We now need to use a recipe that selects the Static model for pricing forwards. As we did earlier in the notebook we select\n",
    "the model we'd like to use through the PricingContext of the recipe"
   ],
   "metadata": {
    "collapsed": false,
    "pycharm": {
     "name": "#%% md\n"
    }
   }
  },
  {
   "cell_type": "code",
   "execution_count": 59,
   "outputs": [],
   "source": [
    "def create_static_fx_forward_pricing_context():\n",
    "    return models.PricingContext(\n",
    "        # the default behaviour does not allow looking up data for pricing instruments so we must allow it.\n",
    "        options=models.PricingOptions(\n",
    "            allow_any_instruments_with_sec_uid_to_price_off_lookup=True\n",
    "        ),\n",
    "        model_rules=[\n",
    "            models.VendorModelRule(\n",
    "                supplier=\"Lusid\",\n",
    "                model_name=\"SimpleStatic\",\n",
    "                instrument_type=\"FxForward\",\n",
    "                parameters=\"{}\"\n",
    "            )\n",
    "        ]\n",
    "    )\n",
    "\n",
    "static_fx_forward_pricing_context = create_static_fx_forward_pricing_context()\n"
   ],
   "metadata": {
    "collapsed": false,
    "pycharm": {
     "name": "#%%\n"
    }
   }
  },
  {
   "cell_type": "markdown",
   "source": [
    "### Instruct LUSID where to find the forward price\n",
    "\n",
    "Additionally we need to make the LUSID aggregation aware of where to resolve the FX forward prices we've inserted."
   ],
   "metadata": {
    "collapsed": false
   }
  },
  {
   "cell_type": "code",
   "execution_count": 60,
   "outputs": [],
   "source": [
    "def create_static_fx_forward_pricing_market_context():\n",
    "    return models.MarketContext(\n",
    "        market_rules=[\n",
    "            # additional rule to resolve our quote\n",
    "            models.MarketDataKeyRule(\n",
    "                key='Equity.LusidInstrumentId.*',\n",
    "                supplier=market_supplier,\n",
    "                data_scope=market_data_scope,\n",
    "                quote_type='Spread',\n",
    "                field='Mid'),\n",
    "            models.MarketDataKeyRule(\n",
    "                key=\"Rates.*.*\",\n",
    "                data_scope=market_data_scope,\n",
    "                supplier=market_supplier,\n",
    "                quote_type='Rate',\n",
    "                field='Mid')\n",
    "        ],\n",
    "        options=models.MarketOptions(\n",
    "            default_supplier=market_supplier,\n",
    "            default_scope=market_data_scope,\n",
    "            manifest_level_of_detail=\"Full\")\n",
    "    )\n",
    "\n",
    "    return market_context\n",
    "\n",
    "static_fx_forward_pricing_market_context = create_static_fx_forward_pricing_market_context()"
   ],
   "metadata": {
    "collapsed": false,
    "pycharm": {
     "name": "#%%\n"
    }
   }
  },
  {
   "cell_type": "markdown",
   "source": [
    "### Construct Static Model Fx Forward Recipe\n",
    "\n",
    "Let's create a new recipe based on the pricing and market contexts we've just created"
   ],
   "metadata": {
    "collapsed": false,
    "pycharm": {
     "name": "#%% md\n"
    }
   }
  },
  {
   "cell_type": "code",
   "execution_count": 61,
   "outputs": [],
   "source": [
    "def create_static_fx_forward_pricing_recipe(scope, market_context, pricing_context):\n",
    "\n",
    "    return models.ConfigurationRecipe(\n",
    "        scope=scope,\n",
    "        code=\"static-fx-forward\",\n",
    "        description=\"Price forward using prices from the quote store.\",\n",
    "        market=market_context,\n",
    "        pricing=pricing_context\n",
    "    )\n",
    "\n",
    "static_fx_forward_price_config_recipe = create_static_fx_forward_pricing_recipe(scope, static_fx_forward_pricing_market_context, static_fx_forward_pricing_context)\n"
   ],
   "metadata": {
    "collapsed": false,
    "pycharm": {
     "name": "#%%\n"
    }
   }
  },
  {
   "cell_type": "markdown",
   "source": [
    "### Rerun Pricing with Static Model and compare with the Discounting Model\n",
    "\n",
    "We can now price our Fx Fwd portfolio using the Static model (which uses our external FX forward price we fed in as a quote)\n",
    "and compare the valuation with a corresponding aggregatoin but using the discounting model"
   ],
   "metadata": {
    "collapsed": false
   }
  },
  {
   "cell_type": "code",
   "execution_count": 62,
   "outputs": [
    {
     "data": {
      "text/plain": "                                    market_data_rule  \\\n0  {'as_at': None,\\n 'data_scope': 'fx-forward-pr...   \n\n  quote_id.quote_series_id.provider quote_id.quote_series_id.instrument_id  \\\n0                             Lusid                                GBP/USD   \n\n  quote_id.quote_series_id.instrument_id_type  \\\n0                                CurrencyPair   \n\n  quote_id.quote_series_id.quote_type quote_id.quote_series_id.field  \\\n0                               Price                            mid   \n\n               quote_id.effective_at  metric_value.value metric_value.unit  \\\n0  2020-06-01T00:00:00.0000000+00:00            1.250800              rate   \n\n           lineage cut_label           uploaded_by  \\\n0  FxDataVendorABC            00u78w98jnujIujIc2p7   \n\n                             as_at  \n0 2020-07-07 12:25:49.320601+00:00  ",
      "text/html": "<div>\n<style scoped>\n    .dataframe tbody tr th:only-of-type {\n        vertical-align: middle;\n    }\n\n    .dataframe tbody tr th {\n        vertical-align: top;\n    }\n\n    .dataframe thead th {\n        text-align: right;\n    }\n</style>\n<table border=\"1\" class=\"dataframe\">\n  <thead>\n    <tr style=\"text-align: right;\">\n      <th></th>\n      <th>market_data_rule</th>\n      <th>quote_id.quote_series_id.provider</th>\n      <th>quote_id.quote_series_id.instrument_id</th>\n      <th>quote_id.quote_series_id.instrument_id_type</th>\n      <th>quote_id.quote_series_id.quote_type</th>\n      <th>quote_id.quote_series_id.field</th>\n      <th>quote_id.effective_at</th>\n      <th>metric_value.value</th>\n      <th>metric_value.unit</th>\n      <th>lineage</th>\n      <th>cut_label</th>\n      <th>uploaded_by</th>\n      <th>as_at</th>\n    </tr>\n  </thead>\n  <tbody>\n    <tr>\n      <th>0</th>\n      <td>{'as_at': None,\\n 'data_scope': 'fx-forward-pr...</td>\n      <td>Lusid</td>\n      <td>GBP/USD</td>\n      <td>CurrencyPair</td>\n      <td>Price</td>\n      <td>mid</td>\n      <td>2020-06-01T00:00:00.0000000+00:00</td>\n      <td>1.250800</td>\n      <td>rate</td>\n      <td>FxDataVendorABC</td>\n      <td></td>\n      <td>00u78w98jnujIujIc2p7</td>\n      <td>2020-07-07 12:25:49.320601+00:00</td>\n    </tr>\n  </tbody>\n</table>\n</div>"
     },
     "metadata": {},
     "output_type": "display_data"
    }
   ],
   "source": [
    "result_t = run_fx_forward_pricing_aggregation('3Y', trade_date, gbpusd_fx_fwd_3y_instr_def, static_fx_forward_price_config_recipe)\n",
    "result_t_plus_one = run_fx_forward_pricing_aggregation('3Y', trade_date_plus_one, gbpusd_fx_fwd_3y_instr_def, static_fx_forward_price_config_recipe)\n",
    "result_t_plus_two = run_fx_forward_pricing_aggregation('3Y', trade_date_plus_two, gbpusd_fx_fwd_3y_instr_def, static_fx_forward_price_config_recipe)\n",
    "\n",
    "aggregation_result_to_dataframe([\n",
    "    ['GBP/USD 3Y Forward PV', trade_date, result_t.data[0]['Holding/default/PV']],\n",
    "    ['GBP/USD 3Y Forward PV', trade_date_plus_one, result_t_plus_one.data[0]['Holding/default/PV']],\n",
    "    ['GBP/USD 3Y Forward PV', trade_date_plus_two, result_t_plus_two.data[0]['Holding/default/PV']]\n",
    "])\n",
    "\n",
    "manifest_df = pd.DataFrame()\n",
    "for manifest in result_t.manifests:\n",
    "    for manifest_quote in manifest.quotes:\n",
    "        quote_df = lusid_response_to_data_frame([manifest_quote.quote])\n",
    "        quote_df.insert(0, \"market_data_rule\", manifest_quote.rule)\n",
    "        manifest_df = manifest_df.append(quote_df)\n",
    "\n",
    "display(manifest_df)\n"
   ],
   "metadata": {
    "collapsed": false,
    "pycharm": {
     "name": "#%%\n"
    }
   }
  },
  {
   "cell_type": "code",
   "execution_count": 63,
   "outputs": [
    {
     "name": "stdout",
     "output_type": "stream",
     "text": [
      "FX Forward @0.5 uploaded into Quote store.\n",
      "FX Forward @0.505 uploaded into Quote store.\n",
      "FX Forward @0.605 uploaded into Quote store.\n"
     ]
    },
    {
     "data": {
      "text/plain": "'GBP/USD @ 1.5 for 2020-06-01 00:00:00+00:00 uploaded to quote store.'"
     },
     "metadata": {},
     "output_type": "display_data"
    },
    {
     "data": {
      "text/plain": "'USD/GBP @ 0.6666666666666666 for 2020-06-01 00:00:00+00:00 uploaded to quote store.'"
     },
     "metadata": {},
     "output_type": "display_data"
    },
    {
     "data": {
      "text/plain": "'GBP/USD @ 1.492 for 2020-06-02 00:00:00+00:00 uploaded to quote store.'"
     },
     "metadata": {},
     "output_type": "display_data"
    },
    {
     "data": {
      "text/plain": "'USD/GBP @ 0.6702412868632708 for 2020-06-02 00:00:00+00:00 uploaded to quote store.'"
     },
     "metadata": {},
     "output_type": "display_data"
    },
    {
     "data": {
      "text/plain": "'GBP/USD @ 1.508 for 2020-06-03 00:00:00+00:00 uploaded to quote store.'"
     },
     "metadata": {},
     "output_type": "display_data"
    },
    {
     "data": {
      "text/plain": "'USD/GBP @ 0.6631299734748011 for 2020-06-03 00:00:00+00:00 uploaded to quote store.'"
     },
     "metadata": {},
     "output_type": "display_data"
    }
   ],
   "source": [
    "upsert_external_fx_forward_as_quote(0.50000, trade_date)\n",
    "upsert_external_fx_forward_as_quote(0.505000, trade_date_plus_one)\n",
    "upsert_external_fx_forward_as_quote(0.605000, trade_date_plus_two)\n",
    "\n",
    "#spot_rate = 1.2508\n",
    "spot_rate = 1.5\n",
    "upsert_gbp_usd_fx_rate(spot_rate, trade_date)\n",
    "# drop in fx rate\n",
    "upsert_gbp_usd_fx_rate(spot_rate - 0.0080, trade_date_plus_one)\n",
    "# increase in fx rate\n",
    "upsert_gbp_usd_fx_rate(spot_rate + 0.0080, trade_date_plus_two)"
   ],
   "metadata": {
    "collapsed": false,
    "pycharm": {
     "name": "#%%\n"
    }
   }
  },
  {
   "cell_type": "code",
   "execution_count": 64,
   "outputs": [],
   "source": [
    "result_static_t = run_fx_forward_pricing_aggregation_on_portfolio(scope, portfolio, static_fx_forward_price_config_recipe, trade_date)\n",
    "result_static_t_plus_one = run_fx_forward_pricing_aggregation_on_portfolio(scope, portfolio, static_fx_forward_price_config_recipe, trade_date_plus_one)\n",
    "result_static_t_plus_two = run_fx_forward_pricing_aggregation_on_portfolio(scope, portfolio, static_fx_forward_price_config_recipe, trade_date_plus_two)"
   ],
   "metadata": {
    "collapsed": false,
    "pycharm": {
     "name": "#%%\n"
    }
   }
  },
  {
   "cell_type": "code",
   "execution_count": 65,
   "outputs": [
    {
     "data": {
      "text/plain": "                                    market_data_rule  \\\n0  {'as_at': None,\\n 'data_scope': 'fx-forward-pr...   \n0  {'as_at': None,\\n 'data_scope': 'fx-forward-pr...   \n0  {'as_at': None,\\n 'data_scope': 'fx-forward-pr...   \n\n  quote_id.quote_series_id.provider quote_id.quote_series_id.instrument_id  \\\n0                             Lusid                                GBP/USD   \n0                             Lusid                                USD/GBP   \n0                             Lusid                                GBP/GBP   \n\n  quote_id.quote_series_id.instrument_id_type  \\\n0                                CurrencyPair   \n0                                CurrencyPair   \n0                                CurrencyPair   \n\n  quote_id.quote_series_id.quote_type quote_id.quote_series_id.field  \\\n0                               Price                            mid   \n0                               Price                            mid   \n0                               Price                            mid   \n\n               quote_id.effective_at  metric_value.value metric_value.unit  \\\n0  2020-06-01T00:00:00.0000000+00:00            1.500000              rate   \n0  2020-06-01T00:00:00.0000000+00:00            0.666667              rate   \n0  2020-07-07T12:25:57.9767915+00:00            1.000000               GBP   \n\n           lineage cut_label           uploaded_by  \\\n0  FxDataVendorABC            00u78w98jnujIujIc2p7   \n0  FxDataVendorABC            00u78w98jnujIujIc2p7   \n0                              lusid-same-currency   \n\n                             as_at  \n0 2020-07-07 12:25:57.195659+00:00  \n0 2020-07-07 12:25:57.283069+00:00  \n0 2020-07-07 12:25:57.981698+00:00  ",
      "text/html": "<div>\n<style scoped>\n    .dataframe tbody tr th:only-of-type {\n        vertical-align: middle;\n    }\n\n    .dataframe tbody tr th {\n        vertical-align: top;\n    }\n\n    .dataframe thead th {\n        text-align: right;\n    }\n</style>\n<table border=\"1\" class=\"dataframe\">\n  <thead>\n    <tr style=\"text-align: right;\">\n      <th></th>\n      <th>market_data_rule</th>\n      <th>quote_id.quote_series_id.provider</th>\n      <th>quote_id.quote_series_id.instrument_id</th>\n      <th>quote_id.quote_series_id.instrument_id_type</th>\n      <th>quote_id.quote_series_id.quote_type</th>\n      <th>quote_id.quote_series_id.field</th>\n      <th>quote_id.effective_at</th>\n      <th>metric_value.value</th>\n      <th>metric_value.unit</th>\n      <th>lineage</th>\n      <th>cut_label</th>\n      <th>uploaded_by</th>\n      <th>as_at</th>\n    </tr>\n  </thead>\n  <tbody>\n    <tr>\n      <th>0</th>\n      <td>{'as_at': None,\\n 'data_scope': 'fx-forward-pr...</td>\n      <td>Lusid</td>\n      <td>GBP/USD</td>\n      <td>CurrencyPair</td>\n      <td>Price</td>\n      <td>mid</td>\n      <td>2020-06-01T00:00:00.0000000+00:00</td>\n      <td>1.500000</td>\n      <td>rate</td>\n      <td>FxDataVendorABC</td>\n      <td></td>\n      <td>00u78w98jnujIujIc2p7</td>\n      <td>2020-07-07 12:25:57.195659+00:00</td>\n    </tr>\n    <tr>\n      <th>0</th>\n      <td>{'as_at': None,\\n 'data_scope': 'fx-forward-pr...</td>\n      <td>Lusid</td>\n      <td>USD/GBP</td>\n      <td>CurrencyPair</td>\n      <td>Price</td>\n      <td>mid</td>\n      <td>2020-06-01T00:00:00.0000000+00:00</td>\n      <td>0.666667</td>\n      <td>rate</td>\n      <td>FxDataVendorABC</td>\n      <td></td>\n      <td>00u78w98jnujIujIc2p7</td>\n      <td>2020-07-07 12:25:57.283069+00:00</td>\n    </tr>\n    <tr>\n      <th>0</th>\n      <td>{'as_at': None,\\n 'data_scope': 'fx-forward-pr...</td>\n      <td>Lusid</td>\n      <td>GBP/GBP</td>\n      <td>CurrencyPair</td>\n      <td>Price</td>\n      <td>mid</td>\n      <td>2020-07-07T12:25:57.9767915+00:00</td>\n      <td>1.000000</td>\n      <td>GBP</td>\n      <td></td>\n      <td></td>\n      <td>lusid-same-currency</td>\n      <td>2020-07-07 12:25:57.981698+00:00</td>\n    </tr>\n  </tbody>\n</table>\n</div>"
     },
     "metadata": {},
     "output_type": "display_data"
    }
   ],
   "source": [
    "manifest_df = pd.DataFrame()\n",
    "for manifest in result_static_t.manifests:\n",
    "    for manifest_quote in manifest.quotes:\n",
    "        quote_df = lusid_response_to_data_frame([manifest_quote.quote])\n",
    "        quote_df.insert(0, \"market_data_rule\", manifest_quote.rule)\n",
    "        manifest_df = manifest_df.append(quote_df)\n",
    "\n",
    "display(manifest_df)\n",
    "\n"
   ],
   "metadata": {
    "collapsed": false,
    "pycharm": {
     "name": "#%%\n"
    }
   }
  },
  {
   "cell_type": "code",
   "execution_count": 66,
   "outputs": [
    {
     "data": {
      "text/plain": "                                    market_data_rule  \\\n0  {'as_at': None,\\n 'data_scope': 'fx-forward-pr...   \n0  {'as_at': None,\\n 'data_scope': 'fx-forward-pr...   \n0  {'as_at': None,\\n 'data_scope': 'fx-forward-pr...   \n\n  quote_id.quote_series_id.provider quote_id.quote_series_id.instrument_id  \\\n0                             Lusid                                GBP/USD   \n0                             Lusid                                USD/GBP   \n0                             Lusid                                GBP/GBP   \n\n  quote_id.quote_series_id.instrument_id_type  \\\n0                                CurrencyPair   \n0                                CurrencyPair   \n0                                CurrencyPair   \n\n  quote_id.quote_series_id.quote_type quote_id.quote_series_id.field  \\\n0                               Price                            mid   \n0                               Price                            mid   \n0                               Price                            mid   \n\n               quote_id.effective_at  metric_value.value metric_value.unit  \\\n0  2020-06-02T00:00:00.0000000+00:00            1.492000              rate   \n0  2020-06-02T00:00:00.0000000+00:00            0.670241              rate   \n0  2020-07-07T12:25:58.2914497+00:00            1.000000               GBP   \n\n           lineage cut_label           uploaded_by  \\\n0  FxDataVendorABC            00u78w98jnujIujIc2p7   \n0  FxDataVendorABC            00u78w98jnujIujIc2p7   \n0                              lusid-same-currency   \n\n                             as_at  \n0 2020-07-07 12:25:57.382520+00:00  \n0 2020-07-07 12:25:57.471599+00:00  \n0 2020-07-07 12:25:58.302022+00:00  ",
      "text/html": "<div>\n<style scoped>\n    .dataframe tbody tr th:only-of-type {\n        vertical-align: middle;\n    }\n\n    .dataframe tbody tr th {\n        vertical-align: top;\n    }\n\n    .dataframe thead th {\n        text-align: right;\n    }\n</style>\n<table border=\"1\" class=\"dataframe\">\n  <thead>\n    <tr style=\"text-align: right;\">\n      <th></th>\n      <th>market_data_rule</th>\n      <th>quote_id.quote_series_id.provider</th>\n      <th>quote_id.quote_series_id.instrument_id</th>\n      <th>quote_id.quote_series_id.instrument_id_type</th>\n      <th>quote_id.quote_series_id.quote_type</th>\n      <th>quote_id.quote_series_id.field</th>\n      <th>quote_id.effective_at</th>\n      <th>metric_value.value</th>\n      <th>metric_value.unit</th>\n      <th>lineage</th>\n      <th>cut_label</th>\n      <th>uploaded_by</th>\n      <th>as_at</th>\n    </tr>\n  </thead>\n  <tbody>\n    <tr>\n      <th>0</th>\n      <td>{'as_at': None,\\n 'data_scope': 'fx-forward-pr...</td>\n      <td>Lusid</td>\n      <td>GBP/USD</td>\n      <td>CurrencyPair</td>\n      <td>Price</td>\n      <td>mid</td>\n      <td>2020-06-02T00:00:00.0000000+00:00</td>\n      <td>1.492000</td>\n      <td>rate</td>\n      <td>FxDataVendorABC</td>\n      <td></td>\n      <td>00u78w98jnujIujIc2p7</td>\n      <td>2020-07-07 12:25:57.382520+00:00</td>\n    </tr>\n    <tr>\n      <th>0</th>\n      <td>{'as_at': None,\\n 'data_scope': 'fx-forward-pr...</td>\n      <td>Lusid</td>\n      <td>USD/GBP</td>\n      <td>CurrencyPair</td>\n      <td>Price</td>\n      <td>mid</td>\n      <td>2020-06-02T00:00:00.0000000+00:00</td>\n      <td>0.670241</td>\n      <td>rate</td>\n      <td>FxDataVendorABC</td>\n      <td></td>\n      <td>00u78w98jnujIujIc2p7</td>\n      <td>2020-07-07 12:25:57.471599+00:00</td>\n    </tr>\n    <tr>\n      <th>0</th>\n      <td>{'as_at': None,\\n 'data_scope': 'fx-forward-pr...</td>\n      <td>Lusid</td>\n      <td>GBP/GBP</td>\n      <td>CurrencyPair</td>\n      <td>Price</td>\n      <td>mid</td>\n      <td>2020-07-07T12:25:58.2914497+00:00</td>\n      <td>1.000000</td>\n      <td>GBP</td>\n      <td></td>\n      <td></td>\n      <td>lusid-same-currency</td>\n      <td>2020-07-07 12:25:58.302022+00:00</td>\n    </tr>\n  </tbody>\n</table>\n</div>"
     },
     "metadata": {},
     "output_type": "display_data"
    }
   ],
   "source": [
    "manifest_df = pd.DataFrame()\n",
    "for manifest in result_static_t_plus_one.manifests:\n",
    "    for manifest_quote in manifest.quotes:\n",
    "        quote_df = lusid_response_to_data_frame([manifest_quote.quote])\n",
    "        quote_df.insert(0, \"market_data_rule\", manifest_quote.rule)\n",
    "        manifest_df = manifest_df.append(quote_df)\n",
    "\n",
    "display(manifest_df)\n"
   ],
   "metadata": {
    "collapsed": false,
    "pycharm": {
     "name": "#%%\n"
    }
   }
  },
  {
   "cell_type": "code",
   "execution_count": 67,
   "outputs": [
    {
     "data": {
      "text/plain": "                                    market_data_rule  \\\n0  {'as_at': None,\\n 'data_scope': 'fx-forward-pr...   \n0  {'as_at': None,\\n 'data_scope': 'fx-forward-pr...   \n0  {'as_at': None,\\n 'data_scope': 'fx-forward-pr...   \n\n  quote_id.quote_series_id.provider quote_id.quote_series_id.instrument_id  \\\n0                             Lusid                                GBP/USD   \n0                             Lusid                                USD/GBP   \n0                             Lusid                                GBP/GBP   \n\n  quote_id.quote_series_id.instrument_id_type  \\\n0                                CurrencyPair   \n0                                CurrencyPair   \n0                                CurrencyPair   \n\n  quote_id.quote_series_id.quote_type quote_id.quote_series_id.field  \\\n0                               Price                            mid   \n0                               Price                            mid   \n0                               Price                            mid   \n\n               quote_id.effective_at  metric_value.value metric_value.unit  \\\n0  2020-06-03T00:00:00.0000000+00:00            1.508000              rate   \n0  2020-06-03T00:00:00.0000000+00:00            0.663130              rate   \n0  2020-07-07T12:25:58.5201441+00:00            1.000000               GBP   \n\n           lineage cut_label           uploaded_by  \\\n0  FxDataVendorABC            00u78w98jnujIujIc2p7   \n0  FxDataVendorABC            00u78w98jnujIujIc2p7   \n0                              lusid-same-currency   \n\n                             as_at  \n0 2020-07-07 12:25:57.560356+00:00  \n0 2020-07-07 12:25:57.641470+00:00  \n0 2020-07-07 12:25:58.523924+00:00  ",
      "text/html": "<div>\n<style scoped>\n    .dataframe tbody tr th:only-of-type {\n        vertical-align: middle;\n    }\n\n    .dataframe tbody tr th {\n        vertical-align: top;\n    }\n\n    .dataframe thead th {\n        text-align: right;\n    }\n</style>\n<table border=\"1\" class=\"dataframe\">\n  <thead>\n    <tr style=\"text-align: right;\">\n      <th></th>\n      <th>market_data_rule</th>\n      <th>quote_id.quote_series_id.provider</th>\n      <th>quote_id.quote_series_id.instrument_id</th>\n      <th>quote_id.quote_series_id.instrument_id_type</th>\n      <th>quote_id.quote_series_id.quote_type</th>\n      <th>quote_id.quote_series_id.field</th>\n      <th>quote_id.effective_at</th>\n      <th>metric_value.value</th>\n      <th>metric_value.unit</th>\n      <th>lineage</th>\n      <th>cut_label</th>\n      <th>uploaded_by</th>\n      <th>as_at</th>\n    </tr>\n  </thead>\n  <tbody>\n    <tr>\n      <th>0</th>\n      <td>{'as_at': None,\\n 'data_scope': 'fx-forward-pr...</td>\n      <td>Lusid</td>\n      <td>GBP/USD</td>\n      <td>CurrencyPair</td>\n      <td>Price</td>\n      <td>mid</td>\n      <td>2020-06-03T00:00:00.0000000+00:00</td>\n      <td>1.508000</td>\n      <td>rate</td>\n      <td>FxDataVendorABC</td>\n      <td></td>\n      <td>00u78w98jnujIujIc2p7</td>\n      <td>2020-07-07 12:25:57.560356+00:00</td>\n    </tr>\n    <tr>\n      <th>0</th>\n      <td>{'as_at': None,\\n 'data_scope': 'fx-forward-pr...</td>\n      <td>Lusid</td>\n      <td>USD/GBP</td>\n      <td>CurrencyPair</td>\n      <td>Price</td>\n      <td>mid</td>\n      <td>2020-06-03T00:00:00.0000000+00:00</td>\n      <td>0.663130</td>\n      <td>rate</td>\n      <td>FxDataVendorABC</td>\n      <td></td>\n      <td>00u78w98jnujIujIc2p7</td>\n      <td>2020-07-07 12:25:57.641470+00:00</td>\n    </tr>\n    <tr>\n      <th>0</th>\n      <td>{'as_at': None,\\n 'data_scope': 'fx-forward-pr...</td>\n      <td>Lusid</td>\n      <td>GBP/GBP</td>\n      <td>CurrencyPair</td>\n      <td>Price</td>\n      <td>mid</td>\n      <td>2020-07-07T12:25:58.5201441+00:00</td>\n      <td>1.000000</td>\n      <td>GBP</td>\n      <td></td>\n      <td></td>\n      <td>lusid-same-currency</td>\n      <td>2020-07-07 12:25:58.523924+00:00</td>\n    </tr>\n  </tbody>\n</table>\n</div>"
     },
     "metadata": {},
     "output_type": "display_data"
    }
   ],
   "source": [
    "manifest_df = pd.DataFrame()\n",
    "for manifest in result_static_t_plus_two.manifests:\n",
    "    for manifest_quote in manifest.quotes:\n",
    "        quote_df = lusid_response_to_data_frame([manifest_quote.quote])\n",
    "        quote_df.insert(0, \"market_data_rule\", manifest_quote.rule)\n",
    "        manifest_df = manifest_df.append(quote_df)\n",
    "\n",
    "display(manifest_df)\n"
   ],
   "metadata": {
    "collapsed": false,
    "pycharm": {
     "name": "#%%\n"
    }
   }
  },
  {
   "cell_type": "code",
   "execution_count": 68,
   "outputs": [
    {
     "data": {
      "text/plain": "                             Name Effective At           Value\n0  GBP/USD 3Y Forward PV (Static)  01 Jun 2020 16606666.666667\n1  GBP/USD 3Y Forward PV (Static)  02 Jun 2020 16159517.426273\n2  GBP/USD 3Y Forward PV (Static)  03 Jun 2020 17049071.618037",
      "text/html": "<div>\n<style scoped>\n    .dataframe tbody tr th:only-of-type {\n        vertical-align: middle;\n    }\n\n    .dataframe tbody tr th {\n        vertical-align: top;\n    }\n\n    .dataframe thead th {\n        text-align: right;\n    }\n</style>\n<table border=\"1\" class=\"dataframe\">\n  <thead>\n    <tr style=\"text-align: right;\">\n      <th></th>\n      <th>Name</th>\n      <th>Effective At</th>\n      <th>Value</th>\n    </tr>\n  </thead>\n  <tbody>\n    <tr>\n      <th>0</th>\n      <td>GBP/USD 3Y Forward PV (Static)</td>\n      <td>01 Jun 2020</td>\n      <td>16606666.666667</td>\n    </tr>\n    <tr>\n      <th>1</th>\n      <td>GBP/USD 3Y Forward PV (Static)</td>\n      <td>02 Jun 2020</td>\n      <td>16159517.426273</td>\n    </tr>\n    <tr>\n      <th>2</th>\n      <td>GBP/USD 3Y Forward PV (Static)</td>\n      <td>03 Jun 2020</td>\n      <td>17049071.618037</td>\n    </tr>\n  </tbody>\n</table>\n</div>"
     },
     "execution_count": 68,
     "metadata": {},
     "output_type": "execute_result"
    }
   ],
   "source": [
    "aggregation_result_to_dataframe([\n",
    "    ['GBP/USD 3Y Forward PV (Static)', trade_date, result_static_t.data[0]['Holding/default/PV']],\n",
    "    ['GBP/USD 3Y Forward PV (Static)', trade_date_plus_one, result_static_t_plus_one.data[0]['Holding/default/PV']],\n",
    "    ['GBP/USD 3Y Forward PV (Static)', trade_date_plus_two, result_static_t_plus_two.data[0]['Holding/default/PV']]\n",
    "])"
   ],
   "metadata": {
    "collapsed": false,
    "pycharm": {
     "name": "#%%\n"
    }
   }
  },
  {
   "cell_type": "code",
   "execution_count": 69,
   "outputs": [
    {
     "data": {
      "text/plain": "                                  Name Effective At           Value\n0  GBP/USD 3Y Forward PV (Discounting)  01 Jun 2020 16607764.014449\n1       GBP/USD 3Y Forward PV (Static)  01 Jun 2020 16606666.666667\n2  GBP/USD 3Y Forward PV (Discounting)  02 Jun 2020 16160629.470908\n3       GBP/USD 3Y Forward PV (Static)  02 Jun 2020 16159517.426273\n4  GBP/USD 3Y Forward PV (Discounting)  03 Jun 2020 17050154.424903\n5       GBP/USD 3Y Forward PV (Static)  03 Jun 2020 17049071.618037",
      "text/html": "<div>\n<style scoped>\n    .dataframe tbody tr th:only-of-type {\n        vertical-align: middle;\n    }\n\n    .dataframe tbody tr th {\n        vertical-align: top;\n    }\n\n    .dataframe thead th {\n        text-align: right;\n    }\n</style>\n<table border=\"1\" class=\"dataframe\">\n  <thead>\n    <tr style=\"text-align: right;\">\n      <th></th>\n      <th>Name</th>\n      <th>Effective At</th>\n      <th>Value</th>\n    </tr>\n  </thead>\n  <tbody>\n    <tr>\n      <th>0</th>\n      <td>GBP/USD 3Y Forward PV (Discounting)</td>\n      <td>01 Jun 2020</td>\n      <td>16607764.014449</td>\n    </tr>\n    <tr>\n      <th>1</th>\n      <td>GBP/USD 3Y Forward PV (Static)</td>\n      <td>01 Jun 2020</td>\n      <td>16606666.666667</td>\n    </tr>\n    <tr>\n      <th>2</th>\n      <td>GBP/USD 3Y Forward PV (Discounting)</td>\n      <td>02 Jun 2020</td>\n      <td>16160629.470908</td>\n    </tr>\n    <tr>\n      <th>3</th>\n      <td>GBP/USD 3Y Forward PV (Static)</td>\n      <td>02 Jun 2020</td>\n      <td>16159517.426273</td>\n    </tr>\n    <tr>\n      <th>4</th>\n      <td>GBP/USD 3Y Forward PV (Discounting)</td>\n      <td>03 Jun 2020</td>\n      <td>17050154.424903</td>\n    </tr>\n    <tr>\n      <th>5</th>\n      <td>GBP/USD 3Y Forward PV (Static)</td>\n      <td>03 Jun 2020</td>\n      <td>17049071.618037</td>\n    </tr>\n  </tbody>\n</table>\n</div>"
     },
     "execution_count": 69,
     "metadata": {},
     "output_type": "execute_result"
    }
   ],
   "source": [
    "result_discounting_t = run_fx_forward_pricing_aggregation_on_portfolio(scope, portfolio, fx_forward_pricing_recipe, trade_date)\n",
    "result_discounting_t_plus_one = run_fx_forward_pricing_aggregation_on_portfolio(scope, portfolio, fx_forward_pricing_recipe, trade_date_plus_one)\n",
    "result_discounting_t_plus_two = run_fx_forward_pricing_aggregation_on_portfolio(scope, portfolio, fx_forward_pricing_recipe, trade_date_plus_two)\n",
    "\n",
    "aggregation_result_to_dataframe([\n",
    "    ['GBP/USD 3Y Forward PV (Discounting)', trade_date, result_discounting_t.data[0]['Holding/default/PV']],\n",
    "    ['GBP/USD 3Y Forward PV (Static)', trade_date, result_static_t.data[0]['Holding/default/PV']],\n",
    "    ['GBP/USD 3Y Forward PV (Discounting)', trade_date_plus_one, result_discounting_t_plus_one.data[0]['Holding/default/PV']],\n",
    "    ['GBP/USD 3Y Forward PV (Static)', trade_date_plus_one, result_static_t_plus_one.data[0]['Holding/default/PV']],\n",
    "    ['GBP/USD 3Y Forward PV (Discounting)', trade_date_plus_two, result_discounting_t_plus_two.data[0]['Holding/default/PV']],\n",
    "    ['GBP/USD 3Y Forward PV (Static)', trade_date_plus_two, result_static_t_plus_two.data[0]['Holding/default/PV']]\n",
    "])\n"
   ],
   "metadata": {
    "collapsed": false,
    "pycharm": {
     "name": "#%%\n"
    }
   }
  },
  {
   "cell_type": "markdown",
   "source": [
    "### Update our Static Forward Rates To Match Discounting Model\n",
    "\n",
    "Let's finally try to match the forward rates of the static and idiscounting model by using the discounting model to\n",
    "calculate numbers and the feeding into quote store"
   ],
   "metadata": {
    "collapsed": false,
    "pycharm": {
     "name": "#%% md\n"
    }
   }
  },
  {
   "cell_type": "code",
   "execution_count": 70,
   "outputs": [
    {
     "name": "stdout",
     "output_type": "stream",
     "text": [
      "FX Forward @0.1639485155659402 uploaded into Quote store.\n",
      "FX Forward @0.15948171082083304 uploaded into Quote store.\n",
      "FX Forward @0.1683679271572531 uploaded into Quote store.\n"
     ]
    },
    {
     "data": {
      "text/plain": "                                  Name Effective At           Value\n0  GBP/USD 3Y Forward PV (Discounting)  01 Jun 2020 16607764.014449\n1       GBP/USD 3Y Forward PV (Static)  01 Jun 2020 16606666.666667\n2  GBP/USD 3Y Forward PV (Discounting)  02 Jun 2020 16160629.470908\n3       GBP/USD 3Y Forward PV (Static)  02 Jun 2020 16159517.426273\n4  GBP/USD 3Y Forward PV (Discounting)  03 Jun 2020 17050154.424903\n5       GBP/USD 3Y Forward PV (Static)  03 Jun 2020 17049071.618037",
      "text/html": "<div>\n<style scoped>\n    .dataframe tbody tr th:only-of-type {\n        vertical-align: middle;\n    }\n\n    .dataframe tbody tr th {\n        vertical-align: top;\n    }\n\n    .dataframe thead th {\n        text-align: right;\n    }\n</style>\n<table border=\"1\" class=\"dataframe\">\n  <thead>\n    <tr style=\"text-align: right;\">\n      <th></th>\n      <th>Name</th>\n      <th>Effective At</th>\n      <th>Value</th>\n    </tr>\n  </thead>\n  <tbody>\n    <tr>\n      <th>0</th>\n      <td>GBP/USD 3Y Forward PV (Discounting)</td>\n      <td>01 Jun 2020</td>\n      <td>16607764.014449</td>\n    </tr>\n    <tr>\n      <th>1</th>\n      <td>GBP/USD 3Y Forward PV (Static)</td>\n      <td>01 Jun 2020</td>\n      <td>16606666.666667</td>\n    </tr>\n    <tr>\n      <th>2</th>\n      <td>GBP/USD 3Y Forward PV (Discounting)</td>\n      <td>02 Jun 2020</td>\n      <td>16160629.470908</td>\n    </tr>\n    <tr>\n      <th>3</th>\n      <td>GBP/USD 3Y Forward PV (Static)</td>\n      <td>02 Jun 2020</td>\n      <td>16159517.426273</td>\n    </tr>\n    <tr>\n      <th>4</th>\n      <td>GBP/USD 3Y Forward PV (Discounting)</td>\n      <td>03 Jun 2020</td>\n      <td>17050154.424903</td>\n    </tr>\n    <tr>\n      <th>5</th>\n      <td>GBP/USD 3Y Forward PV (Static)</td>\n      <td>03 Jun 2020</td>\n      <td>17049071.618037</td>\n    </tr>\n  </tbody>\n</table>\n</div>"
     },
     "execution_count": 70,
     "metadata": {},
     "output_type": "execute_result"
    }
   ],
   "source": [
    "# price the forward sintruments\n",
    "result_t = run_fx_forward_pricing_aggregation('3Y', trade_date, gbpusd_fx_fwd_3y_instr_def, fx_forward_pricing_recipe)\n",
    "result_t_plus_one = run_fx_forward_pricing_aggregation('3Y', trade_date_plus_one, gbpusd_fx_fwd_3y_instr_def, fx_forward_pricing_recipe)\n",
    "result_t_plus_two = run_fx_forward_pricing_aggregation('3Y', trade_date_plus_two, gbpusd_fx_fwd_3y_instr_def, fx_forward_pricing_recipe)\n",
    "\n",
    "# upsert the forward prices of the instrument from discounting model into our quote store\n",
    "\n",
    "upsert_external_fx_forward_as_quote(result_t.data[0]['Holding/default/PV'], trade_date)\n",
    "upsert_external_fx_forward_as_quote(result_t_plus_one.data[0]['Holding/default/PV'], trade_date_plus_one)\n",
    "upsert_external_fx_forward_as_quote(result_t_plus_two.data[0]['Holding/default/PV'], trade_date_plus_two)\n",
    "\n",
    "# run pricing of our entire portfolios now using both static and discounting models\n",
    "\n",
    "result_static_t = run_fx_forward_pricing_aggregation_on_portfolio(scope, portfolio, static_fx_forward_price_config_recipe, trade_date)\n",
    "result_static_t_plus_one = run_fx_forward_pricing_aggregation_on_portfolio(scope, portfolio, static_fx_forward_price_config_recipe, trade_date_plus_one)\n",
    "result_static_t_plus_two = run_fx_forward_pricing_aggregation_on_portfolio(scope, portfolio, static_fx_forward_price_config_recipe, trade_date_plus_two)\n",
    "\n",
    "aggregation_result_to_dataframe([\n",
    "    ['GBP/USD 3Y Forward PV (Static)', trade_date, result_static_t.data[0]['Holding/default/PV']],\n",
    "    ['GBP/USD 3Y Forward PV (Static)', trade_date_plus_one, result_static_t_plus_one.data[0]['Holding/default/PV']],\n",
    "    ['GBP/USD 3Y Forward PV (Static)', trade_date_plus_two, result_static_t_plus_two.data[0]['Holding/default/PV']]\n",
    "])\n",
    "\n",
    "result_discounting_t = run_fx_forward_pricing_aggregation_on_portfolio(scope, portfolio, fx_forward_pricing_recipe, trade_date)\n",
    "result_discounting_t_plus_one = run_fx_forward_pricing_aggregation_on_portfolio(scope, portfolio, fx_forward_pricing_recipe, trade_date_plus_one)\n",
    "result_discounting_t_plus_two = run_fx_forward_pricing_aggregation_on_portfolio(scope, portfolio, fx_forward_pricing_recipe, trade_date_plus_two)\n",
    "\n",
    "aggregation_result_to_dataframe([\n",
    "    ['GBP/USD 3Y Forward PV (Discounting)', trade_date, result_discounting_t.data[0]['Holding/default/PV']],\n",
    "    ['GBP/USD 3Y Forward PV (Static)', trade_date, result_static_t.data[0]['Holding/default/PV']],\n",
    "    ['GBP/USD 3Y Forward PV (Discounting)', trade_date_plus_one, result_discounting_t_plus_one.data[0]['Holding/default/PV']],\n",
    "    ['GBP/USD 3Y Forward PV (Static)', trade_date_plus_one, result_static_t_plus_one.data[0]['Holding/default/PV']],\n",
    "    ['GBP/USD 3Y Forward PV (Discounting)', trade_date_plus_two, result_discounting_t_plus_two.data[0]['Holding/default/PV']],\n",
    "    ['GBP/USD 3Y Forward PV (Static)', trade_date_plus_two, result_static_t_plus_two.data[0]['Holding/default/PV']]\n",
    "])"
   ],
   "metadata": {
    "collapsed": false,
    "pycharm": {
     "name": "#%%\n"
    }
   }
  }
 ],
 "metadata": {
  "kernelspec": {
   "display_name": "Python 3",
   "language": "python",
   "name": "python3"
  },
  "language_info": {
   "codemirror_mode": {
    "name": "ipython",
    "version": 2
   },
   "file_extension": ".py",
   "mimetype": "text/x-python",
   "name": "python",
   "nbconvert_exporter": "python",
   "pygments_lexer": "ipython2",
   "version": "2.7.6"
  }
 },
 "nbformat": 4,
 "nbformat_minor": 0
}