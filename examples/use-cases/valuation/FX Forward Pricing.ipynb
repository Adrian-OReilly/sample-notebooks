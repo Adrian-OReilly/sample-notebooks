{
 "cells": [
  {
   "cell_type": "code",
   "execution_count": 0,
   "metadata": {
    "collapsed": true
   },
   "outputs": [],
   "source": []
  },
  {
   "cell_type": "markdown",
   "source": [
    "# Fx Forward Pricing\n",
    "\n",
    "This notebook will run through the following business use cases :\n",
    "* [Pricing an Fx Forward using a supplied vendor model.](#pricing_bond)\n",
    "* [Valuing a portfolio with an Fx Forward position.](#pricing_bond_portfolio)\n",
    "* [Valuing our Fx Forward portfolios using different models.](#accrual_override)\n",
    "* [Valuing bond PV using an externally provided market quote for the bond.](#external_bond_price)\n",
    "\n",
    "<br>\n",
    "\n",
    "In doing so we'll cover the following LUSID concepts :\n",
    "* [Defining a LUSID internal representation of a bond instrument based on user provided parameters.](#bond_definition)\n",
    "* [Using the StructureMarketData store to hold your OIS yield curve data in way that enables it to be discovered during the bond valuation process.](#structured_market_data)\n",
    "* [Configuring recipes to run built in LUSID bond valuation models that make use of the structured data (OIS Yield Curve) you provided.](#recipe_configuration)\n",
    "* [Using aggregation requests to return the accrued interest as well as the PV of the bond based on our instrument definition.](#accrued_interest)\n",
    "* [Using the StructuredResultData store to override the accrued interest calculation and instead use static values.](#structured_result_data)\n",
    "* [Updating our recipes to make use of the StructuredResultData entries in your valuations.](#structured_result_data)\n",
    "* [Upserting bond market price as quotes and configuring recipes that value bonds by using the market quotes.](#external_bond_price)\n",
    "\n",
    "<br>\n",
    "\n",
    "For this notebook example we'll work the following set of GBP/USD Forwards with 2Y, 5Y and 10Y maturities:\n",
    "\n",
    "* Trade Date : 02 Aug 2020\n",
    "* Maturity Dates :\n",
    "    * 02 Aug 2023 (3Y)\n",
    "    * 02 Aug 2025 (5Y)\n",
    "    * 02 Aug 2030 (10Y)\n",
    "* Spot Rate : 1.2508\n",
    "* Domestic Amount : 100,000,000\n",
    "* Foreign Amounts :\n",
    "    * 125,710,000 (3Y)\n",
    "    * 126,485,000 (5Y)\n",
    "    * 130,430,000 (10Y)\n",
    "\n",
    "\n",
    "## Setup LUSID and LUSID API objects."
   ],
   "metadata": {
    "collapsed": false,
    "pycharm": {
     "name": "#%% md\n"
    }
   }
  },
  {
   "cell_type": "code",
   "execution_count": 1,
   "outputs": [
    {
     "name": "stdout",
     "output_type": "stream",
     "text": [
      "LUSID Environment Initialised\n",
      "LUSID SDK Version:  0.6.4740.0\n"
     ]
    }
   ],
   "source": [
    "import os\n",
    "from datetime import datetime, timedelta\n",
    "\n",
    "import lusid\n",
    "import pandas as pd\n",
    "import pytz\n",
    "from IPython.core.display import display\n",
    "from lusid import models\n",
    "from lusid.utilities import ApiClientFactory\n",
    "from lusidjam import RefreshingToken\n",
    "from lusidtools.cocoon.transaction_type_upload import (\n",
    "    create_transaction_type_configuration,\n",
    ")\n",
    "from lusidtools.cocoon.cocoon_printer import (\n",
    "    format_portfolios_response,\n",
    ")\n",
    "from lusidtools.jupyter_tools.stop_execution import StopExecution\n",
    "\n",
    "\n",
    "# Authenticate our user and create our API client\n",
    "from lusidtools.cocoon import load_from_data_frame\n",
    "from lusidtools.pandas_utils.lusid_pandas import lusid_response_to_data_frame\n",
    "secrets_path = os.getenv(\"FBN_SECRETS_PATH\")\n",
    "\n",
    "# Initiate an API Factory which is the client side object for interacting with LUSID APIs\n",
    "api_factory = lusid.utilities.ApiClientFactory(\n",
    "    token=RefreshingToken(),\n",
    "    api_secrets_filename=secrets_path,\n",
    "    app_name=\"LusidJupyterNotebook\",\n",
    ")\n",
    "\n",
    "print ('LUSID Environment Initialised')\n",
    "print ('LUSID SDK Version: ', api_factory.build(lusid.api.ApplicationMetadataApi).get_lusid_versions().build_version)\n",
    "\n",
    "# Setup the apis we'll use in this notebook:\n",
    "instruments_api = api_factory.build(lusid.api.InstrumentsApi)\n",
    "structured_market_data_api = api_factory.build(lusid.api.StructuredMarketDataApi)\n",
    "structured_result_data_api = api_factory.build(lusid.api.StructuredResultDataApi)\n",
    "quotes_api = api_factory.build(lusid.api.QuotesApi)\n",
    "\n",
    "# Setup the scope we'll use in this notebook:\n",
    "scope = \"fx-forward-pricing-nb\""
   ],
   "metadata": {
    "collapsed": false,
    "pycharm": {
     "name": "#%%\n"
    }
   }
  },
  {
   "cell_type": "code",
   "execution_count": 2,
   "outputs": [],
   "source": [
    "# Settings and utility functions to display objects and responses more clearly.\n",
    "pd.set_option('float_format', '{:f}'.format)\n",
    "def aggregation_result_to_dataframe(aggregation_results):\n",
    "    df = pd.DataFrame(aggregation_results, columns = ['Name', 'Effective At', 'Value'])\n",
    "    df['Effective At'] = df['Effective At'].dt.strftime('%d %b %Y')\n",
    "    return df\n"
   ],
   "metadata": {
    "collapsed": false,
    "pycharm": {
     "name": "#%%\n"
    }
   }
  },
  {
   "cell_type": "markdown",
   "source": [
    "## Define our Fx Forward Instruments\n",
    "\n",
    "We'll start by defining our forwards using LUSID's internal representation of an Fx forward instrument. For a detailed\n",
    "breakdown the internal representation take a look at the \"FxForwardInstrument\" section of the [LUSID API Swagger Specification](https://www.lusid.com/api/swagger/index.html)\n",
    "\n",
    "### Initialise FxForward Parameters\n",
    "\n",
    "Let's setup the basic parameters required for our set of Fx forwards:"
   ],
   "metadata": {
    "collapsed": false,
    "pycharm": {
     "name": "#%% md\n"
    }
   }
  },
  {
   "cell_type": "code",
   "execution_count": 3,
   "outputs": [],
   "source": [
    "trade_date = datetime(2020, 6, 1, tzinfo=pytz.utc)\n",
    "#trade_date = datetime.today().replace(tzinfo=pytz.utc)\n",
    "maturity_dates = {\n",
    "    '3Y' : datetime(2023, 6, 1, tzinfo=pytz.utc),\n",
    "    '5Y' : datetime(2025, 6, 1, tzinfo=pytz.utc),\n",
    "    '10Y': datetime(2030, 6, 1, tzinfo=pytz.utc)\n",
    "}\n",
    "# maturity_dates = {\n",
    "#     '3Y' : trade_date.replace(year=trade_date.year + 3),\n",
    "#     '5Y' : trade_date.replace(year=trade_date.year + 5),\n",
    "#     '10Y': trade_date.replace(year=trade_date.year + 6)\n",
    "# }\n",
    "spot_rate =  1.2508\n",
    "dom_amount = 100000000\n",
    "fgn_amounts = {\n",
    "    '3Y' : 125710000,\n",
    "    '5Y' : 126485000,\n",
    "    '10Y': 130430000\n",
    "}"
   ],
   "metadata": {
    "collapsed": false,
    "pycharm": {
     "name": "#%%\n"
    }
   }
  },
  {
   "cell_type": "markdown",
   "source": [
    "### Create FxForwardInstrument Definitions\n",
    "\n",
    "We now feed those parameters to construct the LUSID representation of an FxForward:"
   ],
   "metadata": {
    "collapsed": false,
    "pycharm": {
     "name": "#%% md\n"
    }
   }
  },
  {
   "cell_type": "code",
   "execution_count": 4,
   "outputs": [],
   "source": [
    "def create_fx_forward_instrument_definition(dom_amount, fgn_amount, spot_rate, start_date, maturity_date):\n",
    "    return models.FxForwardInstrument(\n",
    "            dom_amount=dom_amount,\n",
    "            fgn_amount=-fgn_amount,\n",
    "            fgn_ccy=\"USD\",\n",
    "            ref_spot_rate=spot_rate,\n",
    "            start_date=start_date.isoformat(),\n",
    "            maturity_date=maturity_date,\n",
    "            dom_ccy=\"GBP\",\n",
    "            instrument_type=\"FxForward\")\n",
    "\n",
    "gbpusd_fx_fwd_3y_instr_def = create_fx_forward_instrument_definition(dom_amount, fgn_amounts['3Y'], spot_rate, trade_date, maturity_dates['3Y'])\n",
    "gbpusd_fx_fwd_5y_instr_def = create_fx_forward_instrument_definition(dom_amount, fgn_amounts['5Y'], spot_rate, trade_date, maturity_dates['5Y'])\n",
    "gbpusd_fx_fwd_10y_instr_def = create_fx_forward_instrument_definition(dom_amount, fgn_amounts['10Y'], spot_rate, trade_date, maturity_dates['10Y'])"
   ],
   "metadata": {
    "collapsed": false,
    "pycharm": {
     "name": "#%%\n"
    }
   }
  },
  {
   "cell_type": "markdown",
   "source": [
    "## Supply Market Data\n",
    "\n",
    "Before we can price our Fx forwards we need to ensure LUSID has the required FX and interest rates available. Let's upsert the\n",
    "GBP/USD FX rates for the trade data and a few subsequent dates we'll use to price the FX Forwards. When providing market\n",
    "data to LUSID we also need to identify the supplier of the data and the scope. The supplier is referenced further in the\n",
    "notebook when we instruct LUSID how to source data for a particular aggregation.\n",
    "\n",
    "### Upsert Spot Fx Rate"
   ],
   "metadata": {
    "collapsed": false,
    "pycharm": {
     "name": "#%% md\n"
    }
   }
  },
  {
   "cell_type": "code",
   "execution_count": 5,
   "outputs": [
    {
     "data": {
      "text/plain": "'GBP/USD @ 1.2508 for 2020-06-01 00:00:00+00:00 uploaded to quote store.'"
     },
     "metadata": {},
     "output_type": "display_data"
    },
    {
     "data": {
      "text/plain": "'USD/GBP @ 0.799488327470419 for 2020-06-01 00:00:00+00:00 uploaded to quote store.'"
     },
     "metadata": {},
     "output_type": "display_data"
    },
    {
     "data": {
      "text/plain": "'GBP/USD @ 1.2428 for 2020-06-02 00:00:00+00:00 uploaded to quote store.'"
     },
     "metadata": {},
     "output_type": "display_data"
    },
    {
     "data": {
      "text/plain": "'USD/GBP @ 0.804634695848085 for 2020-06-02 00:00:00+00:00 uploaded to quote store.'"
     },
     "metadata": {},
     "output_type": "display_data"
    },
    {
     "data": {
      "text/plain": "'GBP/USD @ 1.2588 for 2020-06-03 00:00:00+00:00 uploaded to quote store.'"
     },
     "metadata": {},
     "output_type": "display_data"
    },
    {
     "data": {
      "text/plain": "'USD/GBP @ 0.7944073721004131 for 2020-06-03 00:00:00+00:00 uploaded to quote store.'"
     },
     "metadata": {},
     "output_type": "display_data"
    }
   ],
   "source": [
    "market_data_scope = 'fx-forward-pricing-nb-market-data'\n",
    "market_supplier = 'Lusid'\n",
    "\n",
    "trade_date_plus_one = datetime(2020, 6, 2, tzinfo=pytz.utc)\n",
    "trade_date_plus_two = datetime(2020, 6, 3, tzinfo=pytz.utc)\n",
    "\n",
    "\n",
    "def upsert_gbp_usd_fx_rate(rate, effective_at):\n",
    "    upsert_quote_request = models.UpsertQuoteRequest(\n",
    "        quote_id=models.QuoteId(\n",
    "            quote_series_id=models.QuoteSeriesId(\n",
    "                provider=market_supplier,\n",
    "                instrument_id=\"GBP/USD\",\n",
    "                instrument_id_type='CurrencyPair',\n",
    "                quote_type='Price',\n",
    "                field='mid'),\n",
    "            effective_at=effective_at),\n",
    "        metric_value=models.MetricValue(\n",
    "            value=rate,\n",
    "            unit='rate'\n",
    "        ),\n",
    "        lineage='FxDataV    endorABC')\n",
    "\n",
    "    # we need to insert the USD/GBP quote as well for use later in the notebook\n",
    "    # when we're booking the sell leg of our forward as a transaction\n",
    "    upsert_quote_request_inverse = models.UpsertQuoteRequest(\n",
    "        quote_id=models.QuoteId(\n",
    "            quote_series_id=models.QuoteSeriesId(\n",
    "                provider=market_supplier,\n",
    "                instrument_id=\"USD/GBP\",\n",
    "                instrument_id_type='CurrencyPair',\n",
    "                quote_type='Price',\n",
    "                field='mid'),\n",
    "            effective_at=effective_at),\n",
    "        metric_value=models.MetricValue(\n",
    "            value=1/rate,\n",
    "            unit='rate'\n",
    "        ),\n",
    "        lineage='FxDataVendorABC')\n",
    "\n",
    "    response_gbp_usd = quotes_api.upsert_quotes(\n",
    "            scope=market_data_scope,\n",
    "            request_body={\"gbp-usd-01\": upsert_quote_request})\n",
    "\n",
    "    response_usd_gbp = quotes_api.upsert_quotes(\n",
    "            scope=market_data_scope,\n",
    "            request_body={\"usd-gbp-01\": upsert_quote_request_inverse})\n",
    "\n",
    "    if response_gbp_usd.failed or response_usd_gbp.failed:\n",
    "        raise StopExecution(f\"Failed to upload currency pairs:{response_gbp_usd.failed} or {response_usd_gbp.failed}\")\n",
    "\n",
    "    display(f\"GBP/USD @ {rate} for {effective_at} uploaded to quote store.\")\n",
    "    display(f\"USD/GBP @ {1/rate} for {effective_at} uploaded to quote store.\")\n",
    "\n",
    "\n",
    "upsert_gbp_usd_fx_rate(spot_rate, trade_date)\n",
    "# drop in fx rate\n",
    "upsert_gbp_usd_fx_rate(spot_rate - 0.0080, trade_date_plus_one)\n",
    "# increase in fx rate\n",
    "upsert_gbp_usd_fx_rate(spot_rate + 0.0080, trade_date_plus_two)\n"
   ],
   "metadata": {
    "collapsed": false,
    "pycharm": {
     "name": "#%%\n"
    }
   }
  },
  {
   "cell_type": "markdown",
   "source": [
    "### Interest Rate Curves\n",
    "\n",
    "To price the FX Forwards we also need to supply the relevant interest rate curves for our domestic and foreign currencies. LUSID supports\n",
    "storage of complex market data structures through the [Structured market data](\"https://support.finbourne.com/how-do-i-store-and-tr\")\n",
    "store. When upserting the interest rate curves we use a StructuredMarketDataId to not onl uniquely identify the curve but also provide\n",
    "the supporting information required by the aggregation engine to correctly resolve the curves when we run our FX forward valuation."
   ],
   "metadata": {
    "collapsed": false,
    "pycharm": {
     "name": "#%% md\n"
    }
   }
  },
  {
   "cell_type": "code",
   "execution_count": 6,
   "outputs": [
    {
     "name": "stdout",
     "output_type": "stream",
     "text": [
      "GBP/GBPOIS interest rate curve uploaded into scope=fx-forward-pricing-nb-market-data\n",
      "USD/USDOIS interest rate curve uploaded into scope=fx-forward-pricing-nb-market-data\n"
     ]
    }
   ],
   "source": [
    "def upsert_interest_rate_curve(ir_curve_json, scope, effective_at, market_asset):\n",
    "\n",
    "    # provide the structured data file source and it's document format\n",
    "    structured_market_data = models.StructuredMarketData(document_format=\"Json\", version=\"1.0.0\",\n",
    "                                                name=\"DFEUROISCurve\", document=ir_curve_json)\n",
    "\n",
    "\n",
    "    # create a unique identifier for our OIS yield curves\n",
    "    structured_id = models.StructuredMarketDataId(provider=\"Lusid\",price_source=None,\n",
    "                                                 lineage=\"CurveVendorABC\", effective_at=effective_at,\n",
    "                                                 market_element_type=\"ZeroCurve\",\n",
    "                                                 market_asset=market_asset)\n",
    "\n",
    "    upsert_request = models.UpsertStructuredMarketDataRequest(market_data_id=structured_id,\n",
    "                                                          market_data=structured_market_data)\n",
    "\n",
    "    # https://www.lusid.com/docs/api#operation/UpsertStructuredMarketData\n",
    "    response = structured_market_data_api.upsert_structured_market_data(\n",
    "        scope=scope,\n",
    "        request_body={market_asset : upsert_request}\n",
    "    )\n",
    "\n",
    "    if response.failed:\n",
    "        raise StopExecution(\"Failed to upload interest rates curve {response.failed}\")\n",
    "\n",
    "    print(f\"{market_asset} interest rate curve uploaded into scope={scope}\")\n",
    "\n",
    "\n",
    "def load_ois_curve_json(ccy):\n",
    "    with open(f\"data/{ccy}OIS50.json\", \"r\") as ir_curve_json:\n",
    "        return ir_curve_json.read()\n",
    "\n",
    "ois_curve_gbp_json = load_ois_curve_json('GBP')\n",
    "upsert_interest_rate_curve(ois_curve_gbp_json, market_data_scope, trade_date, \"GBP/GBPOIS\")\n",
    "\n",
    "ois_curve_usd_json = load_ois_curve_json('USD')\n",
    "upsert_interest_rate_curve(ois_curve_usd_json, market_data_scope, trade_date, \"USD/USDOIS\")"
   ],
   "metadata": {
    "collapsed": false,
    "pycharm": {
     "name": "#%%\n"
    }
   }
  },
  {
   "cell_type": "markdown",
   "source": [
    "## Defining our Fx Forward Valuation\n",
    "\n",
    "With our Fx forward instruments now defined we can move onto valuing them via LUSID's aggregation engine. But before we\n",
    "can execute the aggregation we need to configure a [Recipe](\"https://support.finbourne.com/what-is-a-lusid-recipe-and-how-is-it-used\")\n",
    "instructing LUSID on how to value our Fx Forwards. Specifically we need to select the Fx Forward pricing model to use and identify\n",
    "where the aggregation can resolve the market data the model needs.\n",
    "\n",
    "### Selecting a Pricing Model\n",
    "\n",
    "The pricing model we wish to use is passed in through defining a PricingContext. See the [Swagger spec](\"https://www.lusid.com/api/swagger/index.html\") under \"PricingContext\" for a detailed\n",
    "description of the parameters. For this notebook we'll use one of the supported Vendor models from VolMaster:"
   ],
   "metadata": {
    "collapsed": false,
    "pycharm": {
     "name": "#%% md\n"
    }
   }
  },
  {
   "cell_type": "code",
   "execution_count": 7,
   "outputs": [],
   "source": [
    "def create_pricing_context():\n",
    "    vendor_model_rule = models.VendorModelRule(\n",
    "        supplier=\"Lusid\",\n",
    "        model_name=\"Discounting\",\n",
    "        instrument_type=\"FxForward\",\n",
    "        parameters=\"{}\")\n",
    "\n",
    "    return models.PricingContext(\n",
    "        model_rules=[vendor_model_rule]\n",
    "    )\n",
    "\n",
    "pricing_context = create_pricing_context()"
   ],
   "metadata": {
    "collapsed": false,
    "pycharm": {
     "name": "#%%\n"
    }
   }
  },
  {
   "cell_type": "markdown",
   "source": [
    "### Selecting the Market Data\n",
    "\n",
    "We can instruct LUSID on where to resolve market data required for pricing our Fx forwards through defining a MarketContext. See the [Swagger spec](\"https://www.lusid.com/api/swagger/index.html#model-MarketContext\")\n",
    "under \"MarketContext\" for a detailed description of the parameters. Recall that when we upserted our quote we passed in a supplier and scope. One of\n",
    "the powerful features in LUSID is the ability to run valuations against market data from different suppliers, or even define market data retrieval rules\n",
    "to fallback to suppliers should your primary supplier not have the required data.\n",
    "\n",
    "However our example is trivial as we only require the spot rate we loaded in earlier. So we can define a simple market context :"
   ],
   "metadata": {
    "collapsed": false,
    "pycharm": {
     "name": "#%% md\n"
    }
   }
  },
  {
   "cell_type": "code",
   "execution_count": 8,
   "outputs": [],
   "source": [
    "def create_market_context():\n",
    "    return models.MarketContext(\n",
    "        # set rules for where we should resolve our rates data. In our case the interest rate curves.\n",
    "        market_rules=[\n",
    "            models.MarketDataKeyRule(\n",
    "                key=\"Rates.*.*\",\n",
    "                data_scope=market_data_scope,\n",
    "                supplier=market_supplier,\n",
    "                quote_type='Rate',\n",
    "                field='Mid')\n",
    "        ],\n",
    "        # control default options for resolving market data. In our case simply default to the LUSID market_supplier\n",
    "        # and market data scope we defined earlier.\n",
    "        options=models.MarketOptions(\n",
    "            default_supplier=market_supplier,\n",
    "            default_scope=market_data_scope)\n",
    "    )\n",
    "\n",
    "    return market_context\n",
    "\n",
    "market_context = create_market_context()"
   ],
   "metadata": {
    "collapsed": false,
    "pycharm": {
     "name": "#%%\n"
    }
   }
  },
  {
   "cell_type": "markdown",
   "source": [
    "### Configure our FX Forward Recipe\n",
    "\n",
    "Now that we've defined what pricing model to use and where to source the market data we can bring those instructions\n",
    "together in a [Recipe](\"https://support.finbourne.com/what-is-a-lusid-recipe-and-how-is-it-used\"):"
   ],
   "metadata": {
    "collapsed": false,
    "pycharm": {
     "name": "#%% md\n"
    }
   }
  },
  {
   "cell_type": "code",
   "execution_count": 9,
   "outputs": [],
   "source": [
    "def create_fx_forward_pricing_recipe():\n",
    "    return models.ConfigurationRecipe(\n",
    "            scope=scope,\n",
    "            code=\"fx-forward-pricing-recipe\",\n",
    "            description=\"Price Fx Forwards using LUSID internal model\",\n",
    "            market=market_context,\n",
    "            pricing=pricing_context\n",
    "        )\n",
    "\n",
    "fx_forward_pricing_recipe = create_fx_forward_pricing_recipe()"
   ],
   "metadata": {
    "collapsed": false,
    "pycharm": {
     "name": "#%%\n"
    }
   }
  },
  {
   "cell_type": "markdown",
   "source": [
    "## Price the FX Forwards\n",
    "\n",
    "Let's summarise our current state:\n",
    " * We've defined a set of GBP/USD FX Forwards for maturity in 3Y, 5Y and 10Y..\n",
    " * Loaded in the spot GBP/USD rates for the dates we're going to value our forwards against.\n",
    " * We've setup our Recipe configuring of how we would like to price our bond and where to source our required market data.\n",
    "\n",
    "As we have no existing positions in the FX Forward booked against a portfolio we'll run our aggregation on an inlined portfolio.\n",
    "That is a portfolio made up of a set of weighted instruments. In our case each request will be made up of only the specific\n",
    "FX forward we're valuing.\n",
    "\n",
    "### Run an Aggregation to Price our Forwards"
   ],
   "metadata": {
    "collapsed": false,
    "pycharm": {
     "name": "#%% md\n"
    }
   }
  },
  {
   "cell_type": "code",
   "execution_count": 10,
   "outputs": [],
   "source": [
    "def run_fx_forward_pricing_aggregation(maturity, effective_at, fx_forward_instrument_definition, fx_forward_pricing_recipe):\n",
    "    # setup weighted instrument (only our gilt definition)\n",
    "    fx_forward = models.WeightedInstrument(quantity=1, instrument=fx_forward_instrument_definition, holding_identifier=f\"{maturity}-holding\")\n",
    "\n",
    "    # create our aggregation request made up of our recipe and the metrics we would like to calculate (Bond PV)\n",
    "    aggregation_request = models.AggregationRequest(\n",
    "        effective_at=effective_at,\n",
    "        inline_recipe=fx_forward_pricing_recipe,\n",
    "        metrics=[\n",
    "            models.AggregateSpec(key='Holding/default/PV', op='Value'),\n",
    "        ]\n",
    "    )\n",
    "\n",
    "    # As we're running an inline aggregation we must wrap our original aggregation request with an inline aggregation\n",
    "    # request and pass in our weighted instruments\n",
    "    inline_aggregation_request = models.InlineAggregationRequest(\n",
    "        request=aggregation_request, instruments=[fx_forward]\n",
    "    )\n",
    "\n",
    "    # https://www.lusid.com/docs/api#operation/GetAggregationOfWeightedInstruments\n",
    "    return api_factory.build(lusid.api.AggregationApi).get_aggregation_of_weighted_instruments(\n",
    "        market_data_scope, inline_aggregation_request=inline_aggregation_request)\n"
   ],
   "metadata": {
    "collapsed": false,
    "pycharm": {
     "name": "#%%\n"
    }
   }
  },
  {
   "cell_type": "markdown",
   "source": [
    "Start by running the 5Y forward valuation across the three dates we upserted quotes for. Recall the quotes were 1.2508 for\n",
    "trade date, dropped by 0.0080 for day two and then increased by 0.0160 for day 3."
   ],
   "metadata": {
    "collapsed": false,
    "pycharm": {
     "name": "#%% md\n"
    }
   }
  },
  {
   "cell_type": "code",
   "execution_count": 11,
   "outputs": [
    {
     "data": {
      "text/plain": "                    Name Effective At     Value\n0  GBP/USD 5Y Forward PV  01 Jun 2020 -0.006160\n1  GBP/USD 5Y Forward PV  02 Jun 2020 -0.012605\n2  GBP/USD 5Y Forward PV  03 Jun 2020  0.000202",
      "text/html": "<div>\n<style scoped>\n    .dataframe tbody tr th:only-of-type {\n        vertical-align: middle;\n    }\n\n    .dataframe tbody tr th {\n        vertical-align: top;\n    }\n\n    .dataframe thead th {\n        text-align: right;\n    }\n</style>\n<table border=\"1\" class=\"dataframe\">\n  <thead>\n    <tr style=\"text-align: right;\">\n      <th></th>\n      <th>Name</th>\n      <th>Effective At</th>\n      <th>Value</th>\n    </tr>\n  </thead>\n  <tbody>\n    <tr>\n      <th>0</th>\n      <td>GBP/USD 5Y Forward PV</td>\n      <td>01 Jun 2020</td>\n      <td>-0.006160</td>\n    </tr>\n    <tr>\n      <th>1</th>\n      <td>GBP/USD 5Y Forward PV</td>\n      <td>02 Jun 2020</td>\n      <td>-0.012605</td>\n    </tr>\n    <tr>\n      <th>2</th>\n      <td>GBP/USD 5Y Forward PV</td>\n      <td>03 Jun 2020</td>\n      <td>0.000202</td>\n    </tr>\n  </tbody>\n</table>\n</div>"
     },
     "execution_count": 11,
     "metadata": {},
     "output_type": "execute_result"
    }
   ],
   "source": [
    "result_t = run_fx_forward_pricing_aggregation('5Y', trade_date, gbpusd_fx_fwd_5y_instr_def, fx_forward_pricing_recipe)\n",
    "result_t_plus_one = run_fx_forward_pricing_aggregation('5Y', trade_date_plus_one, gbpusd_fx_fwd_5y_instr_def, fx_forward_pricing_recipe)\n",
    "result_t_plus_two = run_fx_forward_pricing_aggregation('5Y', trade_date_plus_two, gbpusd_fx_fwd_5y_instr_def, fx_forward_pricing_recipe)\n",
    "\n",
    "aggregation_result_to_dataframe([\n",
    "    ['GBP/USD 5Y Forward PV', trade_date, result_t.data[0]['Holding/default/PV']],\n",
    "    ['GBP/USD 5Y Forward PV', trade_date_plus_one, result_t_plus_one.data[0]['Holding/default/PV']],\n",
    "    ['GBP/USD 5Y Forward PV', trade_date_plus_two, result_t_plus_two.data[0]['Holding/default/PV']]\n",
    "])"
   ],
   "metadata": {
    "collapsed": false,
    "pycharm": {
     "name": "#%%\n"
    }
   }
  },
  {
   "cell_type": "markdown",
   "source": [
    "Let's now take a look a look at the prices across the Forward curve for one date:"
   ],
   "metadata": {
    "collapsed": false,
    "pycharm": {
     "name": "#%% md\n"
    }
   }
  },
  {
   "cell_type": "code",
   "execution_count": 12,
   "outputs": [
    {
     "data": {
      "text/plain": "                     Name Effective At     Value\n0   GBP/USD 3Y Forward PV  01 Jun 2020 -0.002024\n1   GBP/USD 5Y Forward PV  01 Jun 2020 -0.006160\n2  GBP/USD 10Y Forward PV  01 Jun 2020 -0.032075",
      "text/html": "<div>\n<style scoped>\n    .dataframe tbody tr th:only-of-type {\n        vertical-align: middle;\n    }\n\n    .dataframe tbody tr th {\n        vertical-align: top;\n    }\n\n    .dataframe thead th {\n        text-align: right;\n    }\n</style>\n<table border=\"1\" class=\"dataframe\">\n  <thead>\n    <tr style=\"text-align: right;\">\n      <th></th>\n      <th>Name</th>\n      <th>Effective At</th>\n      <th>Value</th>\n    </tr>\n  </thead>\n  <tbody>\n    <tr>\n      <th>0</th>\n      <td>GBP/USD 3Y Forward PV</td>\n      <td>01 Jun 2020</td>\n      <td>-0.002024</td>\n    </tr>\n    <tr>\n      <th>1</th>\n      <td>GBP/USD 5Y Forward PV</td>\n      <td>01 Jun 2020</td>\n      <td>-0.006160</td>\n    </tr>\n    <tr>\n      <th>2</th>\n      <td>GBP/USD 10Y Forward PV</td>\n      <td>01 Jun 2020</td>\n      <td>-0.032075</td>\n    </tr>\n  </tbody>\n</table>\n</div>"
     },
     "execution_count": 12,
     "metadata": {},
     "output_type": "execute_result"
    }
   ],
   "source": [
    "result_3y = run_fx_forward_pricing_aggregation('3Y', trade_date, gbpusd_fx_fwd_3y_instr_def, fx_forward_pricing_recipe)\n",
    "result_5y = run_fx_forward_pricing_aggregation('5Y', trade_date, gbpusd_fx_fwd_5y_instr_def, fx_forward_pricing_recipe)\n",
    "result_10y = run_fx_forward_pricing_aggregation('10Y', trade_date, gbpusd_fx_fwd_10y_instr_def, fx_forward_pricing_recipe)\n",
    "\n",
    "aggregation_result_to_dataframe([\n",
    "    ['GBP/USD 3Y Forward PV', trade_date, result_3y.data[0]['Holding/default/PV']],\n",
    "    ['GBP/USD 5Y Forward PV', trade_date, result_5y.data[0]['Holding/default/PV']],\n",
    "    ['GBP/USD 10Y Forward PV', trade_date, result_10y.data[0]['Holding/default/PV']]\n",
    "])\n"
   ],
   "metadata": {
    "collapsed": false,
    "pycharm": {
     "name": "#%%\n"
    }
   }
  },
  {
   "cell_type": "markdown",
   "source": [
    "## Pricing a Portfolio of FX Forwards\n",
    "\n",
    "Up until now we've only priced a unit Fx Forward. Let's now take it a step further and build a simple of portfolio with\n",
    "some FX forward positions. While we'll now be running our aggregation on an actual portfolio as opposed to just the Fx Forward instrument\n",
    "we'll still make use of the same recipe we defined. This is because the rules regarding what model we'd like to use to price our\n",
    "Fx Forward and where LUSID should retrieve market data from have not changed.\n",
    "\n",
    "\n",
    "### Setting up our Portfolio\n",
    "\n",
    "We'll firstly setup the portfolio that will hold our FX forward positions:"
   ],
   "metadata": {
    "collapsed": false,
    "pycharm": {
     "name": "#%% md\n"
    }
   }
  },
  {
   "cell_type": "code",
   "execution_count": 13,
   "outputs": [
    {
     "data": {
      "text/plain": "            successful items\n0  simple-fxfwd-portfolio-01",
      "text/html": "<div>\n<style scoped>\n    .dataframe tbody tr th:only-of-type {\n        vertical-align: middle;\n    }\n\n    .dataframe tbody tr th {\n        vertical-align: top;\n    }\n\n    .dataframe thead th {\n        text-align: right;\n    }\n</style>\n<table border=\"1\" class=\"dataframe\">\n  <thead>\n    <tr style=\"text-align: right;\">\n      <th></th>\n      <th>successful items</th>\n    </tr>\n  </thead>\n  <tbody>\n    <tr>\n      <th>0</th>\n      <td>simple-fxfwd-portfolio-01</td>\n    </tr>\n  </tbody>\n</table>\n</div>"
     },
     "execution_count": 13,
     "metadata": {},
     "output_type": "execute_result"
    }
   ],
   "source": [
    "portfolio = \"simple-fxfwd-portfolio-01\"\n",
    "\n",
    "def create_portfolio(scope, portfolio_code, portfolio_name, portfolio_ccy):\n",
    "    pfs = [[portfolio_code, portfolio_name, portfolio_ccy]]\n",
    "    pf_df = pd.DataFrame(pfs, columns=['portfolio_code', 'portfolio_name', 'base_currency'])\n",
    "\n",
    "    portfolio_mapping = {\n",
    "        \"required\": {\n",
    "            \"code\": \"portfolio_code\",\n",
    "            \"display_name\": \"portfolio_name\",\n",
    "            \"base_currency\": \"base_currency\",\n",
    "        },\n",
    "        \"optional\": {\"created\": \"$2020-01-01T00:00:00+00:00\"},\n",
    "    }\n",
    "    result = load_from_data_frame(\n",
    "        api_factory=api_factory,\n",
    "        scope=scope,\n",
    "        data_frame=pf_df,\n",
    "        mapping_required=portfolio_mapping[\"required\"],\n",
    "        mapping_optional=portfolio_mapping[\"optional\"],\n",
    "        file_type=\"portfolios\",\n",
    "        sub_holding_keys=[],\n",
    "    )\n",
    "    succ, failed = format_portfolios_response(result)\n",
    "\n",
    "    if not failed.empty:\n",
    "        raise StopExecution(failed)\n",
    "\n",
    "    return succ\n",
    "\n",
    "create_portfolio(scope, portfolio, portfolio, \"GBP\")"
   ],
   "metadata": {
    "collapsed": false,
    "pycharm": {
     "name": "#%%\n"
    }
   }
  },
  {
   "cell_type": "markdown",
   "source": [
    "### Upserting our FX Forward Instrument\n",
    "\n",
    "Previously as we were only pricing the FX Forward instrument we were only required to pass in it's definition. As we're now\n",
    "booking transactions against the instrument we'll need to upsert the instrument into LUSID. This will provide us with an identifier\n",
    "we can use to book against."
   ],
   "metadata": {
    "collapsed": false,
    "pycharm": {
     "name": "#%% md\n"
    }
   }
  },
  {
   "cell_type": "code",
   "execution_count": 14,
   "outputs": [],
   "source": [
    "def upsert_fx_fwd_instrument(instrument_id, instrument_name, fx_fwd_definition):\n",
    "    bond_instrument_request = {instrument_id: models.LusidInstrumentDefinition(\n",
    "        # instrument display name\n",
    "        name=instrument_name,\n",
    "        # unique instrument identifier\n",
    "        identifiers={\"ClientInternal\": models.InstrumentIdValue(instrument_id)},\n",
    "        # our gilt instrument definition\n",
    "        definition=fx_fwd_definition\n",
    "    )}\n",
    "    # Note we're using upsert_lusid_instrument and not upset_instrument as we're creating an instrument based\n",
    "    # on a user defined instrument definition and not the base LUSID instruments.\n",
    "    return instruments_api.upsert_lusid_instruments(bond_instrument_request)\n",
    "\n",
    "gbpusd_fx_fwd_3y_instr_client_id = \"gbp_usd_fwd_3y_12571\"\n",
    "instrument_creation_response = upsert_fx_fwd_instrument(gbpusd_fx_fwd_3y_instr_client_id, \"GBP/USD 3Y @ 1.2571\", gbpusd_fx_fwd_3y_instr_def)\n",
    "# retrieve the instrument id of our gilt to be used later when loading market quotes for the bond into LUSID.\n",
    "gbpusd_fx_fwd_3y_instr_luid = instrument_creation_response.values[gbpusd_fx_fwd_3y_instr_client_id].lusid_instrument_id\n"
   ],
   "metadata": {
    "collapsed": false,
    "pycharm": {
     "name": "#%%\n"
    }
   }
  },
  {
   "cell_type": "markdown",
   "source": [
    "### Setting up our FX Forward Transaction\n",
    "\n",
    "Let's assume we're taking a position in the GBP/USD 3Y Fx Forward we setup. As the domestic and foreign notionals are\n",
    "included in the instrument definition we simply need to setup a transaction type that gives use a holding in the instrument. However\n",
    "there is no cash exchanged making a usual \"Buy\" transaction unsuitable so we'll have to create our own. For details\n",
    "on movements take a look at the notebook [Generating holdings with the movements engine in LUSID](https://github.com/finbourne/sample-notebooks/blob/master/examples/use-cases/ibor/Generating%20holdings%20with%20the%20movements%20engine%20in%20LUSID.ipynb)\n",
    "\n",
    "\n",
    "#### Creating a Transaction Type\n",
    "\n",
    "For more information on transaction types have a read of [Configuring transaction types](https://support.finbourne.com/configuring-transaction-types) and try the\n",
    " TODO find notebook\n",
    "\n",
    "We need a transaction that simply buys a unit of the forward with no cash movement that we'll call \"FxFwdInstBuy\""
   ],
   "metadata": {
    "collapsed": false
   }
  },
  {
   "cell_type": "code",
   "execution_count": 15,
   "outputs": [
    {
     "name": "stderr",
     "output_type": "stream",
     "text": [
      "WARNING:root:The following alias already exists: Type of FxFwdInstBuy with source default\n"
     ]
    }
   ],
   "source": [
    "create_txn_type_response = create_transaction_type_configuration(\n",
    "    api_factory,\n",
    "    alias=models.TransactionConfigurationTypeAlias(\n",
    "        type=\"FxFwdInstBuy\",\n",
    "        description=\"Buy a unit of a pre defined FXForwardInstrument\",\n",
    "        transaction_class=\"Basic\",\n",
    "        transaction_group=\"default\",\n",
    "        transaction_roles=\"LongLonger\",\n",
    "    ),\n",
    "    movements=[\n",
    "        models.TransactionConfigurationMovementDataRequest(\n",
    "            movement_types=\"StockMovement\",\n",
    "            side=\"Side1\",\n",
    "            direction=1,\n",
    "            properties=None,\n",
    "            mappings=None,\n",
    "        )\n",
    "    ],\n",
    ")"
   ],
   "metadata": {
    "collapsed": false,
    "pycharm": {
     "name": "#%%\n"
    }
   }
  },
  {
   "cell_type": "markdown",
   "source": [
    "#### Upserting our transaction\n",
    "\n",
    "We can now ..."
   ],
   "metadata": {
    "collapsed": false,
    "pycharm": {
     "name": "#%% md\n"
    }
   }
  },
  {
   "cell_type": "code",
   "execution_count": 16,
   "outputs": [],
   "source": [
    "def upsert_fwd_transaction(scope, txn_id, txn_type, txn_ccy, instrument_id, trade_date, effective_at, portfolio, spot_rate, transaction_price, consideration):\n",
    "    gilt_transaction_request = models.TransactionRequest(\n",
    "        transaction_id=txn_id,\n",
    "        type=txn_type,\n",
    "        instrument_identifiers={\"Instrument/default/ClientInternal\": instrument_id},\n",
    "        transaction_date=trade_date.isoformat(),\n",
    "        settlement_date=effective_at.isoformat(),\n",
    "        units=100000000,\n",
    "        transaction_price=models.TransactionPrice(price=transaction_price, type=\"Price\"),\n",
    "        total_consideration=models.CurrencyAndAmount(amount=consideration, currency=txn_ccy),\n",
    "        exchange_rate=1,\n",
    "        transaction_currency=txn_ccy\n",
    "    )\n",
    "\n",
    "    response = api_factory.build(lusid.api.TransactionPortfoliosApi).upsert_transactions(scope=scope,\n",
    "                                                                                         code=portfolio,\n",
    "                                                                                         transaction_request=[gilt_transaction_request])\n",
    "\n",
    "# our units are 100000000 as the PV in the forward pricing is calculated for a unit instrument. So to scale we'd need\n",
    "# to upsert 100m units\n",
    "units = 100000000\n",
    "transaction_price = 1.2571\n",
    "consideration = 100000000\n",
    "# upsert the buy leg of the forward\n",
    "upsert_fwd_transaction(scope, \"fx_fwd_3y_b_001\", \"FxFwdInstBuy\", \"GBP\", gbpusd_fx_fwd_3y_instr_client_id, trade_date, trade_date, portfolio, spot_rate, transaction_price, consideration)"
   ],
   "metadata": {
    "collapsed": false,
    "pycharm": {
     "name": "#%%\n"
    }
   }
  },
  {
   "cell_type": "markdown",
   "source": [
    "### Value Portfolio\n",
    "\n",
    "Mentione unitised valuatoin and PV from portfodlio"
   ],
   "metadata": {
    "collapsed": false,
    "pycharm": {
     "name": "#%% md\n"
    }
   }
  },
  {
   "cell_type": "code",
   "execution_count": 17,
   "outputs": [
    {
     "data": {
      "text/plain": "           Name Effective At          Value\n0  Portfolio PV  01 Jun 2020 -202392.125262\n1  Portfolio PV  02 Jun 2020 -845476.464998\n2  Portfolio PV  03 Jun 2020  432518.279429",
      "text/html": "<div>\n<style scoped>\n    .dataframe tbody tr th:only-of-type {\n        vertical-align: middle;\n    }\n\n    .dataframe tbody tr th {\n        vertical-align: top;\n    }\n\n    .dataframe thead th {\n        text-align: right;\n    }\n</style>\n<table border=\"1\" class=\"dataframe\">\n  <thead>\n    <tr style=\"text-align: right;\">\n      <th></th>\n      <th>Name</th>\n      <th>Effective At</th>\n      <th>Value</th>\n    </tr>\n  </thead>\n  <tbody>\n    <tr>\n      <th>0</th>\n      <td>Portfolio PV</td>\n      <td>01 Jun 2020</td>\n      <td>-202392.125262</td>\n    </tr>\n    <tr>\n      <th>1</th>\n      <td>Portfolio PV</td>\n      <td>02 Jun 2020</td>\n      <td>-845476.464998</td>\n    </tr>\n    <tr>\n      <th>2</th>\n      <td>Portfolio PV</td>\n      <td>03 Jun 2020</td>\n      <td>432518.279429</td>\n    </tr>\n  </tbody>\n</table>\n</div>"
     },
     "execution_count": 17,
     "metadata": {},
     "output_type": "execute_result"
    }
   ],
   "source": [
    "def run_fx_forward_pricing_aggregation_on_portfolio(scope, portfolio, recipe, effective_at):\n",
    "    aggregation_request = models.AggregationRequest(\n",
    "        effective_at=effective_at.isoformat(),\n",
    "        inline_recipe=recipe,\n",
    "        metrics=[\n",
    "            models.AggregateSpec(key='Holding/default/PV',\n",
    "                                 op='Value'),\n",
    "            models.AggregateSpec(key='Analytic/default/ValuationDate',\n",
    "                                         op='Value'),\n",
    "            models.AggregateSpec(key='Analytic/default/DomCcy',\n",
    "                                 op='Value'),\n",
    "            models.AggregateSpec(key='Analytic/default/FgnCcy',\n",
    "                                 op='Value'),\n",
    "            models.AggregateSpec(key='Analytic/default/StartDate',\n",
    "                                 op='Value'),\n",
    "            models.AggregateSpec(key='Analytic/default/MaturityDate',\n",
    "                                 op='Value'),\n",
    "            models.AggregateSpec(key='Portfolio/default/Name',\n",
    "                                 op='Value'),\n",
    "            models.AggregateSpec(key='Holding/default/Cost',\n",
    "                                 op='Value'),\n",
    "            models.AggregateSpec(key='Holding/default/Units',\n",
    "                                 op='Value'),\n",
    "                        models.AggregateSpec(\"Holding/default/Error\", \"Value\")\n",
    "        ]\n",
    "    )\n",
    "\n",
    "    return api_factory.build(lusid.api.AggregationApi).get_aggregation(scope=scope, code=portfolio,\n",
    "                                                             aggregation_request=aggregation_request)\n",
    "\n",
    "\n",
    "result_t = run_fx_forward_pricing_aggregation_on_portfolio(scope, portfolio, fx_forward_pricing_recipe, trade_date)\n",
    "result_t_plus_one = run_fx_forward_pricing_aggregation_on_portfolio(scope, portfolio, fx_forward_pricing_recipe, trade_date_plus_one)\n",
    "result_t_plus_two = run_fx_forward_pricing_aggregation_on_portfolio(scope, portfolio, fx_forward_pricing_recipe, trade_date_plus_two)\n",
    "\n",
    "aggregation_result_to_dataframe([\n",
    "    ['Portfolio PV', trade_date, result_t.data[0]['Holding/default/PV']],\n",
    "    ['Portfolio PV', trade_date_plus_one, result_t_plus_one.data[0]['Holding/default/PV']],\n",
    "    ['Portfolio PV', trade_date_plus_two, result_t_plus_two.data[0]['Holding/default/PV']]\n",
    "])"
   ],
   "metadata": {
    "collapsed": false,
    "pycharm": {
     "name": "#%%\n"
    }
   }
  },
  {
   "cell_type": "code",
   "execution_count": 18,
   "outputs": [
    {
     "data": {
      "text/plain": "                    Name Effective At     Value\n0  GBP/USD 3Y Forward PV  01 Jun 2020 -0.002024\n1  GBP/USD 3Y Forward PV  02 Jun 2020 -0.008455\n2  GBP/USD 3Y Forward PV  03 Jun 2020  0.004325",
      "text/html": "<div>\n<style scoped>\n    .dataframe tbody tr th:only-of-type {\n        vertical-align: middle;\n    }\n\n    .dataframe tbody tr th {\n        vertical-align: top;\n    }\n\n    .dataframe thead th {\n        text-align: right;\n    }\n</style>\n<table border=\"1\" class=\"dataframe\">\n  <thead>\n    <tr style=\"text-align: right;\">\n      <th></th>\n      <th>Name</th>\n      <th>Effective At</th>\n      <th>Value</th>\n    </tr>\n  </thead>\n  <tbody>\n    <tr>\n      <th>0</th>\n      <td>GBP/USD 3Y Forward PV</td>\n      <td>01 Jun 2020</td>\n      <td>-0.002024</td>\n    </tr>\n    <tr>\n      <th>1</th>\n      <td>GBP/USD 3Y Forward PV</td>\n      <td>02 Jun 2020</td>\n      <td>-0.008455</td>\n    </tr>\n    <tr>\n      <th>2</th>\n      <td>GBP/USD 3Y Forward PV</td>\n      <td>03 Jun 2020</td>\n      <td>0.004325</td>\n    </tr>\n  </tbody>\n</table>\n</div>"
     },
     "execution_count": 18,
     "metadata": {},
     "output_type": "execute_result"
    }
   ],
   "source": [
    "result_t = run_fx_forward_pricing_aggregation('3Y', trade_date, gbpusd_fx_fwd_3y_instr_def, fx_forward_pricing_recipe)\n",
    "result_t_plus_one = run_fx_forward_pricing_aggregation('3Y', trade_date_plus_one, gbpusd_fx_fwd_3y_instr_def, fx_forward_pricing_recipe)\n",
    "result_t_plus_two = run_fx_forward_pricing_aggregation('3Y', trade_date_plus_two, gbpusd_fx_fwd_3y_instr_def, fx_forward_pricing_recipe)\n",
    "\n",
    "aggregation_result_to_dataframe([\n",
    "    ['GBP/USD 3Y Forward PV', trade_date, result_t.data[0]['Holding/default/PV']],\n",
    "    ['GBP/USD 3Y Forward PV', trade_date_plus_one, result_t_plus_one.data[0]['Holding/default/PV']],\n",
    "    ['GBP/USD 3Y Forward PV', trade_date_plus_two, result_t_plus_two.data[0]['Holding/default/PV']]\n",
    "])\n"
   ],
   "metadata": {
    "collapsed": false,
    "pycharm": {
     "name": "#%%\n"
    }
   }
  },
  {
   "cell_type": "markdown",
   "source": [
    "## Forward Pricing Override with LUSID Static Model\n",
    "\n",
    "Let's now assume that we've calculated priced our FX forwards externally to LUSID but would like the prices in LUSID to\n",
    "value our portfolio. We can do so by changing the pricing model we use from \"Discounting\" model to a \"SimpleStatic\" model. For\n",
    "the static model to retrieve the externally calculate Forward prices we need to firsty upsert those prices as market data quotes against the\n",
    "FX forward insturment we defined earlier in the notebook\n",
    "\n",
    "### Load FX Forward Prices into LUSID"
   ],
   "metadata": {
    "collapsed": false,
    "pycharm": {
     "name": "#%% md\n"
    }
   }
  },
  {
   "cell_type": "code",
   "execution_count": 30,
   "outputs": [
    {
     "name": "stdout",
     "output_type": "stream",
     "text": [
      "FX Forward @0.5 uploaded into Quote store.\n",
      "FX Forward @0.005 uploaded into Quote store.\n",
      "FX Forward @0.005 uploaded into Quote store.\n"
     ]
    }
   ],
   "source": [
    "def upsert_external_fx_forward_as_quote(fx_fwd_price, effective_at):\n",
    "    spot_quote = models.UpsertQuoteRequest(\n",
    "        quote_id=models.QuoteId(\n",
    "            quote_series_id=models.QuoteSeriesId(\n",
    "                provider=market_supplier,\n",
    "                instrument_id=gbpusd_fx_fwd_3y_instr_luid,\n",
    "                instrument_id_type='LusidInstrumentId',\n",
    "                quote_type='Price',\n",
    "                field='Mid'),\n",
    "            effective_at=effective_at,\n",
    "        ),\n",
    "        metric_value=models.MetricValue(\n",
    "            value=fx_fwd_price,\n",
    "            unit='GBP'),\n",
    "        lineage='InternalSystem')\n",
    "\n",
    "    response = api_factory.build(lusid.api.QuotesApi).upsert_quotes(\n",
    "        scope=market_data_scope,\n",
    "        request_body={\"1\": spot_quote})V\n",
    "\n",
    "    if response.failed:\n",
    "        raise StopExecution(f\"Failed to upload FX Forward price:{response.failed}\")\n",
    "\n",
    "    print(f\"FX Forward @{fx_fwd_price} uploaded into Quote store.\")\n",
    "\n",
    "upsert_external_fx_forward_as_quote(0.50000, trade_date)\n",
    "upsert_external_fx_forward_as_quote(0.005000, trade_date_plus_one)\n",
    "upsert_external_fx_forward_as_quote(0.005000, trade_date_plus_two)\n"
   ],
   "metadata": {
    "collapsed": false,
    "pycharm": {
     "name": "#%%\n"
    }
   }
  },
  {
   "cell_type": "markdown",
   "source": [
    "### Updating our Recipe to the Static Model\n",
    "\n",
    "We now need to use a recipe that selects the Static model for pricing forwards. As we did earlier in the notebook we select\n",
    "the model we'd like to use through the PricingContext of the recipe"
   ],
   "metadata": {
    "collapsed": false,
    "pycharm": {
     "name": "#%% md\n"
    }
   }
  },
  {
   "cell_type": "code",
   "execution_count": 20,
   "outputs": [],
   "source": [
    "def create_static_fx_forward_pricing_context():\n",
    "    return models.PricingContext(\n",
    "        # the default behaviour does not allow looking up data for pricing instruments so we must allow it.\n",
    "        options=models.PricingOptions(\n",
    "            allow_any_instruments_with_sec_uid_to_price_off_lookup=True\n",
    "        ),\n",
    "        model_rules=[\n",
    "            models.VendorModelRule(\n",
    "                supplier=\"Lusid\",\n",
    "                model_name=\"SimpleStatic\",\n",
    "                instrument_type=\"FxForward\",\n",
    "                parameters=\"{}\"\n",
    "            )\n",
    "        ]\n",
    "    )\n",
    "\n",
    "static_fx_forward_pricing_context = create_static_fx_forward_pricing_context()\n"
   ],
   "metadata": {
    "collapsed": false,
    "pycharm": {
     "name": "#%%\n"
    }
   }
  },
  {
   "cell_type": "markdown",
   "source": [
    "### Instruct LUSID where to find the forward price\n",
    "\n",
    "Additionally we need to make the LUSID aggregation aware of where to resolve the FX forward prices we've inserted."
   ],
   "metadata": {
    "collapsed": false
   }
  },
  {
   "cell_type": "code",
   "execution_count": 26,
   "outputs": [],
   "source": [
    "def create_static_fx_forward_pricing_market_context():\n",
    "    return models.MarketContext(\n",
    "        market_rules=[\n",
    "            # additional rule to resolve our quote\n",
    "            models.MarketDataKeyRule(\n",
    "                key='Fx.LusidInstrumentId.*',\n",
    "                supplier=market_supplier,\n",
    "                data_scope=market_data_scope,\n",
    "                quote_type='Price',\n",
    "                field='Mid'),\n",
    "            models.MarketDataKeyRule(\n",
    "                key=\"Rates.*.*\",\n",
    "                data_scope=market_data_scope,\n",
    "                supplier=market_supplier,\n",
    "                quote_type='Rate',\n",
    "                field='Mid')\n",
    "        ],\n",
    "        options=models.MarketOptions(\n",
    "            default_supplier=market_supplier,\n",
    "            default_scope=market_data_scope,\n",
    "            manifest_level_of_detail=\"Full\")\n",
    "    )\n",
    "\n",
    "    return market_context\n",
    "\n",
    "static_fx_forward_pricing_market_context = create_static_fx_forward_pricing_market_context()"
   ],
   "metadata": {
    "collapsed": false,
    "pycharm": {
     "name": "#%%\n"
    }
   }
  },
  {
   "cell_type": "markdown",
   "source": [
    "### Construct Static Model Fx Forward Recipe\n",
    "\n",
    "Let's create a new recipe based on the pricing and market contexts we've just created"
   ],
   "metadata": {
    "collapsed": false,
    "pycharm": {
     "name": "#%% md\n"
    }
   }
  },
  {
   "cell_type": "code",
   "execution_count": 27,
   "outputs": [],
   "source": [
    "def create_static_fx_forward_pricing_recipe(scope, market_context, pricing_context):\n",
    "\n",
    "    return models.ConfigurationRecipe(\n",
    "        scope=scope,\n",
    "        code=\"static-bond\",\n",
    "        description=\"Price bond using prices from the quote store.\",\n",
    "        market=market_context,\n",
    "        pricing=pricing_context\n",
    "    )\n",
    "\n",
    "static_fx_forward_price_config_recipe = create_static_fx_forward_pricing_recipe(scope, static_fx_forward_pricing_market_context, static_fx_forward_pricing_context)\n"
   ],
   "metadata": {
    "collapsed": false,
    "pycharm": {
     "name": "#%%\n"
    }
   }
  },
  {
   "cell_type": "markdown",
   "source": [
    "### Rerun Pricing with Static Model and compare with the Discounting Model\n",
    "\n",
    "We can now price our Fx Fwd portfolio using the Static model (which uses our external FX forward price we fed in as a quote)\n",
    "and compare the valuation with a corresponding aggregatoin but using the discounting model"
   ],
   "metadata": {
    "collapsed": false
   }
  },
  {
   "cell_type": "code",
   "execution_count": 31,
   "outputs": [
    {
     "data": {
      "text/plain": "                    Name Effective At     Value\n0  GBP/USD 3Y Forward PV  01 Jun 2020 -0.005037\n1  GBP/USD 3Y Forward PV  02 Jun 2020 -0.011506\n2  GBP/USD 3Y Forward PV  03 Jun 2020  0.001350",
      "text/html": "<div>\n<style scoped>\n    .dataframe tbody tr th:only-of-type {\n        vertical-align: middle;\n    }\n\n    .dataframe tbody tr th {\n        vertical-align: top;\n    }\n\n    .dataframe thead th {\n        text-align: right;\n    }\n</style>\n<table border=\"1\" class=\"dataframe\">\n  <thead>\n    <tr style=\"text-align: right;\">\n      <th></th>\n      <th>Name</th>\n      <th>Effective At</th>\n      <th>Value</th>\n    </tr>\n  </thead>\n  <tbody>\n    <tr>\n      <th>0</th>\n      <td>GBP/USD 3Y Forward PV</td>\n      <td>01 Jun 2020</td>\n      <td>-0.005037</td>\n    </tr>\n    <tr>\n      <th>1</th>\n      <td>GBP/USD 3Y Forward PV</td>\n      <td>02 Jun 2020</td>\n      <td>-0.011506</td>\n    </tr>\n    <tr>\n      <th>2</th>\n      <td>GBP/USD 3Y Forward PV</td>\n      <td>03 Jun 2020</td>\n      <td>0.001350</td>\n    </tr>\n  </tbody>\n</table>\n</div>"
     },
     "execution_count": 31,
     "metadata": {},
     "output_type": "execute_result"
    }
   ],
   "source": [
    "result_t = run_fx_forward_pricing_aggregation('3Y', trade_date, gbpusd_fx_fwd_3y_instr_def, static_fx_forward_price_config_recipe)\n",
    "result_t_plus_one = run_fx_forward_pricing_aggregation('3Y', trade_date_plus_one, gbpusd_fx_fwd_3y_instr_def, static_fx_forward_price_config_recipe)\n",
    "result_t_plus_two = run_fx_forward_pricing_aggregation('3Y', trade_date_plus_two, gbpusd_fx_fwd_3y_instr_def, static_fx_forward_price_config_recipe)\n",
    "\n",
    "aggregation_result_to_dataframe([\n",
    "    ['GBP/USD 3Y Forward PV', trade_date, result_t.data[0]['Holding/default/PV']],\n",
    "    ['GBP/USD 3Y Forward PV', trade_date_plus_one, result_t_plus_one.data[0]['Holding/default/PV']],\n",
    "    ['GBP/USD 3Y Forward PV', trade_date_plus_two, result_t_plus_two.data[0]['Holding/default/PV']]\n",
    "])\n",
    "\n",
    "#display(result_t.manifest)"
   ],
   "metadata": {
    "collapsed": false,
    "pycharm": {
     "name": "#%%\n"
    }
   }
  },
  {
   "cell_type": "code",
   "execution_count": 24,
   "outputs": [
    {
     "data": {
      "text/plain": "                                  Name Effective At           Value\n0  GBP/USD 3Y Forward PV (Discounting)  01 Jun 2020  -202392.125262\n1       GBP/USD 3Y Forward PV (Static)  01 Jun 2020  -503677.646306\n2  GBP/USD 3Y Forward PV (Discounting)  02 Jun 2020  -845476.464998\n3       GBP/USD 3Y Forward PV (Static)  02 Jun 2020 -1150627.615063\n4  GBP/USD 3Y Forward PV (Discounting)  03 Jun 2020   432518.279429\n5       GBP/USD 3Y Forward PV (Static)  03 Jun 2020   135049.253257",
      "text/html": "<div>\n<style scoped>\n    .dataframe tbody tr th:only-of-type {\n        vertical-align: middle;\n    }\n\n    .dataframe tbody tr th {\n        vertical-align: top;\n    }\n\n    .dataframe thead th {\n        text-align: right;\n    }\n</style>\n<table border=\"1\" class=\"dataframe\">\n  <thead>\n    <tr style=\"text-align: right;\">\n      <th></th>\n      <th>Name</th>\n      <th>Effective At</th>\n      <th>Value</th>\n    </tr>\n  </thead>\n  <tbody>\n    <tr>\n      <th>0</th>\n      <td>GBP/USD 3Y Forward PV (Discounting)</td>\n      <td>01 Jun 2020</td>\n      <td>-202392.125262</td>\n    </tr>\n    <tr>\n      <th>1</th>\n      <td>GBP/USD 3Y Forward PV (Static)</td>\n      <td>01 Jun 2020</td>\n      <td>-503677.646306</td>\n    </tr>\n    <tr>\n      <th>2</th>\n      <td>GBP/USD 3Y Forward PV (Discounting)</td>\n      <td>02 Jun 2020</td>\n      <td>-845476.464998</td>\n    </tr>\n    <tr>\n      <th>3</th>\n      <td>GBP/USD 3Y Forward PV (Static)</td>\n      <td>02 Jun 2020</td>\n      <td>-1150627.615063</td>\n    </tr>\n    <tr>\n      <th>4</th>\n      <td>GBP/USD 3Y Forward PV (Discounting)</td>\n      <td>03 Jun 2020</td>\n      <td>432518.279429</td>\n    </tr>\n    <tr>\n      <th>5</th>\n      <td>GBP/USD 3Y Forward PV (Static)</td>\n      <td>03 Jun 2020</td>\n      <td>135049.253257</td>\n    </tr>\n  </tbody>\n</table>\n</div>"
     },
     "execution_count": 24,
     "metadata": {},
     "output_type": "execute_result"
    }
   ],
   "source": [
    "result_static_t = run_fx_forward_pricing_aggregation_on_portfolio(scope, portfolio, static_fx_forward_price_config_recipe, trade_date)\n",
    "result_static_t_plus_one = run_fx_forward_pricing_aggregation_on_portfolio(scope, portfolio, static_fx_forward_price_config_recipe, trade_date_plus_one)\n",
    "result_static_t_plus_two = run_fx_forward_pricing_aggregation_on_portfolio(scope, portfolio, static_fx_forward_price_config_recipe, trade_date_plus_two)\n",
    "\n",
    "aggregation_result_to_dataframe([\n",
    "    ['GBP/USD 3Y Forward PV (Static)', trade_date, result_static_t.data[0]['Holding/default/PV']],\n",
    "    ['GBP/USD 3Y Forward PV (Static)', trade_date_plus_one, result_static_t_plus_one.data[0]['Holding/default/PV']],\n",
    "    ['GBP/USD 3Y Forward PV (Static)', trade_date_plus_two, result_static_t_plus_two.data[0]['Holding/default/PV']]\n",
    "])\n",
    "\n",
    "result_discounting_t = run_fx_forward_pricing_aggregation_on_portfolio(scope, portfolio, fx_forward_pricing_recipe, trade_date)\n",
    "result_discounting_t_plus_one = run_fx_forward_pricing_aggregation_on_portfolio(scope, portfolio, fx_forward_pricing_recipe, trade_date_plus_one)\n",
    "result_discounting_t_plus_two = run_fx_forward_pricing_aggregation_on_portfolio(scope, portfolio, fx_forward_pricing_recipe, trade_date_plus_two)\n",
    "\n",
    "aggregation_result_to_dataframe([\n",
    "    ['GBP/USD 3Y Forward PV (Discounting)', trade_date, result_discounting_t.data[0]['Holding/default/PV']],\n",
    "    ['GBP/USD 3Y Forward PV (Static)', trade_date, result_static_t.data[0]['Holding/default/PV']],\n",
    "    ['GBP/USD 3Y Forward PV (Discounting)', trade_date_plus_one, result_discounting_t_plus_one.data[0]['Holding/default/PV']],\n",
    "    ['GBP/USD 3Y Forward PV (Static)', trade_date_plus_one, result_static_t_plus_one.data[0]['Holding/default/PV']],\n",
    "    ['GBP/USD 3Y Forward PV (Discounting)', trade_date_plus_two, result_discounting_t_plus_two.data[0]['Holding/default/PV']],\n",
    "    ['GBP/USD 3Y Forward PV (Static)', trade_date_plus_two, result_static_t_plus_two.data[0]['Holding/default/PV']]\n",
    "])\n"
   ],
   "metadata": {
    "collapsed": false,
    "pycharm": {
     "name": "#%%\n"
    }
   }
  },
  {
   "cell_type": "markdown",
   "source": [
    "### Update our Static Forward Rates To Match Discounting Model\n",
    "\n",
    "Let's finally try to match the forward rates of the static and idiscounting model by using the discounting model to\n",
    "calculate numbers and the feeding into quote store"
   ],
   "metadata": {
    "collapsed": false,
    "pycharm": {
     "name": "#%% md\n"
    }
   }
  },
  {
   "cell_type": "code",
   "execution_count": 25,
   "outputs": [
    {
     "name": "stdout",
     "output_type": "stream",
     "text": [
      "FX Forward @-0.0020239212526166972 uploaded into Quote store.\n",
      "FX Forward @-0.008454764649984195 uploaded into Quote store.\n",
      "FX Forward @0.004325182794291728 uploaded into Quote store.\n"
     ]
    },
    {
     "data": {
      "text/plain": "                                  Name Effective At           Value\n0  GBP/USD 3Y Forward PV (Discounting)  01 Jun 2020  -202392.125262\n1       GBP/USD 3Y Forward PV (Static)  01 Jun 2020  -503677.646306\n2  GBP/USD 3Y Forward PV (Discounting)  02 Jun 2020  -845476.464998\n3       GBP/USD 3Y Forward PV (Static)  02 Jun 2020 -1150627.615063\n4  GBP/USD 3Y Forward PV (Discounting)  03 Jun 2020   432518.279429\n5       GBP/USD 3Y Forward PV (Static)  03 Jun 2020   135049.253257",
      "text/html": "<div>\n<style scoped>\n    .dataframe tbody tr th:only-of-type {\n        vertical-align: middle;\n    }\n\n    .dataframe tbody tr th {\n        vertical-align: top;\n    }\n\n    .dataframe thead th {\n        text-align: right;\n    }\n</style>\n<table border=\"1\" class=\"dataframe\">\n  <thead>\n    <tr style=\"text-align: right;\">\n      <th></th>\n      <th>Name</th>\n      <th>Effective At</th>\n      <th>Value</th>\n    </tr>\n  </thead>\n  <tbody>\n    <tr>\n      <th>0</th>\n      <td>GBP/USD 3Y Forward PV (Discounting)</td>\n      <td>01 Jun 2020</td>\n      <td>-202392.125262</td>\n    </tr>\n    <tr>\n      <th>1</th>\n      <td>GBP/USD 3Y Forward PV (Static)</td>\n      <td>01 Jun 2020</td>\n      <td>-503677.646306</td>\n    </tr>\n    <tr>\n      <th>2</th>\n      <td>GBP/USD 3Y Forward PV (Discounting)</td>\n      <td>02 Jun 2020</td>\n      <td>-845476.464998</td>\n    </tr>\n    <tr>\n      <th>3</th>\n      <td>GBP/USD 3Y Forward PV (Static)</td>\n      <td>02 Jun 2020</td>\n      <td>-1150627.615063</td>\n    </tr>\n    <tr>\n      <th>4</th>\n      <td>GBP/USD 3Y Forward PV (Discounting)</td>\n      <td>03 Jun 2020</td>\n      <td>432518.279429</td>\n    </tr>\n    <tr>\n      <th>5</th>\n      <td>GBP/USD 3Y Forward PV (Static)</td>\n      <td>03 Jun 2020</td>\n      <td>135049.253257</td>\n    </tr>\n  </tbody>\n</table>\n</div>"
     },
     "execution_count": 25,
     "metadata": {},
     "output_type": "execute_result"
    }
   ],
   "source": [
    "# price the forward sintruments\n",
    "result_t = run_fx_forward_pricing_aggregation('3Y', trade_date, gbpusd_fx_fwd_3y_instr_def, fx_forward_pricing_recipe)\n",
    "result_t_plus_one = run_fx_forward_pricing_aggregation('3Y', trade_date_plus_one, gbpusd_fx_fwd_3y_instr_def, fx_forward_pricing_recipe)\n",
    "result_t_plus_two = run_fx_forward_pricing_aggregation('3Y', trade_date_plus_two, gbpusd_fx_fwd_3y_instr_def, fx_forward_pricing_recipe)\n",
    "\n",
    "# upsert the forward prices of the instrument from discounting model into our quote store\n",
    "\n",
    "upsert_external_fx_forward_as_quote(result_t.data[0]['Holding/default/PV'], trade_date)\n",
    "upsert_external_fx_forward_as_quote(result_t_plus_one.data[0]['Holding/default/PV'], trade_date_plus_one)\n",
    "upsert_external_fx_forward_as_quote(result_t_plus_two.data[0]['Holding/default/PV'], trade_date_plus_two)\n",
    "\n",
    "# run pricing of our entire portfolios now using both static and discounting models\n",
    "\n",
    "result_static_t = run_fx_forward_pricing_aggregation_on_portfolio(scope, portfolio, static_fx_forward_price_config_recipe, trade_date)\n",
    "result_static_t_plus_one = run_fx_forward_pricing_aggregation_on_portfolio(scope, portfolio, static_fx_forward_price_config_recipe, trade_date_plus_one)\n",
    "result_static_t_plus_two = run_fx_forward_pricing_aggregation_on_portfolio(scope, portfolio, static_fx_forward_price_config_recipe, trade_date_plus_two)\n",
    "\n",
    "aggregation_result_to_dataframe([\n",
    "    ['GBP/USD 3Y Forward PV (Static)', trade_date, result_static_t.data[0]['Holding/default/PV']],\n",
    "    ['GBP/USD 3Y Forward PV (Static)', trade_date_plus_one, result_static_t_plus_one.data[0]['Holding/default/PV']],\n",
    "    ['GBP/USD 3Y Forward PV (Static)', trade_date_plus_two, result_static_t_plus_two.data[0]['Holding/default/PV']]\n",
    "])\n",
    "\n",
    "result_discounting_t = run_fx_forward_pricing_aggregation_on_portfolio(scope, portfolio, fx_forward_pricing_recipe, trade_date)\n",
    "result_discounting_t_plus_one = run_fx_forward_pricing_aggregation_on_portfolio(scope, portfolio, fx_forward_pricing_recipe, trade_date_plus_one)\n",
    "result_discounting_t_plus_two = run_fx_forward_pricing_aggregation_on_portfolio(scope, portfolio, fx_forward_pricing_recipe, trade_date_plus_two)\n",
    "\n",
    "aggregation_result_to_dataframe([\n",
    "    ['GBP/USD 3Y Forward PV (Discounting)', trade_date, result_discounting_t.data[0]['Holding/default/PV']],\n",
    "    ['GBP/USD 3Y Forward PV (Static)', trade_date, result_static_t.data[0]['Holding/default/PV']],\n",
    "    ['GBP/USD 3Y Forward PV (Discounting)', trade_date_plus_one, result_discounting_t_plus_one.data[0]['Holding/default/PV']],\n",
    "    ['GBP/USD 3Y Forward PV (Static)', trade_date_plus_one, result_static_t_plus_one.data[0]['Holding/default/PV']],\n",
    "    ['GBP/USD 3Y Forward PV (Discounting)', trade_date_plus_two, result_discounting_t_plus_two.data[0]['Holding/default/PV']],\n",
    "    ['GBP/USD 3Y Forward PV (Static)', trade_date_plus_two, result_static_t_plus_two.data[0]['Holding/default/PV']]\n",
    "])"
   ],
   "metadata": {
    "collapsed": false,
    "pycharm": {
     "name": "#%%\n"
    }
   }
  }
 ],
 "metadata": {
  "kernelspec": {
   "display_name": "Python 3",
   "language": "python",
   "name": "python3"
  },
  "language_info": {
   "codemirror_mode": {
    "name": "ipython",
    "version": 2
   },
   "file_extension": ".py",
   "mimetype": "text/x-python",
   "name": "python",
   "nbconvert_exporter": "python",
   "pygments_lexer": "ipython2",
   "version": "2.7.6"
  }
 },
 "nbformat": 4,
 "nbformat_minor": 0
}