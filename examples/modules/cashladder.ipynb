{
 "cells": [
  {
   "cell_type": "code",
   "execution_count": null,
   "metadata": {},
   "outputs": [],
   "source": [
    "# import the libraries\n",
    "import cashladder as c\n",
    "import lusid\n",
    "import lusid.models as models\n",
    "from lusidtools.cocoon.utilities import create_scope_id\n",
    "import os\n",
    "import sample_login\n",
    "from lusidjam import RefreshingToken\n",
    "import uuid\n",
    "from datetime import datetime, timedelta\n",
    "import pytz\n",
    "from collections import namedtuple\n",
    "\n",
    "# Authenticate our user and create our API client\n",
    "secrets_path = os.getenv(\"FBN_SECRETS_PATH\")\n",
    "\n",
    "api_factory = lusid.utilities.ApiClientFactory(\n",
    "    token=RefreshingToken(),\n",
    "    api_secrets_filename = secrets_path,\n",
    "    app_name=\"LusidJupyterNotebook\")\n",
    "\n",
    "# create a key for the LUSID instrument identifier for easier use\n",
    "LUSID_INSTRUMENT_IDENTIFIER = \"Instrument/default/LusidInstrumentId\""
   ]
  },
  {
   "cell_type": "code",
   "execution_count": null,
   "metadata": {},
   "outputs": [],
   "source": [
    "def time_based_unique_id():\n",
    "    \"\"\"\n",
    "    Creates a timebased unique ID\n",
    "    \"\"\"\n",
    "    return create_scope_id()+str(uuid.uuid4())\n"
   ]
  },
  {
   "cell_type": "code",
   "execution_count": null,
   "metadata": {},
   "outputs": [],
   "source": [
    "TransactionSpec = namedtuple(\n",
    "    'TransactionSpec', \n",
    "    'id price trade_date settlement_date currency'\n",
    ")\n",
    "\n",
    "def build_transaction(transaction_spec):\n",
    "    \"\"\"\n",
    "    This function takes a transaction spec which is a named tuple \n",
    "    and returns a LUSID transaction request model\n",
    "    \"\"\"\n",
    "    \n",
    "    return models.TransactionRequest(\n",
    "        transaction_id=time_based_unique_id(),\n",
    "        type=\"Buy\",\n",
    "        instrument_identifiers={LUSID_INSTRUMENT_IDENTIFIER: transaction_spec.id},\n",
    "        transaction_date=transaction_spec.trade_date,\n",
    "        settlement_date=transaction_spec.trade_date + timedelta(days=2),\n",
    "        units=100,\n",
    "        transaction_price=models.TransactionPrice(\n",
    "            transaction_spec.price),\n",
    "        total_consideration=models.CurrencyAndAmount(\n",
    "            amount=100 * transaction_spec.price, \n",
    "            currency=transaction_spec.currency),\n",
    "        source=\"Client\")\n",
    "\n",
    "\n",
    "\n",
    "def create_portfolio_with_transactions(scope, name, date, trades):\n",
    "    \"\"\"\n",
    "    This function creates a portfolio with transactions and returns the code\n",
    "    of the portfolio\n",
    "    \"\"\"\n",
    "    \n",
    "    scope = \"finbourne\"\n",
    "    guid = time_based_unique_id()\n",
    "    portfolio_code = \"id-{0}\".format(guid)\n",
    "    effective_date = datetime(2018, 1, 1, tzinfo=pytz.utc)\n",
    "    \n",
    "    request = models.CreateTransactionPortfolioRequest(\n",
    "        display_name=\"portfolio-{0}\".format(guid),\n",
    "        code=\"id-{0}\".format(guid),\n",
    "        base_currency=\"GBP\",\n",
    "        created=effective_date\n",
    "    )\n",
    "\n",
    "    # create the portfolio\n",
    "    result = api_factory.build(lusid.api.TransactionPortfoliosApi).create_portfolio(\n",
    "        scope=scope, \n",
    "        transaction_portfolio=request)\n",
    "    \n",
    "    portfolio_id = result.id.code\n",
    "\n",
    "    # build and add trades\n",
    "    new_transactions = list(map(build_transaction, trades))\n",
    "    \n",
    "    add_transactions_result = api_factory.build(lusid.api.TransactionPortfoliosApi).upsert_transactions(\n",
    "        scope=scope, \n",
    "        code=portfolio_id, \n",
    "        transactions=new_transactions)\n",
    "    \n",
    "    return portfolio_code"
   ]
  },
  {
   "cell_type": "code",
   "execution_count": null,
   "metadata": {},
   "outputs": [],
   "source": [
    "# create instruments\n",
    "instruments = [\n",
    "    {\"Figi\": \"BBG000C6K6G9\", \"Name\": \"VODAFONE GROUP PLC\"},\n",
    "    {\"Figi\": \"BBG000C04D57\", \"Name\": \"BARCLAYS PLC\"},\n",
    "    {\"Figi\": \"BBG000FV67Q4\", \"Name\": \"NATIONAL GRID PLC\"},\n",
    "    {\"Figi\": \"BBG000BF0KW3\", \"Name\": \"SAINSBURY (J) PLC\"},\n",
    "    {\"Figi\": \"BBG000BF4KL1\", \"Name\": \"TAYLOR WIMPEY PLC\"}\n",
    "]\n",
    "\n",
    "figis_to_create = {\n",
    "    i[\"Figi\"]:models.InstrumentDefinition(\n",
    "        name=i[\"Name\"], \n",
    "        identifiers={\"Figi\": models.InstrumentIdValue(\n",
    "            value=i[\"Figi\"])}\n",
    "    ) for i in instruments \n",
    "}\n",
    "\n",
    "upsert_response = api_factory.build(lusid.api.InstrumentsApi).upsert_instruments(\n",
    "    instruments=figis_to_create)\n",
    "\n",
    "if len(upsert_response.failed) != 0:\n",
    "    raise Exception(upsert_response.failed)\n",
    "\n",
    "ids = api_factory.build(lusid.api.InstrumentsApi).get_instruments(\n",
    "    identifier_type=\"Figi\", \n",
    "    identifiers=[i[\"Figi\"] for i in instruments])\n",
    "\n",
    "instrument_ids = [i.lusid_instrument_id for i in ids.values.values()]"
   ]
  },
  {
   "cell_type": "code",
   "execution_count": null,
   "metadata": {},
   "outputs": [],
   "source": [
    "from datetime import datetime\n",
    "\n",
    "effective_date = datetime(2018, 1, 1, tzinfo=pytz.utc)\n",
    "trades = [\n",
    "    TransactionSpec(instrument_ids[0], 101, datetime(2018, 1, 1, tzinfo=pytz.utc), datetime(2018, 1, 4, tzinfo=pytz.utc), \"GBP\"),       \n",
    "    TransactionSpec(instrument_ids[0], 102, datetime(2018, 1, 2, tzinfo=pytz.utc), datetime(2018, 1, 5, tzinfo=pytz.utc), \"GBP\"),\n",
    "    TransactionSpec(instrument_ids[0], 103, datetime(2018, 1, 3, tzinfo=pytz.utc), datetime(2018, 1, 6, tzinfo=pytz.utc), \"GBP\"),\n",
    "    TransactionSpec(instrument_ids[0], 104, datetime(2018, 1, 1, tzinfo=pytz.utc), datetime(2018, 1, 4, tzinfo=pytz.utc), \"USD\"),\n",
    "    TransactionSpec(instrument_ids[1], 105, datetime(2018, 1, 2, tzinfo=pytz.utc), datetime(2018, 1, 5, tzinfo=pytz.utc), \"USD\"),\n",
    "    TransactionSpec(instrument_ids[1], 106, datetime(2018, 1, 3, tzinfo=pytz.utc), datetime(2018, 1, 6, tzinfo=pytz.utc), \"USD\"),\n",
    "    TransactionSpec(instrument_ids[2], 107, datetime(2018, 1, 1, tzinfo=pytz.utc), datetime(2018, 1, 4, tzinfo=pytz.utc), \"EUR\"),\n",
    "    TransactionSpec(instrument_ids[3], 108, datetime(2018, 1, 2, tzinfo=pytz.utc), datetime(2018, 1, 5, tzinfo=pytz.utc), \"EUR\"),      \n",
    "    TransactionSpec(instrument_ids[1], 109, datetime(2018, 1, 3, tzinfo=pytz.utc), datetime(2018, 1, 6, tzinfo=pytz.utc), \"EUR\"),\n",
    "    \n",
    "]\n",
    "\n",
    "created_code = create_portfolio_with_transactions(scope=\"finbourne\", name=\"demo\", date=effective_date, trades=trades)"
   ]
  },
  {
   "cell_type": "code",
   "execution_count": null,
   "metadata": {},
   "outputs": [],
   "source": [
    "cl_date = '2018-01-04'\n",
    "c.cash_ladder(\n",
    "    date=cl_date, \n",
    "    scope='finbourne',\n",
    "    portfolio=created_code)"
   ]
  },
  {
   "cell_type": "code",
   "execution_count": null,
   "metadata": {},
   "outputs": [],
   "source": [
    "acl = c.alt_cash_ladder(date=cl_date,scope='finbourne',portfolio=created_code)\n",
    "chart_data = acl[['Currency','Cash Date','balance']].drop_duplicates(['Currency','Cash Date'],keep='last')\n",
    "chart_data = chart_data.pivot(index=\"Currency\", columns=\"Cash Date\", values=\"balance\").fillna(0)"
   ]
  },
  {
   "cell_type": "code",
   "execution_count": null,
   "metadata": {},
   "outputs": [],
   "source": [
    "chart_data"
   ]
  },
  {
   "cell_type": "code",
   "execution_count": null,
   "metadata": {},
   "outputs": [],
   "source": [
    "%matplotlib inline\n",
    "import numpy as np\n",
    "import matplotlib.pyplot as plt\n",
    "\n",
    "ind = np.arange(chart_data.columns.size)\n",
    "width = 0.1\n",
    "\n",
    "fig, ax = plt.subplots()\n",
    "\n",
    "for ccy, x in zip(chart_data.index, [-.2, 0, .2]):\n",
    "    ax.bar(ind + x/2, chart_data.loc[ccy,:].astype(object), width, label=ccy)\n",
    "    \n",
    "ax.set_xticks(ind)\n",
    "ax.set_xticklabels(chart_data.columns.values)\n",
    "ax.legend()\n",
    "\n",
    "plt.show()"
   ]
  }
 ],
 "metadata": {
  "kernelspec": {
   "display_name": "Python 3",
   "language": "python",
   "name": "python3"
  },
  "language_info": {
   "codemirror_mode": {
    "name": "ipython",
    "version": 3
   },
   "file_extension": ".py",
   "mimetype": "text/x-python",
   "name": "python",
   "nbconvert_exporter": "python",
   "pygments_lexer": "ipython3",
   "version": "3.8.2"
  },
  "pycharm": {
   "stem_cell": {
    "cell_type": "raw",
    "metadata": {
     "collapsed": false
    },
    "source": []
   }
  }
 },
 "nbformat": 4,
 "nbformat_minor": 2
}
