{
 "cells": [
  {
   "cell_type": "code",
   "execution_count": 1,
   "metadata": {},
   "outputs": [],
   "source": [
    "import lusid\n",
    "import lusid.models as models\n",
    "import os\n",
    "from msrest.authentication import BasicTokenAuthentication\n",
    "\n",
    "api_url = os.getenv(\"FBN_LUSID_API_URL\")\n",
    "api_token = {\"access_token\": os.environ[\"ACCESS_TOKEN\"]}\n",
    "credentials = BasicTokenAuthentication(api_token)\n",
    "client = lusid.LUSIDAPI(credentials, api_url)"
   ]
  },
  {
   "cell_type": "code",
   "execution_count": 8,
   "metadata": {},
   "outputs": [],
   "source": [
    "import uuid\n",
    "from datetime import datetime\n",
    "import pytz\n",
    "from collections import namedtuple\n",
    "\n",
    "def assert_response_is_not_error(expected_type, response):\n",
    "\n",
    "    if isinstance(response, models.ErrorResponse):\n",
    "        self.fail(response.detailed_message)\n",
    "    elif isinstance(response, expected_type):\n",
    "        return response\n",
    "    else:\n",
    "        self.fail(\"unknown response: {0}\".format(type(response)))\n",
    "        \n",
    "def build_trade(trade_spec):\n",
    "    return models.TradeDto(\n",
    "        trade_id=str(uuid.uuid4()),\n",
    "        type=\"StockIn\",\n",
    "        security_uid=trade_spec.id,\n",
    "        settlement_currency=\"GBP\",\n",
    "        trade_date=trade_spec.trade_date,\n",
    "        settlement_date=trade_spec.trade_date,\n",
    "        units=100,\n",
    "        trade_price=trade_spec.price,\n",
    "        total_consideration=100 * trade_spec.price,\n",
    "        source=\"Client\")    "
   ]
  },
  {
   "cell_type": "code",
   "execution_count": 9,
   "metadata": {},
   "outputs": [],
   "source": [
    "# create the portfolio\n",
    "\n",
    "scope = \"finbourne\"\n",
    "guid = str(uuid.uuid4())\n",
    "effective_date = datetime(2018, 1, 1, tzinfo=pytz.utc)\n",
    "\n",
    "request = models.CreatePortfolioRequest(\"portfolio-{0}\".format(guid), \"id-{0}\".format(guid), \"GBP\", effective_date)\n",
    "result = client.create_portfolio(scope, request)\n",
    "\n",
    "assert_response_is_not_error(models.PortfolioDto, result)\n",
    "assert(result.id.code == request.code)\n",
    "\n",
    "portfolio_id = result.id.code"
   ]
  },
  {
   "cell_type": "code",
   "execution_count": 10,
   "metadata": {},
   "outputs": [],
   "source": [
    "# add initial batch of trades\n",
    "\n",
    "TradeSpec = namedtuple('TradeSpec', 'id price trade_date')\n",
    "trade_specs = [\n",
    "    TradeSpec(\"FIGI_BBG001S7Z574\", 101, datetime(2018, 1, 1, tzinfo = pytz.utc)),\n",
    "    TradeSpec(\"FIGI_BBG001SRKHW2\", 102, datetime(2018, 1, 2, tzinfo = pytz.utc)),\n",
    "    TradeSpec(\"FIGI_BBG000005547\", 103, datetime(2018, 1, 3, tzinfo = pytz.utc))\n",
    "]\n",
    "trade_specs.sort(key=lambda ts: ts.id)\n",
    "\n",
    "new_trades = list(map(build_trade, trade_specs))\n",
    "add_trades_result = client.upsert_trades(scope, portfolio_id, new_trades)\n",
    "initial_result = assert_response_is_not_error(models.UpsertPortfolioTradesDto, add_trades_result)\n",
    "\n",
    "as_at_batch1 = initial_result.version.as_at_date"
   ]
  },
  {
   "cell_type": "code",
   "execution_count": 12,
   "metadata": {},
   "outputs": [],
   "source": [
    "# add trade for 2018-1-8\n",
    "trade = build_trade(TradeSpec(\"FIGI_BBG001S61MW8\", 104, datetime(2018, 1, 8, tzinfo=pytz.utc)))\n",
    "later_result = client.upsert_trades(scope, portfolio_id, [trade])\n",
    "later_trade = assert_response_is_not_error(models.UpsertPortfolioTradesDto, later_result)\n",
    "\n",
    "as_at_batch2 = later_trade.version.as_at_date"
   ]
  },
  {
   "cell_type": "code",
   "execution_count": 14,
   "metadata": {},
   "outputs": [],
   "source": [
    "# add back dated trade\n",
    "trade = build_trade(TradeSpec(\"FIGI_BBG001S6M3Z4\", 105, datetime(2018, 1, 5, tzinfo=pytz.utc)))\n",
    "backdated_result = client.upsert_trades(scope, portfolio_id, [trade])\n",
    "backdated_trade = assert_response_is_not_error(models.UpsertPortfolioTradesDto, backdated_result)\n",
    "\n",
    "as_at_batch3 = backdated_trade.version.as_at_date"
   ]
  },
  {
   "cell_type": "code",
   "execution_count": 16,
   "metadata": {},
   "outputs": [],
   "source": [
    "def print_trades(trades):\n",
    "    for trade in trades:\n",
    "        print(\"{0}\\t{1}\\t{2}\\t{3}\\t{4}\".format(trade.security_uid,\n",
    "                                               trade.trade_date,\n",
    "                                               trade.units,\n",
    "                                               trade.trade_price,\n",
    "                                               trade.total_consideration))"
   ]
  },
  {
   "cell_type": "code",
   "execution_count": 21,
   "metadata": {},
   "outputs": [
    {
     "name": "stdout",
     "output_type": "stream",
     "text": [
      "trades at 2018-05-19 09:18:00.411910+00:00\n",
      "FIGI_BBG001S7Z574\t2018-01-01 00:00:00+00:00\t100.0\t101.0\t10100.0\n",
      "FIGI_BBG001SRKHW2\t2018-01-02 00:00:00+00:00\t100.0\t102.0\t10200.0\n",
      "FIGI_BBG000005547\t2018-01-03 00:00:00+00:00\t100.0\t103.0\t10300.0\n"
     ]
    }
   ],
   "source": [
    "# get the list of trades\n",
    "trades_result = client.get_trades(scope, portfolio_id, as_at=as_at_batch1)\n",
    "trades_list = assert_response_is_not_error(models.VersionedResourceListTradeDto, trades_result)\n",
    "\n",
    "assert(len(trades_list.values) == 3)\n",
    "print(\"trades at {0}\".format(as_at_batch1))\n",
    "print_trades(trades_list.values)"
   ]
  },
  {
   "cell_type": "code",
   "execution_count": 22,
   "metadata": {},
   "outputs": [
    {
     "name": "stdout",
     "output_type": "stream",
     "text": [
      "trades at 2018-05-19 09:18:38.887002+00:00\n",
      "FIGI_BBG001S7Z574\t2018-01-01 00:00:00+00:00\t100.0\t101.0\t10100.0\n",
      "FIGI_BBG001SRKHW2\t2018-01-02 00:00:00+00:00\t100.0\t102.0\t10200.0\n",
      "FIGI_BBG000005547\t2018-01-03 00:00:00+00:00\t100.0\t103.0\t10300.0\n",
      "FIGI_BBG001S61MW8\t2018-01-08 00:00:00+00:00\t100.0\t104.0\t10400.0\n"
     ]
    }
   ],
   "source": [
    "all_trades = client.get_trades(scope, portfolio_id, as_at=as_at_batch2)\n",
    "trades_list = assert_response_is_not_error(models.VersionedResourceListTradeDto, all_trades)\n",
    "\n",
    "assert(len(trades_list.values) == 4)\n",
    "print(\"trades at {0}\".format(as_at_batch2))\n",
    "print_trades(all_trades.values)"
   ]
  },
  {
   "cell_type": "code",
   "execution_count": 23,
   "metadata": {},
   "outputs": [
    {
     "name": "stdout",
     "output_type": "stream",
     "text": [
      "trades at 2018-05-19 09:18:54.618102+00:00\n",
      "FIGI_BBG001S7Z574\t2018-01-01 00:00:00+00:00\t100.0\t101.0\t10100.0\n",
      "FIGI_BBG001SRKHW2\t2018-01-02 00:00:00+00:00\t100.0\t102.0\t10200.0\n",
      "FIGI_BBG000005547\t2018-01-03 00:00:00+00:00\t100.0\t103.0\t10300.0\n",
      "FIGI_BBG001S6M3Z4\t2018-01-05 00:00:00+00:00\t100.0\t105.0\t10500.0\n",
      "FIGI_BBG001S61MW8\t2018-01-08 00:00:00+00:00\t100.0\t104.0\t10400.0\n"
     ]
    }
   ],
   "source": [
    "all_trades = client.get_trades(scope, portfolio_id, as_at=as_at_batch3)\n",
    "trades_list = assert_response_is_not_error(models.VersionedResourceListTradeDto, all_trades)\n",
    "\n",
    "assert(len(trades_list.values) == 5)\n",
    "print(\"trades at {0}\".format(as_at_batch3))\n",
    "print_trades(all_trades.values)"
   ]
  },
  {
   "cell_type": "code",
   "execution_count": 24,
   "metadata": {},
   "outputs": [
    {
     "name": "stdout",
     "output_type": "stream",
     "text": [
      "trades at 2018-05-19 09:22:51.771367\n",
      "FIGI_BBG001S7Z574\t2018-01-01 00:00:00+00:00\t100.0\t101.0\t10100.0\n",
      "FIGI_BBG001SRKHW2\t2018-01-02 00:00:00+00:00\t100.0\t102.0\t10200.0\n",
      "FIGI_BBG000005547\t2018-01-03 00:00:00+00:00\t100.0\t103.0\t10300.0\n",
      "FIGI_BBG001S6M3Z4\t2018-01-05 00:00:00+00:00\t100.0\t105.0\t10500.0\n",
      "FIGI_BBG001S61MW8\t2018-01-08 00:00:00+00:00\t100.0\t104.0\t10400.0\n"
     ]
    }
   ],
   "source": [
    "all_trades = client.get_trades(scope, portfolio_id)\n",
    "assert_response_is_not_error(models.VersionedResourceListTradeDto, all_trades)\n",
    "\n",
    "print(\"trades at {0}\".format(datetime.utcnow()))\n",
    "print_trades(all_trades.values)"
   ]
  },
  {
   "cell_type": "code",
   "execution_count": null,
   "metadata": {},
   "outputs": [],
   "source": []
  }
 ],
 "metadata": {
  "kernelspec": {
   "display_name": "Python 3",
   "language": "python",
   "name": "python3"
  },
  "language_info": {
   "codemirror_mode": {
    "name": "ipython",
    "version": 3
   },
   "file_extension": ".py",
   "mimetype": "text/x-python",
   "name": "python",
   "nbconvert_exporter": "python",
   "pygments_lexer": "ipython3",
   "version": "3.6.3"
  }
 },
 "nbformat": 4,
 "nbformat_minor": 2
}
