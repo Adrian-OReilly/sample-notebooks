{
 "cells": [
  {
   "cell_type": "code",
   "execution_count": 22,
   "metadata": {},
   "outputs": [],
   "source": [
    "import lusid\n",
    "import lusid.models as models\n",
    "import os\n",
    "from msrest.authentication import BasicTokenAuthentication\n",
    "\n",
    "api_url = os.getenv(\"FBN_LUSID_API_URL\")\n",
    "api_token = {\"access_token\": os.environ[\"ACCESS_TOKEN\"]}\n",
    "credentials = BasicTokenAuthentication(api_token)\n",
    "client = lusid.LUSIDAPI(credentials, api_url)"
   ]
  },
  {
   "cell_type": "code",
   "execution_count": 23,
   "metadata": {},
   "outputs": [],
   "source": [
    "import uuid\n",
    "from datetime import datetime\n",
    "import pytz\n",
    "from collections import namedtuple\n",
    "        \n",
    "def build_transaction(trade_spec):\n",
    "    return models.TransactionRequest(\n",
    "        transaction_id=str(uuid.uuid4()),\n",
    "        type=\"StockIn\",\n",
    "        instrument_uid=trade_spec.id,\n",
    "        settlement_currency=\"GBP\",\n",
    "        transaction_date=trade_spec.trade_date,\n",
    "        settlement_date=trade_spec.trade_date,\n",
    "        units=100,\n",
    "        transaction_price=trade_spec.price,\n",
    "        total_consideration=100 * trade_spec.price,\n",
    "        source=\"Client\")"
   ]
  },
  {
   "cell_type": "code",
   "execution_count": 24,
   "metadata": {},
   "outputs": [],
   "source": [
    "# create the portfolio\n",
    "\n",
    "scope = \"finbourne\"\n",
    "guid = str(uuid.uuid4())\n",
    "effective_date = datetime(2018, 1, 1, tzinfo=pytz.utc)\n",
    "\n",
    "request = models.CreateTransactionPortfolioRequest(\n",
    "    \"portfolio-{0}\".format(guid),\n",
    "    \"id-{0}\".format(guid),\n",
    "    base_currency=\"GBP\",\n",
    "    created=effective_date\n",
    ")\n",
    "result = client.create_portfolio(scope, request)\n",
    "portfolio_id = result.id.code"
   ]
  },
  {
   "cell_type": "code",
   "execution_count": 25,
   "metadata": {},
   "outputs": [],
   "source": [
    "# add initial batch of trades\n",
    "\n",
    "TransactionSpec = namedtuple('TradeSpec', 'id price trade_date')\n",
    "trade_specs = [\n",
    "    TransactionSpec(\"FIGI_BBG000C6K6G9\", 101, datetime(2018, 1, 1, tzinfo=pytz.utc)),\n",
    "    TransactionSpec(\"FIGI_BBG000C04D57\", 102, datetime(2018, 1, 2, tzinfo=pytz.utc)),\n",
    "    TransactionSpec(\"FIGI_BBG000FV67Q4\", 103, datetime(2018, 1, 3, tzinfo=pytz.utc))\n",
    "]\n",
    "trade_specs.sort(key=lambda ts: ts.id)\n",
    "\n",
    "new_transactions = list(map(build_transaction, trade_specs))\n",
    "\n",
    "# add initial batch of trades\n",
    "initial_result = client.upsert_transactions(scope, portfolio_id, new_transactions)\n",
    "as_at_batch1 = initial_result.version.as_at_date"
   ]
  },
  {
   "cell_type": "code",
   "execution_count": 26,
   "metadata": {},
   "outputs": [],
   "source": [
    "# add trade for 2018-1-8\n",
    "trade = build_transaction(TransactionSpec(\"FIGI_BBG000BF0KW3\", 104, datetime(2018, 1, 8, tzinfo=pytz.utc)))\n",
    "later_trade = client.upsert_transactions(scope, portfolio_id, [trade])\n",
    "\n",
    "as_at_batch2 = later_trade.version.as_at_date"
   ]
  },
  {
   "cell_type": "code",
   "execution_count": 27,
   "metadata": {},
   "outputs": [],
   "source": [
    "# add back dated trade\n",
    "trade = build_transaction(TransactionSpec(\"FIGI_BBG000BF4KL1\", 105, datetime(2018, 1, 5, tzinfo=pytz.utc)))\n",
    "backdated_trade = client.upsert_transactions(scope, portfolio_id, [trade])\n",
    "\n",
    "as_at_batch3 = backdated_trade.version.as_at_date"
   ]
  },
  {
   "cell_type": "code",
   "execution_count": 28,
   "metadata": {},
   "outputs": [],
   "source": [
    "def print_transactions(transactions):\n",
    "    for transaction in transactions:\n",
    "        print(\"{0}\\t{1}\\t{2}\\t{3}\\t{4}\".format(transaction.instrument_uid,\n",
    "                                               transaction.transaction_date,\n",
    "                                               transaction.units,\n",
    "                                               transaction.transaction_price,\n",
    "                                               transaction.total_consideration))\n"
   ]
  },
  {
   "cell_type": "code",
   "execution_count": 29,
   "metadata": {},
   "outputs": [
    {
     "name": "stdout",
     "output_type": "stream",
     "text": [
      "transactions at 2018-09-26 17:14:32.950187+00:00\n",
      "FIGI_BBG000C6K6G9\t2018-01-01 00:00:00+00:00\t100.0\t101.0\t10100.0\n",
      "FIGI_BBG000C04D57\t2018-01-02 00:00:00+00:00\t100.0\t102.0\t10200.0\n",
      "FIGI_BBG000FV67Q4\t2018-01-03 00:00:00+00:00\t100.0\t103.0\t10300.0\n"
     ]
    }
   ],
   "source": [
    "# get the list of original trades\n",
    "trades_list = client.get_transactions(scope, portfolio_id, as_at=as_at_batch1)\n",
    "\n",
    "assert(len(trades_list.values) == 3)\n",
    "print(\"transactions at {0}\".format(as_at_batch1))\n",
    "print_transactions(trades_list.values)"
   ]
  },
  {
   "cell_type": "code",
   "execution_count": 30,
   "metadata": {},
   "outputs": [
    {
     "name": "stdout",
     "output_type": "stream",
     "text": [
      "transactions at 2018-09-26 17:14:33.547954+00:00\n",
      "FIGI_BBG000C6K6G9\t2018-01-01 00:00:00+00:00\t100.0\t101.0\t10100.0\n",
      "FIGI_BBG000C04D57\t2018-01-02 00:00:00+00:00\t100.0\t102.0\t10200.0\n",
      "FIGI_BBG000FV67Q4\t2018-01-03 00:00:00+00:00\t100.0\t103.0\t10300.0\n",
      "FIGI_BBG000BF0KW3\t2018-01-08 00:00:00+00:00\t100.0\t104.0\t10400.0\n"
     ]
    }
   ],
   "source": [
    "# get the list of trades including the later trade\n",
    "trades_list = client.get_transactions(scope, portfolio_id, as_at=as_at_batch2)\n",
    "\n",
    "assert(len(trades_list.values) == 4)\n",
    "print(\"transactions at {0}\".format(as_at_batch2))\n",
    "print_transactions(trades_list.values)"
   ]
  },
  {
   "cell_type": "code",
   "execution_count": 31,
   "metadata": {},
   "outputs": [
    {
     "name": "stdout",
     "output_type": "stream",
     "text": [
      "transactions at 2018-09-26 17:14:37.729743+00:00\n",
      "FIGI_BBG000C6K6G9\t2018-01-01 00:00:00+00:00\t100.0\t101.0\t10100.0\n",
      "FIGI_BBG000C04D57\t2018-01-02 00:00:00+00:00\t100.0\t102.0\t10200.0\n",
      "FIGI_BBG000FV67Q4\t2018-01-03 00:00:00+00:00\t100.0\t103.0\t10300.0\n",
      "FIGI_BBG000BF4KL1\t2018-01-05 00:00:00+00:00\t100.0\t105.0\t10500.0\n",
      "FIGI_BBG000BF0KW3\t2018-01-08 00:00:00+00:00\t100.0\t104.0\t10400.0\n"
     ]
    }
   ],
   "source": [
    "# get the list of trades including the back-dated trade\n",
    "trades_list = client.get_transactions(scope, portfolio_id, as_at=as_at_batch3)\n",
    "\n",
    "assert(len(trades_list.values) == 5)\n",
    "print(\"transactions at {0}\".format(as_at_batch3))\n",
    "print_transactions(trades_list.values)"
   ]
  },
  {
   "cell_type": "code",
   "execution_count": 32,
   "metadata": {},
   "outputs": [
    {
     "name": "stdout",
     "output_type": "stream",
     "text": [
      "transactions at 2018-09-26 17:14:43.368934\n",
      "FIGI_BBG000C6K6G9\t2018-01-01 00:00:00+00:00\t100.0\t101.0\t10100.0\n",
      "FIGI_BBG000C04D57\t2018-01-02 00:00:00+00:00\t100.0\t102.0\t10200.0\n",
      "FIGI_BBG000FV67Q4\t2018-01-03 00:00:00+00:00\t100.0\t103.0\t10300.0\n",
      "FIGI_BBG000BF4KL1\t2018-01-05 00:00:00+00:00\t100.0\t105.0\t10500.0\n",
      "FIGI_BBG000BF0KW3\t2018-01-08 00:00:00+00:00\t100.0\t104.0\t10400.0\n"
     ]
    }
   ],
   "source": [
    "# get the list of trades now\n",
    "all_trades = client.get_transactions(scope, portfolio_id)\n",
    "print(\"transactions at {0}\".format(datetime.utcnow()))\n",
    "print_transactions(all_trades.values)"
   ]
  },
  {
   "cell_type": "code",
   "execution_count": null,
   "metadata": {},
   "outputs": [],
   "source": []
  }
 ],
 "metadata": {
  "kernelspec": {
   "display_name": "Python 3",
   "language": "python",
   "name": "python3"
  },
  "language_info": {
   "codemirror_mode": {
    "name": "ipython",
    "version": 3
   },
   "file_extension": ".py",
   "mimetype": "text/x-python",
   "name": "python",
   "nbconvert_exporter": "python",
   "pygments_lexer": "ipython3",
   "version": "3.6.3"
  }
 },
 "nbformat": 4,
 "nbformat_minor": 2
}
