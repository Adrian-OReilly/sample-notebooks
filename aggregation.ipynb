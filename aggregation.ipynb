{
 "cells": [
  {
   "cell_type": "code",
   "execution_count": 4,
   "metadata": {},
   "outputs": [],
   "source": [
    "import lusid\n",
    "import lusid.models as models\n",
    "import os\n",
    "from msrest.authentication import BasicTokenAuthentication\n",
    "\n",
    "api_url = os.getenv(\"FBN_LUSID_API_URL\")\n",
    "api_token = {\"access_token\": os.environ[\"ACCESS_TOKEN\"]}\n",
    "credentials = BasicTokenAuthentication(api_token)\n",
    "client = lusid.LUSIDAPI(credentials, api_url)"
   ]
  },
  {
   "cell_type": "code",
   "execution_count": 5,
   "metadata": {},
   "outputs": [
    {
     "data": {
      "text/plain": [
       "<lusid.models.upsert_portfolio_trades_dto.UpsertPortfolioTradesDto at 0x7f822dbfa908>"
      ]
     },
     "execution_count": 5,
     "metadata": {},
     "output_type": "execute_result"
    }
   ],
   "source": [
    "import uuid\n",
    "from datetime import datetime\n",
    "import pytz\n",
    "from collections import namedtuple\n",
    "\n",
    "def assert_response_is_not_error(expected_type, response):\n",
    "\n",
    "    if isinstance(response, models.ErrorResponse):\n",
    "        self.fail(response.detailed_message)\n",
    "    elif isinstance(response, expected_type):\n",
    "        return response\n",
    "    else:\n",
    "        self.fail(\"unknown response: {0}\".format(type(response)))\n",
    "            \n",
    "def build_trade(trade_spec):\n",
    "    return models.TradeDto(\n",
    "        trade_id=str(uuid.uuid4()),\n",
    "        type=\"StockIn\",\n",
    "        security_uid=trade_spec.id,\n",
    "        settlement_currency=\"GBP\",\n",
    "        trade_date=trade_spec.trade_date,\n",
    "        settlement_date=trade_spec.trade_date,\n",
    "        units=100,\n",
    "        trade_price=trade_spec.price,\n",
    "        total_consideration=100 * trade_spec.price,\n",
    "        source=\"Client\")\n",
    "\n",
    "scope = \"finbourne\"\n",
    "guid = str(uuid.uuid4())\n",
    "effective_date = datetime(2018, 1, 1, tzinfo=pytz.utc)\n",
    "\n",
    "request = models.CreatePortfolioRequest(\"portfolio-{0}\".format(guid), \"id-{0}\".format(guid), \"GBP\", effective_date)\n",
    "\n",
    "#   create the portfolio\n",
    "result = client.create_portfolio(scope, request)\n",
    "\n",
    "assert_response_is_not_error(models.PortfolioDto, result)\n",
    "\n",
    "assert(result.id.code == request.code)\n",
    "\n",
    "portfolio_id = result.id.code\n",
    "\n",
    "TradeSpec = namedtuple('TradeSpec', 'id price trade_date')\n",
    "trade_specs = [\n",
    "    TradeSpec(\"FIGI_BBG001S7Z574\", 101, effective_date),\n",
    "    TradeSpec(\"FIGI_BBG001SRKHW2\", 102, effective_date),\n",
    "    TradeSpec(\"FIGI_BBG000005547\", 103, effective_date)\n",
    "]\n",
    "trade_specs.sort(key=lambda ts: ts.id)\n",
    "\n",
    "new_trades = list(map(build_trade, trade_specs))\n",
    "\n",
    "#   add initial batch of trades\n",
    "add_trades_result = client.upsert_trades(scope, portfolio_id, new_trades)\n",
    "assert_response_is_not_error(models.UpsertPortfolioTradesDto, add_trades_result)"
   ]
  },
  {
   "cell_type": "code",
   "execution_count": 20,
   "metadata": {},
   "outputs": [
    {
     "data": {
      "text/plain": [
       "<lusid.models.analytic_store_dto.AnalyticStoreDto at 0x7f822d683860>"
      ]
     },
     "execution_count": 20,
     "metadata": {},
     "output_type": "execute_result"
    }
   ],
   "source": [
    "check_exists_result = client.get_analytic_store(scope,\n",
    "                                                effective_date.year,\n",
    "                                                effective_date.month,\n",
    "                                                effective_date.day)\n",
    "\n",
    "#   create an analytic store\n",
    "if isinstance(check_exists_result, models.ErrorResponse) and check_exists_result.code == \"AnalyticStoreNotFound\":\n",
    "    analytic_store_request = models.CreateAnalyticStoreRequest(scope, effective_date)\n",
    "    analytic_store_result = client.create_analytic_store(analytic_store_request)\n",
    "    assert_response_is_not_error(models.AnalyticStoreDto, analytic_store_result)\n",
    "\n",
    "prices = [\n",
    "    models.SecurityAnalyticDataDto(\"FIGI_BBG001S7Z574\", 100),\n",
    "    models.SecurityAnalyticDataDto(\"FIGI_BBG001SRKHW2\", 200),\n",
    "    models.SecurityAnalyticDataDto(\"FIGI_BBG000005547\", 300)\n",
    "]\n",
    "\n",
    "#   add prices\n",
    "prices_result = client.insert_analytics(scope, effective_date.year, effective_date.month, effective_date.day, prices)\n",
    "assert_response_is_not_error(models.AnalyticStoreDto, prices_result)"
   ]
  },
  {
   "cell_type": "code",
   "execution_count": 21,
   "metadata": {},
   "outputs": [],
   "source": [
    "aggregation_request = models.AggregationRequest(\n",
    "    recipe_scope=scope,\n",
    "    recipe_key=scope,\n",
    "    metrics=[\n",
    "        models.AggregateSpec(\"Holding/default/PV\", \"Proportion\"),\n",
    "        models.AggregateSpec(\"Holding/default/PV\", \"Sum\")\n",
    "    ],\n",
    "    group_by=[\"Security/default/CommonName\"],\n",
    "    effective_at=effective_date\n",
    ")\n",
    "\n",
    "#   do the aggregation\n",
    "aggregation_result = client.get_nested_aggregation_by_portfolio(scope, portfolio_id, aggregation_request)\n",
    "aggregation = assert_response_is_not_error(models.NestedAggregationResponse, aggregation_result)"
   ]
  },
  {
   "cell_type": "code",
   "execution_count": 22,
   "metadata": {},
   "outputs": [
    {
     "name": "stdout",
     "output_type": "stream",
     "text": [
      "GENERAL ACCIDENT PLC\n",
      "\tHolding/default/PV%\t0.5\n",
      "\tHolding/default/PV\t30000.0\n",
      "MCBRIDE PLC\n",
      "\tHolding/default/PV%\t0.16666666666666666\n",
      "\tHolding/default/PV\t10000.0\n",
      "CRANEWARE PLC\n",
      "\tHolding/default/PV%\t0.3333333333333333\n",
      "\tHolding/default/PV\t20000.0\n"
     ]
    }
   ],
   "source": [
    "for item in aggregation.data.children:\n",
    "    print(\"{0}\".format(item.group_property_value))\n",
    "    for key, value in item.properties.items():\n",
    "        print(\"\\t{0}\\t{1}\".format(key, value))"
   ]
  },
  {
   "cell_type": "code",
   "execution_count": 23,
   "metadata": {},
   "outputs": [
    {
     "data": {
      "image/png": "[encoded data removed]",
      "text/plain": [
       "<matplotlib.figure.Figure at 0x7f822d691c18>"
      ]
     },
     "metadata": {},
     "output_type": "display_data"
    }
   ],
   "source": [
    "labels = []\n",
    "values = []\n",
    "for item in aggregation.data.children:\n",
    "    labels.append(item.group_property_value)\n",
    "    values.append(item.properties[\"Holding/default/PV%\"] * 100)\n",
    "    \n",
    "fig1, ax1 = plt.subplots()\n",
    "ax1.pie(values, labels=labels, autopct='%1.1f%%',\n",
    "        shadow=True, startangle=90)\n",
    "ax1.axis('equal')\n",
    "\n",
    "plt.show()"
   ]
  },
  {
   "cell_type": "code",
   "execution_count": null,
   "metadata": {},
   "outputs": [],
   "source": []
  }
 ],
 "metadata": {
  "kernelspec": {
   "display_name": "Python 3",
   "language": "python",
   "name": "python3"
  },
  "language_info": {
   "codemirror_mode": {
    "name": "ipython",
    "version": 3
   },
   "file_extension": ".py",
   "mimetype": "text/x-python",
   "name": "python",
   "nbconvert_exporter": "python",
   "pygments_lexer": "ipython3",
   "version": "3.6.3"
  }
 },
 "nbformat": 4,
 "nbformat_minor": 2
}
