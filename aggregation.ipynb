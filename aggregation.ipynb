{
 "cells": [
  {
   "cell_type": "code",
   "execution_count": 14,
   "metadata": {},
   "outputs": [],
   "source": [
    "import lusid\n",
    "import lusid.models as models\n",
    "import os\n",
    "from msrest.authentication import BasicTokenAuthentication\n",
    "\n",
    "api_url = os.getenv(\"FBN_LUSID_API_URL\")\n",
    "api_token = {\"access_token\": os.environ[\"ACCESS_TOKEN\"]}\n",
    "credentials = BasicTokenAuthentication(api_token)\n",
    "client = lusid.LUSIDAPI(credentials, api_url)"
   ]
  },
  {
   "cell_type": "code",
   "execution_count": 15,
   "metadata": {},
   "outputs": [],
   "source": [
    "import uuid\n",
    "from datetime import datetime\n",
    "import pytz\n",
    "from collections import namedtuple\n",
    "\n",
    "def build_transaction(trade_spec):\n",
    "    return models.TransactionRequest(\n",
    "        transaction_id=str(uuid.uuid4()),\n",
    "        type=\"StockIn\",\n",
    "        instrument_uid=trade_spec.id,\n",
    "        settlement_currency=\"GBP\",\n",
    "        transaction_date=trade_spec.trade_date,\n",
    "        settlement_date=trade_spec.trade_date,\n",
    "        units=100,\n",
    "        transaction_price=trade_spec.price,\n",
    "        total_consideration=100 * trade_spec.price,\n",
    "        source=\"Client\")\n",
    "\n",
    "scope = \"finbourne\"\n",
    "guid = str(uuid.uuid4())\n",
    "effective_date = datetime(2018, 1, 1, tzinfo=pytz.utc)\n",
    "\n",
    "request = models.CreateTransactionPortfolioRequest(\n",
    "    \"portfolio-{0}\".format(guid),\n",
    "    \"id-{0}\".format(guid),\n",
    "    base_currency=\"GBP\",\n",
    "    created=effective_date\n",
    ")\n",
    "\n",
    "#   create the portfolio\n",
    "result = client.create_portfolio(scope, request)\n",
    "\n",
    "assert(result.id.code == request.code)\n",
    "\n",
    "portfolio_id = result.id.code\n",
    "\n",
    "TransactionSpec = namedtuple('TransactionSpec', 'id price trade_date')\n",
    "transaction_specs = [\n",
    "    TransactionSpec(\"FIGI_BBG000C6K6G9\", 101, effective_date),\n",
    "    TransactionSpec(\"FIGI_BBG000C04D57\", 102, effective_date),\n",
    "    TransactionSpec(\"FIGI_BBG000FV67Q4\", 103, effective_date)\n",
    "]\n",
    "transaction_specs.sort(key=lambda ts: ts.id)\n",
    "\n",
    "new_transactions = list(map(build_transaction, transaction_specs))\n",
    "\n",
    "#   add initial batch of trades\n",
    "add_transactions_result = client.upsert_transactions(scope, portfolio_id, new_transactions)"
   ]
  },
  {
   "cell_type": "code",
   "execution_count": 16,
   "metadata": {},
   "outputs": [],
   "source": [
    "try:\n",
    "    analytic_store = client.get_analytic_store(\n",
    "        scope,\n",
    "        effective_date.year,\n",
    "        effective_date.month,\n",
    "        effective_date.day\n",
    "    )\n",
    "except Exception as e:\n",
    "    analytic_store_request = models.CreateAnalyticStoreRequest(scope, effective_date)\n",
    "    client.create_analytic_store(analytic_store_request)\n",
    "\n",
    "prices = [\n",
    "    models.InstrumentAnalyticDataDto(\"FIGI_BBG000C6K6G9\", 100),\n",
    "    models.InstrumentAnalyticDataDto(\"FIGI_BBG000C04D57\", 200),\n",
    "    models.InstrumentAnalyticDataDto(\"FIGI_BBG000FV67Q4\", 300)\n",
    "]\n",
    "\n",
    "#   add prices\n",
    "prices_result = client.insert_analytics(scope, effective_date.year, effective_date.month, effective_date.day, prices)"
   ]
  },
  {
   "cell_type": "code",
   "execution_count": 17,
   "metadata": {},
   "outputs": [],
   "source": [
    "aggregation_request = models.AggregationRequest(\n",
    "    recipe_id=models.ResourceId(scope, \"default\"),\n",
    "    metrics=[\n",
    "        models.AggregateSpec(\"Holding/default/PV\", \"Proportion\"),\n",
    "        models.AggregateSpec(\"Holding/default/PV\", \"Sum\")\n",
    "    ],\n",
    "    group_by=[\"Security/default/CommonName\"],\n",
    "    effective_at=effective_date\n",
    ")\n",
    "\n",
    "#   do the aggregation\n",
    "aggregation = client.get_aggregation_by_portfolio(scope, portfolio_id, aggregation_request)"
   ]
  },
  {
   "cell_type": "code",
   "execution_count": 18,
   "metadata": {},
   "outputs": [
    {
     "name": "stdout",
     "output_type": "stream",
     "text": [
      "\tBARCLAYS PLC\t0.3333333333333333\t20000.0\n",
      "\tVODAFONE GROUP PLC\t0.16666666666666666\t10000.0\n",
      "\tNATIONAL GRID PLC\t0.5\t30000.0\n"
     ]
    }
   ],
   "source": [
    "for item in aggregation.data:\n",
    "            print(\"\\t{}\\t{}\\t{}\".format(item[\"Security/default/CommonName\"], item[\"Holding/default/PV%\"], item[\"Holding/default/PV\"]))"
   ]
  },
  {
   "cell_type": "code",
   "execution_count": 19,
   "metadata": {},
   "outputs": [
    {
     "data": {
      "image/png": "[encoded data removed]",
      "text/plain": [
       "<matplotlib.figure.Figure at 0x7ff0e969c7b8>"
      ]
     },
     "metadata": {},
     "output_type": "display_data"
    }
   ],
   "source": [
    "%matplotlib inline\n",
    "import matplotlib.pyplot as plt\n",
    "\n",
    "labels = []\n",
    "values = []\n",
    "for item in aggregation.data:\n",
    "    labels.append(item[\"Security/default/CommonName\"])\n",
    "    values.append(item[\"Holding/default/PV%\"] * 100)\n",
    "    \n",
    "fig1, ax1 = plt.subplots()\n",
    "ax1.pie(values, labels=labels, autopct='%1.1f%%',\n",
    "        shadow=True, startangle=90)\n",
    "ax1.axis('equal')\n",
    "\n",
    "plt.show()"
   ]
  },
  {
   "cell_type": "code",
   "execution_count": null,
   "metadata": {},
   "outputs": [],
   "source": []
  }
 ],
 "metadata": {
  "kernelspec": {
   "display_name": "Python 3",
   "language": "python",
   "name": "python3"
  },
  "language_info": {
   "codemirror_mode": {
    "name": "ipython",
    "version": 3
   },
   "file_extension": ".py",
   "mimetype": "text/x-python",
   "name": "python",
   "nbconvert_exporter": "python",
   "pygments_lexer": "ipython3",
   "version": "3.6.3"
  }
 },
 "nbformat": 4,
 "nbformat_minor": 2
}
