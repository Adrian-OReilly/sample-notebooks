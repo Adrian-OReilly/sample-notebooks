{
 "cells": [
  {
   "cell_type": "code",
   "execution_count": 1,
   "metadata": {},
   "outputs": [],
   "source": [
    "import cashladder"
   ]
  },
  {
   "cell_type": "code",
   "execution_count": 3,
   "metadata": {},
   "outputs": [],
   "source": [
    "import lusid\n",
    "import lusid.models as models\n",
    "import os\n",
    "from msrest.authentication import BasicTokenAuthentication\n",
    "\n",
    "api_url = os.getenv(\"FBN_LUSID_API_URL\")\n",
    "api_token = {\"access_token\": os.environ[\"ACCESS_TOKEN\"]}\n",
    "credentials = BasicTokenAuthentication(api_token)\n",
    "client = lusid.LUSIDAPI(credentials, api_url)\n",
    "\n",
    "import uuid\n",
    "from datetime import datetime\n",
    "from datetime import timedelta\n",
    "import pytz\n",
    "from collections import namedtuple\n",
    "            \n",
    "def build_transaction(transaction_spec):\n",
    "    return models.TransactionRequest(\n",
    "        transaction_id=str(uuid.uuid4()),\n",
    "        type=\"Buy\",\n",
    "        instrument_uid=transaction_spec.id,\n",
    "        transaction_date=transaction_spec.trade_date,\n",
    "        settlement_date=transaction_spec.trade_date + timedelta(days=2),\n",
    "        units=100,\n",
    "        transaction_price=models.TransactionPrice(transaction_spec.price),\n",
    "        total_consideration=models.CurrencyAndAmount(100 * transaction_spec.price, transaction_spec.currency),\n",
    "        source=\"Client\")\n",
    "\n",
    "TransactionSpec = namedtuple('TransactionSpec', 'id price trade_date settlement_date currency')\n",
    "\n",
    "def create_portfolio_with_transactions(scope, name, date, trades):\n",
    "    scope = \"finbourne\"\n",
    "    guid = str(uuid.uuid4())\n",
    "    portfolio_code = \"id-{0}\".format(guid)\n",
    "    effective_date = datetime(2018, 1, 1, tzinfo=pytz.utc)\n",
    "    \n",
    "    request = models.CreateTransactionPortfolioRequest(\n",
    "        \"portfolio-{0}\".format(guid),\n",
    "        \"id-{0}\".format(guid),\n",
    "        base_currency=\"GBP\",\n",
    "        created=effective_date\n",
    "    )\n",
    "\n",
    "    #   create the portfolio\n",
    "    result = client.create_portfolio(scope, request)\n",
    "    portfolio_id = result.id.code\n",
    "\n",
    "    #   build and add trades\n",
    "    new_transactions = list(map(build_transaction, trades))\n",
    "    add_transactions_result = client.upsert_transactions(scope, portfolio_id, new_transactions)\n",
    "    \n",
    "    return portfolio_code"
   ]
  },
  {
   "cell_type": "code",
   "execution_count": 4,
   "metadata": {},
   "outputs": [],
   "source": [
    "from datetime import datetime\n",
    "\n",
    "effective_date = datetime(2018, 1, 1, tzinfo=pytz.utc)\n",
    "trades = [\n",
    "    TransactionSpec(\"FIGI_BBG000C6K6G9\", 101, datetime(2018, 1, 1, tzinfo=pytz.utc), datetime(2018, 1, 4, tzinfo=pytz.utc), \"GBP\"),       \n",
    "    TransactionSpec(\"FIGI_BBG000C6K6G9\", 102, datetime(2018, 1, 2, tzinfo=pytz.utc), datetime(2018, 1, 5, tzinfo=pytz.utc), \"GBP\"),\n",
    "    TransactionSpec(\"FIGI_BBG000C6K6G9\", 103, datetime(2018, 1, 3, tzinfo=pytz.utc), datetime(2018, 1, 6, tzinfo=pytz.utc), \"GBP\"),\n",
    "    TransactionSpec(\"FIGI_BBG000C6K6G9\", 104, datetime(2018, 1, 1, tzinfo=pytz.utc), datetime(2018, 1, 4, tzinfo=pytz.utc), \"USD\"),\n",
    "    TransactionSpec(\"FIGI_BBG000C04D57\", 105, datetime(2018, 1, 2, tzinfo=pytz.utc), datetime(2018, 1, 5, tzinfo=pytz.utc), \"USD\"),\n",
    "    TransactionSpec(\"FIGI_BBG000C04D57\", 106, datetime(2018, 1, 3, tzinfo=pytz.utc), datetime(2018, 1, 6, tzinfo=pytz.utc), \"USD\"),\n",
    "    TransactionSpec(\"FIGI_BBG000FV67Q4\", 107, datetime(2018, 1, 1, tzinfo=pytz.utc), datetime(2018, 1, 4, tzinfo=pytz.utc), \"EUR\"),\n",
    "    TransactionSpec(\"FIGI_BBG000BF0KW3\", 108, datetime(2018, 1, 2, tzinfo=pytz.utc), datetime(2018, 1, 5, tzinfo=pytz.utc), \"EUR\"),      \n",
    "    TransactionSpec(\"FIGI_BBG000C04D57\", 109, datetime(2018, 1, 3, tzinfo=pytz.utc), datetime(2018, 1, 6, tzinfo=pytz.utc), \"EUR\"),\n",
    "    \n",
    "]\n",
    "\n",
    "created_code = create_portfolio_with_transactions(scope=\"finbourne\", name=\"demo\", date=effective_date, trades=trades)"
   ]
  },
  {
   "cell_type": "code",
   "execution_count": 5,
   "metadata": {},
   "outputs": [
    {
     "data": {
      "text/html": [
       "<div>\n",
       "<table border=\"1\" class=\"dataframe\">\n",
       "  <thead>\n",
       "    <tr style=\"text-align: right;\">\n",
       "      <th></th>\n",
       "      <th></th>\n",
       "      <th>settlement_date</th>\n",
       "      <th>2018-01-04 00:00:00</th>\n",
       "      <th>2018-01-05 00:00:00</th>\n",
       "    </tr>\n",
       "    <tr>\n",
       "      <th>instrument_uid</th>\n",
       "      <th>sort</th>\n",
       "      <th>holding_type</th>\n",
       "      <th></th>\n",
       "      <th></th>\n",
       "    </tr>\n",
       "  </thead>\n",
       "  <tbody>\n",
       "    <tr>\n",
       "      <th rowspan=\"3\" valign=\"top\">CCY_EUR</th>\n",
       "      <th>1.0</th>\n",
       "      <th>Opening Cash Balance</th>\n",
       "      <td>-10700.0</td>\n",
       "      <td>-21500.0</td>\n",
       "    </tr>\n",
       "    <tr>\n",
       "      <th>2.0</th>\n",
       "      <th>Trades to settle</th>\n",
       "      <td>-10800.0</td>\n",
       "      <td>-10900.0</td>\n",
       "    </tr>\n",
       "    <tr>\n",
       "      <th>5.0</th>\n",
       "      <th>EUR Summary</th>\n",
       "      <td>-21500.0</td>\n",
       "      <td>-32400.0</td>\n",
       "    </tr>\n",
       "    <tr>\n",
       "      <th rowspan=\"3\" valign=\"top\">CCY_GBP</th>\n",
       "      <th>1.0</th>\n",
       "      <th>Opening Cash Balance</th>\n",
       "      <td>-10100.0</td>\n",
       "      <td>-20300.0</td>\n",
       "    </tr>\n",
       "    <tr>\n",
       "      <th>2.0</th>\n",
       "      <th>Trades to settle</th>\n",
       "      <td>-10200.0</td>\n",
       "      <td>-10300.0</td>\n",
       "    </tr>\n",
       "    <tr>\n",
       "      <th>5.0</th>\n",
       "      <th>GBP Summary</th>\n",
       "      <td>-20300.0</td>\n",
       "      <td>-30600.0</td>\n",
       "    </tr>\n",
       "    <tr>\n",
       "      <th rowspan=\"3\" valign=\"top\">CCY_USD</th>\n",
       "      <th>1.0</th>\n",
       "      <th>Opening Cash Balance</th>\n",
       "      <td>-10400.0</td>\n",
       "      <td>-20900.0</td>\n",
       "    </tr>\n",
       "    <tr>\n",
       "      <th>2.0</th>\n",
       "      <th>Trades to settle</th>\n",
       "      <td>-10500.0</td>\n",
       "      <td>-10600.0</td>\n",
       "    </tr>\n",
       "    <tr>\n",
       "      <th>5.0</th>\n",
       "      <th>USD Summary</th>\n",
       "      <td>-20900.0</td>\n",
       "      <td>-31500.0</td>\n",
       "    </tr>\n",
       "  </tbody>\n",
       "</table>\n",
       "</div>"
      ],
      "text/plain": [
       "settlement_date                           2018-01-04  2018-01-05\n",
       "instrument_uid sort holding_type                                \n",
       "CCY_EUR        1.0  Opening Cash Balance    -10700.0    -21500.0\n",
       "               2.0  Trades to settle        -10800.0    -10900.0\n",
       "               5.0  EUR Summary             -21500.0    -32400.0\n",
       "CCY_GBP        1.0  Opening Cash Balance    -10100.0    -20300.0\n",
       "               2.0  Trades to settle        -10200.0    -10300.0\n",
       "               5.0  GBP Summary             -20300.0    -30600.0\n",
       "CCY_USD        1.0  Opening Cash Balance    -10400.0    -20900.0\n",
       "               2.0  Trades to settle        -10500.0    -10600.0\n",
       "               5.0  USD Summary             -20900.0    -31500.0"
      ]
     },
     "execution_count": 5,
     "metadata": {},
     "output_type": "execute_result"
    }
   ],
   "source": [
    "import cashladder as c \n",
    "cl_date = '2018-01-04'\n",
    "c.cash_ladder(date=cl_date, scope='finbourne',portfolio=created_code)"
   ]
  },
  {
   "cell_type": "code",
   "execution_count": 6,
   "metadata": {},
   "outputs": [],
   "source": [
    "acl = c.alt_cash_ladder(date=cl_date,scope='finbourne',portfolio=created_code)\n",
    "chart_data = acl[['Currency','Cash Date','balance']].drop_duplicates(['Currency','Cash Date'],keep='last')\n",
    "chart_data = chart_data.pivot(index=\"Currency\", columns=\"Cash Date\", values=\"balance\").fillna(0)"
   ]
  },
  {
   "cell_type": "code",
   "execution_count": 7,
   "metadata": {},
   "outputs": [
    {
     "data": {
      "text/html": [
       "<div>\n",
       "<table border=\"1\" class=\"dataframe\">\n",
       "  <thead>\n",
       "    <tr style=\"text-align: right;\">\n",
       "      <th>Cash Date</th>\n",
       "      <th>2018-01-04</th>\n",
       "      <th>2018-01-05</th>\n",
       "    </tr>\n",
       "    <tr>\n",
       "      <th>Currency</th>\n",
       "      <th></th>\n",
       "      <th></th>\n",
       "    </tr>\n",
       "  </thead>\n",
       "  <tbody>\n",
       "    <tr>\n",
       "      <th>CCY_EUR</th>\n",
       "      <td>-21500.0</td>\n",
       "      <td>-32400.0</td>\n",
       "    </tr>\n",
       "    <tr>\n",
       "      <th>CCY_GBP</th>\n",
       "      <td>-20300.0</td>\n",
       "      <td>-30600.0</td>\n",
       "    </tr>\n",
       "    <tr>\n",
       "      <th>CCY_USD</th>\n",
       "      <td>-20900.0</td>\n",
       "      <td>-31500.0</td>\n",
       "    </tr>\n",
       "  </tbody>\n",
       "</table>\n",
       "</div>"
      ],
      "text/plain": [
       "Cash Date  2018-01-04  2018-01-05\n",
       "Currency                         \n",
       "CCY_EUR      -21500.0    -32400.0\n",
       "CCY_GBP      -20300.0    -30600.0\n",
       "CCY_USD      -20900.0    -31500.0"
      ]
     },
     "execution_count": 7,
     "metadata": {},
     "output_type": "execute_result"
    }
   ],
   "source": [
    "chart_data"
   ]
  },
  {
   "cell_type": "code",
   "execution_count": 8,
   "metadata": {},
   "outputs": [
    {
     "data": {
      "image/png": "[encoded data removed]",
      "text/plain": [
       "<matplotlib.figure.Figure at 0x7f8984019d68>"
      ]
     },
     "metadata": {},
     "output_type": "display_data"
    }
   ],
   "source": [
    "%matplotlib inline\n",
    "import numpy as np\n",
    "import matplotlib.pyplot as plt\n",
    "\n",
    "ind = np.arange(chart_data.columns.size)\n",
    "width = 0.1\n",
    "\n",
    "fig, ax = plt.subplots()\n",
    "\n",
    "for ccy, x in zip(chart_data.index, [-.2, 0, .2]):\n",
    "    ax.bar(ind + x/2, chart_data.loc[ccy,:].asobject, width, label=ccy)\n",
    "    \n",
    "ax.set_xticks(ind)\n",
    "ax.set_xticklabels(chart_data.columns.values)\n",
    "ax.legend()\n",
    "\n",
    "plt.show()"
   ]
  },
  {
   "cell_type": "code",
   "execution_count": null,
   "metadata": {},
   "outputs": [],
   "source": []
  }
 ],
 "metadata": {
  "kernelspec": {
   "display_name": "Python 3",
   "language": "python",
   "name": "python3"
  },
  "language_info": {
   "codemirror_mode": {
    "name": "ipython",
    "version": 3
   },
   "file_extension": ".py",
   "mimetype": "text/x-python",
   "name": "python",
   "nbconvert_exporter": "python",
   "pygments_lexer": "ipython3",
   "version": "3.6.3"
  }
 },
 "nbformat": 4,
 "nbformat_minor": 2
}
